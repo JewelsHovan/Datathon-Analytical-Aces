{
 "cells": [
  {
   "cell_type": "code",
   "execution_count": 3,
   "metadata": {},
   "outputs": [
    {
     "data": {
      "text/html": [
       "<div>\n",
       "<style scoped>\n",
       "    .dataframe tbody tr th:only-of-type {\n",
       "        vertical-align: middle;\n",
       "    }\n",
       "\n",
       "    .dataframe tbody tr th {\n",
       "        vertical-align: top;\n",
       "    }\n",
       "\n",
       "    .dataframe thead th {\n",
       "        text-align: right;\n",
       "    }\n",
       "</style>\n",
       "<table border=\"1\" class=\"dataframe\">\n",
       "  <thead>\n",
       "    <tr style=\"text-align: right;\">\n",
       "      <th></th>\n",
       "      <th>Facility.Id</th>\n",
       "      <th>FRS.Id</th>\n",
       "      <th>Facility.Name</th>\n",
       "      <th>City</th>\n",
       "      <th>State</th>\n",
       "      <th>Primary.NAICS.Code</th>\n",
       "      <th>Year</th>\n",
       "      <th>Industry.Type</th>\n",
       "      <th>Sector</th>\n",
       "      <th>Unit.Name</th>\n",
       "      <th>...</th>\n",
       "      <th>Max.Heat</th>\n",
       "      <th>CO2.emissions.non.biogenic.</th>\n",
       "      <th>Methane.emissions</th>\n",
       "      <th>Nitrous.Oxide.emissions</th>\n",
       "      <th>CO2.emissions.biogenic.</th>\n",
       "      <th>CO2_eq_emissions</th>\n",
       "      <th>CO2_emissions</th>\n",
       "      <th>CH4_emissions</th>\n",
       "      <th>N2O_emissions</th>\n",
       "      <th>Eco_Score</th>\n",
       "    </tr>\n",
       "  </thead>\n",
       "  <tbody>\n",
       "    <tr>\n",
       "      <th>0</th>\n",
       "      <td>1000112</td>\n",
       "      <td>1.100000e+11</td>\n",
       "      <td>23rd and 3rd</td>\n",
       "      <td>Brooklyn</td>\n",
       "      <td>NY</td>\n",
       "      <td>221112</td>\n",
       "      <td>2022</td>\n",
       "      <td>C,D</td>\n",
       "      <td>Power Plants</td>\n",
       "      <td>Heatec1</td>\n",
       "      <td>...</td>\n",
       "      <td>7.4</td>\n",
       "      <td>176.7</td>\n",
       "      <td>0.0</td>\n",
       "      <td>0.0</td>\n",
       "      <td>0.0</td>\n",
       "      <td>176.7</td>\n",
       "      <td>176.7</td>\n",
       "      <td>0.0</td>\n",
       "      <td>0.0</td>\n",
       "      <td>23.878378</td>\n",
       "    </tr>\n",
       "    <tr>\n",
       "      <th>1</th>\n",
       "      <td>1000112</td>\n",
       "      <td>1.100000e+11</td>\n",
       "      <td>23rd and 3rd</td>\n",
       "      <td>Brooklyn</td>\n",
       "      <td>NY</td>\n",
       "      <td>221112</td>\n",
       "      <td>2022</td>\n",
       "      <td>C,D</td>\n",
       "      <td>Power Plants</td>\n",
       "      <td>Heatec2</td>\n",
       "      <td>...</td>\n",
       "      <td>7.4</td>\n",
       "      <td>154.7</td>\n",
       "      <td>0.0</td>\n",
       "      <td>0.0</td>\n",
       "      <td>0.0</td>\n",
       "      <td>154.7</td>\n",
       "      <td>154.7</td>\n",
       "      <td>0.0</td>\n",
       "      <td>0.0</td>\n",
       "      <td>20.905405</td>\n",
       "    </tr>\n",
       "    <tr>\n",
       "      <th>2</th>\n",
       "      <td>1000112</td>\n",
       "      <td>1.100000e+11</td>\n",
       "      <td>23rd and 3rd</td>\n",
       "      <td>Brooklyn</td>\n",
       "      <td>NY</td>\n",
       "      <td>221112</td>\n",
       "      <td>2021</td>\n",
       "      <td>C,D</td>\n",
       "      <td>Power Plants</td>\n",
       "      <td>Heatec1</td>\n",
       "      <td>...</td>\n",
       "      <td>7.4</td>\n",
       "      <td>84.4</td>\n",
       "      <td>0.0</td>\n",
       "      <td>0.0</td>\n",
       "      <td>0.0</td>\n",
       "      <td>84.4</td>\n",
       "      <td>84.4</td>\n",
       "      <td>0.0</td>\n",
       "      <td>0.0</td>\n",
       "      <td>11.405405</td>\n",
       "    </tr>\n",
       "    <tr>\n",
       "      <th>3</th>\n",
       "      <td>1000112</td>\n",
       "      <td>1.100000e+11</td>\n",
       "      <td>23rd and 3rd</td>\n",
       "      <td>Brooklyn</td>\n",
       "      <td>NY</td>\n",
       "      <td>221112</td>\n",
       "      <td>2021</td>\n",
       "      <td>C,D</td>\n",
       "      <td>Power Plants</td>\n",
       "      <td>Heatec2</td>\n",
       "      <td>...</td>\n",
       "      <td>7.4</td>\n",
       "      <td>78.9</td>\n",
       "      <td>0.0</td>\n",
       "      <td>0.0</td>\n",
       "      <td>0.0</td>\n",
       "      <td>78.9</td>\n",
       "      <td>78.9</td>\n",
       "      <td>0.0</td>\n",
       "      <td>0.0</td>\n",
       "      <td>10.662162</td>\n",
       "    </tr>\n",
       "    <tr>\n",
       "      <th>4</th>\n",
       "      <td>1000112</td>\n",
       "      <td>1.100000e+11</td>\n",
       "      <td>23rd and 3rd</td>\n",
       "      <td>Brooklyn</td>\n",
       "      <td>NY</td>\n",
       "      <td>221112</td>\n",
       "      <td>2020</td>\n",
       "      <td>C,D</td>\n",
       "      <td>Power Plants</td>\n",
       "      <td>Heatec1</td>\n",
       "      <td>...</td>\n",
       "      <td>7.4</td>\n",
       "      <td>90.7</td>\n",
       "      <td>0.0</td>\n",
       "      <td>0.0</td>\n",
       "      <td>0.0</td>\n",
       "      <td>90.7</td>\n",
       "      <td>90.7</td>\n",
       "      <td>0.0</td>\n",
       "      <td>0.0</td>\n",
       "      <td>12.256757</td>\n",
       "    </tr>\n",
       "  </tbody>\n",
       "</table>\n",
       "<p>5 rows × 22 columns</p>\n",
       "</div>"
      ],
      "text/plain": [
       "   Facility.Id        FRS.Id Facility.Name      City State  \\\n",
       "0      1000112  1.100000e+11  23rd and 3rd  Brooklyn    NY   \n",
       "1      1000112  1.100000e+11  23rd and 3rd  Brooklyn    NY   \n",
       "2      1000112  1.100000e+11  23rd and 3rd  Brooklyn    NY   \n",
       "3      1000112  1.100000e+11  23rd and 3rd  Brooklyn    NY   \n",
       "4      1000112  1.100000e+11  23rd and 3rd  Brooklyn    NY   \n",
       "\n",
       "   Primary.NAICS.Code  Year Industry.Type        Sector Unit.Name  ...  \\\n",
       "0              221112  2022           C,D  Power Plants   Heatec1  ...   \n",
       "1              221112  2022           C,D  Power Plants   Heatec2  ...   \n",
       "2              221112  2021           C,D  Power Plants   Heatec1  ...   \n",
       "3              221112  2021           C,D  Power Plants   Heatec2  ...   \n",
       "4              221112  2020           C,D  Power Plants   Heatec1  ...   \n",
       "\n",
       "  Max.Heat CO2.emissions.non.biogenic.  Methane.emissions  \\\n",
       "0      7.4                       176.7                0.0   \n",
       "1      7.4                       154.7                0.0   \n",
       "2      7.4                        84.4                0.0   \n",
       "3      7.4                        78.9                0.0   \n",
       "4      7.4                        90.7                0.0   \n",
       "\n",
       "   Nitrous.Oxide.emissions  CO2.emissions.biogenic.  CO2_eq_emissions  \\\n",
       "0                      0.0                      0.0             176.7   \n",
       "1                      0.0                      0.0             154.7   \n",
       "2                      0.0                      0.0              84.4   \n",
       "3                      0.0                      0.0              78.9   \n",
       "4                      0.0                      0.0              90.7   \n",
       "\n",
       "   CO2_emissions  CH4_emissions  N2O_emissions  Eco_Score  \n",
       "0          176.7            0.0            0.0  23.878378  \n",
       "1          154.7            0.0            0.0  20.905405  \n",
       "2           84.4            0.0            0.0  11.405405  \n",
       "3           78.9            0.0            0.0  10.662162  \n",
       "4           90.7            0.0            0.0  12.256757  \n",
       "\n",
       "[5 rows x 22 columns]"
      ]
     },
     "execution_count": 3,
     "metadata": {},
     "output_type": "execute_result"
    }
   ],
   "source": [
    "import pandas as pd\n",
    "\n",
    "# Load the data from the uploaded CSV file\n",
    "file_path = '../Data/Processed_Unit.csv'\n",
    "data = pd.read_csv(file_path)\n",
    "\n",
    "# Display the first few rows of the dataframe to understand its structure\n",
    "data.head()"
   ]
  },
  {
   "cell_type": "code",
   "execution_count": 9,
   "metadata": {},
   "outputs": [
    {
     "data": {
      "text/html": [
       "<div>\n",
       "<style scoped>\n",
       "    .dataframe tbody tr th:only-of-type {\n",
       "        vertical-align: middle;\n",
       "    }\n",
       "\n",
       "    .dataframe tbody tr th {\n",
       "        vertical-align: top;\n",
       "    }\n",
       "\n",
       "    .dataframe thead th {\n",
       "        text-align: right;\n",
       "    }\n",
       "</style>\n",
       "<table border=\"1\" class=\"dataframe\">\n",
       "  <thead>\n",
       "    <tr style=\"text-align: right;\">\n",
       "      <th></th>\n",
       "      <th>Facility.Id</th>\n",
       "      <th>FRS.Id</th>\n",
       "      <th>Facility.Name</th>\n",
       "      <th>City</th>\n",
       "      <th>State</th>\n",
       "      <th>Primary.NAICS.Code</th>\n",
       "      <th>Year</th>\n",
       "      <th>Industry.Type</th>\n",
       "      <th>Sector</th>\n",
       "      <th>Unit.Name</th>\n",
       "      <th>...</th>\n",
       "      <th>Max.Heat</th>\n",
       "      <th>CO2.emissions.non.biogenic.</th>\n",
       "      <th>Methane.emissions</th>\n",
       "      <th>Nitrous.Oxide.emissions</th>\n",
       "      <th>CO2.emissions.biogenic.</th>\n",
       "      <th>CO2_eq_emissions</th>\n",
       "      <th>CO2_emissions</th>\n",
       "      <th>CH4_emissions</th>\n",
       "      <th>N2O_emissions</th>\n",
       "      <th>Eco_Score</th>\n",
       "    </tr>\n",
       "  </thead>\n",
       "  <tbody>\n",
       "    <tr>\n",
       "      <th>0</th>\n",
       "      <td>1000112</td>\n",
       "      <td>1.100000e+11</td>\n",
       "      <td>23rd and 3rd</td>\n",
       "      <td>Brooklyn</td>\n",
       "      <td>NY</td>\n",
       "      <td>221112</td>\n",
       "      <td>2022</td>\n",
       "      <td>C,D</td>\n",
       "      <td>Power Plants</td>\n",
       "      <td>Heatec1</td>\n",
       "      <td>...</td>\n",
       "      <td>7.4</td>\n",
       "      <td>176.7</td>\n",
       "      <td>0.0</td>\n",
       "      <td>0.0</td>\n",
       "      <td>0.0</td>\n",
       "      <td>176.7</td>\n",
       "      <td>176.7</td>\n",
       "      <td>0.0</td>\n",
       "      <td>0.0</td>\n",
       "      <td>23.878378</td>\n",
       "    </tr>\n",
       "    <tr>\n",
       "      <th>1</th>\n",
       "      <td>1000112</td>\n",
       "      <td>1.100000e+11</td>\n",
       "      <td>23rd and 3rd</td>\n",
       "      <td>Brooklyn</td>\n",
       "      <td>NY</td>\n",
       "      <td>221112</td>\n",
       "      <td>2022</td>\n",
       "      <td>C,D</td>\n",
       "      <td>Power Plants</td>\n",
       "      <td>Heatec2</td>\n",
       "      <td>...</td>\n",
       "      <td>7.4</td>\n",
       "      <td>154.7</td>\n",
       "      <td>0.0</td>\n",
       "      <td>0.0</td>\n",
       "      <td>0.0</td>\n",
       "      <td>154.7</td>\n",
       "      <td>154.7</td>\n",
       "      <td>0.0</td>\n",
       "      <td>0.0</td>\n",
       "      <td>20.905405</td>\n",
       "    </tr>\n",
       "    <tr>\n",
       "      <th>2</th>\n",
       "      <td>1000112</td>\n",
       "      <td>1.100000e+11</td>\n",
       "      <td>23rd and 3rd</td>\n",
       "      <td>Brooklyn</td>\n",
       "      <td>NY</td>\n",
       "      <td>221112</td>\n",
       "      <td>2021</td>\n",
       "      <td>C,D</td>\n",
       "      <td>Power Plants</td>\n",
       "      <td>Heatec1</td>\n",
       "      <td>...</td>\n",
       "      <td>7.4</td>\n",
       "      <td>84.4</td>\n",
       "      <td>0.0</td>\n",
       "      <td>0.0</td>\n",
       "      <td>0.0</td>\n",
       "      <td>84.4</td>\n",
       "      <td>84.4</td>\n",
       "      <td>0.0</td>\n",
       "      <td>0.0</td>\n",
       "      <td>11.405405</td>\n",
       "    </tr>\n",
       "    <tr>\n",
       "      <th>3</th>\n",
       "      <td>1000112</td>\n",
       "      <td>1.100000e+11</td>\n",
       "      <td>23rd and 3rd</td>\n",
       "      <td>Brooklyn</td>\n",
       "      <td>NY</td>\n",
       "      <td>221112</td>\n",
       "      <td>2021</td>\n",
       "      <td>C,D</td>\n",
       "      <td>Power Plants</td>\n",
       "      <td>Heatec2</td>\n",
       "      <td>...</td>\n",
       "      <td>7.4</td>\n",
       "      <td>78.9</td>\n",
       "      <td>0.0</td>\n",
       "      <td>0.0</td>\n",
       "      <td>0.0</td>\n",
       "      <td>78.9</td>\n",
       "      <td>78.9</td>\n",
       "      <td>0.0</td>\n",
       "      <td>0.0</td>\n",
       "      <td>10.662162</td>\n",
       "    </tr>\n",
       "    <tr>\n",
       "      <th>4</th>\n",
       "      <td>1000112</td>\n",
       "      <td>1.100000e+11</td>\n",
       "      <td>23rd and 3rd</td>\n",
       "      <td>Brooklyn</td>\n",
       "      <td>NY</td>\n",
       "      <td>221112</td>\n",
       "      <td>2020</td>\n",
       "      <td>C,D</td>\n",
       "      <td>Power Plants</td>\n",
       "      <td>Heatec1</td>\n",
       "      <td>...</td>\n",
       "      <td>7.4</td>\n",
       "      <td>90.7</td>\n",
       "      <td>0.0</td>\n",
       "      <td>0.0</td>\n",
       "      <td>0.0</td>\n",
       "      <td>90.7</td>\n",
       "      <td>90.7</td>\n",
       "      <td>0.0</td>\n",
       "      <td>0.0</td>\n",
       "      <td>12.256757</td>\n",
       "    </tr>\n",
       "  </tbody>\n",
       "</table>\n",
       "<p>5 rows × 22 columns</p>\n",
       "</div>"
      ],
      "text/plain": [
       "   Facility.Id        FRS.Id Facility.Name      City State  \\\n",
       "0      1000112  1.100000e+11  23rd and 3rd  Brooklyn    NY   \n",
       "1      1000112  1.100000e+11  23rd and 3rd  Brooklyn    NY   \n",
       "2      1000112  1.100000e+11  23rd and 3rd  Brooklyn    NY   \n",
       "3      1000112  1.100000e+11  23rd and 3rd  Brooklyn    NY   \n",
       "4      1000112  1.100000e+11  23rd and 3rd  Brooklyn    NY   \n",
       "\n",
       "   Primary.NAICS.Code  Year Industry.Type        Sector Unit.Name  ...  \\\n",
       "0              221112  2022           C,D  Power Plants   Heatec1  ...   \n",
       "1              221112  2022           C,D  Power Plants   Heatec2  ...   \n",
       "2              221112  2021           C,D  Power Plants   Heatec1  ...   \n",
       "3              221112  2021           C,D  Power Plants   Heatec2  ...   \n",
       "4              221112  2020           C,D  Power Plants   Heatec1  ...   \n",
       "\n",
       "  Max.Heat CO2.emissions.non.biogenic.  Methane.emissions  \\\n",
       "0      7.4                       176.7                0.0   \n",
       "1      7.4                       154.7                0.0   \n",
       "2      7.4                        84.4                0.0   \n",
       "3      7.4                        78.9                0.0   \n",
       "4      7.4                        90.7                0.0   \n",
       "\n",
       "   Nitrous.Oxide.emissions  CO2.emissions.biogenic.  CO2_eq_emissions  \\\n",
       "0                      0.0                      0.0             176.7   \n",
       "1                      0.0                      0.0             154.7   \n",
       "2                      0.0                      0.0              84.4   \n",
       "3                      0.0                      0.0              78.9   \n",
       "4                      0.0                      0.0              90.7   \n",
       "\n",
       "   CO2_emissions  CH4_emissions  N2O_emissions  Eco_Score  \n",
       "0          176.7            0.0            0.0  23.878378  \n",
       "1          154.7            0.0            0.0  20.905405  \n",
       "2           84.4            0.0            0.0  11.405405  \n",
       "3           78.9            0.0            0.0  10.662162  \n",
       "4           90.7            0.0            0.0  12.256757  \n",
       "\n",
       "[5 rows x 22 columns]"
      ]
     },
     "execution_count": 9,
     "metadata": {},
     "output_type": "execute_result"
    }
   ],
   "source": [
    "def filter_data(df, city=None, state=None):\n",
    "    \"\"\"\n",
    "    Filter the dataframe based on city and/or state.\n",
    "    \n",
    "    Parameters:\n",
    "    - df: DataFrame containing the data.\n",
    "    - city: The city to filter by (optional).\n",
    "    - state: The state to filter by (optional).\n",
    "    \n",
    "    Returns:\n",
    "    - filtered_df: DataFrame filtered by the specified city and/or state.\n",
    "    \"\"\"\n",
    "    if city and state:\n",
    "        filtered_df = df[(df['City'].str.lower() == city.lower()) & (df['State'].str.lower() == state.lower())]\n",
    "    elif city:\n",
    "        filtered_df = df[df['City'].str.lower() == city.lower()]\n",
    "    elif state:\n",
    "        filtered_df = df[df['State'].str.lower() == state.lower()]\n",
    "    else:\n",
    "        filtered_df = df.copy()  # Return the original DataFrame if no filters are applied\n",
    "    \n",
    "    return filtered_df\n",
    "\n",
    "# Example usage of the function\n",
    "# Filter by both city and state\n",
    "filtered_data = filter_data(data, state=\"NY\")\n",
    "filtered_data.head()\n"
   ]
  },
  {
   "cell_type": "code",
   "execution_count": 5,
   "metadata": {},
   "outputs": [
    {
     "data": {
      "image/png": "[encoded data removed]",
      "text/plain": [
       "<Figure size 1000x600 with 1 Axes>"
      ]
     },
     "metadata": {},
     "output_type": "display_data"
    }
   ],
   "source": [
    "import matplotlib.pyplot as plt\n",
    "\n",
    "def plot_co2_emissions_by_year(df):\n",
    "    \"\"\"\n",
    "    Plot a bar chart showing the total CO2 emissions by year.\n",
    "    \n",
    "    Parameters:\n",
    "    - df: DataFrame containing the filtered data.\n",
    "    \"\"\"\n",
    "    # Group the data by year and sum the CO2 emissions for each year\n",
    "    emissions_by_year = df.groupby('Year')['CO2_emissions'].sum().reset_index()\n",
    "    \n",
    "    # Plotting\n",
    "    plt.figure(figsize=(10, 6))\n",
    "    plt.bar(emissions_by_year['Year'], emissions_by_year['CO2_emissions'], color='skyblue')\n",
    "    plt.title('Total CO2 Emissions by Year')\n",
    "    plt.xlabel('Year')\n",
    "    plt.ylabel('Total CO2 Emissions')\n",
    "    plt.xticks(emissions_by_year['Year'], rotation=45)\n",
    "    plt.grid(axis='y', linestyle='--', alpha=0.7)\n",
    "    plt.tight_layout()  # Adjust layout to not cut off labels\n",
    "    plt.show()\n",
    "\n",
    "# Use the function to plot CO2 emissions by year for the filtered data\n",
    "plot_co2_emissions_by_year(filtered_data)\n"
   ]
  },
  {
   "cell_type": "code",
   "execution_count": 10,
   "metadata": {},
   "outputs": [
    {
     "data": {
      "image/png": "[encoded data removed]",
      "text/plain": [
       "<Figure size 800x800 with 1 Axes>"
      ]
     },
     "metadata": {},
     "output_type": "display_data"
    }
   ],
   "source": [
    "def plot_emissions_distribution(df):\n",
    "    \"\"\"\n",
    "    Plot a pie chart showing the distribution of different types of emissions (CO2, Methane, Nitrous Oxide).\n",
    "    \n",
    "    Parameters:\n",
    "    - df: DataFrame containing the filtered data.\n",
    "    \"\"\"\n",
    "    # Summing up the total emissions for each type\n",
    "    total_co2 = df['CO2_emissions'].sum()\n",
    "    total_methane = df['CH4_emissions'].sum()\n",
    "    total_nitrous_oxide = df['N2O_emissions'].sum()\n",
    "    \n",
    "    # Labels and values for the pie chart\n",
    "    labels = ['CO2 Emissions', 'Methane Emissions', 'Nitrous Oxide Emissions']\n",
    "    values = [total_co2, total_methane, total_nitrous_oxide]\n",
    "    \n",
    "    # Plotting\n",
    "    plt.figure(figsize=(8, 8))\n",
    "    plt.pie(values, labels=labels, autopct='%1.1f%%', startangle=140, colors=['skyblue', 'lightgreen', 'salmon'])\n",
    "    plt.title('Distribution of Emissions Types')\n",
    "    plt.axis('equal')  # Equal aspect ratio ensures that pie is drawn as a circle.\n",
    "    plt.show()\n",
    "\n",
    "# Use the function to plot the distribution of emissions types for the filtered data\n",
    "plot_emissions_distribution(filtered_data)\n"
   ]
  },
  {
   "cell_type": "code",
   "execution_count": 11,
   "metadata": {},
   "outputs": [
    {
     "data": {
      "application/vnd.plotly.v1+json": {
       "config": {
        "plotlyServerURL": "https://plot.ly"
       },
       "data": [
        {
         "branchvalues": "total",
         "customdata": [
          [
           "Chemicals",
           755166.6
          ],
          [
           "Metals",
           4197427.1
          ],
          [
           "Metals, Waste",
           466539.9
          ],
          [
           "Minerals",
           5732104.1
          ],
          [
           "Natural Gas and Natural Gas Liquids Suppliers, Petroleum and Natural Gas Systems",
           5953
          ],
          [
           "Other",
           19959813.4
          ],
          [
           "Other, Suppliers of CO2",
           1370382.6
          ],
          [
           "Other, Suppliers of CO2, Waste",
           938576.8
          ],
          [
           "Other, Waste",
           1469235.2
          ],
          [
           "Petroleum and Natural Gas Systems",
           3766284
          ],
          [
           "Power Plants",
           7086651
          ],
          [
           "Pulp and Paper",
           3059766.2
          ],
          [
           "Pulp and Paper, Waste",
           2073191.3
          ],
          [
           "Waste",
           6360783.398541
          ]
         ],
         "domain": {
          "x": [
           0,
           1
          ],
          "y": [
           0,
           1
          ]
         },
         "hovertemplate": "labels=%{label}<br>CO2_emissions_sum=%{value}<br>parent=%{parent}<br>id=%{id}<br>Sector=%{customdata[0]}<br>CO2_emissions=%{color}<extra></extra>",
         "ids": [
          "Chemicals",
          "Metals",
          "Metals, Waste",
          "Minerals",
          "Natural Gas and Natural Gas Liquids Suppliers, Petroleum and Natural Gas Systems",
          "Other",
          "Other, Suppliers of CO2",
          "Other, Suppliers of CO2, Waste",
          "Other, Waste",
          "Petroleum and Natural Gas Systems",
          "Power Plants",
          "Pulp and Paper",
          "Pulp and Paper, Waste",
          "Waste"
         ],
         "labels": [
          "Chemicals",
          "Metals",
          "Metals, Waste",
          "Minerals",
          "Natural Gas and Natural Gas Liquids Suppliers, Petroleum and Natural Gas Systems",
          "Other",
          "Other, Suppliers of CO2",
          "Other, Suppliers of CO2, Waste",
          "Other, Waste",
          "Petroleum and Natural Gas Systems",
          "Power Plants",
          "Pulp and Paper",
          "Pulp and Paper, Waste",
          "Waste"
         ],
         "marker": {
          "coloraxis": "coloraxis",
          "colors": [
           755166.6,
           4197427.1,
           466539.9,
           5732104.1,
           5953,
           19959813.4,
           1370382.6,
           938576.8,
           1469235.2,
           3766284,
           7086651,
           3059766.2,
           2073191.3,
           6360783.398541
          ]
         },
         "name": "",
         "parents": [
          "",
          "",
          "",
          "",
          "",
          "",
          "",
          "",
          "",
          "",
          "",
          "",
          "",
          ""
         ],
         "type": "sunburst",
         "values": [
          755166.6,
          4197427.1,
          466539.9,
          5732104.1,
          5953,
          19959813.4,
          1370382.6,
          938576.8,
          1469235.2,
          3766284,
          7086651,
          3059766.2,
          2073191.3,
          6360783.398541
         ]
        }
       ],
       "layout": {
        "coloraxis": {
         "colorbar": {
          "title": {
           "text": "CO2_emissions"
          }
         },
         "colorscale": [
          [
           0,
           "rgb(103,0,31)"
          ],
          [
           0.1,
           "rgb(178,24,43)"
          ],
          [
           0.2,
           "rgb(214,96,77)"
          ],
          [
           0.3,
           "rgb(244,165,130)"
          ],
          [
           0.4,
           "rgb(253,219,199)"
          ],
          [
           0.5,
           "rgb(247,247,247)"
          ],
          [
           0.6,
           "rgb(209,229,240)"
          ],
          [
           0.7,
           "rgb(146,197,222)"
          ],
          [
           0.8,
           "rgb(67,147,195)"
          ],
          [
           0.9,
           "rgb(33,102,172)"
          ],
          [
           1,
           "rgb(5,48,97)"
          ]
         ]
        },
        "legend": {
         "tracegroupgap": 0
        },
        "margin": {
         "b": 0,
         "l": 0,
         "r": 0,
         "t": 0
        },
        "template": {
         "data": {
          "bar": [
           {
            "error_x": {
             "color": "#2a3f5f"
            },
            "error_y": {
             "color": "#2a3f5f"
            },
            "marker": {
             "line": {
              "color": "#E5ECF6",
              "width": 0.5
             },
             "pattern": {
              "fillmode": "overlay",
              "size": 10,
              "solidity": 0.2
             }
            },
            "type": "bar"
           }
          ],
          "barpolar": [
           {
            "marker": {
             "line": {
              "color": "#E5ECF6",
              "width": 0.5
             },
             "pattern": {
              "fillmode": "overlay",
              "size": 10,
              "solidity": 0.2
             }
            },
            "type": "barpolar"
           }
          ],
          "carpet": [
           {
            "aaxis": {
             "endlinecolor": "#2a3f5f",
             "gridcolor": "white",
             "linecolor": "white",
             "minorgridcolor": "white",
             "startlinecolor": "#2a3f5f"
            },
            "baxis": {
             "endlinecolor": "#2a3f5f",
             "gridcolor": "white",
             "linecolor": "white",
             "minorgridcolor": "white",
             "startlinecolor": "#2a3f5f"
            },
            "type": "carpet"
           }
          ],
          "choropleth": [
           {
            "colorbar": {
             "outlinewidth": 0,
             "ticks": ""
            },
            "type": "choropleth"
           }
          ],
          "contour": [
           {
            "colorbar": {
             "outlinewidth": 0,
             "ticks": ""
            },
            "colorscale": [
             [
              0,
              "#0d0887"
             ],
             [
              0.1111111111111111,
              "#46039f"
             ],
             [
              0.2222222222222222,
              "#7201a8"
             ],
             [
              0.3333333333333333,
              "#9c179e"
             ],
             [
              0.4444444444444444,
              "#bd3786"
             ],
             [
              0.5555555555555556,
              "#d8576b"
             ],
             [
              0.6666666666666666,
              "#ed7953"
             ],
             [
              0.7777777777777778,
              "#fb9f3a"
             ],
             [
              0.8888888888888888,
              "#fdca26"
             ],
             [
              1,
              "#f0f921"
             ]
            ],
            "type": "contour"
           }
          ],
          "contourcarpet": [
           {
            "colorbar": {
             "outlinewidth": 0,
             "ticks": ""
            },
            "type": "contourcarpet"
           }
          ],
          "heatmap": [
           {
            "colorbar": {
             "outlinewidth": 0,
             "ticks": ""
            },
            "colorscale": [
             [
              0,
              "#0d0887"
             ],
             [
              0.1111111111111111,
              "#46039f"
             ],
             [
              0.2222222222222222,
              "#7201a8"
             ],
             [
              0.3333333333333333,
              "#9c179e"
             ],
             [
              0.4444444444444444,
              "#bd3786"
             ],
             [
              0.5555555555555556,
              "#d8576b"
             ],
             [
              0.6666666666666666,
              "#ed7953"
             ],
             [
              0.7777777777777778,
              "#fb9f3a"
             ],
             [
              0.8888888888888888,
              "#fdca26"
             ],
             [
              1,
              "#f0f921"
             ]
            ],
            "type": "heatmap"
           }
          ],
          "heatmapgl": [
           {
            "colorbar": {
             "outlinewidth": 0,
             "ticks": ""
            },
            "colorscale": [
             [
              0,
              "#0d0887"
             ],
             [
              0.1111111111111111,
              "#46039f"
             ],
             [
              0.2222222222222222,
              "#7201a8"
             ],
             [
              0.3333333333333333,
              "#9c179e"
             ],
             [
              0.4444444444444444,
              "#bd3786"
             ],
             [
              0.5555555555555556,
              "#d8576b"
             ],
             [
              0.6666666666666666,
              "#ed7953"
             ],
             [
              0.7777777777777778,
              "#fb9f3a"
             ],
             [
              0.8888888888888888,
              "#fdca26"
             ],
             [
              1,
              "#f0f921"
             ]
            ],
            "type": "heatmapgl"
           }
          ],
          "histogram": [
           {
            "marker": {
             "pattern": {
              "fillmode": "overlay",
              "size": 10,
              "solidity": 0.2
             }
            },
            "type": "histogram"
           }
          ],
          "histogram2d": [
           {
            "colorbar": {
             "outlinewidth": 0,
             "ticks": ""
            },
            "colorscale": [
             [
              0,
              "#0d0887"
             ],
             [
              0.1111111111111111,
              "#46039f"
             ],
             [
              0.2222222222222222,
              "#7201a8"
             ],
             [
              0.3333333333333333,
              "#9c179e"
             ],
             [
              0.4444444444444444,
              "#bd3786"
             ],
             [
              0.5555555555555556,
              "#d8576b"
             ],
             [
              0.6666666666666666,
              "#ed7953"
             ],
             [
              0.7777777777777778,
              "#fb9f3a"
             ],
             [
              0.8888888888888888,
              "#fdca26"
             ],
             [
              1,
              "#f0f921"
             ]
            ],
            "type": "histogram2d"
           }
          ],
          "histogram2dcontour": [
           {
            "colorbar": {
             "outlinewidth": 0,
             "ticks": ""
            },
            "colorscale": [
             [
              0,
              "#0d0887"
             ],
             [
              0.1111111111111111,
              "#46039f"
             ],
             [
              0.2222222222222222,
              "#7201a8"
             ],
             [
              0.3333333333333333,
              "#9c179e"
             ],
             [
              0.4444444444444444,
              "#bd3786"
             ],
             [
              0.5555555555555556,
              "#d8576b"
             ],
             [
              0.6666666666666666,
              "#ed7953"
             ],
             [
              0.7777777777777778,
              "#fb9f3a"
             ],
             [
              0.8888888888888888,
              "#fdca26"
             ],
             [
              1,
              "#f0f921"
             ]
            ],
            "type": "histogram2dcontour"
           }
          ],
          "mesh3d": [
           {
            "colorbar": {
             "outlinewidth": 0,
             "ticks": ""
            },
            "type": "mesh3d"
           }
          ],
          "parcoords": [
           {
            "line": {
             "colorbar": {
              "outlinewidth": 0,
              "ticks": ""
             }
            },
            "type": "parcoords"
           }
          ],
          "pie": [
           {
            "automargin": true,
            "type": "pie"
           }
          ],
          "scatter": [
           {
            "fillpattern": {
             "fillmode": "overlay",
             "size": 10,
             "solidity": 0.2
            },
            "type": "scatter"
           }
          ],
          "scatter3d": [
           {
            "line": {
             "colorbar": {
              "outlinewidth": 0,
              "ticks": ""
             }
            },
            "marker": {
             "colorbar": {
              "outlinewidth": 0,
              "ticks": ""
             }
            },
            "type": "scatter3d"
           }
          ],
          "scattercarpet": [
           {
            "marker": {
             "colorbar": {
              "outlinewidth": 0,
              "ticks": ""
             }
            },
            "type": "scattercarpet"
           }
          ],
          "scattergeo": [
           {
            "marker": {
             "colorbar": {
              "outlinewidth": 0,
              "ticks": ""
             }
            },
            "type": "scattergeo"
           }
          ],
          "scattergl": [
           {
            "marker": {
             "colorbar": {
              "outlinewidth": 0,
              "ticks": ""
             }
            },
            "type": "scattergl"
           }
          ],
          "scattermapbox": [
           {
            "marker": {
             "colorbar": {
              "outlinewidth": 0,
              "ticks": ""
             }
            },
            "type": "scattermapbox"
           }
          ],
          "scatterpolar": [
           {
            "marker": {
             "colorbar": {
              "outlinewidth": 0,
              "ticks": ""
             }
            },
            "type": "scatterpolar"
           }
          ],
          "scatterpolargl": [
           {
            "marker": {
             "colorbar": {
              "outlinewidth": 0,
              "ticks": ""
             }
            },
            "type": "scatterpolargl"
           }
          ],
          "scatterternary": [
           {
            "marker": {
             "colorbar": {
              "outlinewidth": 0,
              "ticks": ""
             }
            },
            "type": "scatterternary"
           }
          ],
          "surface": [
           {
            "colorbar": {
             "outlinewidth": 0,
             "ticks": ""
            },
            "colorscale": [
             [
              0,
              "#0d0887"
             ],
             [
              0.1111111111111111,
              "#46039f"
             ],
             [
              0.2222222222222222,
              "#7201a8"
             ],
             [
              0.3333333333333333,
              "#9c179e"
             ],
             [
              0.4444444444444444,
              "#bd3786"
             ],
             [
              0.5555555555555556,
              "#d8576b"
             ],
             [
              0.6666666666666666,
              "#ed7953"
             ],
             [
              0.7777777777777778,
              "#fb9f3a"
             ],
             [
              0.8888888888888888,
              "#fdca26"
             ],
             [
              1,
              "#f0f921"
             ]
            ],
            "type": "surface"
           }
          ],
          "table": [
           {
            "cells": {
             "fill": {
              "color": "#EBF0F8"
             },
             "line": {
              "color": "white"
             }
            },
            "header": {
             "fill": {
              "color": "#C8D4E3"
             },
             "line": {
              "color": "white"
             }
            },
            "type": "table"
           }
          ]
         },
         "layout": {
          "annotationdefaults": {
           "arrowcolor": "#2a3f5f",
           "arrowhead": 0,
           "arrowwidth": 1
          },
          "autotypenumbers": "strict",
          "coloraxis": {
           "colorbar": {
            "outlinewidth": 0,
            "ticks": ""
           }
          },
          "colorscale": {
           "diverging": [
            [
             0,
             "#8e0152"
            ],
            [
             0.1,
             "#c51b7d"
            ],
            [
             0.2,
             "#de77ae"
            ],
            [
             0.3,
             "#f1b6da"
            ],
            [
             0.4,
             "#fde0ef"
            ],
            [
             0.5,
             "#f7f7f7"
            ],
            [
             0.6,
             "#e6f5d0"
            ],
            [
             0.7,
             "#b8e186"
            ],
            [
             0.8,
             "#7fbc41"
            ],
            [
             0.9,
             "#4d9221"
            ],
            [
             1,
             "#276419"
            ]
           ],
           "sequential": [
            [
             0,
             "#0d0887"
            ],
            [
             0.1111111111111111,
             "#46039f"
            ],
            [
             0.2222222222222222,
             "#7201a8"
            ],
            [
             0.3333333333333333,
             "#9c179e"
            ],
            [
             0.4444444444444444,
             "#bd3786"
            ],
            [
             0.5555555555555556,
             "#d8576b"
            ],
            [
             0.6666666666666666,
             "#ed7953"
            ],
            [
             0.7777777777777778,
             "#fb9f3a"
            ],
            [
             0.8888888888888888,
             "#fdca26"
            ],
            [
             1,
             "#f0f921"
            ]
           ],
           "sequentialminus": [
            [
             0,
             "#0d0887"
            ],
            [
             0.1111111111111111,
             "#46039f"
            ],
            [
             0.2222222222222222,
             "#7201a8"
            ],
            [
             0.3333333333333333,
             "#9c179e"
            ],
            [
             0.4444444444444444,
             "#bd3786"
            ],
            [
             0.5555555555555556,
             "#d8576b"
            ],
            [
             0.6666666666666666,
             "#ed7953"
            ],
            [
             0.7777777777777778,
             "#fb9f3a"
            ],
            [
             0.8888888888888888,
             "#fdca26"
            ],
            [
             1,
             "#f0f921"
            ]
           ]
          },
          "colorway": [
           "#636efa",
           "#EF553B",
           "#00cc96",
           "#ab63fa",
           "#FFA15A",
           "#19d3f3",
           "#FF6692",
           "#B6E880",
           "#FF97FF",
           "#FECB52"
          ],
          "font": {
           "color": "#2a3f5f"
          },
          "geo": {
           "bgcolor": "white",
           "lakecolor": "white",
           "landcolor": "#E5ECF6",
           "showlakes": true,
           "showland": true,
           "subunitcolor": "white"
          },
          "hoverlabel": {
           "align": "left"
          },
          "hovermode": "closest",
          "mapbox": {
           "style": "light"
          },
          "paper_bgcolor": "white",
          "plot_bgcolor": "#E5ECF6",
          "polar": {
           "angularaxis": {
            "gridcolor": "white",
            "linecolor": "white",
            "ticks": ""
           },
           "bgcolor": "#E5ECF6",
           "radialaxis": {
            "gridcolor": "white",
            "linecolor": "white",
            "ticks": ""
           }
          },
          "scene": {
           "xaxis": {
            "backgroundcolor": "#E5ECF6",
            "gridcolor": "white",
            "gridwidth": 2,
            "linecolor": "white",
            "showbackground": true,
            "ticks": "",
            "zerolinecolor": "white"
           },
           "yaxis": {
            "backgroundcolor": "#E5ECF6",
            "gridcolor": "white",
            "gridwidth": 2,
            "linecolor": "white",
            "showbackground": true,
            "ticks": "",
            "zerolinecolor": "white"
           },
           "zaxis": {
            "backgroundcolor": "#E5ECF6",
            "gridcolor": "white",
            "gridwidth": 2,
            "linecolor": "white",
            "showbackground": true,
            "ticks": "",
            "zerolinecolor": "white"
           }
          },
          "shapedefaults": {
           "line": {
            "color": "#2a3f5f"
           }
          },
          "ternary": {
           "aaxis": {
            "gridcolor": "white",
            "linecolor": "white",
            "ticks": ""
           },
           "baxis": {
            "gridcolor": "white",
            "linecolor": "white",
            "ticks": ""
           },
           "bgcolor": "#E5ECF6",
           "caxis": {
            "gridcolor": "white",
            "linecolor": "white",
            "ticks": ""
           }
          },
          "title": {
           "x": 0.05
          },
          "xaxis": {
           "automargin": true,
           "gridcolor": "white",
           "linecolor": "white",
           "ticks": "",
           "title": {
            "standoff": 15
           },
           "zerolinecolor": "white",
           "zerolinewidth": 2
          },
          "yaxis": {
           "automargin": true,
           "gridcolor": "white",
           "linecolor": "white",
           "ticks": "",
           "title": {
            "standoff": 15
           },
           "zerolinecolor": "white",
           "zerolinewidth": 2
          }
         }
        },
        "title": {
         "text": "Emissions Breakdown by Sector"
        }
       }
      }
     },
     "metadata": {},
     "output_type": "display_data"
    }
   ],
   "source": [
    "import plotly.express as px\n",
    "\n",
    "def plot_emissions_by_sector(df):\n",
    "    \"\"\"\n",
    "    Plot a sunburst chart showing the breakdown of emissions by sector.\n",
    "    \n",
    "    Parameters:\n",
    "    - df: DataFrame containing the filtered data.\n",
    "    \"\"\"\n",
    "    # Aggregate the emissions by sector\n",
    "    emissions_by_sector = df.groupby('Sector')['CO2_emissions'].sum().reset_index()\n",
    "    \n",
    "    # Plotting\n",
    "    fig = px.sunburst(emissions_by_sector, path=['Sector'], values='CO2_emissions',\n",
    "                      color='CO2_emissions', hover_data=['Sector'],\n",
    "                      color_continuous_scale='RdBu',\n",
    "                      title='Emissions Breakdown by Sector')\n",
    "    fig.update_layout(margin=dict(t=0, l=0, r=0, b=0))\n",
    "    fig.show()\n",
    "\n",
    "# Use the function to plot emissions breakdown by sector for the filtered data\n",
    "plot_emissions_by_sector(filtered_data)\n"
   ]
  },
  {
   "cell_type": "code",
   "execution_count": 12,
   "metadata": {},
   "outputs": [
    {
     "data": {
      "application/vnd.plotly.v1+json": {
       "config": {
        "plotlyServerURL": "https://plot.ly"
       },
       "data": [
        {
         "customdata": [
          [
           "23rd and 3rd",
           "Brooklyn",
           "NY"
          ],
          [
           "23rd and 3rd",
           "Brooklyn",
           "NY"
          ],
          [
           "23rd and 3rd",
           "Brooklyn",
           "NY"
          ],
          [
           "23rd and 3rd",
           "Brooklyn",
           "NY"
          ],
          [
           "23rd and 3rd",
           "Brooklyn",
           "NY"
          ],
          [
           "23rd and 3rd",
           "Brooklyn",
           "NY"
          ],
          [
           "23rd and 3rd",
           "Brooklyn",
           "NY"
          ],
          [
           "23rd and 3rd",
           "Brooklyn",
           "NY"
          ],
          [
           "23rd and 3rd",
           "Brooklyn",
           "NY"
          ],
          [
           "23rd and 3rd",
           "Brooklyn",
           "NY"
          ],
          [
           "23rd and 3rd",
           "Brooklyn",
           "NY"
          ],
          [
           "23rd and 3rd",
           "Brooklyn",
           "NY"
          ],
          [
           "23rd and 3rd",
           "Brooklyn",
           "NY"
          ],
          [
           "23rd and 3rd",
           "Brooklyn",
           "NY"
          ],
          [
           "23rd and 3rd",
           "Brooklyn",
           "NY"
          ],
          [
           "23rd and 3rd",
           "Brooklyn",
           "NY"
          ],
          [
           "23rd and 3rd",
           "Brooklyn",
           "NY"
          ],
          [
           "23rd and 3rd",
           "Brooklyn",
           "NY"
          ],
          [
           "23rd and 3rd",
           "Brooklyn",
           "NY"
          ],
          [
           "23rd and 3rd",
           "Brooklyn",
           "NY"
          ],
          [
           "23rd and 3rd",
           "Brooklyn",
           "NY"
          ],
          [
           "23rd and 3rd",
           "Brooklyn",
           "NY"
          ],
          [
           "23rd and 3rd",
           "Brooklyn",
           "NY"
          ],
          [
           "23rd and 3rd",
           "Brooklyn",
           "NY"
          ],
          [
           "59th Street",
           "New york",
           "NY"
          ],
          [
           "59th Street",
           "New york",
           "NY"
          ],
          [
           "59th Street",
           "New york",
           "NY"
          ],
          [
           "59th Street",
           "New york",
           "NY"
          ],
          [
           "59th Street",
           "New york",
           "NY"
          ],
          [
           "59th Street",
           "New york",
           "NY"
          ],
          [
           "59th Street",
           "New york",
           "NY"
          ],
          [
           "59th Street",
           "New york",
           "NY"
          ],
          [
           "59th Street",
           "New york",
           "NY"
          ],
          [
           "59th Street",
           "New york",
           "NY"
          ],
          [
           "59th Street",
           "New york",
           "NY"
          ],
          [
           "59th Street",
           "New york",
           "NY"
          ],
          [
           "74th Street",
           "New york",
           "NY"
          ],
          [
           "74th Street",
           "New york",
           "NY"
          ],
          [
           "74th Street",
           "New york",
           "NY"
          ],
          [
           "74th Street",
           "New york",
           "NY"
          ],
          [
           "74th Street",
           "New york",
           "NY"
          ],
          [
           "74th Street",
           "New york",
           "NY"
          ],
          [
           "74th Street",
           "New york",
           "NY"
          ],
          [
           "74th Street",
           "New york",
           "NY"
          ],
          [
           "74th Street",
           "New york",
           "NY"
          ],
          [
           "74th Street",
           "New york",
           "NY"
          ],
          [
           "74th Street",
           "New york",
           "NY"
          ],
          [
           "74th Street",
           "New york",
           "NY"
          ],
          [
           "AG Energy",
           "Ogdensburg",
           "NY"
          ],
          [
           "AG Energy",
           "Ogdensburg",
           "NY"
          ],
          [
           "AG Energy",
           "Ogdensburg",
           "NY"
          ],
          [
           "AG Energy",
           "Ogdensburg",
           "NY"
          ],
          [
           "AG Energy",
           "Ogdensburg",
           "NY"
          ],
          [
           "AG Energy",
           "Ogdensburg",
           "NY"
          ],
          [
           "AG Energy",
           "Ogdensburg",
           "NY"
          ],
          [
           "AG Energy",
           "Ogdensburg",
           "NY"
          ],
          [
           "AG Energy",
           "Ogdensburg",
           "NY"
          ],
          [
           "AG Energy",
           "Ogdensburg",
           "NY"
          ],
          [
           "AG Energy",
           "Ogdensburg",
           "NY"
          ],
          [
           "AG Energy",
           "Ogdensburg",
           "NY"
          ],
          [
           "Allegany Generating Station",
           "Portageville",
           "NY"
          ],
          [
           "Allegany Generating Station",
           "Portageville",
           "NY"
          ],
          [
           "Allegany Generating Station",
           "Portageville",
           "NY"
          ],
          [
           "Allegany Generating Station",
           "Portageville",
           "NY"
          ],
          [
           "Allegany Generating Station",
           "Portageville",
           "NY"
          ],
          [
           "Allegany Generating Station",
           "Portageville",
           "NY"
          ],
          [
           "Allegany Generating Station",
           "Portageville",
           "NY"
          ],
          [
           "Allegany Generating Station",
           "Portageville",
           "NY"
          ],
          [
           "Allegany Generating Station",
           "Portageville",
           "NY"
          ],
          [
           "Allegany Generating Station",
           "Portageville",
           "NY"
          ],
          [
           "Allegany Generating Station",
           "Portageville",
           "NY"
          ],
          [
           "Allegany Generating Station",
           "Portageville",
           "NY"
          ],
          [
           "Arthur Kill",
           "Staten island",
           "NY"
          ],
          [
           "Arthur Kill",
           "Staten island",
           "NY"
          ],
          [
           "Arthur Kill",
           "Staten island",
           "NY"
          ],
          [
           "Arthur Kill",
           "Staten island",
           "NY"
          ],
          [
           "Arthur Kill",
           "Staten island",
           "NY"
          ],
          [
           "Arthur Kill",
           "Staten island",
           "NY"
          ],
          [
           "Arthur Kill",
           "Staten island",
           "NY"
          ],
          [
           "Arthur Kill",
           "Staten island",
           "NY"
          ],
          [
           "Arthur Kill",
           "Staten island",
           "NY"
          ],
          [
           "Arthur Kill",
           "Staten island",
           "NY"
          ],
          [
           "Arthur Kill",
           "Staten island",
           "NY"
          ],
          [
           "Arthur Kill",
           "Staten island",
           "NY"
          ],
          [
           "Arthur Kill",
           "Staten island",
           "NY"
          ],
          [
           "Arthur Kill",
           "Staten island",
           "NY"
          ],
          [
           "Arthur Kill",
           "Staten island",
           "NY"
          ],
          [
           "Arthur Kill",
           "Staten island",
           "NY"
          ],
          [
           "Arthur Kill",
           "Staten island",
           "NY"
          ],
          [
           "Arthur Kill",
           "Staten island",
           "NY"
          ],
          [
           "Arthur Kill",
           "Staten island",
           "NY"
          ],
          [
           "Arthur Kill",
           "Staten island",
           "NY"
          ],
          [
           "Arthur Kill",
           "Staten island",
           "NY"
          ],
          [
           "Arthur Kill",
           "Staten island",
           "NY"
          ],
          [
           "Arthur Kill",
           "Staten island",
           "NY"
          ],
          [
           "Arthur Kill",
           "Staten island",
           "NY"
          ],
          [
           "ASTORIA ENERGY LLC & ASTORIA ENERGY II LLC",
           "Astoria",
           "NY"
          ],
          [
           "ASTORIA ENERGY LLC & ASTORIA ENERGY II LLC",
           "Astoria",
           "NY"
          ],
          [
           "ASTORIA ENERGY LLC & ASTORIA ENERGY II LLC",
           "Astoria",
           "NY"
          ],
          [
           "Astoria Gas Turbine Power",
           "Astoria",
           "NY"
          ],
          [
           "Astoria Gas Turbine Power",
           "Astoria",
           "NY"
          ],
          [
           "Astoria Gas Turbine Power",
           "Astoria",
           "NY"
          ],
          [
           "Astoria Gas Turbine Power",
           "Astoria",
           "NY"
          ],
          [
           "Astoria Gas Turbine Power",
           "Astoria",
           "NY"
          ],
          [
           "Astoria Gas Turbine Power",
           "Astoria",
           "NY"
          ],
          [
           "Astoria Gas Turbine Power",
           "Astoria",
           "NY"
          ],
          [
           "Astoria Gas Turbine Power",
           "Astoria",
           "NY"
          ],
          [
           "Astoria Gas Turbine Power",
           "Astoria",
           "NY"
          ],
          [
           "Astoria Gas Turbine Power",
           "Astoria",
           "NY"
          ],
          [
           "Astoria Gas Turbine Power",
           "Astoria",
           "NY"
          ],
          [
           "Astoria Generating Station",
           "Astoria",
           "NY"
          ],
          [
           "Astoria Generating Station",
           "Astoria",
           "NY"
          ],
          [
           "Astoria Generating Station",
           "Astoria",
           "NY"
          ],
          [
           "Astoria Generating Station",
           "Astoria",
           "NY"
          ],
          [
           "Astoria Generating Station",
           "Astoria",
           "NY"
          ],
          [
           "Astoria Generating Station",
           "Astoria",
           "NY"
          ],
          [
           "Astoria Generating Station",
           "Astoria",
           "NY"
          ],
          [
           "Astoria Generating Station",
           "Astoria",
           "NY"
          ],
          [
           "Astoria Generating Station",
           "Astoria",
           "NY"
          ],
          [
           "Astoria Generating Station",
           "Astoria",
           "NY"
          ],
          [
           "Astoria Generating Station",
           "Astoria",
           "NY"
          ],
          [
           "Astoria Generating Station",
           "Astoria",
           "NY"
          ],
          [
           "Astoria Generating Station",
           "Astoria",
           "NY"
          ],
          [
           "Astoria Generating Station",
           "Astoria",
           "NY"
          ],
          [
           "Astoria Generating Station",
           "Astoria",
           "NY"
          ],
          [
           "Astoria Generating Station",
           "Astoria",
           "NY"
          ],
          [
           "Astoria Generating Station",
           "Astoria",
           "NY"
          ],
          [
           "Astoria Generating Station",
           "Astoria",
           "NY"
          ],
          [
           "Astoria Generating Station",
           "Astoria",
           "NY"
          ],
          [
           "Astoria Generating Station",
           "Astoria",
           "NY"
          ],
          [
           "Astoria Generating Station",
           "Astoria",
           "NY"
          ],
          [
           "Astoria Generating Station",
           "Astoria",
           "NY"
          ],
          [
           "Astoria Generating Station",
           "Astoria",
           "NY"
          ],
          [
           "Astoria Generating Station",
           "Astoria",
           "NY"
          ],
          [
           "Astoria Generating Station",
           "Astoria",
           "NY"
          ],
          [
           "Astoria Generating Station",
           "Astoria",
           "NY"
          ],
          [
           "Astoria Generating Station",
           "Astoria",
           "NY"
          ],
          [
           "Astoria Generating Station",
           "Astoria",
           "NY"
          ],
          [
           "Astoria Generating Station",
           "Astoria",
           "NY"
          ],
          [
           "Astoria Generating Station",
           "Astoria",
           "NY"
          ],
          [
           "Astoria Generating Station",
           "Astoria",
           "NY"
          ],
          [
           "Astoria Generating Station",
           "Astoria",
           "NY"
          ],
          [
           "Beaver Falls, LLC",
           "Beaver falls",
           "NY"
          ],
          [
           "Beaver Falls, LLC",
           "Beaver falls",
           "NY"
          ],
          [
           "Beaver Falls, LLC",
           "Beaver falls",
           "NY"
          ],
          [
           "Beaver Falls, LLC",
           "Beaver falls",
           "NY"
          ],
          [
           "Bethlehem Energy Center (Albany)",
           "Glenmont",
           "NY"
          ],
          [
           "Bethlehem Energy Center (Albany)",
           "Glenmont",
           "NY"
          ],
          [
           "Bethlehem Energy Center (Albany)",
           "Glenmont",
           "NY"
          ],
          [
           "Bethlehem Energy Center (Albany)",
           "Glenmont",
           "NY"
          ],
          [
           "Bethlehem Energy Center (Albany)",
           "Glenmont",
           "NY"
          ],
          [
           "Bethlehem Energy Center (Albany)",
           "Glenmont",
           "NY"
          ],
          [
           "Bethlehem Energy Center (Albany)",
           "Glenmont",
           "NY"
          ],
          [
           "Bethlehem Energy Center (Albany)",
           "Glenmont",
           "NY"
          ],
          [
           "Bethlehem Energy Center (Albany)",
           "Glenmont",
           "NY"
          ],
          [
           "Bethlehem Energy Center (Albany)",
           "Glenmont",
           "NY"
          ],
          [
           "Bethlehem Energy Center (Albany)",
           "Glenmont",
           "NY"
          ],
          [
           "Bethlehem Energy Center (Albany)",
           "Glenmont",
           "NY"
          ],
          [
           "Bethpage Energy Center",
           "Hicksville",
           "NY"
          ],
          [
           "Bethpage Energy Center",
           "Hicksville",
           "NY"
          ],
          [
           "Bethpage Energy Center",
           "Hicksville",
           "NY"
          ],
          [
           "Bethpage Energy Center",
           "Hicksville",
           "NY"
          ],
          [
           "Bethpage Energy Center",
           "Hicksville",
           "NY"
          ],
          [
           "Bethpage Energy Center",
           "Hicksville",
           "NY"
          ],
          [
           "Bethpage Energy Center",
           "Hicksville",
           "NY"
          ],
          [
           "Bethpage Energy Center",
           "Hicksville",
           "NY"
          ],
          [
           "Bethpage Energy Center",
           "Hicksville",
           "NY"
          ],
          [
           "Bethpage Energy Center",
           "Hicksville",
           "NY"
          ],
          [
           "Bethpage Energy Center",
           "Hicksville",
           "NY"
          ],
          [
           "Bethpage Energy Center",
           "Hicksville",
           "NY"
          ],
          [
           "Bethpage Energy Center",
           "Hicksville",
           "NY"
          ],
          [
           "Bethpage Energy Center",
           "Hicksville",
           "NY"
          ],
          [
           "Bethpage Energy Center",
           "Hicksville",
           "NY"
          ],
          [
           "Bethpage Energy Center",
           "Hicksville",
           "NY"
          ],
          [
           "Bethpage Energy Center",
           "Hicksville",
           "NY"
          ],
          [
           "Bethpage Energy Center",
           "Hicksville",
           "NY"
          ],
          [
           "Bethpage Energy Center",
           "Hicksville",
           "NY"
          ],
          [
           "Bethpage Energy Center",
           "Hicksville",
           "NY"
          ],
          [
           "Bethpage Energy Center",
           "Hicksville",
           "NY"
          ],
          [
           "Bethpage Energy Center",
           "Hicksville",
           "NY"
          ],
          [
           "Bethpage Energy Center",
           "Hicksville",
           "NY"
          ],
          [
           "Bethpage Energy Center",
           "Hicksville",
           "NY"
          ],
          [
           "Bowline Generating Station",
           "West haverstraw",
           "NY"
          ],
          [
           "Bowline Generating Station",
           "West haverstraw",
           "NY"
          ],
          [
           "Bowline Generating Station",
           "West haverstraw",
           "NY"
          ],
          [
           "Bowline Generating Station",
           "West haverstraw",
           "NY"
          ],
          [
           "Bowline Generating Station",
           "West haverstraw",
           "NY"
          ],
          [
           "Bowline Generating Station",
           "West haverstraw",
           "NY"
          ],
          [
           "Bowline Generating Station",
           "West haverstraw",
           "NY"
          ],
          [
           "Bowline Generating Station",
           "West haverstraw",
           "NY"
          ],
          [
           "Bowline Generating Station",
           "West haverstraw",
           "NY"
          ],
          [
           "Bowline Generating Station",
           "West haverstraw",
           "NY"
          ],
          [
           "Bowline Generating Station",
           "West haverstraw",
           "NY"
          ],
          [
           "Bowline Generating Station",
           "West haverstraw",
           "NY"
          ],
          [
           "Brentwood",
           "Brentwood",
           "NY"
          ],
          [
           "Brentwood",
           "Brentwood",
           "NY"
          ],
          [
           "Brentwood",
           "Brentwood",
           "NY"
          ],
          [
           "Brentwood",
           "Brentwood",
           "NY"
          ],
          [
           "Brentwood",
           "Brentwood",
           "NY"
          ],
          [
           "Brentwood",
           "Brentwood",
           "NY"
          ],
          [
           "Brentwood",
           "Brentwood",
           "NY"
          ],
          [
           "Brentwood",
           "Brentwood",
           "NY"
          ],
          [
           "Brentwood",
           "Brentwood",
           "NY"
          ],
          [
           "Brentwood",
           "Brentwood",
           "NY"
          ],
          [
           "Brentwood",
           "Brentwood",
           "NY"
          ],
          [
           "Brentwood",
           "Brentwood",
           "NY"
          ],
          [
           "Caithness Long Island Energy Center",
           "Yaphank",
           "NY"
          ],
          [
           "Caithness Long Island Energy Center",
           "Yaphank",
           "NY"
          ],
          [
           "Caithness Long Island Energy Center",
           "Yaphank",
           "NY"
          ],
          [
           "Caithness Long Island Energy Center",
           "Yaphank",
           "NY"
          ],
          [
           "Caithness Long Island Energy Center",
           "Yaphank",
           "NY"
          ],
          [
           "Caithness Long Island Energy Center",
           "Yaphank",
           "NY"
          ],
          [
           "Caithness Long Island Energy Center",
           "Yaphank",
           "NY"
          ],
          [
           "Caithness Long Island Energy Center",
           "Yaphank",
           "NY"
          ],
          [
           "Caithness Long Island Energy Center",
           "Yaphank",
           "NY"
          ],
          [
           "Caithness Long Island Energy Center",
           "Yaphank",
           "NY"
          ],
          [
           "Caithness Long Island Energy Center",
           "Yaphank",
           "NY"
          ],
          [
           "Caithness Long Island Energy Center",
           "Yaphank",
           "NY"
          ],
          [
           "Carr Street Generating Station",
           "East syracuse",
           "NY"
          ],
          [
           "Carr Street Generating Station",
           "East syracuse",
           "NY"
          ],
          [
           "Carr Street Generating Station",
           "East syracuse",
           "NY"
          ],
          [
           "Carr Street Generating Station",
           "East syracuse",
           "NY"
          ],
          [
           "Carr Street Generating Station",
           "East syracuse",
           "NY"
          ],
          [
           "Carr Street Generating Station",
           "East syracuse",
           "NY"
          ],
          [
           "Carr Street Generating Station",
           "East syracuse",
           "NY"
          ],
          [
           "Carr Street Generating Station",
           "East syracuse",
           "NY"
          ],
          [
           "Carr Street Generating Station",
           "East syracuse",
           "NY"
          ],
          [
           "Carr Street Generating Station",
           "East syracuse",
           "NY"
          ],
          [
           "Carr Street Generating Station",
           "East syracuse",
           "NY"
          ],
          [
           "Carr Street Generating Station",
           "East syracuse",
           "NY"
          ],
          [
           "Carr Street Generating Station",
           "East syracuse",
           "NY"
          ],
          [
           "Carr Street Generating Station",
           "East syracuse",
           "NY"
          ],
          [
           "Carr Street Generating Station",
           "East syracuse",
           "NY"
          ],
          [
           "Carr Street Generating Station",
           "East syracuse",
           "NY"
          ],
          [
           "Carr Street Generating Station",
           "East syracuse",
           "NY"
          ],
          [
           "Carr Street Generating Station",
           "East syracuse",
           "NY"
          ],
          [
           "Carr Street Generating Station",
           "East syracuse",
           "NY"
          ],
          [
           "Carr Street Generating Station",
           "East syracuse",
           "NY"
          ],
          [
           "Carr Street Generating Station",
           "East syracuse",
           "NY"
          ],
          [
           "Carr Street Generating Station",
           "East syracuse",
           "NY"
          ],
          [
           "Carr Street Generating Station",
           "East syracuse",
           "NY"
          ],
          [
           "Carr Street Generating Station",
           "East syracuse",
           "NY"
          ],
          [
           "Carr Street Generating Station",
           "East syracuse",
           "NY"
          ],
          [
           "Carr Street Generating Station",
           "East syracuse",
           "NY"
          ],
          [
           "Carr Street Generating Station",
           "East syracuse",
           "NY"
          ],
          [
           "Carr Street Generating Station",
           "East syracuse",
           "NY"
          ],
          [
           "Carr Street Generating Station",
           "East syracuse",
           "NY"
          ],
          [
           "Carr Street Generating Station",
           "East syracuse",
           "NY"
          ],
          [
           "Carr Street Generating Station",
           "East syracuse",
           "NY"
          ],
          [
           "Carr Street Generating Station",
           "East syracuse",
           "NY"
          ],
          [
           "Carr Street Generating Station",
           "East syracuse",
           "NY"
          ],
          [
           "Carr Street Generating Station",
           "East syracuse",
           "NY"
          ],
          [
           "Carr Street Generating Station",
           "East syracuse",
           "NY"
          ],
          [
           "Carr Street Generating Station",
           "East syracuse",
           "NY"
          ],
          [
           "Carr Street Generating Station",
           "East syracuse",
           "NY"
          ],
          [
           "Carr Street Generating Station",
           "East syracuse",
           "NY"
          ],
          [
           "Carr Street Generating Station",
           "East syracuse",
           "NY"
          ],
          [
           "Carr Street Generating Station",
           "East syracuse",
           "NY"
          ],
          [
           "Carthage Energy",
           "Carthage",
           "NY"
          ],
          [
           "Carthage Energy",
           "Carthage",
           "NY"
          ],
          [
           "Carthage Energy",
           "Carthage",
           "NY"
          ],
          [
           "Carthage Energy",
           "Carthage",
           "NY"
          ],
          [
           "Carthage Energy",
           "Carthage",
           "NY"
          ],
          [
           "Carthage Energy",
           "Carthage",
           "NY"
          ],
          [
           "Carthage Energy",
           "Carthage",
           "NY"
          ],
          [
           "Carthage Energy",
           "Carthage",
           "NY"
          ],
          [
           "Carthage Energy",
           "Carthage",
           "NY"
          ],
          [
           "Carthage Energy",
           "Carthage",
           "NY"
          ],
          [
           "Carthage Energy",
           "Carthage",
           "NY"
          ],
          [
           "Carthage Energy",
           "Carthage",
           "NY"
          ],
          [
           "Carthage Energy",
           "Carthage",
           "NY"
          ],
          [
           "Carthage Energy",
           "Carthage",
           "NY"
          ],
          [
           "Carthage Energy",
           "Carthage",
           "NY"
          ],
          [
           "Carthage Energy",
           "Carthage",
           "NY"
          ],
          [
           "Carthage Energy",
           "Carthage",
           "NY"
          ],
          [
           "Carthage Energy",
           "Carthage",
           "NY"
          ],
          [
           "Carthage Energy",
           "Carthage",
           "NY"
          ],
          [
           "Carthage Energy",
           "Carthage",
           "NY"
          ],
          [
           "Carthage Energy",
           "Carthage",
           "NY"
          ],
          [
           "Carthage Energy",
           "Carthage",
           "NY"
          ],
          [
           "Carthage Energy",
           "Carthage",
           "NY"
          ],
          [
           "Carthage Energy",
           "Carthage",
           "NY"
          ],
          [
           "Carthage Energy",
           "Carthage",
           "NY"
          ],
          [
           "Carthage Energy",
           "Carthage",
           "NY"
          ],
          [
           "Carthage Energy",
           "Carthage",
           "NY"
          ],
          [
           "Carthage Energy",
           "Carthage",
           "NY"
          ],
          [
           "Carthage Energy",
           "Carthage",
           "NY"
          ],
          [
           "Carthage Energy",
           "Carthage",
           "NY"
          ],
          [
           "Carthage Energy",
           "Carthage",
           "NY"
          ],
          [
           "Carthage Energy",
           "Carthage",
           "NY"
          ],
          [
           "Carthage Energy",
           "Carthage",
           "NY"
          ],
          [
           "Carthage Energy",
           "Carthage",
           "NY"
          ],
          [
           "Carthage Energy",
           "Carthage",
           "NY"
          ],
          [
           "Carthage Energy",
           "Carthage",
           "NY"
          ],
          [
           "Carthage Energy",
           "Carthage",
           "NY"
          ],
          [
           "Carthage Energy",
           "Carthage",
           "NY"
          ],
          [
           "Carthage Energy",
           "Carthage",
           "NY"
          ],
          [
           "Carthage Energy",
           "Carthage",
           "NY"
          ],
          [
           "Castleton Power, LLC",
           "Castleton on hudson",
           "NY"
          ],
          [
           "Castleton Power, LLC",
           "Castleton on hudson",
           "NY"
          ],
          [
           "Castleton Power, LLC",
           "Castleton on hudson",
           "NY"
          ],
          [
           "Castleton Power, LLC",
           "Castleton on hudson",
           "NY"
          ],
          [
           "Castleton Power, LLC",
           "Castleton on hudson",
           "NY"
          ],
          [
           "Castleton Power, LLC",
           "Castleton on hudson",
           "NY"
          ],
          [
           "Castleton Power, LLC",
           "Castleton on hudson",
           "NY"
          ],
          [
           "Castleton Power, LLC",
           "Castleton on hudson",
           "NY"
          ],
          [
           "Castleton Power, LLC",
           "Castleton on hudson",
           "NY"
          ],
          [
           "Castleton Power, LLC",
           "Castleton on hudson",
           "NY"
          ],
          [
           "Castleton Power, LLC",
           "Castleton on hudson",
           "NY"
          ],
          [
           "Castleton Power, LLC",
           "Castleton on hudson",
           "NY"
          ],
          [
           "Castleton Power, LLC",
           "Castleton on hudson",
           "NY"
          ],
          [
           "Castleton Power, LLC",
           "Castleton on hudson",
           "NY"
          ],
          [
           "Castleton Power, LLC",
           "Castleton on hudson",
           "NY"
          ],
          [
           "Castleton Power, LLC",
           "Castleton on hudson",
           "NY"
          ],
          [
           "Castleton Power, LLC",
           "Castleton on hudson",
           "NY"
          ],
          [
           "Castleton Power, LLC",
           "Castleton on hudson",
           "NY"
          ],
          [
           "Castleton Power, LLC",
           "Castleton on hudson",
           "NY"
          ],
          [
           "Castleton Power, LLC",
           "Castleton on hudson",
           "NY"
          ],
          [
           "Castleton Power, LLC",
           "Castleton on hudson",
           "NY"
          ],
          [
           "Castleton Power, LLC",
           "Castleton on hudson",
           "NY"
          ],
          [
           "Castleton Power, LLC",
           "Castleton on hudson",
           "NY"
          ],
          [
           "Castleton Power, LLC",
           "Castleton on hudson",
           "NY"
          ],
          [
           "Cayuga Operating Company, LLC",
           "Lansing",
           "NY"
          ],
          [
           "Cayuga Operating Company, LLC",
           "Lansing",
           "NY"
          ],
          [
           "Cayuga Operating Company, LLC",
           "Lansing",
           "NY"
          ],
          [
           "Cayuga Operating Company, LLC",
           "Lansing",
           "NY"
          ],
          [
           "Cayuga Operating Company, LLC",
           "Lansing",
           "NY"
          ],
          [
           "Cayuga Operating Company, LLC",
           "Lansing",
           "NY"
          ],
          [
           "Cayuga Operating Company, LLC",
           "Lansing",
           "NY"
          ],
          [
           "Cayuga Operating Company, LLC",
           "Lansing",
           "NY"
          ],
          [
           "Cayuga Operating Company, LLC",
           "Lansing",
           "NY"
          ],
          [
           "Cayuga Operating Company, LLC",
           "Lansing",
           "NY"
          ],
          [
           "Cayuga Operating Company, LLC",
           "Lansing",
           "NY"
          ],
          [
           "Cayuga Operating Company, LLC",
           "Lansing",
           "NY"
          ],
          [
           "CON ED-EAST 60TH STREET STEAM PLANT",
           "Manhattan",
           "NY"
          ],
          [
           "CON ED-EAST 60TH STREET STEAM PLANT",
           "Manhattan",
           "NY"
          ],
          [
           "CON ED-EAST 60TH STREET STEAM PLANT",
           "Manhattan",
           "NY"
          ],
          [
           "CON ED-EAST 60TH STREET STEAM PLANT",
           "Manhattan",
           "NY"
          ],
          [
           "CON ED-EAST 60TH STREET STEAM PLANT",
           "Manhattan",
           "NY"
          ],
          [
           "CON ED-EAST 60TH STREET STEAM PLANT",
           "Manhattan",
           "NY"
          ],
          [
           "CON ED-EAST 60TH STREET STEAM PLANT",
           "Manhattan",
           "NY"
          ],
          [
           "CON ED-EAST 60TH STREET STEAM PLANT",
           "Manhattan",
           "NY"
          ],
          [
           "CON ED-EAST 60TH STREET STEAM PLANT",
           "Manhattan",
           "NY"
          ],
          [
           "CON ED-EAST 60TH STREET STEAM PLANT",
           "Manhattan",
           "NY"
          ],
          [
           "CON ED-EAST 60TH STREET STEAM PLANT",
           "Manhattan",
           "NY"
          ],
          [
           "CON ED-EAST 60TH STREET STEAM PLANT",
           "Manhattan",
           "NY"
          ],
          [
           "Covanta Niagara",
           "Niagara falls",
           "NY"
          ],
          [
           "Covanta Niagara",
           "Niagara falls",
           "NY"
          ],
          [
           "Covanta Niagara",
           "Niagara falls",
           "NY"
          ],
          [
           "Covanta Niagara",
           "Niagara falls",
           "NY"
          ],
          [
           "Covanta Niagara",
           "Niagara falls",
           "NY"
          ],
          [
           "Covanta Niagara",
           "Niagara falls",
           "NY"
          ],
          [
           "Covanta Niagara",
           "Niagara falls",
           "NY"
          ],
          [
           "Covanta Niagara",
           "Niagara falls",
           "NY"
          ],
          [
           "Covanta Niagara",
           "Niagara falls",
           "NY"
          ],
          [
           "Covanta Niagara",
           "Niagara falls",
           "NY"
          ],
          [
           "Covanta Niagara",
           "Niagara falls",
           "NY"
          ],
          [
           "Covanta Niagara",
           "Niagara falls",
           "NY"
          ],
          [
           "Covanta Niagara",
           "Niagara falls",
           "NY"
          ],
          [
           "Danskammer Generating Station",
           "Newburgh",
           "NY"
          ],
          [
           "Danskammer Generating Station",
           "Newburgh",
           "NY"
          ],
          [
           "Danskammer Generating Station",
           "Newburgh",
           "NY"
          ],
          [
           "E F Barrett",
           "Island park",
           "NY"
          ],
          [
           "E F Barrett",
           "Island park",
           "NY"
          ],
          [
           "E F Barrett",
           "Island park",
           "NY"
          ],
          [
           "E F Barrett",
           "Island park",
           "NY"
          ],
          [
           "E F Barrett",
           "Island park",
           "NY"
          ],
          [
           "E F Barrett",
           "Island park",
           "NY"
          ],
          [
           "E F Barrett",
           "Island park",
           "NY"
          ],
          [
           "E F Barrett",
           "Island park",
           "NY"
          ],
          [
           "E F Barrett",
           "Island park",
           "NY"
          ],
          [
           "E F Barrett",
           "Island park",
           "NY"
          ],
          [
           "E F Barrett",
           "Island park",
           "NY"
          ],
          [
           "E F Barrett",
           "Island park",
           "NY"
          ],
          [
           "East River",
           "New york",
           "NY"
          ],
          [
           "East River",
           "New york",
           "NY"
          ],
          [
           "East River",
           "New york",
           "NY"
          ],
          [
           "East River",
           "New york",
           "NY"
          ],
          [
           "East River",
           "New york",
           "NY"
          ],
          [
           "East River",
           "New york",
           "NY"
          ],
          [
           "East River",
           "New york",
           "NY"
          ],
          [
           "East River",
           "New york",
           "NY"
          ],
          [
           "East River",
           "New york",
           "NY"
          ],
          [
           "East River",
           "New york",
           "NY"
          ],
          [
           "East River",
           "New york",
           "NY"
          ],
          [
           "East River",
           "New york",
           "NY"
          ],
          [
           "Far Rockaway",
           "Far rockaway",
           "NY"
          ],
          [
           "Far Rockaway",
           "Far rockaway",
           "NY"
          ],
          [
           "Far Rockaway",
           "Far rockaway",
           "NY"
          ],
          [
           "Fortistar North Tonawanda Inc",
           "North tonawanda",
           "NY"
          ],
          [
           "Fortistar North Tonawanda Inc",
           "North tonawanda",
           "NY"
          ],
          [
           "Fortistar North Tonawanda Inc",
           "North tonawanda",
           "NY"
          ],
          [
           "Fortistar North Tonawanda Inc",
           "North tonawanda",
           "NY"
          ],
          [
           "Fortistar North Tonawanda Inc",
           "North tonawanda",
           "NY"
          ],
          [
           "Fortistar North Tonawanda Inc",
           "North tonawanda",
           "NY"
          ],
          [
           "Fortistar North Tonawanda Inc",
           "North tonawanda",
           "NY"
          ],
          [
           "Fortistar North Tonawanda Inc",
           "North tonawanda",
           "NY"
          ],
          [
           "Fortistar North Tonawanda Inc",
           "North tonawanda",
           "NY"
          ],
          [
           "Fortistar North Tonawanda Inc",
           "North tonawanda",
           "NY"
          ],
          [
           "Fortistar North Tonawanda Inc",
           "North tonawanda",
           "NY"
          ],
          [
           "Fortistar North Tonawanda Inc",
           "North tonawanda",
           "NY"
          ],
          [
           "Fortistar North Tonawanda Inc",
           "North tonawanda",
           "NY"
          ],
          [
           "Fortistar North Tonawanda Inc",
           "North tonawanda",
           "NY"
          ],
          [
           "Fortistar North Tonawanda Inc",
           "North tonawanda",
           "NY"
          ],
          [
           "Fortistar North Tonawanda Inc",
           "North tonawanda",
           "NY"
          ],
          [
           "Fortistar North Tonawanda Inc",
           "North tonawanda",
           "NY"
          ],
          [
           "Fortistar North Tonawanda Inc",
           "North tonawanda",
           "NY"
          ],
          [
           "Fortistar North Tonawanda Inc",
           "North tonawanda",
           "NY"
          ],
          [
           "Fortistar North Tonawanda Inc",
           "North tonawanda",
           "NY"
          ],
          [
           "Fortistar North Tonawanda Inc",
           "North tonawanda",
           "NY"
          ],
          [
           "Fortistar North Tonawanda Inc",
           "North tonawanda",
           "NY"
          ],
          [
           "Fortistar North Tonawanda Inc",
           "North tonawanda",
           "NY"
          ],
          [
           "Fortistar North Tonawanda Inc",
           "North tonawanda",
           "NY"
          ],
          [
           "Fortistar North Tonawanda Inc",
           "North tonawanda",
           "NY"
          ],
          [
           "Fortistar North Tonawanda Inc",
           "North tonawanda",
           "NY"
          ],
          [
           "Fortistar North Tonawanda Inc",
           "North tonawanda",
           "NY"
          ],
          [
           "Fortistar North Tonawanda Inc",
           "North tonawanda",
           "NY"
          ],
          [
           "Fortistar North Tonawanda Inc",
           "North tonawanda",
           "NY"
          ],
          [
           "Fortistar North Tonawanda Inc",
           "North tonawanda",
           "NY"
          ],
          [
           "Fortistar North Tonawanda Inc",
           "North tonawanda",
           "NY"
          ],
          [
           "Fortistar North Tonawanda Inc",
           "North tonawanda",
           "NY"
          ],
          [
           "Fortistar North Tonawanda Inc",
           "North tonawanda",
           "NY"
          ],
          [
           "Fortistar North Tonawanda Inc",
           "North tonawanda",
           "NY"
          ],
          [
           "Fortistar North Tonawanda Inc",
           "North tonawanda",
           "NY"
          ],
          [
           "Fortistar North Tonawanda Inc",
           "North tonawanda",
           "NY"
          ],
          [
           "Fortistar North Tonawanda Inc",
           "North tonawanda",
           "NY"
          ],
          [
           "Fortistar North Tonawanda Inc",
           "North tonawanda",
           "NY"
          ],
          [
           "Fortistar North Tonawanda Inc",
           "North tonawanda",
           "NY"
          ],
          [
           "Fortistar North Tonawanda Inc",
           "North tonawanda",
           "NY"
          ],
          [
           "Fortistar North Tonawanda Inc",
           "North tonawanda",
           "NY"
          ],
          [
           "Fortistar North Tonawanda Inc",
           "North tonawanda",
           "NY"
          ],
          [
           "Fortistar North Tonawanda Inc",
           "North tonawanda",
           "NY"
          ],
          [
           "Fortistar North Tonawanda Inc",
           "North tonawanda",
           "NY"
          ],
          [
           "Fortistar North Tonawanda Inc",
           "North tonawanda",
           "NY"
          ],
          [
           "Fortistar North Tonawanda Inc",
           "North tonawanda",
           "NY"
          ],
          [
           "Fortistar North Tonawanda Inc",
           "North tonawanda",
           "NY"
          ],
          [
           "Freeport Power Plant No. 2",
           "Freeport",
           "NY"
          ],
          [
           "Freeport Power Plant No. 2",
           "Freeport",
           "NY"
          ],
          [
           "Freeport Power Plant No. 2",
           "Freeport",
           "NY"
          ],
          [
           "Freeport Power Plant No. 2",
           "Freeport",
           "NY"
          ],
          [
           "Freeport Power Plant No. 2",
           "Freeport",
           "NY"
          ],
          [
           "Freeport Power Plant No. 2",
           "Freeport",
           "NY"
          ],
          [
           "Freeport Power Plant No. 2",
           "Freeport",
           "NY"
          ],
          [
           "Freeport Power Plant No. 2",
           "Freeport",
           "NY"
          ],
          [
           "Freeport Power Plant No. 2",
           "Freeport",
           "NY"
          ],
          [
           "Freeport Power Plant No. 2",
           "Freeport",
           "NY"
          ],
          [
           "Freeport Power Plant No. 2",
           "Freeport",
           "NY"
          ],
          [
           "Freeport Power Plant No. 2",
           "Freeport",
           "NY"
          ],
          [
           "Freeport Power Plant No. 2",
           "Freeport",
           "NY"
          ],
          [
           "Freeport Power Plant No. 2",
           "Freeport",
           "NY"
          ],
          [
           "Freeport Power Plant No. 2",
           "Freeport",
           "NY"
          ],
          [
           "Freeport Power Plant No. 2",
           "Freeport",
           "NY"
          ],
          [
           "Freeport Power Plant No. 2",
           "Freeport",
           "NY"
          ],
          [
           "Freeport Power Plant No. 2",
           "Freeport",
           "NY"
          ],
          [
           "Freeport Power Plant No. 2",
           "Freeport",
           "NY"
          ],
          [
           "Freeport Power Plant No. 2",
           "Freeport",
           "NY"
          ],
          [
           "Freeport Power Plant No. 2",
           "Freeport",
           "NY"
          ],
          [
           "Freeport Power Plant No. 2",
           "Freeport",
           "NY"
          ],
          [
           "Glenwood",
           "Glenwood landing",
           "NY"
          ],
          [
           "Glenwood",
           "Glenwood landing",
           "NY"
          ],
          [
           "Glenwood",
           "Glenwood landing",
           "NY"
          ],
          [
           "GMMM Westover (Goudey)",
           "Johnson city",
           "NY"
          ],
          [
           "GMMM Westover (Goudey)",
           "Johnson city",
           "NY"
          ],
          [
           "GMMM Westover (Goudey)",
           "Johnson city",
           "NY"
          ],
          [
           "Gowanus Generating Station",
           "Brooklyn",
           "NY"
          ],
          [
           "Gowanus Generating Station",
           "Brooklyn",
           "NY"
          ],
          [
           "Gowanus Generating Station",
           "Brooklyn",
           "NY"
          ],
          [
           "Gowanus Generating Station",
           "Brooklyn",
           "NY"
          ],
          [
           "Gowanus Generating Station",
           "Brooklyn",
           "NY"
          ],
          [
           "Gowanus Generating Station",
           "Brooklyn",
           "NY"
          ],
          [
           "Gowanus Generating Station",
           "Brooklyn",
           "NY"
          ],
          [
           "Gowanus Generating Station",
           "Brooklyn",
           "NY"
          ],
          [
           "Gowanus Generating Station",
           "Brooklyn",
           "NY"
          ],
          [
           "Gowanus Generating Station",
           "Brooklyn",
           "NY"
          ],
          [
           "Gowanus Generating Station",
           "Brooklyn",
           "NY"
          ],
          [
           "Gowanus Generating Station",
           "Brooklyn",
           "NY"
          ],
          [
           "Gowanus Generating Station",
           "Brooklyn",
           "NY"
          ],
          [
           "Gowanus Generating Station",
           "Brooklyn",
           "NY"
          ],
          [
           "Gowanus Generating Station",
           "Brooklyn",
           "NY"
          ],
          [
           "Gowanus Generating Station",
           "Brooklyn",
           "NY"
          ],
          [
           "Gowanus Generating Station",
           "Brooklyn",
           "NY"
          ],
          [
           "Gowanus Generating Station",
           "Brooklyn",
           "NY"
          ],
          [
           "Gowanus Generating Station",
           "Brooklyn",
           "NY"
          ],
          [
           "Gowanus Generating Station",
           "Brooklyn",
           "NY"
          ],
          [
           "Gowanus Generating Station",
           "Brooklyn",
           "NY"
          ],
          [
           "Gowanus Generating Station",
           "Brooklyn",
           "NY"
          ],
          [
           "Gowanus Generating Station",
           "Brooklyn",
           "NY"
          ],
          [
           "Gowanus Generating Station",
           "Brooklyn",
           "NY"
          ],
          [
           "Gowanus Generating Station",
           "Brooklyn",
           "NY"
          ],
          [
           "Gowanus Generating Station",
           "Brooklyn",
           "NY"
          ],
          [
           "Gowanus Generating Station",
           "Brooklyn",
           "NY"
          ],
          [
           "Gowanus Generating Station",
           "Brooklyn",
           "NY"
          ],
          [
           "Gowanus Generating Station",
           "Brooklyn",
           "NY"
          ],
          [
           "Gowanus Generating Station",
           "Brooklyn",
           "NY"
          ],
          [
           "Gowanus Generating Station",
           "Brooklyn",
           "NY"
          ],
          [
           "Gowanus Generating Station",
           "Brooklyn",
           "NY"
          ],
          [
           "Greenidge Generation LLC",
           "Dresden",
           "NY"
          ],
          [
           "Greenidge Generation LLC",
           "Dresden",
           "NY"
          ],
          [
           "Greenidge Generation LLC",
           "Dresden",
           "NY"
          ],
          [
           "Greenidge Generation LLC",
           "Dresden",
           "NY"
          ],
          [
           "Greenidge Generation LLC",
           "Dresden",
           "NY"
          ],
          [
           "Greenidge Generation LLC",
           "Dresden",
           "NY"
          ],
          [
           "Greenidge Generation LLC",
           "Dresden",
           "NY"
          ],
          [
           "Greenidge Generation LLC",
           "Dresden",
           "NY"
          ],
          [
           "Greenidge Generation LLC",
           "Dresden",
           "NY"
          ],
          [
           "Greenidge Generation LLC",
           "Dresden",
           "NY"
          ],
          [
           "Greenidge Generation LLC",
           "Dresden",
           "NY"
          ],
          [
           "Greenidge Generation LLC",
           "Dresden",
           "NY"
          ],
          [
           "Greenidge Generation LLC",
           "Dresden",
           "NY"
          ],
          [
           "Greenidge Generation LLC",
           "Dresden",
           "NY"
          ],
          [
           "Greenidge Generation LLC",
           "Dresden",
           "NY"
          ],
          [
           "Greenidge Generation LLC",
           "Dresden",
           "NY"
          ],
          [
           "Greenidge Generation LLC",
           "Dresden",
           "NY"
          ],
          [
           "Harlem River Yard",
           "Bronx",
           "NY"
          ],
          [
           "Harlem River Yard",
           "Bronx",
           "NY"
          ],
          [
           "Harlem River Yard",
           "Bronx",
           "NY"
          ],
          [
           "Harlem River Yard",
           "Bronx",
           "NY"
          ],
          [
           "Harlem River Yard",
           "Bronx",
           "NY"
          ],
          [
           "Harlem River Yard",
           "Bronx",
           "NY"
          ],
          [
           "Harlem River Yard",
           "Bronx",
           "NY"
          ],
          [
           "Harlem River Yard",
           "Bronx",
           "NY"
          ],
          [
           "Harlem River Yard",
           "Bronx",
           "NY"
          ],
          [
           "Harlem River Yard",
           "Bronx",
           "NY"
          ],
          [
           "Harlem River Yard",
           "Bronx",
           "NY"
          ],
          [
           "Harlem River Yard",
           "Bronx",
           "NY"
          ],
          [
           "Harlem River Yard",
           "Bronx",
           "NY"
          ],
          [
           "Harlem River Yard",
           "Bronx",
           "NY"
          ],
          [
           "Harlem River Yard",
           "Bronx",
           "NY"
          ],
          [
           "Harlem River Yard",
           "Bronx",
           "NY"
          ],
          [
           "Harlem River Yard",
           "Bronx",
           "NY"
          ],
          [
           "Harlem River Yard",
           "Bronx",
           "NY"
          ],
          [
           "Harlem River Yard",
           "Bronx",
           "NY"
          ],
          [
           "Harlem River Yard",
           "Bronx",
           "NY"
          ],
          [
           "Harlem River Yard",
           "Bronx",
           "NY"
          ],
          [
           "Harlem River Yard",
           "Bronx",
           "NY"
          ],
          [
           "Harlem River Yard",
           "Bronx",
           "NY"
          ],
          [
           "Harlem River Yard",
           "Bronx",
           "NY"
          ],
          [
           "Hell Gate",
           "Bronx",
           "NY"
          ],
          [
           "Hell Gate",
           "Bronx",
           "NY"
          ],
          [
           "Hell Gate",
           "Bronx",
           "NY"
          ],
          [
           "Hell Gate",
           "Bronx",
           "NY"
          ],
          [
           "Hell Gate",
           "Bronx",
           "NY"
          ],
          [
           "Hell Gate",
           "Bronx",
           "NY"
          ],
          [
           "Hell Gate",
           "Bronx",
           "NY"
          ],
          [
           "Hell Gate",
           "Bronx",
           "NY"
          ],
          [
           "Hell Gate",
           "Bronx",
           "NY"
          ],
          [
           "Hell Gate",
           "Bronx",
           "NY"
          ],
          [
           "Hell Gate",
           "Bronx",
           "NY"
          ],
          [
           "Hell Gate",
           "Bronx",
           "NY"
          ],
          [
           "Hell Gate",
           "Bronx",
           "NY"
          ],
          [
           "Hell Gate",
           "Bronx",
           "NY"
          ],
          [
           "Hell Gate",
           "Bronx",
           "NY"
          ],
          [
           "Hell Gate",
           "Bronx",
           "NY"
          ],
          [
           "Hell Gate",
           "Bronx",
           "NY"
          ],
          [
           "Hell Gate",
           "Bronx",
           "NY"
          ],
          [
           "Hell Gate",
           "Bronx",
           "NY"
          ],
          [
           "Hell Gate",
           "Bronx",
           "NY"
          ],
          [
           "Hell Gate",
           "Bronx",
           "NY"
          ],
          [
           "Hell Gate",
           "Bronx",
           "NY"
          ],
          [
           "Hell Gate",
           "Bronx",
           "NY"
          ],
          [
           "Hell Gate",
           "Bronx",
           "NY"
          ],
          [
           "Holtsville Facility",
           "Holtsville",
           "NY"
          ],
          [
           "Holtsville Facility",
           "Holtsville",
           "NY"
          ],
          [
           "Holtsville Facility",
           "Holtsville",
           "NY"
          ],
          [
           "Holtsville Facility",
           "Holtsville",
           "NY"
          ],
          [
           "Holtsville Facility",
           "Holtsville",
           "NY"
          ],
          [
           "Holtsville Facility",
           "Holtsville",
           "NY"
          ],
          [
           "Holtsville Facility",
           "Holtsville",
           "NY"
          ],
          [
           "Holtsville Facility",
           "Holtsville",
           "NY"
          ],
          [
           "Holtsville Facility",
           "Holtsville",
           "NY"
          ],
          [
           "Holtsville Facility",
           "Holtsville",
           "NY"
          ],
          [
           "Holtsville Facility",
           "Holtsville",
           "NY"
          ],
          [
           "Holtsville Facility",
           "Holtsville",
           "NY"
          ],
          [
           "Hudson Avenue",
           "New york",
           "NY"
          ],
          [
           "Hudson Avenue",
           "New york",
           "NY"
          ],
          [
           "Hudson Avenue",
           "New york",
           "NY"
          ],
          [
           "Hudson Avenue",
           "New york",
           "NY"
          ],
          [
           "Hudson Avenue",
           "New york",
           "NY"
          ],
          [
           "Huntley Power",
           "Tonawanda",
           "NY"
          ],
          [
           "Huntley Power",
           "Tonawanda",
           "NY"
          ],
          [
           "Huntley Power",
           "Tonawanda",
           "NY"
          ],
          [
           "Huntley Power",
           "Tonawanda",
           "NY"
          ],
          [
           "Huntley Power",
           "Tonawanda",
           "NY"
          ],
          [
           "Huntley Power",
           "Tonawanda",
           "NY"
          ],
          [
           "Huntley Power",
           "Tonawanda",
           "NY"
          ],
          [
           "Indeck-Corinth Energy Center",
           "Corinth",
           "NY"
          ],
          [
           "Indeck-Corinth Energy Center",
           "Corinth",
           "NY"
          ],
          [
           "Indeck-Corinth Energy Center",
           "Corinth",
           "NY"
          ],
          [
           "Indeck-Corinth Energy Center",
           "Corinth",
           "NY"
          ],
          [
           "Indeck-Corinth Energy Center",
           "Corinth",
           "NY"
          ],
          [
           "Indeck-Corinth Energy Center",
           "Corinth",
           "NY"
          ],
          [
           "Indeck-Corinth Energy Center",
           "Corinth",
           "NY"
          ],
          [
           "Indeck-Corinth Energy Center",
           "Corinth",
           "NY"
          ],
          [
           "Indeck-Corinth Energy Center",
           "Corinth",
           "NY"
          ],
          [
           "Indeck-Corinth Energy Center",
           "Corinth",
           "NY"
          ],
          [
           "Indeck-Corinth Energy Center",
           "Corinth",
           "NY"
          ],
          [
           "Indeck-Corinth Energy Center",
           "Corinth",
           "NY"
          ],
          [
           "Indeck-Corinth Energy Center",
           "Corinth",
           "NY"
          ],
          [
           "Indeck-Corinth Energy Center",
           "Corinth",
           "NY"
          ],
          [
           "Indeck-Corinth Energy Center",
           "Corinth",
           "NY"
          ],
          [
           "Indeck-Corinth Energy Center",
           "Corinth",
           "NY"
          ],
          [
           "Indeck-Corinth Energy Center",
           "Corinth",
           "NY"
          ],
          [
           "Indeck-Corinth Energy Center",
           "Corinth",
           "NY"
          ],
          [
           "Indeck-Corinth Energy Center",
           "Corinth",
           "NY"
          ],
          [
           "Indeck-Olean Energy Center",
           "Olean",
           "NY"
          ],
          [
           "Indeck-Olean Energy Center",
           "Olean",
           "NY"
          ],
          [
           "Indeck-Olean Energy Center",
           "Olean",
           "NY"
          ],
          [
           "Indeck-Olean Energy Center",
           "Olean",
           "NY"
          ],
          [
           "Indeck-Olean Energy Center",
           "Olean",
           "NY"
          ],
          [
           "Indeck-Olean Energy Center",
           "Olean",
           "NY"
          ],
          [
           "Indeck-Olean Energy Center",
           "Olean",
           "NY"
          ],
          [
           "Indeck-Olean Energy Center",
           "Olean",
           "NY"
          ],
          [
           "Indeck-Olean Energy Center",
           "Olean",
           "NY"
          ],
          [
           "Indeck-Olean Energy Center",
           "Olean",
           "NY"
          ],
          [
           "Indeck-Olean Energy Center",
           "Olean",
           "NY"
          ],
          [
           "Indeck-Olean Energy Center",
           "Olean",
           "NY"
          ],
          [
           "Indeck-Silver Springs Energy Center",
           "Silver springs",
           "NY"
          ],
          [
           "Indeck-Silver Springs Energy Center",
           "Silver springs",
           "NY"
          ],
          [
           "Indeck-Silver Springs Energy Center",
           "Silver springs",
           "NY"
          ],
          [
           "Indeck-Silver Springs Energy Center",
           "Silver springs",
           "NY"
          ],
          [
           "Indeck-Silver Springs Energy Center",
           "Silver springs",
           "NY"
          ],
          [
           "Indeck-Silver Springs Energy Center",
           "Silver springs",
           "NY"
          ],
          [
           "Indeck-Silver Springs Energy Center",
           "Silver springs",
           "NY"
          ],
          [
           "Indeck-Silver Springs Energy Center",
           "Silver springs",
           "NY"
          ],
          [
           "Indeck-Silver Springs Energy Center",
           "Silver springs",
           "NY"
          ],
          [
           "Indeck-Silver Springs Energy Center",
           "Silver springs",
           "NY"
          ],
          [
           "Indeck-Silver Springs Energy Center",
           "Silver springs",
           "NY"
          ],
          [
           "Indeck-Silver Springs Energy Center",
           "Silver springs",
           "NY"
          ],
          [
           "Indeck-Silver Springs Energy Center",
           "Silver springs",
           "NY"
          ],
          [
           "Indeck-Silver Springs Energy Center",
           "Silver springs",
           "NY"
          ],
          [
           "Indeck-Silver Springs Energy Center",
           "Silver springs",
           "NY"
          ],
          [
           "Indeck-Silver Springs Energy Center",
           "Silver springs",
           "NY"
          ],
          [
           "Indeck-Silver Springs Energy Center",
           "Silver springs",
           "NY"
          ],
          [
           "Indeck-Silver Springs Energy Center",
           "Silver springs",
           "NY"
          ],
          [
           "Indeck-Silver Springs Energy Center",
           "Silver springs",
           "NY"
          ],
          [
           "Indeck-Yerkes Energy Center",
           "Tonawanda",
           "NY"
          ],
          [
           "Indeck-Yerkes Energy Center",
           "Tonawanda",
           "NY"
          ],
          [
           "Indeck-Yerkes Energy Center",
           "Tonawanda",
           "NY"
          ],
          [
           "Indeck-Yerkes Energy Center",
           "Tonawanda",
           "NY"
          ],
          [
           "Indeck-Yerkes Energy Center",
           "Tonawanda",
           "NY"
          ],
          [
           "Indeck-Yerkes Energy Center",
           "Tonawanda",
           "NY"
          ],
          [
           "Indeck-Yerkes Energy Center",
           "Tonawanda",
           "NY"
          ],
          [
           "Indeck-Yerkes Energy Center",
           "Tonawanda",
           "NY"
          ],
          [
           "Indeck-Yerkes Energy Center",
           "Tonawanda",
           "NY"
          ],
          [
           "Indeck-Yerkes Energy Center",
           "Tonawanda",
           "NY"
          ],
          [
           "Indeck-Yerkes Energy Center",
           "Tonawanda",
           "NY"
          ],
          [
           "Indeck-Yerkes Energy Center",
           "Tonawanda",
           "NY"
          ],
          [
           "Indeck-Yerkes Energy Center",
           "Tonawanda",
           "NY"
          ],
          [
           "Indeck-Yerkes Energy Center",
           "Tonawanda",
           "NY"
          ],
          [
           "Indeck-Yerkes Energy Center",
           "Tonawanda",
           "NY"
          ],
          [
           "Indeck-Yerkes Energy Center",
           "Tonawanda",
           "NY"
          ],
          [
           "Indeck-Yerkes Energy Center",
           "Tonawanda",
           "NY"
          ],
          [
           "Indeck-Yerkes Energy Center",
           "Tonawanda",
           "NY"
          ],
          [
           "Indeck-Yerkes Energy Center",
           "Tonawanda",
           "NY"
          ],
          [
           "Indeck-Yerkes Energy Center",
           "Tonawanda",
           "NY"
          ],
          [
           "Indeck-Yerkes Energy Center",
           "Tonawanda",
           "NY"
          ],
          [
           "Indeck-Yerkes Energy Center",
           "Tonawanda",
           "NY"
          ],
          [
           "Indeck-Yerkes Energy Center",
           "Tonawanda",
           "NY"
          ],
          [
           "Indeck-Yerkes Energy Center",
           "Tonawanda",
           "NY"
          ],
          [
           "Independence",
           "Oswego",
           "NY"
          ],
          [
           "Independence",
           "Oswego",
           "NY"
          ],
          [
           "Independence",
           "Oswego",
           "NY"
          ],
          [
           "Independence",
           "Oswego",
           "NY"
          ],
          [
           "Independence",
           "Oswego",
           "NY"
          ],
          [
           "Independence",
           "Oswego",
           "NY"
          ],
          [
           "Independence",
           "Oswego",
           "NY"
          ],
          [
           "Independence",
           "Oswego",
           "NY"
          ],
          [
           "Independence",
           "Oswego",
           "NY"
          ],
          [
           "Independence",
           "Oswego",
           "NY"
          ],
          [
           "Independence",
           "Oswego",
           "NY"
          ],
          [
           "Independence",
           "Oswego",
           "NY"
          ],
          [
           "Independence",
           "Oswego",
           "NY"
          ],
          [
           "Independence",
           "Oswego",
           "NY"
          ],
          [
           "Independence",
           "Oswego",
           "NY"
          ],
          [
           "Independence",
           "Oswego",
           "NY"
          ],
          [
           "Independence",
           "Oswego",
           "NY"
          ],
          [
           "Independence",
           "Oswego",
           "NY"
          ],
          [
           "Independence",
           "Oswego",
           "NY"
          ],
          [
           "Independence",
           "Oswego",
           "NY"
          ],
          [
           "Independence",
           "Oswego",
           "NY"
          ],
          [
           "Independence",
           "Oswego",
           "NY"
          ],
          [
           "Independence",
           "Oswego",
           "NY"
          ],
          [
           "Independence",
           "Oswego",
           "NY"
          ],
          [
           "KIAC Cogeneration",
           "Jamaica",
           "NY"
          ],
          [
           "KIAC Cogeneration",
           "Jamaica",
           "NY"
          ],
          [
           "KIAC Cogeneration",
           "Jamaica",
           "NY"
          ],
          [
           "KIAC Cogeneration",
           "Jamaica",
           "NY"
          ],
          [
           "KIAC Cogeneration",
           "Jamaica",
           "NY"
          ],
          [
           "Lockport",
           "Lockport",
           "NY"
          ],
          [
           "Lockport",
           "Lockport",
           "NY"
          ],
          [
           "Lockport",
           "Lockport",
           "NY"
          ],
          [
           "Lockport",
           "Lockport",
           "NY"
          ],
          [
           "Lockport",
           "Lockport",
           "NY"
          ],
          [
           "Lockport",
           "Lockport",
           "NY"
          ],
          [
           "Lockport",
           "Lockport",
           "NY"
          ],
          [
           "Lockport",
           "Lockport",
           "NY"
          ],
          [
           "Lockport",
           "Lockport",
           "NY"
          ],
          [
           "Lockport",
           "Lockport",
           "NY"
          ],
          [
           "Lockport",
           "Lockport",
           "NY"
          ],
          [
           "Lockport",
           "Lockport",
           "NY"
          ],
          [
           "Lockport",
           "Lockport",
           "NY"
          ],
          [
           "Lockport",
           "Lockport",
           "NY"
          ],
          [
           "Lockport",
           "Lockport",
           "NY"
          ],
          [
           "Lockport",
           "Lockport",
           "NY"
          ],
          [
           "Lockport",
           "Lockport",
           "NY"
          ],
          [
           "Lockport",
           "Lockport",
           "NY"
          ],
          [
           "Lockport",
           "Lockport",
           "NY"
          ],
          [
           "Lockport",
           "Lockport",
           "NY"
          ],
          [
           "Lockport",
           "Lockport",
           "NY"
          ],
          [
           "Lockport",
           "Lockport",
           "NY"
          ],
          [
           "Lockport",
           "Lockport",
           "NY"
          ],
          [
           "Lockport",
           "Lockport",
           "NY"
          ],
          [
           "Massena Energy Facility",
           "Massena",
           "NY"
          ],
          [
           "Massena Energy Facility",
           "Massena",
           "NY"
          ],
          [
           "Massena Energy Facility",
           "Massena",
           "NY"
          ],
          [
           "Massena Energy Facility",
           "Massena",
           "NY"
          ],
          [
           "Massena Energy Facility",
           "Massena",
           "NY"
          ],
          [
           "Massena Energy Facility",
           "Massena",
           "NY"
          ],
          [
           "Massena Energy Facility",
           "Massena",
           "NY"
          ],
          [
           "Massena Energy Facility",
           "Massena",
           "NY"
          ],
          [
           "Massena Energy Facility",
           "Massena",
           "NY"
          ],
          [
           "Massena Energy Facility",
           "Massena",
           "NY"
          ],
          [
           "Massena Energy Facility",
           "Massena",
           "NY"
          ],
          [
           "Massena Energy Facility",
           "Massena",
           "NY"
          ],
          [
           "Narrows Generating Station",
           "Brooklyn",
           "NY"
          ],
          [
           "Narrows Generating Station",
           "Brooklyn",
           "NY"
          ],
          [
           "Narrows Generating Station",
           "Brooklyn",
           "NY"
          ],
          [
           "Narrows Generating Station",
           "Brooklyn",
           "NY"
          ],
          [
           "Narrows Generating Station",
           "Brooklyn",
           "NY"
          ],
          [
           "Narrows Generating Station",
           "Brooklyn",
           "NY"
          ],
          [
           "Narrows Generating Station",
           "Brooklyn",
           "NY"
          ],
          [
           "Narrows Generating Station",
           "Brooklyn",
           "NY"
          ],
          [
           "Narrows Generating Station",
           "Brooklyn",
           "NY"
          ],
          [
           "Narrows Generating Station",
           "Brooklyn",
           "NY"
          ],
          [
           "Narrows Generating Station",
           "Brooklyn",
           "NY"
          ],
          [
           "Narrows Generating Station",
           "Brooklyn",
           "NY"
          ],
          [
           "Narrows Generating Station",
           "Brooklyn",
           "NY"
          ],
          [
           "Narrows Generating Station",
           "Brooklyn",
           "NY"
          ],
          [
           "Narrows Generating Station",
           "Brooklyn",
           "NY"
          ],
          [
           "Narrows Generating Station",
           "Brooklyn",
           "NY"
          ],
          [
           "Narrows Generating Station",
           "Brooklyn",
           "NY"
          ],
          [
           "Narrows Generating Station",
           "Brooklyn",
           "NY"
          ],
          [
           "Narrows Generating Station",
           "Brooklyn",
           "NY"
          ],
          [
           "Narrows Generating Station",
           "Brooklyn",
           "NY"
          ],
          [
           "Narrows Generating Station",
           "Brooklyn",
           "NY"
          ],
          [
           "Narrows Generating Station",
           "Brooklyn",
           "NY"
          ],
          [
           "Narrows Generating Station",
           "Brooklyn",
           "NY"
          ],
          [
           "Narrows Generating Station",
           "Brooklyn",
           "NY"
          ],
          [
           "Narrows Generating Station",
           "Brooklyn",
           "NY"
          ],
          [
           "Narrows Generating Station",
           "Brooklyn",
           "NY"
          ],
          [
           "Narrows Generating Station",
           "Brooklyn",
           "NY"
          ],
          [
           "Narrows Generating Station",
           "Brooklyn",
           "NY"
          ],
          [
           "Narrows Generating Station",
           "Brooklyn",
           "NY"
          ],
          [
           "Narrows Generating Station",
           "Brooklyn",
           "NY"
          ],
          [
           "Narrows Generating Station",
           "Brooklyn",
           "NY"
          ],
          [
           "Narrows Generating Station",
           "Brooklyn",
           "NY"
          ],
          [
           "Narrows Generating Station",
           "Brooklyn",
           "NY"
          ],
          [
           "Narrows Generating Station",
           "Brooklyn",
           "NY"
          ],
          [
           "Narrows Generating Station",
           "Brooklyn",
           "NY"
          ],
          [
           "Narrows Generating Station",
           "Brooklyn",
           "NY"
          ],
          [
           "Narrows Generating Station",
           "Brooklyn",
           "NY"
          ],
          [
           "Narrows Generating Station",
           "Brooklyn",
           "NY"
          ],
          [
           "Narrows Generating Station",
           "Brooklyn",
           "NY"
          ],
          [
           "Narrows Generating Station",
           "Brooklyn",
           "NY"
          ],
          [
           "Narrows Generating Station",
           "Brooklyn",
           "NY"
          ],
          [
           "Narrows Generating Station",
           "Brooklyn",
           "NY"
          ],
          [
           "Narrows Generating Station",
           "Brooklyn",
           "NY"
          ],
          [
           "Narrows Generating Station",
           "Brooklyn",
           "NY"
          ],
          [
           "Nassau Energy LLC",
           "Garden city",
           "NY"
          ],
          [
           "Nassau Energy LLC",
           "Garden city",
           "NY"
          ],
          [
           "Nassau Energy LLC",
           "Garden city",
           "NY"
          ],
          [
           "Nassau Energy LLC",
           "Garden city",
           "NY"
          ],
          [
           "Nassau Energy LLC",
           "Garden city",
           "NY"
          ],
          [
           "Nassau Energy LLC",
           "Garden city",
           "NY"
          ],
          [
           "Nassau Energy LLC",
           "Garden city",
           "NY"
          ],
          [
           "Nassau Energy LLC",
           "Garden city",
           "NY"
          ],
          [
           "Nassau Energy LLC",
           "Garden city",
           "NY"
          ],
          [
           "Nassau Energy LLC",
           "Garden city",
           "NY"
          ],
          [
           "Nassau Energy LLC",
           "Garden city",
           "NY"
          ],
          [
           "Nassau Energy LLC",
           "Garden city",
           "NY"
          ],
          [
           "Niagara Generation, LLC",
           "Niagara falls",
           "NY"
          ],
          [
           "Niagara Generation, LLC",
           "Niagara falls",
           "NY"
          ],
          [
           "North 1st",
           "Brooklyn",
           "NY"
          ],
          [
           "North 1st",
           "Brooklyn",
           "NY"
          ],
          [
           "North 1st",
           "Brooklyn",
           "NY"
          ],
          [
           "North 1st",
           "Brooklyn",
           "NY"
          ],
          [
           "North 1st",
           "Brooklyn",
           "NY"
          ],
          [
           "North 1st",
           "Brooklyn",
           "NY"
          ],
          [
           "North 1st",
           "Brooklyn",
           "NY"
          ],
          [
           "North 1st",
           "Brooklyn",
           "NY"
          ],
          [
           "North 1st",
           "Brooklyn",
           "NY"
          ],
          [
           "North 1st",
           "Brooklyn",
           "NY"
          ],
          [
           "North 1st",
           "Brooklyn",
           "NY"
          ],
          [
           "North 1st",
           "Brooklyn",
           "NY"
          ],
          [
           "Northport",
           "Northport",
           "NY"
          ],
          [
           "Northport",
           "Northport",
           "NY"
          ],
          [
           "Northport",
           "Northport",
           "NY"
          ],
          [
           "Northport",
           "Northport",
           "NY"
          ],
          [
           "Northport",
           "Northport",
           "NY"
          ],
          [
           "Northport",
           "Northport",
           "NY"
          ],
          [
           "Northport",
           "Northport",
           "NY"
          ],
          [
           "Northport",
           "Northport",
           "NY"
          ],
          [
           "Northport",
           "Northport",
           "NY"
          ],
          [
           "Northport",
           "Northport",
           "NY"
          ],
          [
           "NRG Dunkirk Power",
           "Dunkirk",
           "NY"
          ],
          [
           "NRG Dunkirk Power",
           "Dunkirk",
           "NY"
          ],
          [
           "NRG Dunkirk Power",
           "Dunkirk",
           "NY"
          ],
          [
           "NRG Dunkirk Power",
           "Dunkirk",
           "NY"
          ],
          [
           "NRG Dunkirk Power",
           "Dunkirk",
           "NY"
          ],
          [
           "NRG Dunkirk Power",
           "Dunkirk",
           "NY"
          ],
          [
           "NRG Dunkirk Power",
           "Dunkirk",
           "NY"
          ],
          [
           "NRG Dunkirk Power",
           "Dunkirk",
           "NY"
          ],
          [
           "Oswego Harbor Power",
           "Oswego",
           "NY"
          ],
          [
           "Oswego Harbor Power",
           "Oswego",
           "NY"
          ],
          [
           "Oswego Harbor Power",
           "Oswego",
           "NY"
          ],
          [
           "Oswego Harbor Power",
           "Oswego",
           "NY"
          ],
          [
           "Oswego Harbor Power",
           "Oswego",
           "NY"
          ],
          [
           "Oswego Harbor Power",
           "Oswego",
           "NY"
          ],
          [
           "Oswego Harbor Power",
           "Oswego",
           "NY"
          ],
          [
           "Oswego Harbor Power",
           "Oswego",
           "NY"
          ],
          [
           "Oswego Harbor Power",
           "Oswego",
           "NY"
          ],
          [
           "Oswego Harbor Power",
           "Oswego",
           "NY"
          ],
          [
           "Oswego Harbor Power",
           "Oswego",
           "NY"
          ],
          [
           "Oswego Harbor Power",
           "Oswego",
           "NY"
          ],
          [
           "Oswego Harbor Power",
           "Oswego",
           "NY"
          ],
          [
           "Oswego Harbor Power",
           "Oswego",
           "NY"
          ],
          [
           "Oswego Harbor Power",
           "Oswego",
           "NY"
          ],
          [
           "Oswego Harbor Power",
           "Oswego",
           "NY"
          ],
          [
           "Oswego Harbor Power",
           "Oswego",
           "NY"
          ],
          [
           "Oswego Harbor Power",
           "Oswego",
           "NY"
          ],
          [
           "Oswego Harbor Power",
           "Oswego",
           "NY"
          ],
          [
           "Oswego Harbor Power",
           "Oswego",
           "NY"
          ],
          [
           "Oswego Harbor Power",
           "Oswego",
           "NY"
          ],
          [
           "Oswego Harbor Power",
           "Oswego",
           "NY"
          ],
          [
           "Oswego Harbor Power",
           "Oswego",
           "NY"
          ],
          [
           "Oswego Harbor Power",
           "Oswego",
           "NY"
          ],
          [
           "Oswego Harbor Power",
           "Oswego",
           "NY"
          ],
          [
           "Oswego Harbor Power",
           "Oswego",
           "NY"
          ],
          [
           "Oswego Harbor Power",
           "Oswego",
           "NY"
          ],
          [
           "Oswego Harbor Power",
           "Oswego",
           "NY"
          ],
          [
           "Oswego Harbor Power",
           "Oswego",
           "NY"
          ],
          [
           "Oswego Harbor Power",
           "Oswego",
           "NY"
          ],
          [
           "Oswego Harbor Power",
           "Oswego",
           "NY"
          ],
          [
           "Oswego Harbor Power",
           "Oswego",
           "NY"
          ],
          [
           "Oswego Harbor Power",
           "Oswego",
           "NY"
          ],
          [
           "Oswego Harbor Power",
           "Oswego",
           "NY"
          ],
          [
           "Oswego Harbor Power",
           "Oswego",
           "NY"
          ],
          [
           "Oswego Harbor Power",
           "Oswego",
           "NY"
          ],
          [
           "Port Jefferson Energy Center",
           "Port jefferson",
           "NY"
          ],
          [
           "Port Jefferson Energy Center",
           "Port jefferson",
           "NY"
          ],
          [
           "Port Jefferson Energy Center",
           "Port jefferson",
           "NY"
          ],
          [
           "Port Jefferson Energy Center",
           "Port jefferson",
           "NY"
          ],
          [
           "Port Jefferson Energy Center",
           "Port jefferson",
           "NY"
          ],
          [
           "Port Jefferson Energy Center",
           "Port jefferson",
           "NY"
          ],
          [
           "Port Jefferson Energy Center",
           "Port jefferson",
           "NY"
          ],
          [
           "Port Jefferson Energy Center",
           "Port jefferson",
           "NY"
          ],
          [
           "Port Jefferson Energy Center",
           "Port jefferson",
           "NY"
          ],
          [
           "Port Jefferson Energy Center",
           "Port jefferson",
           "NY"
          ],
          [
           "Port Jefferson Energy Center",
           "Port jefferson",
           "NY"
          ],
          [
           "Port Jefferson Energy Center",
           "Port jefferson",
           "NY"
          ],
          [
           "Pouch Terminal",
           "Staten island",
           "NY"
          ],
          [
           "Pouch Terminal",
           "Staten island",
           "NY"
          ],
          [
           "Pouch Terminal",
           "Staten island",
           "NY"
          ],
          [
           "Pouch Terminal",
           "Staten island",
           "NY"
          ],
          [
           "Pouch Terminal",
           "Staten island",
           "NY"
          ],
          [
           "Pouch Terminal",
           "Staten island",
           "NY"
          ],
          [
           "Pouch Terminal",
           "Staten island",
           "NY"
          ],
          [
           "Pouch Terminal",
           "Staten island",
           "NY"
          ],
          [
           "Pouch Terminal",
           "Staten island",
           "NY"
          ],
          [
           "Pouch Terminal",
           "Staten island",
           "NY"
          ],
          [
           "Pouch Terminal",
           "Staten island",
           "NY"
          ],
          [
           "Pouch Terminal",
           "Staten island",
           "NY"
          ],
          [
           "Ravenswood Generating Station",
           "Long island city",
           "NY"
          ],
          [
           "Ravenswood Generating Station",
           "Long island city",
           "NY"
          ],
          [
           "Ravenswood Generating Station",
           "Long island city",
           "NY"
          ],
          [
           "Ravenswood Generating Station",
           "Long island city",
           "NY"
          ],
          [
           "Ravenswood Generating Station",
           "Long island city",
           "NY"
          ],
          [
           "Ravenswood Generating Station",
           "Long island city",
           "NY"
          ],
          [
           "Ravenswood Generating Station",
           "Long island city",
           "NY"
          ],
          [
           "Ravenswood Generating Station",
           "Long island city",
           "NY"
          ],
          [
           "Ravenswood Generating Station",
           "Long island city",
           "NY"
          ],
          [
           "Ravenswood Generating Station",
           "Long island city",
           "NY"
          ],
          [
           "Ravenswood Generating Station",
           "Long island city",
           "NY"
          ],
          [
           "Ravenswood Generating Station",
           "Long island city",
           "NY"
          ],
          [
           "Ravenswood Generating Station",
           "Long island city",
           "NY"
          ],
          [
           "Ravenswood Generating Station",
           "Long island city",
           "NY"
          ],
          [
           "Ravenswood Generating Station",
           "Long island city",
           "NY"
          ],
          [
           "Ravenswood Generating Station",
           "Long island city",
           "NY"
          ],
          [
           "Ravenswood Generating Station",
           "Long island city",
           "NY"
          ],
          [
           "Ravenswood Generating Station",
           "Long island city",
           "NY"
          ],
          [
           "Ravenswood Generating Station",
           "Long island city",
           "NY"
          ],
          [
           "Ravenswood Generating Station",
           "Long island city",
           "NY"
          ],
          [
           "Ravenswood Generating Station",
           "Long island city",
           "NY"
          ],
          [
           "Ravenswood Generating Station",
           "Long island city",
           "NY"
          ],
          [
           "Ravenswood Generating Station",
           "Long island city",
           "NY"
          ],
          [
           "Ravenswood Generating Station",
           "Long island city",
           "NY"
          ],
          [
           "Ravenswood Generating Station",
           "Long island city",
           "NY"
          ],
          [
           "Ravenswood Generating Station",
           "Long island city",
           "NY"
          ],
          [
           "Ravenswood Generating Station",
           "Long island city",
           "NY"
          ],
          [
           "Ravenswood Generating Station",
           "Long island city",
           "NY"
          ],
          [
           "Ravenswood Generating Station",
           "Long island city",
           "NY"
          ],
          [
           "Ravenswood Generating Station",
           "Long island city",
           "NY"
          ],
          [
           "Ravenswood Generating Station",
           "Long island city",
           "NY"
          ],
          [
           "Ravenswood Generating Station",
           "Long island city",
           "NY"
          ],
          [
           "Ravenswood Generating Station",
           "Long island city",
           "NY"
          ],
          [
           "Ravenswood Generating Station",
           "Long island city",
           "NY"
          ],
          [
           "Ravenswood Generating Station",
           "Long island city",
           "NY"
          ],
          [
           "Ravenswood Generating Station",
           "Long island city",
           "NY"
          ],
          [
           "Ravenswood Generating Station",
           "Long island city",
           "NY"
          ],
          [
           "Ravenswood Generating Station",
           "Long island city",
           "NY"
          ],
          [
           "Ravenswood Generating Station",
           "Long island city",
           "NY"
          ],
          [
           "Ravenswood Generating Station",
           "Long island city",
           "NY"
          ],
          [
           "Ravenswood Generating Station",
           "Long island city",
           "NY"
          ],
          [
           "Ravenswood Generating Station",
           "Long island city",
           "NY"
          ],
          [
           "Ravenswood Generating Station",
           "Long island city",
           "NY"
          ],
          [
           "Ravenswood Generating Station",
           "Long island city",
           "NY"
          ],
          [
           "Ravenswood Generating Station",
           "Long island city",
           "NY"
          ],
          [
           "Ravenswood Generating Station",
           "Long island city",
           "NY"
          ],
          [
           "Ravenswood Generating Station",
           "Long island city",
           "NY"
          ],
          [
           "Ravenswood Generating Station",
           "Long island city",
           "NY"
          ],
          [
           "Ravenswood Generating Station",
           "Long island city",
           "NY"
          ],
          [
           "Ravenswood Generating Station",
           "Long island city",
           "NY"
          ],
          [
           "Ravenswood Generating Station",
           "Long island city",
           "NY"
          ],
          [
           "Ravenswood Generating Station",
           "Long island city",
           "NY"
          ],
          [
           "Ravenswood Generating Station",
           "Long island city",
           "NY"
          ],
          [
           "Ravenswood Generating Station",
           "Long island city",
           "NY"
          ],
          [
           "Ravenswood Generating Station",
           "Long island city",
           "NY"
          ],
          [
           "Ravenswood Generating Station",
           "Long island city",
           "NY"
          ],
          [
           "Ravenswood Generating Station",
           "Long island city",
           "NY"
          ],
          [
           "Ravenswood Generating Station",
           "Long island city",
           "NY"
          ],
          [
           "Ravenswood Generating Station",
           "Long island city",
           "NY"
          ],
          [
           "Ravenswood Generating Station",
           "Long island city",
           "NY"
          ],
          [
           "Ravenswood Generating Station",
           "Long island city",
           "NY"
          ],
          [
           "ReEnergy Black River LLC",
           "Fort drum",
           "NY"
          ],
          [
           "ReEnergy Black River LLC",
           "Fort drum",
           "NY"
          ],
          [
           "ReEnergy Black River LLC",
           "Fort drum",
           "NY"
          ],
          [
           "ReEnergy Black River LLC",
           "Fort drum",
           "NY"
          ],
          [
           "ReEnergy Black River LLC",
           "Fort drum",
           "NY"
          ],
          [
           "ReEnergy Black River LLC",
           "Fort drum",
           "NY"
          ],
          [
           "ReEnergy Black River LLC",
           "Fort drum",
           "NY"
          ],
          [
           "ReEnergy Black River LLC",
           "Fort drum",
           "NY"
          ],
          [
           "ReEnergy Black River LLC",
           "Fort drum",
           "NY"
          ],
          [
           "ReEnergy Black River LLC",
           "Fort drum",
           "NY"
          ],
          [
           "ReEnergy Black River LLC",
           "Fort drum",
           "NY"
          ],
          [
           "ReEnergy Black River LLC",
           "Fort drum",
           "NY"
          ],
          [
           "ReEnergy Black River LLC",
           "Fort drum",
           "NY"
          ],
          [
           "ReEnergy Black River LLC",
           "Fort drum",
           "NY"
          ],
          [
           "ReEnergy Black River LLC",
           "Fort drum",
           "NY"
          ],
          [
           "ReEnergy Black River LLC",
           "Fort drum",
           "NY"
          ],
          [
           "ReEnergy Black River LLC",
           "Fort drum",
           "NY"
          ],
          [
           "ReEnergy Black River LLC",
           "Fort drum",
           "NY"
          ],
          [
           "ReEnergy Black River LLC",
           "Fort drum",
           "NY"
          ],
          [
           "ReEnergy Black River LLC",
           "Fort drum",
           "NY"
          ],
          [
           "Rensselaer Cogen",
           "Rensselaer",
           "NY"
          ],
          [
           "Rensselaer Cogen",
           "Rensselaer",
           "NY"
          ],
          [
           "Rensselaer Cogen",
           "Rensselaer",
           "NY"
          ],
          [
           "Rensselaer Cogen",
           "Rensselaer",
           "NY"
          ],
          [
           "Rensselaer Cogen",
           "Rensselaer",
           "NY"
          ],
          [
           "Rensselaer Cogen",
           "Rensselaer",
           "NY"
          ],
          [
           "Rensselaer Cogen",
           "Rensselaer",
           "NY"
          ],
          [
           "Rensselaer Cogen",
           "Rensselaer",
           "NY"
          ],
          [
           "Rensselaer Cogen",
           "Rensselaer",
           "NY"
          ],
          [
           "Rensselaer Cogen",
           "Rensselaer",
           "NY"
          ],
          [
           "Rensselaer Cogen",
           "Rensselaer",
           "NY"
          ],
          [
           "Rensselaer Cogen",
           "Rensselaer",
           "NY"
          ],
          [
           "Rensselaer Cogen",
           "Rensselaer",
           "NY"
          ],
          [
           "Rensselaer Cogen",
           "Rensselaer",
           "NY"
          ],
          [
           "Rensselaer Cogen",
           "Rensselaer",
           "NY"
          ],
          [
           "Rensselaer Cogen",
           "Rensselaer",
           "NY"
          ],
          [
           "Rensselaer Cogen",
           "Rensselaer",
           "NY"
          ],
          [
           "Rensselaer Cogen",
           "Rensselaer",
           "NY"
          ],
          [
           "Rensselaer Cogen",
           "Rensselaer",
           "NY"
          ],
          [
           "Rensselaer Cogen",
           "Rensselaer",
           "NY"
          ],
          [
           "Rensselaer Cogen",
           "Rensselaer",
           "NY"
          ],
          [
           "Rensselaer Cogen",
           "Rensselaer",
           "NY"
          ],
          [
           "Rensselaer Cogen",
           "Rensselaer",
           "NY"
          ],
          [
           "Rensselaer Cogen",
           "Rensselaer",
           "NY"
          ],
          [
           "ROCHESTER DISTRICT HEATING COOPERATIVE",
           "Rochester",
           "NY"
          ],
          [
           "ROCHESTER DISTRICT HEATING COOPERATIVE",
           "Rochester",
           "NY"
          ],
          [
           "ROCHESTER DISTRICT HEATING COOPERATIVE",
           "Rochester",
           "NY"
          ],
          [
           "ROCHESTER DISTRICT HEATING COOPERATIVE",
           "Rochester",
           "NY"
          ],
          [
           "ROCHESTER DISTRICT HEATING COOPERATIVE",
           "Rochester",
           "NY"
          ],
          [
           "ROCHESTER DISTRICT HEATING COOPERATIVE",
           "Rochester",
           "NY"
          ],
          [
           "ROCHESTER DISTRICT HEATING COOPERATIVE",
           "Rochester",
           "NY"
          ],
          [
           "ROCHESTER DISTRICT HEATING COOPERATIVE",
           "Rochester",
           "NY"
          ],
          [
           "ROCHESTER DISTRICT HEATING COOPERATIVE",
           "Rochester",
           "NY"
          ],
          [
           "ROCHESTER DISTRICT HEATING COOPERATIVE",
           "Rochester",
           "NY"
          ],
          [
           "ROCHESTER DISTRICT HEATING COOPERATIVE",
           "Rochester",
           "NY"
          ],
          [
           "ROCHESTER DISTRICT HEATING COOPERATIVE",
           "Rochester",
           "NY"
          ],
          [
           "Roseton Generating Facility",
           "Newburgh",
           "NY"
          ],
          [
           "Roseton Generating Facility",
           "Newburgh",
           "NY"
          ],
          [
           "Roseton Generating Facility",
           "Newburgh",
           "NY"
          ],
          [
           "Roseton Generating Facility",
           "Newburgh",
           "NY"
          ],
          [
           "Roseton Generating Facility",
           "Newburgh",
           "NY"
          ],
          [
           "Roseton Generating Facility",
           "Newburgh",
           "NY"
          ],
          [
           "Roseton Generating Facility",
           "Newburgh",
           "NY"
          ],
          [
           "Roseton Generating Facility",
           "Newburgh",
           "NY"
          ],
          [
           "Roseton Generating Facility",
           "Newburgh",
           "NY"
          ],
          [
           "Roseton Generating Facility",
           "Newburgh",
           "NY"
          ],
          [
           "Roseton Generating Facility",
           "Newburgh",
           "NY"
          ],
          [
           "Roseton Generating Facility",
           "Newburgh",
           "NY"
          ],
          [
           "S A Carlson",
           "Jamestown",
           "NY"
          ],
          [
           "S A Carlson",
           "Jamestown",
           "NY"
          ],
          [
           "S A Carlson",
           "Jamestown",
           "NY"
          ],
          [
           "S A Carlson",
           "Jamestown",
           "NY"
          ],
          [
           "S A Carlson",
           "Jamestown",
           "NY"
          ],
          [
           "S A Carlson",
           "Jamestown",
           "NY"
          ],
          [
           "S A Carlson",
           "Jamestown",
           "NY"
          ],
          [
           "S A Carlson",
           "Jamestown",
           "NY"
          ],
          [
           "S A Carlson",
           "Jamestown",
           "NY"
          ],
          [
           "S A Carlson",
           "Jamestown",
           "NY"
          ],
          [
           "S A Carlson",
           "Jamestown",
           "NY"
          ],
          [
           "S A Carlson",
           "Jamestown",
           "NY"
          ],
          [
           "S A Carlson",
           "Jamestown",
           "NY"
          ],
          [
           "S A Carlson",
           "Jamestown",
           "NY"
          ],
          [
           "S A Carlson",
           "Jamestown",
           "NY"
          ],
          [
           "S A Carlson",
           "Jamestown",
           "NY"
          ],
          [
           "S A Carlson",
           "Jamestown",
           "NY"
          ],
          [
           "S A Carlson",
           "Jamestown",
           "NY"
          ],
          [
           "S A Carlson",
           "Jamestown",
           "NY"
          ],
          [
           "S A Carlson",
           "Jamestown",
           "NY"
          ],
          [
           "S A Carlson",
           "Jamestown",
           "NY"
          ],
          [
           "S A Carlson",
           "Jamestown",
           "NY"
          ],
          [
           "S A Carlson",
           "Jamestown",
           "NY"
          ],
          [
           "S A Carlson",
           "Jamestown",
           "NY"
          ],
          [
           "S A Carlson",
           "Jamestown",
           "NY"
          ],
          [
           "S A Carlson",
           "Jamestown",
           "NY"
          ],
          [
           "S A Carlson",
           "Jamestown",
           "NY"
          ],
          [
           "S A Carlson",
           "Jamestown",
           "NY"
          ],
          [
           "S A Carlson",
           "Jamestown",
           "NY"
          ],
          [
           "S A Carlson",
           "Jamestown",
           "NY"
          ],
          [
           "S A Carlson",
           "Jamestown",
           "NY"
          ],
          [
           "S A Carlson",
           "Jamestown",
           "NY"
          ],
          [
           "S A Carlson",
           "Jamestown",
           "NY"
          ],
          [
           "S A Carlson",
           "Jamestown",
           "NY"
          ],
          [
           "S A Carlson",
           "Jamestown",
           "NY"
          ],
          [
           "Saranac Power Partners, LP",
           "Plattsburgh",
           "NY"
          ],
          [
           "Saranac Power Partners, LP",
           "Plattsburgh",
           "NY"
          ],
          [
           "Saranac Power Partners, LP",
           "Plattsburgh",
           "NY"
          ],
          [
           "Saranac Power Partners, LP",
           "Plattsburgh",
           "NY"
          ],
          [
           "Saranac Power Partners, LP",
           "Plattsburgh",
           "NY"
          ],
          [
           "Saranac Power Partners, LP",
           "Plattsburgh",
           "NY"
          ],
          [
           "Saranac Power Partners, LP",
           "Plattsburgh",
           "NY"
          ],
          [
           "Saranac Power Partners, LP",
           "Plattsburgh",
           "NY"
          ],
          [
           "Saranac Power Partners, LP",
           "Plattsburgh",
           "NY"
          ],
          [
           "Saranac Power Partners, LP",
           "Plattsburgh",
           "NY"
          ],
          [
           "Saranac Power Partners, LP",
           "Plattsburgh",
           "NY"
          ],
          [
           "Saranac Power Partners, LP",
           "Plattsburgh",
           "NY"
          ],
          [
           "Selkirk Cogen Partners",
           "Selkirk",
           "NY"
          ],
          [
           "Selkirk Cogen Partners",
           "Selkirk",
           "NY"
          ],
          [
           "Selkirk Cogen Partners",
           "Selkirk",
           "NY"
          ],
          [
           "Selkirk Cogen Partners",
           "Selkirk",
           "NY"
          ],
          [
           "Selkirk Cogen Partners",
           "Selkirk",
           "NY"
          ],
          [
           "Selkirk Cogen Partners",
           "Selkirk",
           "NY"
          ],
          [
           "Selkirk Cogen Partners",
           "Selkirk",
           "NY"
          ],
          [
           "Selkirk Cogen Partners",
           "Selkirk",
           "NY"
          ],
          [
           "Selkirk Cogen Partners",
           "Selkirk",
           "NY"
          ],
          [
           "Selkirk Cogen Partners",
           "Selkirk",
           "NY"
          ],
          [
           "Selkirk Cogen Partners",
           "Selkirk",
           "NY"
          ],
          [
           "Selkirk Cogen Partners",
           "Selkirk",
           "NY"
          ],
          [
           "Selkirk Cogen Partners",
           "Selkirk",
           "NY"
          ],
          [
           "Selkirk Cogen Partners",
           "Selkirk",
           "NY"
          ],
          [
           "Selkirk Cogen Partners",
           "Selkirk",
           "NY"
          ],
          [
           "Selkirk Cogen Partners",
           "Selkirk",
           "NY"
          ],
          [
           "Selkirk Cogen Partners",
           "Selkirk",
           "NY"
          ],
          [
           "Selkirk Cogen Partners",
           "Selkirk",
           "NY"
          ],
          [
           "Selkirk Cogen Partners",
           "Selkirk",
           "NY"
          ],
          [
           "Selkirk Cogen Partners",
           "Selkirk",
           "NY"
          ],
          [
           "Selkirk Cogen Partners",
           "Selkirk",
           "NY"
          ],
          [
           "Selkirk Cogen Partners",
           "Selkirk",
           "NY"
          ],
          [
           "Selkirk Cogen Partners",
           "Selkirk",
           "NY"
          ],
          [
           "Selkirk Cogen Partners",
           "Selkirk",
           "NY"
          ],
          [
           "Selkirk Cogen Partners",
           "Selkirk",
           "NY"
          ],
          [
           "Selkirk Cogen Partners",
           "Selkirk",
           "NY"
          ],
          [
           "Selkirk Cogen Partners",
           "Selkirk",
           "NY"
          ],
          [
           "Selkirk Cogen Partners",
           "Selkirk",
           "NY"
          ],
          [
           "Selkirk Cogen Partners",
           "Selkirk",
           "NY"
          ],
          [
           "Selkirk Cogen Partners",
           "Selkirk",
           "NY"
          ],
          [
           "Selkirk Cogen Partners",
           "Selkirk",
           "NY"
          ],
          [
           "Selkirk Cogen Partners",
           "Selkirk",
           "NY"
          ],
          [
           "Selkirk Cogen Partners",
           "Selkirk",
           "NY"
          ],
          [
           "Selkirk Cogen Partners",
           "Selkirk",
           "NY"
          ],
          [
           "Selkirk Cogen Partners",
           "Selkirk",
           "NY"
          ],
          [
           "Selkirk Cogen Partners",
           "Selkirk",
           "NY"
          ],
          [
           "Selkirk Cogen Partners",
           "Selkirk",
           "NY"
          ],
          [
           "Selkirk Cogen Partners",
           "Selkirk",
           "NY"
          ],
          [
           "Selkirk Cogen Partners",
           "Selkirk",
           "NY"
          ],
          [
           "Selkirk Cogen Partners",
           "Selkirk",
           "NY"
          ],
          [
           "Selkirk Cogen Partners",
           "Selkirk",
           "NY"
          ],
          [
           "Selkirk Cogen Partners",
           "Selkirk",
           "NY"
          ],
          [
           "Selkirk Cogen Partners",
           "Selkirk",
           "NY"
          ],
          [
           "Selkirk Cogen Partners",
           "Selkirk",
           "NY"
          ],
          [
           "Selkirk Cogen Partners",
           "Selkirk",
           "NY"
          ],
          [
           "Selkirk Cogen Partners",
           "Selkirk",
           "NY"
          ],
          [
           "Selkirk Cogen Partners",
           "Selkirk",
           "NY"
          ],
          [
           "Selkirk Cogen Partners",
           "Selkirk",
           "NY"
          ],
          [
           "Somerset Operating Compnay, LLC",
           "Barker",
           "NY"
          ],
          [
           "Somerset Operating Compnay, LLC",
           "Barker",
           "NY"
          ],
          [
           "Somerset Operating Compnay, LLC",
           "Barker",
           "NY"
          ],
          [
           "Somerset Operating Compnay, LLC",
           "Barker",
           "NY"
          ],
          [
           "Somerset Operating Compnay, LLC",
           "Barker",
           "NY"
          ],
          [
           "Somerset Operating Compnay, LLC",
           "Barker",
           "NY"
          ],
          [
           "Somerset Operating Compnay, LLC",
           "Barker",
           "NY"
          ],
          [
           "Somerset Operating Compnay, LLC",
           "Barker",
           "NY"
          ],
          [
           "Somerset Operating Compnay, LLC",
           "Barker",
           "NY"
          ],
          [
           "Somerset Operating Compnay, LLC",
           "Barker",
           "NY"
          ],
          [
           "Somerset Operating Compnay, LLC",
           "Barker",
           "NY"
          ],
          [
           "Somerset Operating Compnay, LLC",
           "Barker",
           "NY"
          ],
          [
           "Syracuse Energy Corporation",
           "Syracuse",
           "NY"
          ],
          [
           "Syracuse Energy Corporation",
           "Syracuse",
           "NY"
          ],
          [
           "Syracuse Energy Corporation",
           "Syracuse",
           "NY"
          ],
          [
           "Syracuse, LLC",
           "Solvay",
           "NY"
          ],
          [
           "Syracuse, LLC",
           "Solvay",
           "NY"
          ],
          [
           "Syracuse, LLC",
           "Solvay",
           "NY"
          ],
          [
           "Syracuse, LLC",
           "Solvay",
           "NY"
          ],
          [
           "Vernon Boulevard",
           "Long island city",
           "NY"
          ],
          [
           "Vernon Boulevard",
           "Long island city",
           "NY"
          ],
          [
           "Vernon Boulevard",
           "Long island city",
           "NY"
          ],
          [
           "Vernon Boulevard",
           "Long island city",
           "NY"
          ],
          [
           "Vernon Boulevard",
           "Long island city",
           "NY"
          ],
          [
           "Vernon Boulevard",
           "Long island city",
           "NY"
          ],
          [
           "Vernon Boulevard",
           "Long island city",
           "NY"
          ],
          [
           "Vernon Boulevard",
           "Long island city",
           "NY"
          ],
          [
           "Vernon Boulevard",
           "Long island city",
           "NY"
          ],
          [
           "Vernon Boulevard",
           "Long island city",
           "NY"
          ],
          [
           "Vernon Boulevard",
           "Long island city",
           "NY"
          ],
          [
           "Vernon Boulevard",
           "Long island city",
           "NY"
          ],
          [
           "Vernon Boulevard",
           "Long island city",
           "NY"
          ],
          [
           "Vernon Boulevard",
           "Long island city",
           "NY"
          ],
          [
           "Vernon Boulevard",
           "Long island city",
           "NY"
          ],
          [
           "Vernon Boulevard",
           "Long island city",
           "NY"
          ],
          [
           "Vernon Boulevard",
           "Long island city",
           "NY"
          ],
          [
           "Vernon Boulevard",
           "Long island city",
           "NY"
          ],
          [
           "Vernon Boulevard",
           "Long island city",
           "NY"
          ],
          [
           "Vernon Boulevard",
           "Long island city",
           "NY"
          ],
          [
           "Vernon Boulevard",
           "Long island city",
           "NY"
          ],
          [
           "Vernon Boulevard",
           "Long island city",
           "NY"
          ],
          [
           "Vernon Boulevard",
           "Long island city",
           "NY"
          ],
          [
           "Vernon Boulevard",
           "Long island city",
           "NY"
          ],
          [
           "WARBASSE HOUSES & POWER PLANT",
           "Brooklyn",
           "NY"
          ],
          [
           "WARBASSE HOUSES & POWER PLANT",
           "Brooklyn",
           "NY"
          ],
          [
           "WARBASSE HOUSES & POWER PLANT",
           "Brooklyn",
           "NY"
          ],
          [
           "WARBASSE HOUSES & POWER PLANT",
           "Brooklyn",
           "NY"
          ],
          [
           "WARBASSE HOUSES & POWER PLANT",
           "Brooklyn",
           "NY"
          ],
          [
           "WARBASSE HOUSES & POWER PLANT",
           "Brooklyn",
           "NY"
          ],
          [
           "WARBASSE HOUSES & POWER PLANT",
           "Brooklyn",
           "NY"
          ],
          [
           "WARBASSE HOUSES & POWER PLANT",
           "Brooklyn",
           "NY"
          ],
          [
           "WARBASSE HOUSES & POWER PLANT",
           "Brooklyn",
           "NY"
          ],
          [
           "WARBASSE HOUSES & POWER PLANT",
           "Brooklyn",
           "NY"
          ],
          [
           "WARBASSE HOUSES & POWER PLANT",
           "Brooklyn",
           "NY"
          ],
          [
           "WARBASSE HOUSES & POWER PLANT",
           "Brooklyn",
           "NY"
          ],
          [
           "WARBASSE HOUSES & POWER PLANT",
           "Brooklyn",
           "NY"
          ],
          [
           "WARBASSE HOUSES & POWER PLANT",
           "Brooklyn",
           "NY"
          ],
          [
           "WARBASSE HOUSES & POWER PLANT",
           "Brooklyn",
           "NY"
          ],
          [
           "WARBASSE HOUSES & POWER PLANT",
           "Brooklyn",
           "NY"
          ],
          [
           "WARBASSE HOUSES & POWER PLANT",
           "Brooklyn",
           "NY"
          ],
          [
           "WARBASSE HOUSES & POWER PLANT",
           "Brooklyn",
           "NY"
          ],
          [
           "WARBASSE HOUSES & POWER PLANT",
           "Brooklyn",
           "NY"
          ],
          [
           "WARBASSE HOUSES & POWER PLANT",
           "Brooklyn",
           "NY"
          ],
          [
           "WARBASSE HOUSES & POWER PLANT",
           "Brooklyn",
           "NY"
          ],
          [
           "WARBASSE HOUSES & POWER PLANT",
           "Brooklyn",
           "NY"
          ],
          [
           "WARBASSE HOUSES & POWER PLANT",
           "Brooklyn",
           "NY"
          ],
          [
           "WARBASSE HOUSES & POWER PLANT",
           "Brooklyn",
           "NY"
          ]
         ],
         "hovertemplate": "Sector=Power Plants<br>CO2 Emissions=%{x}<br>Nitrous Oxide Emissions=%{y}<br>Facility.Name=%{customdata[0]}<br>City=%{customdata[1]}<br>State=%{customdata[2]}<extra></extra>",
         "legendgroup": "Power Plants",
         "marker": {
          "color": "#636efa",
          "symbol": "circle"
         },
         "mode": "markers",
         "name": "Power Plants",
         "showlegend": true,
         "type": "scattergl",
         "x": [
          176.7,
          154.7,
          84.4,
          78.9,
          90.7,
          108.4,
          30.2,
          33,
          140.7,
          109.4,
          32.5,
          32.5,
          32.4,
          24.8,
          53.2,
          78.8,
          88,
          86,
          28.8,
          180.3,
          71.3,
          109.4,
          133,
          156.7,
          296.8,
          869.4,
          158.4,
          116.5,
          209,
          111.7,
          60.5,
          77.3,
          296.6,
          565,
          709.8,
          867.1,
          51901.2,
          35435.5,
          40856.4,
          55430,
          50542.4,
          36700.1,
          37878.6,
          68003.7,
          73477.5,
          61367.3,
          52288.1,
          90350.2,
          6181.9,
          6771.6,
          7322,
          8444.2,
          8587.3,
          8095.9,
          8408.6,
          9444.6,
          9313.7,
          9405,
          9060.4,
          10524.6,
          331.6,
          296.3,
          249.5,
          299.9,
          381.3,
          442.1,
          300.9,
          194.6,
          162.1,
          138.6,
          213.1,
          445,
          909.8,
          2.7,
          652.7,
          0.6,
          813.6,
          0.5,
          1,
          0.5,
          944.6,
          0.5,
          1377.7,
          0.5,
          1126.4,
          0.4,
          125.6,
          0.4,
          366,
          0.3,
          863.1,
          0.8,
          22735.3,
          1.1,
          9635.7,
          0.8,
          0.2,
          0.2,
          0.9,
          0,
          0,
          0,
          0,
          0,
          0,
          0.4,
          1.9,
          1.2,
          1.4,
          1.5,
          1286.6,
          2.4,
          2347.5,
          3.7,
          2132.9,
          542.1,
          1.4,
          3008.9,
          722,
          1.8,
          1419.1,
          978.3,
          2.3,
          3180.1,
          2393.4,
          2.4,
          3109.9,
          874.9,
          2.6,
          1943.7,
          789.3,
          3.5,
          2105,
          771.9,
          2.4,
          1480.4,
          1405.5,
          2.9,
          1551.8,
          7,
          777.7,
          3.3,
          12158.2,
          12763,
          11791.1,
          12117.8,
          141.8,
          7.4,
          6.8,
          5.9,
          198.6,
          252.1,
          84.1,
          959.7,
          409.5,
          95.3,
          77.9,
          9.7,
          6.9,
          67.8,
          4.8,
          97.3,
          3.3,
          59.7,
          30.7,
          114.2,
          53,
          144.3,
          8.8,
          61.5,
          0.1,
          0.1,
          0.2,
          0.2,
          97.9,
          0.2,
          60.9,
          0.3,
          31.6,
          136.3,
          10,
          155,
          1191.6,
          3623.3,
          2140,
          3707,
          5326.3,
          2413.1,
          2098.3,
          2001.2,
          1238.5,
          0.5,
          0.2,
          0.3,
          91.2,
          111.5,
          86.2,
          111.6,
          123.8,
          105.1,
          107.2,
          158.2,
          143.3,
          143.4,
          109.3,
          0,
          52,
          75.3,
          265.4,
          140.6,
          52.6,
          62.6,
          41,
          165.7,
          423.7,
          794,
          85.1,
          6370.6,
          465.8,
          141.5,
          318,
          90.5,
          397.8,
          115.6,
          549.2,
          154.6,
          548.9,
          0.9,
          18.4,
          152.4,
          410.8,
          0.9,
          13.3,
          130.4,
          539.3,
          1.2,
          10.6,
          130.1,
          537.5,
          1.4,
          11.4,
          83.1,
          399.3,
          1.8,
          20,
          148.2,
          309.1,
          1.5,
          7.1,
          154.8,
          239.1,
          1.1,
          10.6,
          103.7,
          102.6,
          1.4,
          6.5,
          142.1,
          328.9,
          1.1,
          0,
          323,
          1.7,
          9,
          328.2,
          2.6,
          0,
          333.3,
          1.5,
          5.6,
          240.7,
          6.4,
          0,
          164.7,
          3.5,
          0,
          69.9,
          4.3,
          157.9,
          134.7,
          3.9,
          0,
          112.9,
          5.2,
          8.9,
          138.8,
          1.5,
          9.2,
          24.9,
          220.8,
          6.6,
          265.6,
          0,
          14,
          1087.9,
          10.3,
          71.2,
          0,
          439.3,
          1.4,
          325.3,
          1.1,
          161.3,
          0.5,
          205.3,
          0.5,
          140.3,
          2,
          171.4,
          0.8,
          468.7,
          2.6,
          748,
          5.8,
          1161.9,
          12.5,
          1147.8,
          9.4,
          947.3,
          12.2,
          738,
          4.6,
          0,
          13.2,
          58.9,
          219.4,
          522.4,
          838.6,
          759.2,
          232.8,
          138.1,
          237.3,
          451.3,
          246.9,
          62697.2,
          50585.2,
          46133.5,
          70705,
          112675.9,
          100241.1,
          116576.2,
          136205.1,
          158768.2,
          174389.7,
          204477.9,
          221070.1,
          8448.5,
          22706,
          36260.6,
          31348.1,
          34110.5,
          46663.8,
          38990.1,
          48547.2,
          20362.3,
          9761.1,
          9422,
          9058,
          2410,
          0,
          0,
          0.2,
          2509.4,
          3090.1,
          2979.5,
          835.1,
          1971.7,
          2435.2,
          2801.9,
          2898.7,
          2213.3,
          3310.4,
          5347,
          2732.9,
          51773.2,
          40899.6,
          38118.6,
          59284.3,
          66022.4,
          51246.4,
          49356.2,
          36181.1,
          63445.1,
          40367.5,
          38641.7,
          91417.3,
          0,
          241.2,
          376.7,
          0,
          0.2,
          9,
          2.3,
          0,
          0,
          4.4,
          1.1,
          0,
          0,
          18.8,
          0.6,
          0,
          1,
          6.5,
          0.6,
          19.4,
          39.9,
          0.9,
          0,
          17.7,
          44.2,
          0.7,
          0,
          15.6,
          44.2,
          2.2,
          0,
          170.5,
          56.4,
          1.7,
          0,
          292.9,
          91.2,
          3.9,
          0,
          366.9,
          106.9,
          4,
          0,
          565.1,
          84.9,
          3.6,
          3563.4,
          322.6,
          35.1,
          2.2,
          234.3,
          494,
          252.6,
          87.5,
          317.8,
          238.7,
          293.3,
          171.2,
          284.7,
          154.9,
          260.6,
          233.4,
          242.1,
          334.5,
          310.9,
          219.7,
          298,
          815,
          235,
          281.9,
          249.9,
          304,
          0,
          447.8,
          575.3,
          0,
          0,
          1468.6,
          27.4,
          27.6,
          14418.1,
          2184.5,
          34.3,
          5843.3,
          1442.5,
          17.7,
          14153.1,
          3906.7,
          27.3,
          4726.3,
          2787.8,
          24.6,
          13868.4,
          2200.5,
          39.5,
          11942.6,
          3189.5,
          40.3,
          5258.2,
          6243.8,
          38.7,
          42827.5,
          11347.9,
          50.7,
          35947.8,
          11382.9,
          65.8,
          21975.3,
          11329.1,
          50.3,
          182.9,
          154.6,
          126,
          26.9,
          69,
          1018.9,
          0.2,
          0,
          0,
          0,
          0,
          0,
          0,
          0,
          0,
          53.7,
          122.6,
          77.7,
          63.2,
          105.6,
          75,
          32.6,
          34.2,
          23.2,
          17.3,
          38.4,
          32.1,
          25.5,
          21.6,
          76.4,
          28,
          56.8,
          32.4,
          38.4,
          48.4,
          34.5,
          10,
          10.8,
          30.9,
          0.8,
          18.8,
          54.6,
          45.9,
          88.3,
          74.2,
          28.3,
          29.4,
          15.7,
          20.4,
          18,
          27.1,
          21.9,
          25.9,
          39.6,
          43.6,
          51.2,
          36.4,
          70,
          82.8,
          24.8,
          45.7,
          5.6,
          14,
          18.4,
          32.1,
          0.1,
          96.2,
          6.4,
          72.4,
          119.5,
          152.3,
          80.1,
          282.6,
          319.7,
          30.4,
          8.7,
          32,
          484.3,
          1677.1,
          1151.4,
          2517.4,
          1466.5,
          0,
          85.7,
          157.9,
          176.4,
          1275.9,
          1472.3,
          856.1,
          182.8,
          125.9,
          254.1,
          52.5,
          0.4,
          0,
          0.3,
          0,
          479.5,
          0.1,
          541,
          0,
          479.3,
          0,
          494,
          0.1,
          1026.1,
          0.1,
          327.8,
          180.6,
          126.3,
          77.4,
          113.6,
          104.8,
          71.1,
          110.4,
          64.3,
          51.9,
          68.5,
          82.7,
          99.5,
          91.4,
          63.3,
          73.5,
          80.8,
          57.5,
          0,
          55.1,
          0,
          44.3,
          0,
          12.4,
          0,
          13.8,
          0,
          17.8,
          17.6,
          0,
          59.1,
          0,
          18.7,
          18330.1,
          5.3,
          17788.9,
          2.2,
          17534.3,
          33.6,
          18785.3,
          12.5,
          19985.9,
          10.2,
          19636.6,
          6.5,
          17839.3,
          15.2,
          17470.1,
          3.1,
          19462.1,
          0.1,
          21627.7,
          1.1,
          20958.1,
          1.3,
          23301.9,
          1981.9,
          11927.9,
          1854.1,
          9995.8,
          1853.9,
          8617.5,
          2180.1,
          674.5,
          2066.3,
          597.6,
          1897.1,
          12419.3,
          1930.2,
          4599.4,
          2097,
          454.5,
          2231.1,
          496.7,
          2055.5,
          418.9,
          1742.9,
          894.7,
          1691.6,
          4192.1,
          1659.4,
          587.1,
          4118.8,
          2197,
          933.8,
          0,
          18.3,
          0,
          16.6,
          0,
          10.3,
          6619.3,
          42,
          6455.2,
          36,
          4398.7,
          18.7,
          4137.2,
          47.7,
          0.5,
          14.8,
          5.2,
          21.5,
          2494.3,
          21.9,
          27689.9,
          2.3,
          5659.5,
          5,
          261.6,
          224.6,
          238.2,
          275.7,
          303.3,
          243,
          197.7,
          202.5,
          202.5,
          174.7,
          124.5,
          251.2,
          66.2,
          168.9,
          38.9,
          201.2,
          45059.3,
          1196.8,
          58.4,
          113.5,
          34431.7,
          0,
          39.3,
          139,
          62138.1,
          4084.6,
          62,
          105.8,
          22349.2,
          562.5,
          28.8,
          206.4,
          71653.2,
          689.4,
          79.1,
          186.5,
          55688.1,
          1032.8,
          79.4,
          165.1,
          17060.8,
          8221.8,
          38.8,
          285.7,
          103390.1,
          8436.6,
          97.5,
          284.4,
          93272.3,
          6019.6,
          87.9,
          139.7,
          93605.6,
          13076,
          104.5,
          149.2,
          10588.1,
          3671.2,
          7591.5,
          3925.5,
          7351.6,
          3894.8,
          3425.1,
          14887.6,
          8884.7,
          11637.1,
          9535.3,
          10343.6,
          124.2,
          56,
          177.9,
          47.5,
          61.6,
          15.7,
          47.8,
          21.9,
          9.6,
          72,
          78.4,
          172.6,
          44.9,
          137,
          4722.8,
          1472.8,
          682.6,
          1996.3,
          2854.3,
          3137.9,
          3214.3,
          3613,
          5179.5,
          4238.9,
          544.1,
          544.1,
          10.9,
          1064.9,
          930.5,
          582.6,
          655.5,
          174.4,
          559.5,
          11282.2,
          1635.5,
          559.5,
          13534.7,
          346.3,
          559.5,
          12129.8,
          36.7,
          559.5,
          11.9,
          0.5,
          559.5,
          13473.7,
          878.5,
          559.5,
          13011.8,
          255,
          559.5,
          13350.8,
          192,
          559.5,
          12736.1,
          276.8,
          0.6,
          12200.9,
          370.1,
          554.4,
          11763.8,
          703.1,
          554.4,
          17.1,
          11108.4,
          554.4,
          13197.4,
          0,
          3091.4,
          3279.7,
          3281.6,
          3514.9,
          3279.4,
          3013.7,
          4058.7,
          4554,
          4445.3,
          3681.8,
          2271.2,
          3656.4,
          218.7,
          24.9,
          98.6,
          34.9,
          66.6,
          34.2,
          32,
          47.2,
          48.4,
          213.1,
          162.7,
          129.8,
          0,
          3467.8,
          0,
          27.9,
          779.1,
          398.6,
          267.4,
          1213,
          1467,
          239.8,
          910.2,
          1040,
          223,
          1263.5,
          1544.7,
          442.9,
          40.1,
          1856,
          1956,
          295.5,
          1631.1,
          1910.5,
          1575,
          238.2,
          227.3,
          209.4,
          287.2,
          1728.6,
          1537.2,
          1460.6,
          182.3,
          167.8,
          121.8,
          184.1,
          1357.2,
          254.7,
          1168.4,
          695.6,
          1025.2,
          242.6,
          663.7,
          55.8,
          1830.6,
          703.1,
          2036.9,
          1137,
          682.7,
          545.8,
          516.7,
          159,
          2050.6,
          1961.4,
          1948,
          579.4,
          579.3,
          588.7,
          684,
          402.1,
          2771.4,
          2282.5,
          2505.7,
          0.6,
          0.2,
          0.1,
          0.2,
          0,
          0.2,
          0,
          0.3,
          0,
          0.3,
          23.4,
          0.5,
          2.9,
          0.3,
          38.2,
          0,
          15.7,
          90.5,
          0,
          98.1,
          37.7,
          101.4,
          4.7,
          110.4,
          6.2,
          61.9,
          6.2,
          83.2,
          10.9,
          84.9,
          9.2,
          92.3,
          26.8,
          81.8,
          18,
          98.1,
          5.1,
          87.4,
          9.2,
          64.3,
          10.4,
          63.7,
          3.6,
          76.3,
          27308.7,
          23549.9,
          24643.1,
          26243.4,
          27788.6,
          26964.8,
          27031.9,
          27419.9,
          28683.9,
          28141.6,
          25063.3,
          29229,
          2899.2,
          3357.1,
          3258,
          4223.1,
          4201,
          3687.2,
          4725.9,
          2924.4,
          3441.4,
          2372.9,
          13.4,
          13.2,
          27.8,
          987.7,
          10.5,
          87.9,
          854.5,
          11.2,
          43.2,
          9357.3,
          115.5,
          1.6,
          609.5,
          38.9,
          74.4,
          665,
          47.2,
          358,
          5971.8,
          347.9,
          936.1,
          3777.1,
          291.7,
          1097.1,
          3023.3,
          232.8,
          918.2,
          3579.2,
          298.9,
          185,
          2614.7,
          205.2,
          223.3,
          3824.9,
          64.1,
          907.5,
          4374.8,
          36345.7,
          35154.5,
          35592.2,
          35093.2,
          35921.7,
          35632.2,
          38458.4,
          40201.8,
          36559.5,
          35357.1,
          37526.8,
          39698.7,
          814.2,
          3941,
          2822.4,
          3189.4,
          12552.5,
          38859.5,
          36529.4,
          37250.1,
          9270.6,
          31761.6,
          30944.6,
          33831.9,
          7119.4,
          24352.5,
          23228.1,
          24495.5,
          7352.7,
          28587.6,
          26132.2,
          27831.8,
          11107.5,
          32601.1,
          29420.7,
          35764.3,
          5079.1,
          22486.9,
          22905.7,
          21626.3,
          5079.1,
          22486.9,
          22905.7,
          21626.3,
          4292.4,
          18738.3,
          18727.4,
          18491.5,
          801.9,
          3041.5,
          2944.9,
          3464.6,
          1667.1,
          8833.8,
          8330,
          9439.8,
          501.3,
          2145.1,
          2262.4,
          2395.4,
          0,
          0,
          1009.6,
          2120.1,
          4297.7,
          4817,
          9893.8,
          2403.5,
          2179.3,
          2850.7,
          914.6,
          280.5,
          444.1,
          381.4,
          428.9,
          197.7,
          197.7,
          175.2,
          224.9,
          70.7,
          98.9,
          71.9,
          84.8,
          49.1,
          43.2,
          13,
          13,
          18,
          32.1,
          24.3,
          29.8,
          28.8,
          22,
          57.6,
          49.2,
          8.4,
          28.8,
          92.9,
          86.1,
          18,
          29.2,
          31.3,
          32.1,
          16654.5,
          16091.8,
          14142.2,
          17116.4,
          16226.9,
          16765,
          14705.2,
          16592.9,
          15841.8,
          17382.9,
          15443.9,
          16634.3,
          13683.6,
          18574.4,
          13118.8,
          19367.9,
          17926.6,
          15223.9,
          14203,
          17785,
          10673,
          17670,
          12031.9,
          21487.8
         ],
         "xaxis": "x",
         "y": [
          0,
          0,
          0,
          0,
          0,
          0,
          0,
          0,
          0,
          0,
          0,
          0,
          0,
          0,
          0,
          0,
          0,
          0,
          0,
          0,
          0,
          0,
          0,
          0,
          0.298,
          0.596,
          0,
          0,
          0.298,
          0,
          0,
          0,
          0.298,
          1.49,
          1.788,
          2.086,
          36.952,
          23.542,
          24.436,
          34.27,
          35.164,
          22.946,
          24.436,
          55.13,
          65.858,
          120.094,
          124.266,
          215.156,
          3.576,
          3.874,
          4.172,
          4.768,
          4.768,
          4.47,
          4.768,
          5.364,
          5.364,
          0,
          0,
          0,
          0.298,
          0.298,
          0,
          0.298,
          0.298,
          0.298,
          0.298,
          0,
          0,
          0.894,
          0,
          0.298,
          0.596,
          0,
          0.298,
          0,
          0.596,
          0,
          0,
          0,
          0.596,
          0,
          0.894,
          0,
          0.596,
          0,
          0,
          0,
          0.298,
          0,
          0.596,
          0,
          12.814,
          0,
          5.364,
          0,
          2.086,
          2.086,
          8.046,
          0,
          0,
          0,
          0,
          0,
          0,
          0,
          0,
          0,
          0,
          0,
          0.596,
          0,
          1.192,
          0,
          1.192,
          0.298,
          0,
          1.788,
          0.298,
          0,
          0.894,
          0.596,
          0,
          1.788,
          1.49,
          0,
          1.788,
          0.596,
          0,
          1.192,
          0.298,
          0,
          1.192,
          0.298,
          0,
          0.894,
          0.894,
          0,
          0.894,
          0,
          0.298,
          0,
          6.854,
          7.152,
          6.556,
          6.854,
          0,
          0,
          0,
          0,
          0,
          0,
          0,
          0.596,
          0.298,
          0,
          0,
          0,
          0,
          0,
          0,
          0,
          0,
          0,
          0,
          0,
          0,
          0,
          0,
          0,
          0,
          0,
          0,
          0,
          0.298,
          0,
          0,
          0,
          0,
          0,
          0,
          0,
          0.596,
          2.086,
          1.192,
          2.086,
          2.98,
          1.49,
          1.192,
          1.192,
          0.596,
          0,
          0,
          0,
          0,
          0,
          0,
          0,
          0,
          0,
          0,
          0,
          0,
          0,
          0,
          0,
          0,
          0,
          0.298,
          0,
          0,
          0,
          0,
          0,
          0.298,
          0.298,
          0,
          3.576,
          0.298,
          0,
          0.298,
          0,
          0.298,
          0,
          0.298,
          0,
          0.298,
          0,
          0,
          0,
          0.298,
          0,
          0,
          0,
          0.298,
          0,
          0,
          0,
          0.298,
          0,
          0,
          0,
          0.298,
          0,
          0,
          0,
          0.298,
          0,
          0,
          0,
          0,
          0,
          0,
          0,
          0,
          0,
          0,
          0,
          0.298,
          0,
          0,
          0.298,
          0,
          0,
          0.298,
          0,
          0,
          0.298,
          0,
          0,
          0,
          0,
          0,
          0,
          0,
          0,
          0,
          0,
          0.298,
          0,
          0,
          0,
          0,
          0,
          0,
          0.596,
          0,
          0,
          0,
          0,
          0,
          0,
          0,
          0,
          0,
          0,
          0,
          0,
          0.298,
          0,
          0.298,
          0,
          0,
          0,
          0,
          0,
          0,
          0,
          0,
          0,
          0.298,
          0,
          0.298,
          0,
          0.596,
          0,
          0.298,
          0,
          0.298,
          0,
          0,
          0,
          0,
          0,
          0,
          0.596,
          1.192,
          2.086,
          1.788,
          0.596,
          0.298,
          0.596,
          1.192,
          0.596,
          35.164,
          28.31,
          25.926,
          39.634,
          63.176,
          56.62,
          65.56,
          76.586,
          90.294,
          98.042,
          115.028,
          124.266,
          4.768,
          12.814,
          20.264,
          17.582,
          19.072,
          26.224,
          21.754,
          27.118,
          11.324,
          114.134,
          300.682,
          301.874,
          343.892,
          0,
          0,
          0,
          1.49,
          1.788,
          1.788,
          0.596,
          1.192,
          1.49,
          1.49,
          1.788,
          1.192,
          1.788,
          2.98,
          1.49,
          33.972,
          22.946,
          21.754,
          35.164,
          41.422,
          29.8,
          28.31,
          29.8,
          37.548,
          22.648,
          21.754,
          51.256,
          0,
          0.298,
          0.298,
          0,
          0,
          0,
          0,
          0,
          0,
          0,
          0,
          0,
          0,
          0,
          0,
          0,
          0,
          0,
          0,
          0,
          0,
          0,
          0,
          0,
          0,
          0,
          0,
          0,
          0,
          0,
          0,
          0,
          0,
          0,
          0,
          0.298,
          0.298,
          0,
          0,
          0.298,
          0.298,
          0,
          0,
          0.298,
          0.298,
          0,
          2.086,
          0.298,
          0,
          0,
          0,
          0.298,
          0,
          0.298,
          0.298,
          0.596,
          0,
          0.298,
          0,
          0.298,
          0,
          0.596,
          0,
          0.894,
          0.298,
          0.596,
          0.298,
          2.086,
          0,
          0.596,
          0,
          0.894,
          0,
          0.298,
          0.298,
          0,
          0,
          0.894,
          0,
          0,
          8.046,
          5.364,
          0,
          3.278,
          3.576,
          0,
          8.046,
          9.536,
          0,
          2.682,
          6.854,
          0,
          7.748,
          5.364,
          0,
          6.854,
          7.748,
          0,
          2.98,
          15.198,
          0,
          24.138,
          27.416,
          0,
          20.264,
          27.416,
          0.298,
          12.218,
          27.416,
          0,
          0,
          0,
          0,
          0,
          0,
          0.596,
          0,
          0,
          0,
          0,
          0,
          0,
          0,
          0,
          0,
          0,
          0.298,
          0,
          0,
          0,
          0,
          0,
          0,
          0,
          0,
          0,
          0,
          0,
          0,
          0,
          0,
          0,
          0,
          0,
          0,
          0,
          0,
          0,
          0,
          0,
          0,
          0,
          0,
          0,
          0,
          0,
          0,
          0,
          0,
          0,
          0,
          0,
          0,
          0,
          0,
          0,
          0,
          0,
          0,
          0,
          0,
          0,
          0,
          0,
          0,
          0,
          0,
          0,
          0,
          0,
          0,
          0,
          0.298,
          0.298,
          0,
          0,
          0,
          1.192,
          3.874,
          2.98,
          5.96,
          3.576,
          0,
          0,
          0,
          0,
          0.596,
          0.894,
          0.596,
          0,
          0,
          0,
          0,
          0,
          0,
          0,
          0,
          0.298,
          0,
          0.298,
          0,
          0.298,
          0,
          0.298,
          0,
          0.596,
          0,
          0.298,
          0,
          0,
          0,
          0,
          0,
          0,
          0,
          0,
          0,
          0,
          0,
          0,
          0,
          0,
          0,
          0,
          0,
          0,
          0,
          0,
          0,
          0,
          0,
          0,
          0,
          0,
          0,
          0,
          0,
          0,
          0,
          0,
          10.43,
          0,
          10.132,
          0,
          9.834,
          0,
          10.728,
          0,
          11.324,
          0,
          11.026,
          0,
          10.132,
          0,
          9.834,
          0,
          11.026,
          0,
          12.218,
          0,
          11.622,
          0,
          13.112,
          1.192,
          6.556,
          0.894,
          5.662,
          0.894,
          4.768,
          1.192,
          0.298,
          1.192,
          0.298,
          1.192,
          6.854,
          1.192,
          2.682,
          1.192,
          0.298,
          1.192,
          0.298,
          1.192,
          0.298,
          0.894,
          0.596,
          0.894,
          2.384,
          1.192,
          0.298,
          2.682,
          1.192,
          1.192,
          0,
          0,
          0,
          0,
          0,
          0,
          3.576,
          0,
          3.576,
          0,
          2.384,
          0,
          2.384,
          0,
          0,
          0,
          0,
          0,
          1.49,
          0,
          15.496,
          0,
          3.278,
          0,
          0,
          0,
          0,
          0.298,
          0.298,
          0,
          0,
          0,
          0,
          0,
          0,
          0.298,
          0.298,
          0,
          0,
          0,
          25.33,
          2.98,
          0,
          0,
          19.37,
          0,
          0,
          0,
          34.866,
          9.834,
          0.298,
          0,
          12.516,
          1.49,
          0,
          0,
          40.23,
          1.788,
          0.298,
          0,
          31.29,
          2.384,
          0.298,
          0,
          9.536,
          19.966,
          0,
          0.298,
          58.11,
          20.264,
          0.298,
          0.298,
          52.448,
          14.602,
          0.298,
          0,
          52.746,
          31.588,
          0.298,
          0,
          5.96,
          2.384,
          4.768,
          4.768,
          5.066,
          2.086,
          1.788,
          14.602,
          5.364,
          6.556,
          5.364,
          5.662,
          0,
          0,
          0,
          0,
          0,
          0,
          0,
          0,
          0,
          0,
          0,
          0,
          0,
          0,
          2.682,
          0.894,
          0.298,
          1.192,
          1.49,
          1.788,
          1.788,
          2.086,
          2.98,
          2.384,
          0.298,
          0.298,
          0,
          0.596,
          0.596,
          0.298,
          0.298,
          0,
          0.298,
          6.258,
          0.894,
          0.298,
          7.748,
          0.298,
          0.298,
          6.854,
          0,
          0.298,
          0,
          0,
          0.298,
          7.45,
          0.596,
          0.298,
          7.45,
          0,
          0.298,
          7.45,
          0,
          0.298,
          7.152,
          0.298,
          0,
          6.854,
          0.298,
          0.298,
          6.556,
          0.298,
          0.298,
          0,
          6.258,
          0.298,
          7.45,
          0,
          1.788,
          1.788,
          1.788,
          2.086,
          1.788,
          1.788,
          2.384,
          2.682,
          2.384,
          2.086,
          1.192,
          2.086,
          0,
          0,
          0,
          0,
          0,
          0,
          0,
          0,
          0,
          0,
          0,
          0,
          0,
          2.086,
          0,
          0,
          0.298,
          0.298,
          0.298,
          0.596,
          0.894,
          0,
          0.596,
          0.596,
          0,
          0.596,
          0.894,
          0.298,
          0,
          0.894,
          1.192,
          0.298,
          0.894,
          1.192,
          0.894,
          0,
          0,
          0,
          0.298,
          0.894,
          0.894,
          0.894,
          0,
          0,
          0,
          0,
          0.894,
          0,
          0.596,
          0.298,
          0.596,
          0,
          0.298,
          0,
          0.894,
          0.298,
          1.192,
          0.596,
          0.298,
          0.298,
          0.298,
          0,
          1.192,
          1.192,
          1.192,
          0.298,
          0.298,
          0.298,
          0.298,
          0.298,
          2.086,
          1.192,
          1.49,
          0,
          0,
          0,
          0,
          0,
          0,
          0,
          0,
          0,
          0,
          0,
          0,
          0,
          0,
          0,
          0,
          0,
          0,
          0,
          0,
          0,
          0,
          0,
          0,
          0,
          0,
          0,
          0,
          0,
          0,
          0,
          0,
          0,
          0,
          0,
          0,
          0,
          0,
          0,
          0,
          0,
          0,
          0,
          0,
          15.198,
          13.112,
          13.708,
          14.602,
          15.496,
          15.496,
          15.198,
          15.496,
          16.092,
          15.794,
          14.006,
          16.39,
          1.49,
          1.788,
          1.788,
          2.384,
          2.384,
          2.086,
          2.682,
          1.788,
          1.788,
          1.192,
          0,
          0,
          0,
          0.596,
          0,
          0,
          0.596,
          0,
          0,
          5.364,
          0,
          0,
          0.298,
          0,
          0,
          0.298,
          0,
          0.298,
          3.278,
          0.298,
          0.596,
          2.086,
          0.298,
          0.596,
          1.788,
          0,
          0.596,
          2.086,
          0.298,
          0,
          1.49,
          0,
          0,
          0,
          0,
          0.596,
          2.384,
          20.264,
          19.668,
          19.966,
          19.668,
          20.264,
          19.966,
          21.456,
          22.648,
          20.562,
          19.966,
          21.158,
          22.35,
          0.596,
          2.086,
          1.49,
          1.788,
          7.152,
          21.754,
          20.562,
          20.86,
          5.066,
          17.88,
          17.284,
          19.072,
          3.874,
          13.708,
          13.112,
          13.708,
          4.172,
          16.092,
          14.602,
          15.496,
          6.258,
          18.178,
          16.39,
          19.966,
          2.98,
          12.516,
          12.814,
          12.218,
          2.98,
          12.516,
          12.814,
          12.218,
          2.384,
          10.43,
          10.43,
          10.43,
          0.596,
          1.788,
          1.788,
          2.086,
          0.894,
          5.066,
          4.768,
          5.364,
          0.298,
          1.192,
          1.192,
          1.49,
          0,
          0,
          2.384,
          5.066,
          10.43,
          11.622,
          23.84,
          5.662,
          5.364,
          6.854,
          2.086,
          0.596,
          0.298,
          0.298,
          0.298,
          0,
          0,
          0,
          0,
          0,
          0,
          0,
          0,
          0,
          0,
          0,
          0,
          0,
          0,
          0,
          0,
          0,
          0,
          0,
          0,
          0,
          0,
          0,
          0,
          0,
          0,
          0,
          0,
          9.238,
          8.94,
          8.046,
          9.536,
          9.238,
          9.536,
          8.344,
          9.238,
          8.94,
          9.834,
          8.642,
          9.238,
          7.748,
          10.43,
          7.45,
          11.026,
          10.132,
          8.642,
          8.046,
          10.132,
          5.96,
          10.132,
          6.854,
          12.218
         ],
         "yaxis": "y"
        },
        {
         "customdata": [
          [
           "AL TURI LANDFILL & LFGTE FACILITY",
           "Goshen",
           "NY"
          ],
          [
           "AL TURI LANDFILL & LFGTE FACILITY",
           "Goshen",
           "NY"
          ],
          [
           "AL TURI LANDFILL & LFGTE FACILITY",
           "Goshen",
           "NY"
          ],
          [
           "AL TURI LANDFILL & LFGTE FACILITY",
           "Goshen",
           "NY"
          ],
          [
           "AL TURI LANDFILL & LFGTE FACILITY",
           "Goshen",
           "NY"
          ],
          [
           "AL TURI LANDFILL & LFGTE FACILITY",
           "Goshen",
           "NY"
          ],
          [
           "AUBURN SANITARY LANDFILL NO 2",
           "Auburn",
           "NY"
          ],
          [
           "AUBURN SANITARY LANDFILL NO 2",
           "Auburn",
           "NY"
          ],
          [
           "AUBURN SANITARY LANDFILL NO 2",
           "Auburn",
           "NY"
          ],
          [
           "AUBURN SANITARY LANDFILL NO 2",
           "Auburn",
           "NY"
          ],
          [
           "AUBURN SANITARY LANDFILL NO 2",
           "Auburn",
           "NY"
          ],
          [
           "AUBURN SANITARY LANDFILL NO 2",
           "Auburn",
           "NY"
          ],
          [
           "AUBURN SANITARY LANDFILL NO 2",
           "Auburn",
           "NY"
          ],
          [
           "AUBURN SANITARY LANDFILL NO 2",
           "Auburn",
           "NY"
          ],
          [
           "AUBURN SANITARY LANDFILL NO 2",
           "Auburn",
           "NY"
          ],
          [
           "AUBURN SANITARY LANDFILL NO 2",
           "Auburn",
           "NY"
          ],
          [
           "AUBURN SANITARY LANDFILL NO 2",
           "Auburn",
           "NY"
          ],
          [
           "AUBURN SANITARY LANDFILL NO 2",
           "Auburn",
           "NY"
          ],
          [
           "AUBURN SANITARY LANDFILL NO 2",
           "Auburn",
           "NY"
          ],
          [
           "AUBURN SANITARY LANDFILL NO 2",
           "Auburn",
           "NY"
          ],
          [
           "AUBURN SANITARY LANDFILL NO 2",
           "Auburn",
           "NY"
          ],
          [
           "AUBURN SANITARY LANDFILL NO 2",
           "Auburn",
           "NY"
          ],
          [
           "AUBURN SANITARY LANDFILL NO 2",
           "Auburn",
           "NY"
          ],
          [
           "AUBURN SANITARY LANDFILL NO 2",
           "Auburn",
           "NY"
          ],
          [
           "AUBURN SANITARY LANDFILL NO 2",
           "Auburn",
           "NY"
          ],
          [
           "AUBURN SANITARY LANDFILL NO 2",
           "Auburn",
           "NY"
          ],
          [
           "AUBURN SANITARY LANDFILL NO 2",
           "Auburn",
           "NY"
          ],
          [
           "AUBURN SANITARY LANDFILL NO 2",
           "Auburn",
           "NY"
          ],
          [
           "AUBURN SANITARY LANDFILL NO 2",
           "Auburn",
           "NY"
          ],
          [
           "AUBURN SANITARY LANDFILL NO 2",
           "Auburn",
           "NY"
          ],
          [
           "AUBURN SANITARY LANDFILL NO 2",
           "Auburn",
           "NY"
          ],
          [
           "AUBURN SANITARY LANDFILL NO 2",
           "Auburn",
           "NY"
          ],
          [
           "AUBURN SANITARY LANDFILL NO 2",
           "Auburn",
           "NY"
          ],
          [
           "AVA LANDFILL",
           "Ava",
           "NY"
          ],
          [
           "AVA LANDFILL",
           "Ava",
           "NY"
          ],
          [
           "AVA LANDFILL",
           "Ava",
           "NY"
          ],
          [
           "AVA LANDFILL",
           "Ava",
           "NY"
          ],
          [
           "AVA LANDFILL",
           "Ava",
           "NY"
          ],
          [
           "AVA LANDFILL",
           "Ava",
           "NY"
          ],
          [
           "AVA LANDFILL",
           "Ava",
           "NY"
          ],
          [
           "AVA LANDFILL",
           "Ava",
           "NY"
          ],
          [
           "AVA LANDFILL",
           "Ava",
           "NY"
          ],
          [
           "AVA LANDFILL",
           "Ava",
           "NY"
          ],
          [
           "AVA LANDFILL",
           "Ava",
           "NY"
          ],
          [
           "AVA LANDFILL",
           "Ava",
           "NY"
          ],
          [
           "AVA LANDFILL",
           "Ava",
           "NY"
          ],
          [
           "AVA LANDFILL",
           "Ava",
           "NY"
          ],
          [
           "Blydenbugh Road Landfill",
           "Hauppauge",
           "NY"
          ],
          [
           "Blydenbugh Road Landfill",
           "Hauppauge",
           "NY"
          ],
          [
           "Blydenbugh Road Landfill",
           "Hauppauge",
           "NY"
          ],
          [
           "Blydenbugh Road Landfill",
           "Hauppauge",
           "NY"
          ],
          [
           "BRISTOL HILL SANITARY LANDFILL",
           "Fulton",
           "NY"
          ],
          [
           "BRISTOL HILL SANITARY LANDFILL",
           "Fulton",
           "NY"
          ],
          [
           "BRISTOL HILL SANITARY LANDFILL",
           "Fulton",
           "NY"
          ],
          [
           "BRISTOL HILL SANITARY LANDFILL",
           "Fulton",
           "NY"
          ],
          [
           "BRISTOL HILL SANITARY LANDFILL",
           "Fulton",
           "NY"
          ],
          [
           "BRISTOL HILL SANITARY LANDFILL",
           "Fulton",
           "NY"
          ],
          [
           "BRISTOL HILL SANITARY LANDFILL",
           "Fulton",
           "NY"
          ],
          [
           "BRISTOL HILL SANITARY LANDFILL",
           "Fulton",
           "NY"
          ],
          [
           "BRISTOL HILL SANITARY LANDFILL",
           "Fulton",
           "NY"
          ],
          [
           "BRISTOL HILL SANITARY LANDFILL",
           "Fulton",
           "NY"
          ],
          [
           "BRISTOL HILL SANITARY LANDFILL",
           "Fulton",
           "NY"
          ],
          [
           "BRISTOL HILL SANITARY LANDFILL",
           "Fulton",
           "NY"
          ],
          [
           "BRISTOL HILL SANITARY LANDFILL",
           "Fulton",
           "NY"
          ],
          [
           "BRISTOL HILL SANITARY LANDFILL",
           "Fulton",
           "NY"
          ],
          [
           "BRISTOL HILL SANITARY LANDFILL",
           "Fulton",
           "NY"
          ],
          [
           "BRISTOL HILL SANITARY LANDFILL",
           "Fulton",
           "NY"
          ],
          [
           "BRISTOL HILL SANITARY LANDFILL",
           "Fulton",
           "NY"
          ],
          [
           "BRISTOL HILL SANITARY LANDFILL",
           "Fulton",
           "NY"
          ],
          [
           "BRISTOL HILL SANITARY LANDFILL",
           "Fulton",
           "NY"
          ],
          [
           "BRISTOL HILL SANITARY LANDFILL",
           "Fulton",
           "NY"
          ],
          [
           "BRISTOL HILL SANITARY LANDFILL",
           "Fulton",
           "NY"
          ],
          [
           "BRISTOL HILL SANITARY LANDFILL",
           "Fulton",
           "NY"
          ],
          [
           "BRISTOL HILL SANITARY LANDFILL",
           "Fulton",
           "NY"
          ],
          [
           "BRISTOL HILL SANITARY LANDFILL",
           "Fulton",
           "NY"
          ],
          [
           "BROOKHAVEN LANDFILL & RECYCLING AREA",
           "Yaphank",
           "NY"
          ],
          [
           "BROOKHAVEN LANDFILL & RECYCLING AREA",
           "Yaphank",
           "NY"
          ],
          [
           "BROOKHAVEN LANDFILL & RECYCLING AREA",
           "Yaphank",
           "NY"
          ],
          [
           "BROOKHAVEN LANDFILL & RECYCLING AREA",
           "Yaphank",
           "NY"
          ],
          [
           "BROOME CO NANTICOKE LANDFILL",
           "Binghamton",
           "NY"
          ],
          [
           "BROOME CO NANTICOKE LANDFILL",
           "Binghamton",
           "NY"
          ],
          [
           "BROOME CO NANTICOKE LANDFILL",
           "Binghamton",
           "NY"
          ],
          [
           "BROOME CO NANTICOKE LANDFILL",
           "Binghamton",
           "NY"
          ],
          [
           "BROOME CO NANTICOKE LANDFILL",
           "Binghamton",
           "NY"
          ],
          [
           "BROOME CO NANTICOKE LANDFILL",
           "Binghamton",
           "NY"
          ],
          [
           "BROOME CO NANTICOKE LANDFILL",
           "Binghamton",
           "NY"
          ],
          [
           "BROOME CO NANTICOKE LANDFILL",
           "Binghamton",
           "NY"
          ],
          [
           "BROOME CO NANTICOKE LANDFILL",
           "Binghamton",
           "NY"
          ],
          [
           "BROOME CO NANTICOKE LANDFILL",
           "Binghamton",
           "NY"
          ],
          [
           "BROOME CO NANTICOKE LANDFILL",
           "Binghamton",
           "NY"
          ],
          [
           "BROOME CO NANTICOKE LANDFILL",
           "Binghamton",
           "NY"
          ],
          [
           "BROOME CO NANTICOKE LANDFILL",
           "Binghamton",
           "NY"
          ],
          [
           "BROOME CO NANTICOKE LANDFILL",
           "Binghamton",
           "NY"
          ],
          [
           "BROOME CO NANTICOKE LANDFILL",
           "Binghamton",
           "NY"
          ],
          [
           "BROOME CO NANTICOKE LANDFILL",
           "Binghamton",
           "NY"
          ],
          [
           "BROOME CO NANTICOKE LANDFILL",
           "Binghamton",
           "NY"
          ],
          [
           "BROOME CO NANTICOKE LANDFILL",
           "Binghamton",
           "NY"
          ],
          [
           "BROOME CO NANTICOKE LANDFILL",
           "Binghamton",
           "NY"
          ],
          [
           "BROOME CO NANTICOKE LANDFILL",
           "Binghamton",
           "NY"
          ],
          [
           "BROOME CO NANTICOKE LANDFILL",
           "Binghamton",
           "NY"
          ],
          [
           "BROOME CO NANTICOKE LANDFILL",
           "Binghamton",
           "NY"
          ],
          [
           "BROOME CO NANTICOKE LANDFILL",
           "Binghamton",
           "NY"
          ],
          [
           "BROOME CO NANTICOKE LANDFILL",
           "Binghamton",
           "NY"
          ],
          [
           "BROOME CO NANTICOKE LANDFILL",
           "Binghamton",
           "NY"
          ],
          [
           "BROOME CO NANTICOKE LANDFILL",
           "Binghamton",
           "NY"
          ],
          [
           "BROOME CO NANTICOKE LANDFILL",
           "Binghamton",
           "NY"
          ],
          [
           "BROOME CO NANTICOKE LANDFILL",
           "Binghamton",
           "NY"
          ],
          [
           "BROOME CO NANTICOKE LANDFILL",
           "Binghamton",
           "NY"
          ],
          [
           "BROOME CO NANTICOKE LANDFILL",
           "Binghamton",
           "NY"
          ],
          [
           "BROOME CO NANTICOKE LANDFILL",
           "Binghamton",
           "NY"
          ],
          [
           "BROOME CO NANTICOKE LANDFILL",
           "Binghamton",
           "NY"
          ],
          [
           "BROOME CO NANTICOKE LANDFILL",
           "Binghamton",
           "NY"
          ],
          [
           "BROOME CO NANTICOKE LANDFILL",
           "Binghamton",
           "NY"
          ],
          [
           "BROOME CO NANTICOKE LANDFILL",
           "Binghamton",
           "NY"
          ],
          [
           "BROOME CO NANTICOKE LANDFILL",
           "Binghamton",
           "NY"
          ],
          [
           "BROOME CO NANTICOKE LANDFILL",
           "Binghamton",
           "NY"
          ],
          [
           "BROOME CO NANTICOKE LANDFILL",
           "Binghamton",
           "NY"
          ],
          [
           "BROOME CO NANTICOKE LANDFILL",
           "Binghamton",
           "NY"
          ],
          [
           "BROOME CO NANTICOKE LANDFILL",
           "Binghamton",
           "NY"
          ],
          [
           "BROOME CO NANTICOKE LANDFILL",
           "Binghamton",
           "NY"
          ],
          [
           "BROOME CO NANTICOKE LANDFILL",
           "Binghamton",
           "NY"
          ],
          [
           "BROOME CO NANTICOKE LANDFILL",
           "Binghamton",
           "NY"
          ],
          [
           "BROOME CO NANTICOKE LANDFILL",
           "Binghamton",
           "NY"
          ],
          [
           "BROOME CO NANTICOKE LANDFILL",
           "Binghamton",
           "NY"
          ],
          [
           "BROOME CO NANTICOKE LANDFILL",
           "Binghamton",
           "NY"
          ],
          [
           "BROOME CO NANTICOKE LANDFILL",
           "Binghamton",
           "NY"
          ],
          [
           "BROOME CO NANTICOKE LANDFILL",
           "Binghamton",
           "NY"
          ],
          [
           "BROOME CO NANTICOKE LANDFILL",
           "Binghamton",
           "NY"
          ],
          [
           "Chautauqua County Landfill",
           "Jamestown",
           "NY"
          ],
          [
           "Chautauqua County Landfill",
           "Jamestown",
           "NY"
          ],
          [
           "Chautauqua County Landfill",
           "Jamestown",
           "NY"
          ],
          [
           "Chautauqua County Landfill",
           "Jamestown",
           "NY"
          ],
          [
           "Chautauqua County Landfill",
           "Jamestown",
           "NY"
          ],
          [
           "Chautauqua County Landfill",
           "Jamestown",
           "NY"
          ],
          [
           "Chautauqua County Landfill",
           "Jamestown",
           "NY"
          ],
          [
           "Chautauqua County Landfill",
           "Jamestown",
           "NY"
          ],
          [
           "Chautauqua County Landfill",
           "Jamestown",
           "NY"
          ],
          [
           "Chautauqua County Landfill",
           "Jamestown",
           "NY"
          ],
          [
           "Chautauqua County Landfill",
           "Jamestown",
           "NY"
          ],
          [
           "Chautauqua County Landfill",
           "Jamestown",
           "NY"
          ],
          [
           "Chautauqua County Landfill",
           "Jamestown",
           "NY"
          ],
          [
           "Chautauqua County Landfill",
           "Jamestown",
           "NY"
          ],
          [
           "Chautauqua County Landfill",
           "Jamestown",
           "NY"
          ],
          [
           "CHEMUNG COUNTY LANDFILL",
           "Elmira",
           "NY"
          ],
          [
           "CHEMUNG COUNTY LANDFILL",
           "Elmira",
           "NY"
          ],
          [
           "CHEMUNG COUNTY LANDFILL",
           "Elmira",
           "NY"
          ],
          [
           "CHEMUNG COUNTY LANDFILL",
           "Elmira",
           "NY"
          ],
          [
           "CHEMUNG COUNTY LANDFILL",
           "Elmira",
           "NY"
          ],
          [
           "CHEMUNG COUNTY LANDFILL",
           "Elmira",
           "NY"
          ],
          [
           "CHEMUNG COUNTY LANDFILL",
           "Elmira",
           "NY"
          ],
          [
           "CHEMUNG COUNTY LANDFILL",
           "Elmira",
           "NY"
          ],
          [
           "CHEMUNG COUNTY LANDFILL",
           "Elmira",
           "NY"
          ],
          [
           "CHEMUNG COUNTY LANDFILL",
           "Elmira",
           "NY"
          ],
          [
           "CHEMUNG COUNTY LANDFILL",
           "Elmira",
           "NY"
          ],
          [
           "CHEMUNG COUNTY LANDFILL",
           "Elmira",
           "NY"
          ],
          [
           "CHEMUNG COUNTY LANDFILL",
           "Elmira",
           "NY"
          ],
          [
           "CHEMUNG COUNTY LANDFILL",
           "Elmira",
           "NY"
          ],
          [
           "CHEMUNG COUNTY LANDFILL",
           "Elmira",
           "NY"
          ],
          [
           "CHEMUNG COUNTY LANDFILL",
           "Elmira",
           "NY"
          ],
          [
           "CHEMUNG COUNTY LANDFILL",
           "Elmira",
           "NY"
          ],
          [
           "CHEMUNG COUNTY LANDFILL",
           "Elmira",
           "NY"
          ],
          [
           "CHEMUNG COUNTY LANDFILL",
           "Elmira",
           "NY"
          ],
          [
           "CHEMUNG COUNTY LANDFILL",
           "Elmira",
           "NY"
          ],
          [
           "CHEMUNG COUNTY LANDFILL",
           "Elmira",
           "NY"
          ],
          [
           "CHEMUNG COUNTY LANDFILL",
           "Elmira",
           "NY"
          ],
          [
           "CHEMUNG COUNTY LANDFILL",
           "Elmira",
           "NY"
          ],
          [
           "CHEMUNG COUNTY LANDFILL",
           "Elmira",
           "NY"
          ],
          [
           "CLINTON COUNTY REGIONAL LANDFILL",
           "Morrisonville",
           "NY"
          ],
          [
           "CLINTON COUNTY REGIONAL LANDFILL",
           "Morrisonville",
           "NY"
          ],
          [
           "CLINTON COUNTY REGIONAL LANDFILL",
           "Morrisonville",
           "NY"
          ],
          [
           "CLINTON COUNTY REGIONAL LANDFILL",
           "Morrisonville",
           "NY"
          ],
          [
           "CLINTON COUNTY REGIONAL LANDFILL",
           "Morrisonville",
           "NY"
          ],
          [
           "CLINTON COUNTY REGIONAL LANDFILL",
           "Morrisonville",
           "NY"
          ],
          [
           "CLINTON COUNTY REGIONAL LANDFILL",
           "Morrisonville",
           "NY"
          ],
          [
           "CLINTON COUNTY REGIONAL LANDFILL",
           "Morrisonville",
           "NY"
          ],
          [
           "CLINTON COUNTY REGIONAL LANDFILL",
           "Morrisonville",
           "NY"
          ],
          [
           "CLINTON COUNTY REGIONAL LANDFILL",
           "Morrisonville",
           "NY"
          ],
          [
           "CLINTON COUNTY REGIONAL LANDFILL",
           "Morrisonville",
           "NY"
          ],
          [
           "CLINTON COUNTY REGIONAL LANDFILL",
           "Morrisonville",
           "NY"
          ],
          [
           "CLINTON COUNTY REGIONAL LANDFILL",
           "Morrisonville",
           "NY"
          ],
          [
           "CLINTON COUNTY REGIONAL LANDFILL",
           "Morrisonville",
           "NY"
          ],
          [
           "CLINTON COUNTY REGIONAL LANDFILL",
           "Morrisonville",
           "NY"
          ],
          [
           "CLINTON COUNTY REGIONAL LANDFILL",
           "Morrisonville",
           "NY"
          ],
          [
           "CLINTON COUNTY REGIONAL LANDFILL",
           "Morrisonville",
           "NY"
          ],
          [
           "CLINTON COUNTY REGIONAL LANDFILL",
           "Morrisonville",
           "NY"
          ],
          [
           "CLINTON COUNTY REGIONAL LANDFILL",
           "Morrisonville",
           "NY"
          ],
          [
           "CLINTON COUNTY REGIONAL LANDFILL",
           "Morrisonville",
           "NY"
          ],
          [
           "CLINTON COUNTY REGIONAL LANDFILL",
           "Morrisonville",
           "NY"
          ],
          [
           "CLINTON COUNTY REGIONAL LANDFILL",
           "Morrisonville",
           "NY"
          ],
          [
           "CLINTON COUNTY REGIONAL LANDFILL",
           "Morrisonville",
           "NY"
          ],
          [
           "CLINTON COUNTY REGIONAL LANDFILL",
           "Morrisonville",
           "NY"
          ],
          [
           "CLINTON COUNTY REGIONAL LANDFILL",
           "Morrisonville",
           "NY"
          ],
          [
           "CLINTON COUNTY REGIONAL LANDFILL",
           "Morrisonville",
           "NY"
          ],
          [
           "CLINTON COUNTY REGIONAL LANDFILL",
           "Morrisonville",
           "NY"
          ],
          [
           "CLINTON COUNTY REGIONAL LANDFILL",
           "Morrisonville",
           "NY"
          ],
          [
           "CLINTON COUNTY REGIONAL LANDFILL",
           "Morrisonville",
           "NY"
          ],
          [
           "CLINTON COUNTY REGIONAL LANDFILL",
           "Morrisonville",
           "NY"
          ],
          [
           "CLINTON COUNTY REGIONAL LANDFILL",
           "Morrisonville",
           "NY"
          ],
          [
           "CLINTON COUNTY REGIONAL LANDFILL",
           "Morrisonville",
           "NY"
          ],
          [
           "CLINTON COUNTY REGIONAL LANDFILL",
           "Morrisonville",
           "NY"
          ],
          [
           "CLINTON COUNTY REGIONAL LANDFILL",
           "Morrisonville",
           "NY"
          ],
          [
           "CLINTON COUNTY REGIONAL LANDFILL",
           "Morrisonville",
           "NY"
          ],
          [
           "CLINTON COUNTY REGIONAL LANDFILL",
           "Morrisonville",
           "NY"
          ],
          [
           "CLINTON COUNTY REGIONAL LANDFILL",
           "Morrisonville",
           "NY"
          ],
          [
           "CLINTON COUNTY REGIONAL LANDFILL",
           "Morrisonville",
           "NY"
          ],
          [
           "CLINTON COUNTY REGIONAL LANDFILL",
           "Morrisonville",
           "NY"
          ],
          [
           "CLINTON COUNTY REGIONAL LANDFILL",
           "Morrisonville",
           "NY"
          ],
          [
           "CLINTON COUNTY REGIONAL LANDFILL",
           "Morrisonville",
           "NY"
          ],
          [
           "CLINTON COUNTY REGIONAL LANDFILL",
           "Morrisonville",
           "NY"
          ],
          [
           "CLINTON COUNTY REGIONAL LANDFILL",
           "Morrisonville",
           "NY"
          ],
          [
           "CLINTON COUNTY REGIONAL LANDFILL",
           "Morrisonville",
           "NY"
          ],
          [
           "CLINTON COUNTY REGIONAL LANDFILL",
           "Morrisonville",
           "NY"
          ],
          [
           "CLINTON COUNTY REGIONAL LANDFILL",
           "Morrisonville",
           "NY"
          ],
          [
           "CLINTON COUNTY REGIONAL LANDFILL",
           "Morrisonville",
           "NY"
          ],
          [
           "CLINTON COUNTY REGIONAL LANDFILL",
           "Morrisonville",
           "NY"
          ],
          [
           "CLINTON COUNTY REGIONAL LANDFILL",
           "Morrisonville",
           "NY"
          ],
          [
           "CLINTON COUNTY REGIONAL LANDFILL",
           "Morrisonville",
           "NY"
          ],
          [
           "CLINTON COUNTY REGIONAL LANDFILL",
           "Morrisonville",
           "NY"
          ],
          [
           "CLINTON COUNTY REGIONAL LANDFILL",
           "Morrisonville",
           "NY"
          ],
          [
           "CLINTON COUNTY REGIONAL LANDFILL",
           "Morrisonville",
           "NY"
          ],
          [
           "CLINTON COUNTY REGIONAL LANDFILL",
           "Morrisonville",
           "NY"
          ],
          [
           "CLINTON COUNTY REGIONAL LANDFILL",
           "Morrisonville",
           "NY"
          ],
          [
           "CLINTON COUNTY REGIONAL LANDFILL",
           "Morrisonville",
           "NY"
          ],
          [
           "CLINTON COUNTY REGIONAL LANDFILL",
           "Morrisonville",
           "NY"
          ],
          [
           "CLINTON COUNTY REGIONAL LANDFILL",
           "Morrisonville",
           "NY"
          ],
          [
           "COLONIE - TOWN LANDFILL",
           "Cohoes",
           "NY"
          ],
          [
           "COLONIE - TOWN LANDFILL",
           "Cohoes",
           "NY"
          ],
          [
           "COLONIE - TOWN LANDFILL",
           "Cohoes",
           "NY"
          ],
          [
           "COLONIE - TOWN LANDFILL",
           "Cohoes",
           "NY"
          ],
          [
           "COLONIE - TOWN LANDFILL",
           "Cohoes",
           "NY"
          ],
          [
           "COLONIE - TOWN LANDFILL",
           "Cohoes",
           "NY"
          ],
          [
           "COLONIE - TOWN LANDFILL",
           "Cohoes",
           "NY"
          ],
          [
           "COLONIE - TOWN LANDFILL",
           "Cohoes",
           "NY"
          ],
          [
           "COLONIE - TOWN LANDFILL",
           "Cohoes",
           "NY"
          ],
          [
           "COLONIE - TOWN LANDFILL",
           "Cohoes",
           "NY"
          ],
          [
           "COLONIE - TOWN LANDFILL",
           "Cohoes",
           "NY"
          ],
          [
           "COLONIE - TOWN LANDFILL",
           "Cohoes",
           "NY"
          ],
          [
           "COLONIE - TOWN LANDFILL",
           "Cohoes",
           "NY"
          ],
          [
           "COLONIE - TOWN LANDFILL",
           "Cohoes",
           "NY"
          ],
          [
           "COLONIE - TOWN LANDFILL",
           "Cohoes",
           "NY"
          ],
          [
           "COLONIE - TOWN LANDFILL",
           "Cohoes",
           "NY"
          ],
          [
           "COLONIE - TOWN LANDFILL",
           "Cohoes",
           "NY"
          ],
          [
           "COLONIE - TOWN LANDFILL",
           "Cohoes",
           "NY"
          ],
          [
           "COLONIE - TOWN LANDFILL",
           "Cohoes",
           "NY"
          ],
          [
           "COLONIE - TOWN LANDFILL",
           "Cohoes",
           "NY"
          ],
          [
           "COLONIE - TOWN LANDFILL",
           "Cohoes",
           "NY"
          ],
          [
           "COLONIE - TOWN LANDFILL",
           "Cohoes",
           "NY"
          ],
          [
           "COLONIE - TOWN LANDFILL",
           "Cohoes",
           "NY"
          ],
          [
           "CORTLAND COUNTY INTERIM II LANDFILL/WEST SIDE EXT",
           "Mcgraw",
           "NY"
          ],
          [
           "CORTLAND COUNTY INTERIM II LANDFILL/WEST SIDE EXT",
           "Mcgraw",
           "NY"
          ],
          [
           "CORTLAND COUNTY INTERIM II LANDFILL/WEST SIDE EXT",
           "Mcgraw",
           "NY"
          ],
          [
           "CORTLAND COUNTY INTERIM II LANDFILL/WEST SIDE EXT",
           "Mcgraw",
           "NY"
          ],
          [
           "CORTLAND COUNTY INTERIM II LANDFILL/WEST SIDE EXT",
           "Mcgraw",
           "NY"
          ],
          [
           "CORTLAND COUNTY INTERIM II LANDFILL/WEST SIDE EXT",
           "Mcgraw",
           "NY"
          ],
          [
           "CORTLAND COUNTY INTERIM II LANDFILL/WEST SIDE EXT",
           "Mcgraw",
           "NY"
          ],
          [
           "CORTLAND COUNTY INTERIM II LANDFILL/WEST SIDE EXT",
           "Mcgraw",
           "NY"
          ],
          [
           "CORTLAND COUNTY INTERIM II LANDFILL/WEST SIDE EXT",
           "Mcgraw",
           "NY"
          ],
          [
           "CORTLAND COUNTY INTERIM II LANDFILL/WEST SIDE EXT",
           "Mcgraw",
           "NY"
          ],
          [
           "CORTLAND COUNTY INTERIM II LANDFILL/WEST SIDE EXT",
           "Mcgraw",
           "NY"
          ],
          [
           "CORTLAND COUNTY INTERIM II LANDFILL/WEST SIDE EXT",
           "Mcgraw",
           "NY"
          ],
          [
           "CORTLAND COUNTY INTERIM II LANDFILL/WEST SIDE EXT",
           "Mcgraw",
           "NY"
          ],
          [
           "CORTLAND COUNTY INTERIM II LANDFILL/WEST SIDE EXT",
           "Mcgraw",
           "NY"
          ],
          [
           "CORTLAND COUNTY INTERIM II LANDFILL/WEST SIDE EXT",
           "Mcgraw",
           "NY"
          ],
          [
           "CORTLAND COUNTY INTERIM II LANDFILL/WEST SIDE EXT",
           "Mcgraw",
           "NY"
          ],
          [
           "CORTLAND COUNTY INTERIM II LANDFILL/WEST SIDE EXT",
           "Mcgraw",
           "NY"
          ],
          [
           "CORTLAND COUNTY INTERIM II LANDFILL/WEST SIDE EXT",
           "Mcgraw",
           "NY"
          ],
          [
           "CORTLAND COUNTY INTERIM II LANDFILL/WEST SIDE EXT",
           "Mcgraw",
           "NY"
          ],
          [
           "CORTLAND COUNTY INTERIM II LANDFILL/WEST SIDE EXT",
           "Mcgraw",
           "NY"
          ],
          [
           "CORTLAND COUNTY INTERIM II LANDFILL/WEST SIDE EXT",
           "Mcgraw",
           "NY"
          ],
          [
           "CORTLAND COUNTY INTERIM II LANDFILL/WEST SIDE EXT",
           "Mcgraw",
           "NY"
          ],
          [
           "CORTLAND COUNTY INTERIM II LANDFILL/WEST SIDE EXT",
           "Mcgraw",
           "NY"
          ],
          [
           "CORTLAND COUNTY INTERIM II LANDFILL/WEST SIDE EXT",
           "Mcgraw",
           "NY"
          ],
          [
           "CORTLAND COUNTY INTERIM II LANDFILL/WEST SIDE EXT",
           "Mcgraw",
           "NY"
          ],
          [
           "CORTLAND COUNTY INTERIM II LANDFILL/WEST SIDE EXT",
           "Mcgraw",
           "NY"
          ],
          [
           "COVANTA BABYLON, INC.",
           "West babylon",
           "NY"
          ],
          [
           "COVANTA BABYLON, INC.",
           "West babylon",
           "NY"
          ],
          [
           "COVANTA BABYLON, INC.",
           "West babylon",
           "NY"
          ],
          [
           "COVANTA BABYLON, INC.",
           "West babylon",
           "NY"
          ],
          [
           "COVANTA BABYLON, INC.",
           "West babylon",
           "NY"
          ],
          [
           "COVANTA BABYLON, INC.",
           "West babylon",
           "NY"
          ],
          [
           "COVANTA BABYLON, INC.",
           "West babylon",
           "NY"
          ],
          [
           "COVANTA BABYLON, INC.",
           "West babylon",
           "NY"
          ],
          [
           "COVANTA BABYLON, INC.",
           "West babylon",
           "NY"
          ],
          [
           "COVANTA BABYLON, INC.",
           "West babylon",
           "NY"
          ],
          [
           "COVANTA BABYLON, INC.",
           "West babylon",
           "NY"
          ],
          [
           "COVANTA BABYLON, INC.",
           "West babylon",
           "NY"
          ],
          [
           "COVANTA HUNTINGTON",
           "East northport",
           "NY"
          ],
          [
           "COVANTA HUNTINGTON",
           "East northport",
           "NY"
          ],
          [
           "COVANTA HUNTINGTON",
           "East northport",
           "NY"
          ],
          [
           "COVANTA HUNTINGTON",
           "East northport",
           "NY"
          ],
          [
           "COVANTA HUNTINGTON",
           "East northport",
           "NY"
          ],
          [
           "COVANTA HUNTINGTON",
           "East northport",
           "NY"
          ],
          [
           "COVANTA HUNTINGTON",
           "East northport",
           "NY"
          ],
          [
           "COVANTA HUNTINGTON",
           "East northport",
           "NY"
          ],
          [
           "COVANTA HUNTINGTON",
           "East northport",
           "NY"
          ],
          [
           "COVANTA HUNTINGTON",
           "East northport",
           "NY"
          ],
          [
           "COVANTA HUNTINGTON",
           "East northport",
           "NY"
          ],
          [
           "COVANTA HUNTINGTON",
           "East northport",
           "NY"
          ],
          [
           "DANC SOLID WASTE MANAGEMENT FACILITY",
           "Rodman",
           "NY"
          ],
          [
           "DANC SOLID WASTE MANAGEMENT FACILITY",
           "Rodman",
           "NY"
          ],
          [
           "DANC SOLID WASTE MANAGEMENT FACILITY",
           "Rodman",
           "NY"
          ],
          [
           "DANC SOLID WASTE MANAGEMENT FACILITY",
           "Rodman",
           "NY"
          ],
          [
           "DANC SOLID WASTE MANAGEMENT FACILITY",
           "Rodman",
           "NY"
          ],
          [
           "DANC SOLID WASTE MANAGEMENT FACILITY",
           "Rodman",
           "NY"
          ],
          [
           "DANC SOLID WASTE MANAGEMENT FACILITY",
           "Rodman",
           "NY"
          ],
          [
           "DANC SOLID WASTE MANAGEMENT FACILITY",
           "Rodman",
           "NY"
          ],
          [
           "DANC SOLID WASTE MANAGEMENT FACILITY",
           "Rodman",
           "NY"
          ],
          [
           "DANC SOLID WASTE MANAGEMENT FACILITY",
           "Rodman",
           "NY"
          ],
          [
           "DANC SOLID WASTE MANAGEMENT FACILITY",
           "Rodman",
           "NY"
          ],
          [
           "DANC SOLID WASTE MANAGEMENT FACILITY",
           "Rodman",
           "NY"
          ],
          [
           "DANC SOLID WASTE MANAGEMENT FACILITY",
           "Rodman",
           "NY"
          ],
          [
           "DANC SOLID WASTE MANAGEMENT FACILITY",
           "Rodman",
           "NY"
          ],
          [
           "DANC SOLID WASTE MANAGEMENT FACILITY",
           "Rodman",
           "NY"
          ],
          [
           "DANC SOLID WASTE MANAGEMENT FACILITY",
           "Rodman",
           "NY"
          ],
          [
           "DANC SOLID WASTE MANAGEMENT FACILITY",
           "Rodman",
           "NY"
          ],
          [
           "DUTCHESS CO RESOURCE RECOVERY FACILITY",
           "Poughkeepsie",
           "NY"
          ],
          [
           "DUTCHESS CO RESOURCE RECOVERY FACILITY",
           "Poughkeepsie",
           "NY"
          ],
          [
           "DUTCHESS CO RESOURCE RECOVERY FACILITY",
           "Poughkeepsie",
           "NY"
          ],
          [
           "DUTCHESS CO RESOURCE RECOVERY FACILITY",
           "Poughkeepsie",
           "NY"
          ],
          [
           "DUTCHESS CO RESOURCE RECOVERY FACILITY",
           "Poughkeepsie",
           "NY"
          ],
          [
           "DUTCHESS CO RESOURCE RECOVERY FACILITY",
           "Poughkeepsie",
           "NY"
          ],
          [
           "DUTCHESS CO RESOURCE RECOVERY FACILITY",
           "Poughkeepsie",
           "NY"
          ],
          [
           "DUTCHESS CO RESOURCE RECOVERY FACILITY",
           "Poughkeepsie",
           "NY"
          ],
          [
           "DUTCHESS CO RESOURCE RECOVERY FACILITY",
           "Poughkeepsie",
           "NY"
          ],
          [
           "DUTCHESS CO RESOURCE RECOVERY FACILITY",
           "Poughkeepsie",
           "NY"
          ],
          [
           "DUTCHESS CO RESOURCE RECOVERY FACILITY",
           "Poughkeepsie",
           "NY"
          ],
          [
           "DUTCHESS CO RESOURCE RECOVERY FACILITY",
           "Poughkeepsie",
           "NY"
          ],
          [
           "FRANKLIN COUNTY REGIONAL LANDFILL",
           "Constable",
           "NY"
          ],
          [
           "FRANKLIN COUNTY REGIONAL LANDFILL",
           "Constable",
           "NY"
          ],
          [
           "FRANKLIN COUNTY REGIONAL LANDFILL",
           "Constable",
           "NY"
          ],
          [
           "FRANKLIN COUNTY REGIONAL LANDFILL",
           "Constable",
           "NY"
          ],
          [
           "FRANKLIN COUNTY REGIONAL LANDFILL",
           "Constable",
           "NY"
          ],
          [
           "FRANKLIN COUNTY REGIONAL LANDFILL",
           "Constable",
           "NY"
          ],
          [
           "FRANKLIN COUNTY REGIONAL LANDFILL",
           "Constable",
           "NY"
          ],
          [
           "FRANKLIN COUNTY REGIONAL LANDFILL",
           "Constable",
           "NY"
          ],
          [
           "FRANKLIN COUNTY REGIONAL LANDFILL",
           "Constable",
           "NY"
          ],
          [
           "FRANKLIN COUNTY REGIONAL LANDFILL",
           "Constable",
           "NY"
          ],
          [
           "FRANKLIN COUNTY REGIONAL LANDFILL",
           "Constable",
           "NY"
          ],
          [
           "FRANKLIN COUNTY REGIONAL LANDFILL",
           "Constable",
           "NY"
          ],
          [
           "FRANKLIN COUNTY REGIONAL LANDFILL",
           "Constable",
           "NY"
          ],
          [
           "FRANKLIN COUNTY REGIONAL LANDFILL",
           "Constable",
           "NY"
          ],
          [
           "FRANKLIN COUNTY REGIONAL LANDFILL",
           "Constable",
           "NY"
          ],
          [
           "FRANKLIN COUNTY REGIONAL LANDFILL",
           "Constable",
           "NY"
          ],
          [
           "Fresh Kills Landfill",
           "Staten island",
           "NY"
          ],
          [
           "Fresh Kills Landfill",
           "Staten island",
           "NY"
          ],
          [
           "Fresh Kills Landfill",
           "Staten island",
           "NY"
          ],
          [
           "Fresh Kills Landfill",
           "Staten island",
           "NY"
          ],
          [
           "Fresh Kills Landfill",
           "Staten island",
           "NY"
          ],
          [
           "Fresh Kills Landfill",
           "Staten island",
           "NY"
          ],
          [
           "Fresh Kills Landfill",
           "Staten island",
           "NY"
          ],
          [
           "Fresh Kills Landfill",
           "Staten island",
           "NY"
          ],
          [
           "Fresh Kills Landfill",
           "Staten island",
           "NY"
          ],
          [
           "Fresh Kills Landfill",
           "Staten island",
           "NY"
          ],
          [
           "Fresh Kills Landfill",
           "Staten island",
           "NY"
          ],
          [
           "Fresh Kills Landfill",
           "Staten island",
           "NY"
          ],
          [
           "Fresh Kills Landfill",
           "Staten island",
           "NY"
          ],
          [
           "Fresh Kills Landfill",
           "Staten island",
           "NY"
          ],
          [
           "Fresh Kills Landfill",
           "Staten island",
           "NY"
          ],
          [
           "Fresh Kills Landfill",
           "Staten island",
           "NY"
          ],
          [
           "Fresh Kills Landfill",
           "Staten island",
           "NY"
          ],
          [
           "Fresh Kills Landfill",
           "Staten island",
           "NY"
          ],
          [
           "Fresh Kills Landfill",
           "Staten island",
           "NY"
          ],
          [
           "Fresh Kills Landfill",
           "Staten island",
           "NY"
          ],
          [
           "Fresh Kills Landfill",
           "Staten island",
           "NY"
          ],
          [
           "Fresh Kills Landfill",
           "Staten island",
           "NY"
          ],
          [
           "Fresh Kills Landfill",
           "Staten island",
           "NY"
          ],
          [
           "Fresh Kills Landfill",
           "Staten island",
           "NY"
          ],
          [
           "Fresh Kills Landfill",
           "Staten island",
           "NY"
          ],
          [
           "Fresh Kills Landfill",
           "Staten island",
           "NY"
          ],
          [
           "Fresh Kills Landfill",
           "Staten island",
           "NY"
          ],
          [
           "Fresh Kills Landfill",
           "Staten island",
           "NY"
          ],
          [
           "Fresh Kills Landfill",
           "Staten island",
           "NY"
          ],
          [
           "Fresh Kills Landfill",
           "Staten island",
           "NY"
          ],
          [
           "Fresh Kills Landfill",
           "Staten island",
           "NY"
          ],
          [
           "Fresh Kills Landfill",
           "Staten island",
           "NY"
          ],
          [
           "Fresh Kills Landfill",
           "Staten island",
           "NY"
          ],
          [
           "Fresh Kills Landfill",
           "Staten island",
           "NY"
          ],
          [
           "Fresh Kills Landfill",
           "Staten island",
           "NY"
          ],
          [
           "Fresh Kills Landfill",
           "Staten island",
           "NY"
          ],
          [
           "Fresh Kills Landfill",
           "Staten island",
           "NY"
          ],
          [
           "Fresh Kills Landfill",
           "Staten island",
           "NY"
          ],
          [
           "Fresh Kills Landfill",
           "Staten island",
           "NY"
          ],
          [
           "Fresh Kills Landfill",
           "Staten island",
           "NY"
          ],
          [
           "Fresh Kills Landfill",
           "Staten island",
           "NY"
          ],
          [
           "Fresh Kills Landfill",
           "Staten island",
           "NY"
          ],
          [
           "Fresh Kills Landfill",
           "Staten island",
           "NY"
          ],
          [
           "Fresh Kills Landfill",
           "Staten island",
           "NY"
          ],
          [
           "Fresh Kills Landfill",
           "Staten island",
           "NY"
          ],
          [
           "Fresh Kills Landfill",
           "Staten island",
           "NY"
          ],
          [
           "Fresh Kills Landfill",
           "Staten island",
           "NY"
          ],
          [
           "Fresh Kills Landfill",
           "Staten island",
           "NY"
          ],
          [
           "Fresh Kills Landfill",
           "Staten island",
           "NY"
          ],
          [
           "Fresh Kills Landfill",
           "Staten island",
           "NY"
          ],
          [
           "Fresh Kills Landfill",
           "Staten island",
           "NY"
          ],
          [
           "Fresh Kills Landfill",
           "Staten island",
           "NY"
          ],
          [
           "Fresh Kills Landfill",
           "Staten island",
           "NY"
          ],
          [
           "Fresh Kills Landfill",
           "Staten island",
           "NY"
          ],
          [
           "Fresh Kills Landfill",
           "Staten island",
           "NY"
          ],
          [
           "FULTON COUNTY DEPT OF SOLID WASTE",
           "Johnstown",
           "NY"
          ],
          [
           "FULTON COUNTY DEPT OF SOLID WASTE",
           "Johnstown",
           "NY"
          ],
          [
           "FULTON COUNTY DEPT OF SOLID WASTE",
           "Johnstown",
           "NY"
          ],
          [
           "FULTON COUNTY DEPT OF SOLID WASTE",
           "Johnstown",
           "NY"
          ],
          [
           "FULTON COUNTY DEPT OF SOLID WASTE",
           "Johnstown",
           "NY"
          ],
          [
           "FULTON COUNTY DEPT OF SOLID WASTE",
           "Johnstown",
           "NY"
          ],
          [
           "FULTON COUNTY DEPT OF SOLID WASTE",
           "Johnstown",
           "NY"
          ],
          [
           "FULTON COUNTY DEPT OF SOLID WASTE",
           "Johnstown",
           "NY"
          ],
          [
           "FULTON COUNTY DEPT OF SOLID WASTE",
           "Johnstown",
           "NY"
          ],
          [
           "FULTON COUNTY DEPT OF SOLID WASTE",
           "Johnstown",
           "NY"
          ],
          [
           "FULTON COUNTY DEPT OF SOLID WASTE",
           "Johnstown",
           "NY"
          ],
          [
           "FULTON COUNTY DEPT OF SOLID WASTE",
           "Johnstown",
           "NY"
          ],
          [
           "FULTON COUNTY DEPT OF SOLID WASTE",
           "Johnstown",
           "NY"
          ],
          [
           "FULTON COUNTY DEPT OF SOLID WASTE",
           "Johnstown",
           "NY"
          ],
          [
           "FULTON COUNTY DEPT OF SOLID WASTE",
           "Johnstown",
           "NY"
          ],
          [
           "FULTON COUNTY DEPT OF SOLID WASTE",
           "Johnstown",
           "NY"
          ],
          [
           "FULTON COUNTY DEPT OF SOLID WASTE",
           "Johnstown",
           "NY"
          ],
          [
           "FULTON COUNTY DEPT OF SOLID WASTE",
           "Johnstown",
           "NY"
          ],
          [
           "FULTON COUNTY DEPT OF SOLID WASTE",
           "Johnstown",
           "NY"
          ],
          [
           "FULTON COUNTY DEPT OF SOLID WASTE",
           "Johnstown",
           "NY"
          ],
          [
           "FULTON COUNTY DEPT OF SOLID WASTE",
           "Johnstown",
           "NY"
          ],
          [
           "FULTON COUNTY DEPT OF SOLID WASTE",
           "Johnstown",
           "NY"
          ],
          [
           "FULTON COUNTY DEPT OF SOLID WASTE",
           "Johnstown",
           "NY"
          ],
          [
           "FULTON COUNTY DEPT OF SOLID WASTE",
           "Johnstown",
           "NY"
          ],
          [
           "HIGH ACRES LANDFILL & RECYCLING CENTER",
           "Fairport",
           "NY"
          ],
          [
           "HIGH ACRES LANDFILL & RECYCLING CENTER",
           "Fairport",
           "NY"
          ],
          [
           "HIGH ACRES LANDFILL & RECYCLING CENTER",
           "Fairport",
           "NY"
          ],
          [
           "HIGH ACRES LANDFILL & RECYCLING CENTER",
           "Fairport",
           "NY"
          ],
          [
           "HIGH ACRES LANDFILL & RECYCLING CENTER",
           "Fairport",
           "NY"
          ],
          [
           "HIGH ACRES LANDFILL & RECYCLING CENTER",
           "Fairport",
           "NY"
          ],
          [
           "HIGH ACRES LANDFILL & RECYCLING CENTER",
           "Fairport",
           "NY"
          ],
          [
           "HIGH ACRES LANDFILL & RECYCLING CENTER",
           "Fairport",
           "NY"
          ],
          [
           "HIGH ACRES LANDFILL & RECYCLING CENTER",
           "Fairport",
           "NY"
          ],
          [
           "HIGH ACRES LANDFILL & RECYCLING CENTER",
           "Fairport",
           "NY"
          ],
          [
           "HIGH ACRES LANDFILL & RECYCLING CENTER",
           "Fairport",
           "NY"
          ],
          [
           "HIGH ACRES LANDFILL & RECYCLING CENTER",
           "Fairport",
           "NY"
          ],
          [
           "HIGH ACRES LANDFILL & RECYCLING CENTER",
           "Fairport",
           "NY"
          ],
          [
           "HIGH ACRES LANDFILL & RECYCLING CENTER",
           "Fairport",
           "NY"
          ],
          [
           "HIGH ACRES LANDFILL & RECYCLING CENTER",
           "Fairport",
           "NY"
          ],
          [
           "HIGH ACRES LANDFILL & RECYCLING CENTER",
           "Fairport",
           "NY"
          ],
          [
           "HIGH ACRES LANDFILL & RECYCLING CENTER",
           "Fairport",
           "NY"
          ],
          [
           "HIGH ACRES LANDFILL & RECYCLING CENTER",
           "Fairport",
           "NY"
          ],
          [
           "HIGH ACRES LANDFILL & RECYCLING CENTER",
           "Fairport",
           "NY"
          ],
          [
           "HIGH ACRES LANDFILL & RECYCLING CENTER",
           "Fairport",
           "NY"
          ],
          [
           "HIGH ACRES LANDFILL & RECYCLING CENTER",
           "Fairport",
           "NY"
          ],
          [
           "HIGH ACRES LANDFILL & RECYCLING CENTER",
           "Fairport",
           "NY"
          ],
          [
           "HIGH ACRES LANDFILL & RECYCLING CENTER",
           "Fairport",
           "NY"
          ],
          [
           "HIGH ACRES LANDFILL & RECYCLING CENTER",
           "Fairport",
           "NY"
          ],
          [
           "HIGH ACRES LANDFILL & RECYCLING CENTER",
           "Fairport",
           "NY"
          ],
          [
           "HIGH ACRES LANDFILL & RECYCLING CENTER",
           "Fairport",
           "NY"
          ],
          [
           "HIGH ACRES LANDFILL & RECYCLING CENTER",
           "Fairport",
           "NY"
          ],
          [
           "HIGH ACRES LANDFILL & RECYCLING CENTER",
           "Fairport",
           "NY"
          ],
          [
           "HIGH ACRES LANDFILL & RECYCLING CENTER",
           "Fairport",
           "NY"
          ],
          [
           "HIGH ACRES LANDFILL & RECYCLING CENTER",
           "Fairport",
           "NY"
          ],
          [
           "HIGH ACRES LANDFILL & RECYCLING CENTER",
           "Fairport",
           "NY"
          ],
          [
           "HIGH ACRES LANDFILL & RECYCLING CENTER",
           "Fairport",
           "NY"
          ],
          [
           "HIGH ACRES LANDFILL & RECYCLING CENTER",
           "Fairport",
           "NY"
          ],
          [
           "HIGH ACRES LANDFILL & RECYCLING CENTER",
           "Fairport",
           "NY"
          ],
          [
           "HIGH ACRES LANDFILL & RECYCLING CENTER",
           "Fairport",
           "NY"
          ],
          [
           "HIGH ACRES LANDFILL & RECYCLING CENTER",
           "Fairport",
           "NY"
          ],
          [
           "HIGH ACRES LANDFILL & RECYCLING CENTER",
           "Fairport",
           "NY"
          ],
          [
           "HIGH ACRES LANDFILL & RECYCLING CENTER",
           "Fairport",
           "NY"
          ],
          [
           "HIGH ACRES LANDFILL & RECYCLING CENTER",
           "Fairport",
           "NY"
          ],
          [
           "HIGH ACRES LANDFILL & RECYCLING CENTER",
           "Fairport",
           "NY"
          ],
          [
           "HIGH ACRES LANDFILL & RECYCLING CENTER",
           "Fairport",
           "NY"
          ],
          [
           "HIGH ACRES LANDFILL & RECYCLING CENTER",
           "Fairport",
           "NY"
          ],
          [
           "HIGH ACRES LANDFILL & RECYCLING CENTER",
           "Fairport",
           "NY"
          ],
          [
           "HIGH ACRES LANDFILL & RECYCLING CENTER",
           "Fairport",
           "NY"
          ],
          [
           "HIGH ACRES LANDFILL & RECYCLING CENTER",
           "Fairport",
           "NY"
          ],
          [
           "HIGH ACRES LANDFILL & RECYCLING CENTER",
           "Fairport",
           "NY"
          ],
          [
           "HIGH ACRES LANDFILL & RECYCLING CENTER",
           "Fairport",
           "NY"
          ],
          [
           "HIGH ACRES LANDFILL & RECYCLING CENTER",
           "Fairport",
           "NY"
          ],
          [
           "HIGH ACRES LANDFILL & RECYCLING CENTER",
           "Fairport",
           "NY"
          ],
          [
           "HIGH ACRES LANDFILL & RECYCLING CENTER",
           "Fairport",
           "NY"
          ],
          [
           "HIGH ACRES LANDFILL & RECYCLING CENTER",
           "Fairport",
           "NY"
          ],
          [
           "HIGH ACRES LANDFILL & RECYCLING CENTER",
           "Fairport",
           "NY"
          ],
          [
           "HIGH ACRES LANDFILL & RECYCLING CENTER",
           "Fairport",
           "NY"
          ],
          [
           "HIGH ACRES LANDFILL & RECYCLING CENTER",
           "Fairport",
           "NY"
          ],
          [
           "HIGH ACRES LANDFILL & RECYCLING CENTER",
           "Fairport",
           "NY"
          ],
          [
           "HIGH ACRES LANDFILL & RECYCLING CENTER",
           "Fairport",
           "NY"
          ],
          [
           "HIGH ACRES LANDFILL & RECYCLING CENTER",
           "Fairport",
           "NY"
          ],
          [
           "HIGH ACRES LANDFILL & RECYCLING CENTER",
           "Fairport",
           "NY"
          ],
          [
           "HIGH ACRES LANDFILL & RECYCLING CENTER",
           "Fairport",
           "NY"
          ],
          [
           "HIGH ACRES LANDFILL & RECYCLING CENTER",
           "Fairport",
           "NY"
          ],
          [
           "HIGH ACRES LANDFILL & RECYCLING CENTER",
           "Fairport",
           "NY"
          ],
          [
           "HIGH ACRES LANDFILL & RECYCLING CENTER",
           "Fairport",
           "NY"
          ],
          [
           "HIGH ACRES LANDFILL & RECYCLING CENTER",
           "Fairport",
           "NY"
          ],
          [
           "HIGH ACRES LANDFILL & RECYCLING CENTER",
           "Fairport",
           "NY"
          ],
          [
           "HIGH ACRES LANDFILL & RECYCLING CENTER",
           "Fairport",
           "NY"
          ],
          [
           "HIGH ACRES LANDFILL & RECYCLING CENTER",
           "Fairport",
           "NY"
          ],
          [
           "HIGH ACRES LANDFILL & RECYCLING CENTER",
           "Fairport",
           "NY"
          ],
          [
           "HIGH ACRES LANDFILL & RECYCLING CENTER",
           "Fairport",
           "NY"
          ],
          [
           "HIGH ACRES LANDFILL & RECYCLING CENTER",
           "Fairport",
           "NY"
          ],
          [
           "HIGH ACRES LANDFILL & RECYCLING CENTER",
           "Fairport",
           "NY"
          ],
          [
           "HIGH ACRES LANDFILL & RECYCLING CENTER",
           "Fairport",
           "NY"
          ],
          [
           "HIGH ACRES LANDFILL & RECYCLING CENTER",
           "Fairport",
           "NY"
          ],
          [
           "HIGH ACRES LANDFILL & RECYCLING CENTER",
           "Fairport",
           "NY"
          ],
          [
           "HIGH ACRES LANDFILL & RECYCLING CENTER",
           "Fairport",
           "NY"
          ],
          [
           "HIGH ACRES LANDFILL & RECYCLING CENTER",
           "Fairport",
           "NY"
          ],
          [
           "HIGH ACRES LANDFILL & RECYCLING CENTER",
           "Fairport",
           "NY"
          ],
          [
           "HIGH ACRES LANDFILL & RECYCLING CENTER",
           "Fairport",
           "NY"
          ],
          [
           "HIGH ACRES LANDFILL & RECYCLING CENTER",
           "Fairport",
           "NY"
          ],
          [
           "HIGH ACRES LANDFILL & RECYCLING CENTER",
           "Fairport",
           "NY"
          ],
          [
           "HIGH ACRES LANDFILL & RECYCLING CENTER",
           "Fairport",
           "NY"
          ],
          [
           "HIGH ACRES LANDFILL & RECYCLING CENTER",
           "Fairport",
           "NY"
          ],
          [
           "HIGH ACRES LANDFILL & RECYCLING CENTER",
           "Fairport",
           "NY"
          ],
          [
           "HIGH ACRES LANDFILL & RECYCLING CENTER",
           "Fairport",
           "NY"
          ],
          [
           "HIGH ACRES LANDFILL & RECYCLING CENTER",
           "Fairport",
           "NY"
          ],
          [
           "HIGH ACRES LANDFILL & RECYCLING CENTER",
           "Fairport",
           "NY"
          ],
          [
           "HIGH ACRES LANDFILL & RECYCLING CENTER",
           "Fairport",
           "NY"
          ],
          [
           "HIGH ACRES LANDFILL & RECYCLING CENTER",
           "Fairport",
           "NY"
          ],
          [
           "HIGH ACRES LANDFILL & RECYCLING CENTER",
           "Fairport",
           "NY"
          ],
          [
           "HIGH ACRES LANDFILL & RECYCLING CENTER",
           "Fairport",
           "NY"
          ],
          [
           "HIGH ACRES LANDFILL & RECYCLING CENTER",
           "Fairport",
           "NY"
          ],
          [
           "HIGH ACRES LANDFILL & RECYCLING CENTER",
           "Fairport",
           "NY"
          ],
          [
           "HIGH ACRES LANDFILL & RECYCLING CENTER",
           "Fairport",
           "NY"
          ],
          [
           "HIGH ACRES LANDFILL & RECYCLING CENTER",
           "Fairport",
           "NY"
          ],
          [
           "HIGH ACRES LANDFILL & RECYCLING CENTER",
           "Fairport",
           "NY"
          ],
          [
           "HIGH ACRES LANDFILL & RECYCLING CENTER",
           "Fairport",
           "NY"
          ],
          [
           "HIGH ACRES LANDFILL & RECYCLING CENTER",
           "Fairport",
           "NY"
          ],
          [
           "HIGH ACRES LANDFILL & RECYCLING CENTER",
           "Fairport",
           "NY"
          ],
          [
           "HIGH ACRES LANDFILL & RECYCLING CENTER",
           "Fairport",
           "NY"
          ],
          [
           "HIGH ACRES LANDFILL & RECYCLING CENTER",
           "Fairport",
           "NY"
          ],
          [
           "HIGH ACRES LANDFILL & RECYCLING CENTER",
           "Fairport",
           "NY"
          ],
          [
           "HIGH ACRES LANDFILL & RECYCLING CENTER",
           "Fairport",
           "NY"
          ],
          [
           "HIGH ACRES LANDFILL & RECYCLING CENTER",
           "Fairport",
           "NY"
          ],
          [
           "HIGH ACRES LANDFILL & RECYCLING CENTER",
           "Fairport",
           "NY"
          ],
          [
           "HIGH ACRES LANDFILL & RECYCLING CENTER",
           "Fairport",
           "NY"
          ],
          [
           "HIGH ACRES LANDFILL & RECYCLING CENTER",
           "Fairport",
           "NY"
          ],
          [
           "HIGH ACRES LANDFILL & RECYCLING CENTER",
           "Fairport",
           "NY"
          ],
          [
           "HIGH ACRES LANDFILL & RECYCLING CENTER",
           "Fairport",
           "NY"
          ],
          [
           "HIGH ACRES LANDFILL & RECYCLING CENTER",
           "Fairport",
           "NY"
          ],
          [
           "HIGH ACRES LANDFILL & RECYCLING CENTER",
           "Fairport",
           "NY"
          ],
          [
           "HIGH ACRES LANDFILL & RECYCLING CENTER",
           "Fairport",
           "NY"
          ],
          [
           "HIGH ACRES LANDFILL & RECYCLING CENTER",
           "Fairport",
           "NY"
          ],
          [
           "HIGH ACRES LANDFILL & RECYCLING CENTER",
           "Fairport",
           "NY"
          ],
          [
           "HIGH ACRES LANDFILL & RECYCLING CENTER",
           "Fairport",
           "NY"
          ],
          [
           "HIGH ACRES LANDFILL & RECYCLING CENTER",
           "Fairport",
           "NY"
          ],
          [
           "HIGH ACRES LANDFILL & RECYCLING CENTER",
           "Fairport",
           "NY"
          ],
          [
           "HIGH ACRES LANDFILL & RECYCLING CENTER",
           "Fairport",
           "NY"
          ],
          [
           "HIGH ACRES LANDFILL & RECYCLING CENTER",
           "Fairport",
           "NY"
          ],
          [
           "HIGH ACRES LANDFILL & RECYCLING CENTER",
           "Fairport",
           "NY"
          ],
          [
           "HIGH ACRES LANDFILL & RECYCLING CENTER",
           "Fairport",
           "NY"
          ],
          [
           "HIGH ACRES LANDFILL & RECYCLING CENTER",
           "Fairport",
           "NY"
          ],
          [
           "HIGH ACRES LANDFILL & RECYCLING CENTER",
           "Fairport",
           "NY"
          ],
          [
           "HIGH ACRES LANDFILL & RECYCLING CENTER",
           "Fairport",
           "NY"
          ],
          [
           "HIGH ACRES LANDFILL & RECYCLING CENTER",
           "Fairport",
           "NY"
          ],
          [
           "HIGH ACRES LANDFILL & RECYCLING CENTER",
           "Fairport",
           "NY"
          ],
          [
           "HIGH ACRES LANDFILL & RECYCLING CENTER",
           "Fairport",
           "NY"
          ],
          [
           "HIGH ACRES LANDFILL & RECYCLING CENTER",
           "Fairport",
           "NY"
          ],
          [
           "HIGH ACRES LANDFILL & RECYCLING CENTER",
           "Fairport",
           "NY"
          ],
          [
           "HIGH ACRES LANDFILL & RECYCLING CENTER",
           "Fairport",
           "NY"
          ],
          [
           "HIGH ACRES LANDFILL & RECYCLING CENTER",
           "Fairport",
           "NY"
          ],
          [
           "HIGH ACRES LANDFILL & RECYCLING CENTER",
           "Fairport",
           "NY"
          ],
          [
           "HIGH ACRES LANDFILL & RECYCLING CENTER",
           "Fairport",
           "NY"
          ],
          [
           "HIGH ACRES LANDFILL & RECYCLING CENTER",
           "Fairport",
           "NY"
          ],
          [
           "HIGH ACRES LANDFILL & RECYCLING CENTER",
           "Fairport",
           "NY"
          ],
          [
           "HIGH ACRES LANDFILL & RECYCLING CENTER",
           "Fairport",
           "NY"
          ],
          [
           "HIGH ACRES LANDFILL & RECYCLING CENTER",
           "Fairport",
           "NY"
          ],
          [
           "HIGH ACRES LANDFILL & RECYCLING CENTER",
           "Fairport",
           "NY"
          ],
          [
           "HIGH ACRES LANDFILL & RECYCLING CENTER",
           "Fairport",
           "NY"
          ],
          [
           "HIGH ACRES LANDFILL & RECYCLING CENTER",
           "Fairport",
           "NY"
          ],
          [
           "HIGH ACRES LANDFILL & RECYCLING CENTER",
           "Fairport",
           "NY"
          ],
          [
           "HIGH ACRES LANDFILL & RECYCLING CENTER",
           "Fairport",
           "NY"
          ],
          [
           "HIGH ACRES LANDFILL & RECYCLING CENTER",
           "Fairport",
           "NY"
          ],
          [
           "HIGH ACRES LANDFILL & RECYCLING CENTER",
           "Fairport",
           "NY"
          ],
          [
           "HIGH ACRES LANDFILL & RECYCLING CENTER",
           "Fairport",
           "NY"
          ],
          [
           "HIGH ACRES LANDFILL & RECYCLING CENTER",
           "Fairport",
           "NY"
          ],
          [
           "HIGH ACRES LANDFILL & RECYCLING CENTER",
           "Fairport",
           "NY"
          ],
          [
           "HIGH ACRES LANDFILL & RECYCLING CENTER",
           "Fairport",
           "NY"
          ],
          [
           "HIGH ACRES LANDFILL & RECYCLING CENTER",
           "Fairport",
           "NY"
          ],
          [
           "HIGH ACRES LANDFILL & RECYCLING CENTER",
           "Fairport",
           "NY"
          ],
          [
           "HIGH ACRES LANDFILL & RECYCLING CENTER",
           "Fairport",
           "NY"
          ],
          [
           "HIGH ACRES LANDFILL & RECYCLING CENTER",
           "Fairport",
           "NY"
          ],
          [
           "HIGH ACRES LANDFILL & RECYCLING CENTER",
           "Fairport",
           "NY"
          ],
          [
           "HIGH ACRES LANDFILL & RECYCLING CENTER",
           "Fairport",
           "NY"
          ],
          [
           "HIGH ACRES LANDFILL & RECYCLING CENTER",
           "Fairport",
           "NY"
          ],
          [
           "HIGH ACRES LANDFILL & RECYCLING CENTER",
           "Fairport",
           "NY"
          ],
          [
           "HIGH ACRES LANDFILL & RECYCLING CENTER",
           "Fairport",
           "NY"
          ],
          [
           "HIGH ACRES LANDFILL & RECYCLING CENTER",
           "Fairport",
           "NY"
          ],
          [
           "HIGH ACRES LANDFILL & RECYCLING CENTER",
           "Fairport",
           "NY"
          ],
          [
           "HIGH ACRES LANDFILL & RECYCLING CENTER",
           "Fairport",
           "NY"
          ],
          [
           "HIGH ACRES LANDFILL & RECYCLING CENTER",
           "Fairport",
           "NY"
          ],
          [
           "HIGH ACRES LANDFILL & RECYCLING CENTER",
           "Fairport",
           "NY"
          ],
          [
           "HIGH ACRES LANDFILL & RECYCLING CENTER",
           "Fairport",
           "NY"
          ],
          [
           "HIGH ACRES LANDFILL & RECYCLING CENTER",
           "Fairport",
           "NY"
          ],
          [
           "HIGH ACRES LANDFILL & RECYCLING CENTER",
           "Fairport",
           "NY"
          ],
          [
           "HIGH ACRES LANDFILL & RECYCLING CENTER",
           "Fairport",
           "NY"
          ],
          [
           "HIGH ACRES LANDFILL & RECYCLING CENTER",
           "Fairport",
           "NY"
          ],
          [
           "HIGH ACRES LANDFILL & RECYCLING CENTER",
           "Fairport",
           "NY"
          ],
          [
           "HIGH ACRES LANDFILL & RECYCLING CENTER",
           "Fairport",
           "NY"
          ],
          [
           "HIGH ACRES LANDFILL & RECYCLING CENTER",
           "Fairport",
           "NY"
          ],
          [
           "HIGH ACRES LANDFILL & RECYCLING CENTER",
           "Fairport",
           "NY"
          ],
          [
           "HIGH ACRES LANDFILL & RECYCLING CENTER",
           "Fairport",
           "NY"
          ],
          [
           "HIGH ACRES LANDFILL & RECYCLING CENTER",
           "Fairport",
           "NY"
          ],
          [
           "HIGH ACRES LANDFILL & RECYCLING CENTER",
           "Fairport",
           "NY"
          ],
          [
           "HIGH ACRES LANDFILL & RECYCLING CENTER",
           "Fairport",
           "NY"
          ],
          [
           "HIGH ACRES LANDFILL & RECYCLING CENTER",
           "Fairport",
           "NY"
          ],
          [
           "HIGH ACRES LANDFILL & RECYCLING CENTER",
           "Fairport",
           "NY"
          ],
          [
           "HIGH ACRES LANDFILL & RECYCLING CENTER",
           "Fairport",
           "NY"
          ],
          [
           "HIGH ACRES LANDFILL & RECYCLING CENTER",
           "Fairport",
           "NY"
          ],
          [
           "HIGH ACRES LANDFILL & RECYCLING CENTER",
           "Fairport",
           "NY"
          ],
          [
           "HIGH ACRES LANDFILL & RECYCLING CENTER",
           "Fairport",
           "NY"
          ],
          [
           "HIGH ACRES LANDFILL & RECYCLING CENTER",
           "Fairport",
           "NY"
          ],
          [
           "HIGH ACRES LANDFILL & RECYCLING CENTER",
           "Fairport",
           "NY"
          ],
          [
           "HIGH ACRES LANDFILL & RECYCLING CENTER",
           "Fairport",
           "NY"
          ],
          [
           "HIGH ACRES LANDFILL & RECYCLING CENTER",
           "Fairport",
           "NY"
          ],
          [
           "HIGH ACRES LANDFILL & RECYCLING CENTER",
           "Fairport",
           "NY"
          ],
          [
           "HIGH ACRES LANDFILL & RECYCLING CENTER",
           "Fairport",
           "NY"
          ],
          [
           "HIGH ACRES LANDFILL & RECYCLING CENTER",
           "Fairport",
           "NY"
          ],
          [
           "HIGH ACRES LANDFILL & RECYCLING CENTER",
           "Fairport",
           "NY"
          ],
          [
           "HIGH ACRES LANDFILL & RECYCLING CENTER",
           "Fairport",
           "NY"
          ],
          [
           "HYLAND LANDFILL",
           "Angelica",
           "NY"
          ],
          [
           "HYLAND LANDFILL",
           "Angelica",
           "NY"
          ],
          [
           "HYLAND LANDFILL",
           "Angelica",
           "NY"
          ],
          [
           "HYLAND LANDFILL",
           "Angelica",
           "NY"
          ],
          [
           "HYLAND LANDFILL",
           "Angelica",
           "NY"
          ],
          [
           "HYLAND LANDFILL",
           "Angelica",
           "NY"
          ],
          [
           "HYLAND LANDFILL",
           "Angelica",
           "NY"
          ],
          [
           "HYLAND LANDFILL",
           "Angelica",
           "NY"
          ],
          [
           "HYLAND LANDFILL",
           "Angelica",
           "NY"
          ],
          [
           "HYLAND LANDFILL",
           "Angelica",
           "NY"
          ],
          [
           "HYLAND LANDFILL",
           "Angelica",
           "NY"
          ],
          [
           "HYLAND LANDFILL",
           "Angelica",
           "NY"
          ],
          [
           "HYLAND LANDFILL",
           "Angelica",
           "NY"
          ],
          [
           "HYLAND LANDFILL",
           "Angelica",
           "NY"
          ],
          [
           "HYLAND LANDFILL",
           "Angelica",
           "NY"
          ],
          [
           "HYLAND LANDFILL",
           "Angelica",
           "NY"
          ],
          [
           "HYLAND LANDFILL",
           "Angelica",
           "NY"
          ],
          [
           "HYLAND LANDFILL",
           "Angelica",
           "NY"
          ],
          [
           "HYLAND LANDFILL",
           "Angelica",
           "NY"
          ],
          [
           "HYLAND LANDFILL",
           "Angelica",
           "NY"
          ],
          [
           "HYLAND LANDFILL",
           "Angelica",
           "NY"
          ],
          [
           "HYLAND LANDFILL",
           "Angelica",
           "NY"
          ],
          [
           "HYLAND LANDFILL",
           "Angelica",
           "NY"
          ],
          [
           "HYLAND LANDFILL",
           "Angelica",
           "NY"
          ],
          [
           "HYLAND LANDFILL",
           "Angelica",
           "NY"
          ],
          [
           "HYLAND LANDFILL",
           "Angelica",
           "NY"
          ],
          [
           "HYLAND LANDFILL",
           "Angelica",
           "NY"
          ],
          [
           "HYLAND LANDFILL",
           "Angelica",
           "NY"
          ],
          [
           "HYLAND LANDFILL",
           "Angelica",
           "NY"
          ],
          [
           "HYLAND LANDFILL",
           "Angelica",
           "NY"
          ],
          [
           "HYLAND LANDFILL",
           "Angelica",
           "NY"
          ],
          [
           "HYLAND LANDFILL",
           "Angelica",
           "NY"
          ],
          [
           "HYLAND LANDFILL",
           "Angelica",
           "NY"
          ],
          [
           "HYLAND LANDFILL",
           "Angelica",
           "NY"
          ],
          [
           "HYLAND LANDFILL",
           "Angelica",
           "NY"
          ],
          [
           "HYLAND LANDFILL",
           "Angelica",
           "NY"
          ],
          [
           "ISLIP MCARTHUR RESOURCE RECOVERY FACIL",
           "Ronkonkoma",
           "NY"
          ],
          [
           "ISLIP MCARTHUR RESOURCE RECOVERY FACIL",
           "Ronkonkoma",
           "NY"
          ],
          [
           "ISLIP MCARTHUR RESOURCE RECOVERY FACIL",
           "Ronkonkoma",
           "NY"
          ],
          [
           "ISLIP MCARTHUR RESOURCE RECOVERY FACIL",
           "Ronkonkoma",
           "NY"
          ],
          [
           "ISLIP MCARTHUR RESOURCE RECOVERY FACIL",
           "Ronkonkoma",
           "NY"
          ],
          [
           "ISLIP MCARTHUR RESOURCE RECOVERY FACIL",
           "Ronkonkoma",
           "NY"
          ],
          [
           "ISLIP MCARTHUR RESOURCE RECOVERY FACIL",
           "Ronkonkoma",
           "NY"
          ],
          [
           "ISLIP MCARTHUR RESOURCE RECOVERY FACIL",
           "Ronkonkoma",
           "NY"
          ],
          [
           "ISLIP MCARTHUR RESOURCE RECOVERY FACIL",
           "Ronkonkoma",
           "NY"
          ],
          [
           "ISLIP MCARTHUR RESOURCE RECOVERY FACIL",
           "Ronkonkoma",
           "NY"
          ],
          [
           "ISLIP MCARTHUR RESOURCE RECOVERY FACIL",
           "Ronkonkoma",
           "NY"
          ],
          [
           "ISLIP MCARTHUR RESOURCE RECOVERY FACIL",
           "Ronkonkoma",
           "NY"
          ],
          [
           "MADISON COUNTY LANDFILL",
           "Canastota",
           "NY"
          ],
          [
           "MADISON COUNTY LANDFILL",
           "Canastota",
           "NY"
          ],
          [
           "MADISON COUNTY LANDFILL",
           "Canastota",
           "NY"
          ],
          [
           "MADISON COUNTY LANDFILL",
           "Canastota",
           "NY"
          ],
          [
           "MADISON COUNTY LANDFILL",
           "Canastota",
           "NY"
          ],
          [
           "MADISON COUNTY LANDFILL",
           "Canastota",
           "NY"
          ],
          [
           "MADISON COUNTY LANDFILL",
           "Canastota",
           "NY"
          ],
          [
           "MADISON COUNTY LANDFILL",
           "Canastota",
           "NY"
          ],
          [
           "MADISON COUNTY LANDFILL",
           "Canastota",
           "NY"
          ],
          [
           "MADISON COUNTY LANDFILL",
           "Canastota",
           "NY"
          ],
          [
           "MADISON COUNTY LANDFILL",
           "Canastota",
           "NY"
          ],
          [
           "MADISON COUNTY LANDFILL",
           "Canastota",
           "NY"
          ],
          [
           "MADISON COUNTY LANDFILL",
           "Canastota",
           "NY"
          ],
          [
           "MADISON COUNTY LANDFILL",
           "Canastota",
           "NY"
          ],
          [
           "MADISON COUNTY LANDFILL",
           "Canastota",
           "NY"
          ],
          [
           "MADISON COUNTY LANDFILL",
           "Canastota",
           "NY"
          ],
          [
           "MADISON COUNTY LANDFILL",
           "Canastota",
           "NY"
          ],
          [
           "MADISON COUNTY LANDFILL",
           "Canastota",
           "NY"
          ],
          [
           "MADISON COUNTY LANDFILL",
           "Canastota",
           "NY"
          ],
          [
           "MADISON COUNTY LANDFILL",
           "Canastota",
           "NY"
          ],
          [
           "MADISON COUNTY LANDFILL",
           "Canastota",
           "NY"
          ],
          [
           "MADISON COUNTY LANDFILL",
           "Canastota",
           "NY"
          ],
          [
           "MADISON COUNTY LANDFILL",
           "Canastota",
           "NY"
          ],
          [
           "MADISON COUNTY LANDFILL",
           "Canastota",
           "NY"
          ],
          [
           "MADISON COUNTY LANDFILL",
           "Canastota",
           "NY"
          ],
          [
           "MADISON COUNTY LANDFILL",
           "Canastota",
           "NY"
          ],
          [
           "MADISON COUNTY LANDFILL",
           "Canastota",
           "NY"
          ],
          [
           "MADISON COUNTY LANDFILL",
           "Canastota",
           "NY"
          ],
          [
           "MADISON COUNTY LANDFILL",
           "Canastota",
           "NY"
          ],
          [
           "MADISON COUNTY LANDFILL",
           "Canastota",
           "NY"
          ],
          [
           "MADISON COUNTY LANDFILL",
           "Canastota",
           "NY"
          ],
          [
           "MADISON COUNTY LANDFILL",
           "Canastota",
           "NY"
          ],
          [
           "MADISON COUNTY LANDFILL",
           "Canastota",
           "NY"
          ],
          [
           "MODERN LANDFILL, INC",
           "Model city",
           "NY"
          ],
          [
           "MODERN LANDFILL, INC",
           "Model city",
           "NY"
          ],
          [
           "MODERN LANDFILL, INC",
           "Model city",
           "NY"
          ],
          [
           "MODERN LANDFILL, INC",
           "Model city",
           "NY"
          ],
          [
           "MODERN LANDFILL, INC",
           "Model city",
           "NY"
          ],
          [
           "MODERN LANDFILL, INC",
           "Model city",
           "NY"
          ],
          [
           "MODERN LANDFILL, INC",
           "Model city",
           "NY"
          ],
          [
           "MODERN LANDFILL, INC",
           "Model city",
           "NY"
          ],
          [
           "MODERN LANDFILL, INC",
           "Model city",
           "NY"
          ],
          [
           "MODERN LANDFILL, INC",
           "Model city",
           "NY"
          ],
          [
           "MODERN LANDFILL, INC",
           "Model city",
           "NY"
          ],
          [
           "MODERN LANDFILL, INC",
           "Model city",
           "NY"
          ],
          [
           "MODERN LANDFILL, INC",
           "Model city",
           "NY"
          ],
          [
           "MODERN LANDFILL, INC",
           "Model city",
           "NY"
          ],
          [
           "MODERN LANDFILL, INC",
           "Model city",
           "NY"
          ],
          [
           "MODERN LANDFILL, INC",
           "Model city",
           "NY"
          ],
          [
           "MODERN LANDFILL, INC",
           "Model city",
           "NY"
          ],
          [
           "MODERN LANDFILL, INC",
           "Model city",
           "NY"
          ],
          [
           "MODERN LANDFILL, INC",
           "Model city",
           "NY"
          ],
          [
           "MODERN LANDFILL, INC",
           "Model city",
           "NY"
          ],
          [
           "MODERN LANDFILL, INC",
           "Model city",
           "NY"
          ],
          [
           "MODERN LANDFILL, INC",
           "Model city",
           "NY"
          ],
          [
           "MODERN LANDFILL, INC",
           "Model city",
           "NY"
          ],
          [
           "MODERN LANDFILL, INC",
           "Model city",
           "NY"
          ],
          [
           "MODERN LANDFILL, INC",
           "Model city",
           "NY"
          ],
          [
           "MODERN LANDFILL, INC",
           "Model city",
           "NY"
          ],
          [
           "MODERN LANDFILL, INC",
           "Model city",
           "NY"
          ],
          [
           "MODERN LANDFILL, INC",
           "Model city",
           "NY"
          ],
          [
           "MODERN LANDFILL, INC",
           "Model city",
           "NY"
          ],
          [
           "MODERN LANDFILL, INC",
           "Model city",
           "NY"
          ],
          [
           "MODERN LANDFILL, INC",
           "Model city",
           "NY"
          ],
          [
           "MODERN LANDFILL, INC",
           "Model city",
           "NY"
          ],
          [
           "MODERN LANDFILL, INC",
           "Model city",
           "NY"
          ],
          [
           "MODERN LANDFILL, INC",
           "Model city",
           "NY"
          ],
          [
           "MODERN LANDFILL, INC",
           "Model city",
           "NY"
          ],
          [
           "MODERN LANDFILL, INC",
           "Model city",
           "NY"
          ],
          [
           "MODERN LANDFILL, INC",
           "Model city",
           "NY"
          ],
          [
           "MONROE LIVINGSTON SANITARY LANDFILL",
           "Scottsville",
           "NY"
          ],
          [
           "MONROE LIVINGSTON SANITARY LANDFILL",
           "Scottsville",
           "NY"
          ],
          [
           "MONROE LIVINGSTON SANITARY LANDFILL",
           "Scottsville",
           "NY"
          ],
          [
           "MONROE LIVINGSTON SANITARY LANDFILL",
           "Scottsville",
           "NY"
          ],
          [
           "NEW BATH LANDFILL",
           "Bath",
           "NY"
          ],
          [
           "NEW BATH LANDFILL",
           "Bath",
           "NY"
          ],
          [
           "NEW BATH LANDFILL",
           "Bath",
           "NY"
          ],
          [
           "NEW BATH LANDFILL",
           "Bath",
           "NY"
          ],
          [
           "NEW BATH LANDFILL",
           "Bath",
           "NY"
          ],
          [
           "NEW BATH LANDFILL",
           "Bath",
           "NY"
          ],
          [
           "NEW BATH LANDFILL",
           "Bath",
           "NY"
          ],
          [
           "NEW BATH LANDFILL",
           "Bath",
           "NY"
          ],
          [
           "NEW BATH LANDFILL",
           "Bath",
           "NY"
          ],
          [
           "NEW BATH LANDFILL",
           "Bath",
           "NY"
          ],
          [
           "NEW BATH LANDFILL",
           "Bath",
           "NY"
          ],
          [
           "NEW BATH LANDFILL",
           "Bath",
           "NY"
          ],
          [
           "NIAGARA FALLS LANDFILL",
           "Niagara falls",
           "NY"
          ],
          [
           "NIAGARA FALLS LANDFILL",
           "Niagara falls",
           "NY"
          ],
          [
           "NIAGARA FALLS LANDFILL",
           "Niagara falls",
           "NY"
          ],
          [
           "NIAGARA FALLS LANDFILL",
           "Niagara falls",
           "NY"
          ],
          [
           "NIAGARA FALLS LANDFILL",
           "Niagara falls",
           "NY"
          ],
          [
           "NIAGARA FALLS LANDFILL",
           "Niagara falls",
           "NY"
          ],
          [
           "NIAGARA FALLS LANDFILL",
           "Niagara falls",
           "NY"
          ],
          [
           "NIAGARA FALLS LANDFILL",
           "Niagara falls",
           "NY"
          ],
          [
           "NIAGARA FALLS LANDFILL",
           "Niagara falls",
           "NY"
          ],
          [
           "NIAGARA FALLS LANDFILL",
           "Niagara falls",
           "NY"
          ],
          [
           "NIAGARA FALLS LANDFILL",
           "Niagara falls",
           "NY"
          ],
          [
           "NIAGARA FALLS LANDFILL",
           "Niagara falls",
           "NY"
          ],
          [
           "NIAGARA FALLS LANDFILL",
           "Niagara falls",
           "NY"
          ],
          [
           "NIAGARA FALLS LANDFILL",
           "Niagara falls",
           "NY"
          ],
          [
           "NIAGARA FALLS LANDFILL",
           "Niagara falls",
           "NY"
          ],
          [
           "NIAGARA FALLS LANDFILL",
           "Niagara falls",
           "NY"
          ],
          [
           "NIAGARA FALLS LANDFILL",
           "Niagara falls",
           "NY"
          ],
          [
           "NIAGARA FALLS LANDFILL",
           "Niagara falls",
           "NY"
          ],
          [
           "NIAGARA FALLS LANDFILL",
           "Niagara falls",
           "NY"
          ],
          [
           "NIAGARA FALLS LANDFILL",
           "Niagara falls",
           "NY"
          ],
          [
           "NIAGARA FALLS LANDFILL",
           "Niagara falls",
           "NY"
          ],
          [
           "NIAGARA FALLS LANDFILL",
           "Niagara falls",
           "NY"
          ],
          [
           "NIAGARA FALLS LANDFILL",
           "Niagara falls",
           "NY"
          ],
          [
           "NIAGARA FALLS LANDFILL",
           "Niagara falls",
           "NY"
          ],
          [
           "NIAGARA FALLS LANDFILL",
           "Niagara falls",
           "NY"
          ],
          [
           "NIAGARA FALLS LANDFILL",
           "Niagara falls",
           "NY"
          ],
          [
           "NIAGARA FALLS LANDFILL",
           "Niagara falls",
           "NY"
          ],
          [
           "NIAGARA FALLS LANDFILL",
           "Niagara falls",
           "NY"
          ],
          [
           "NIAGARA FALLS LANDFILL",
           "Niagara falls",
           "NY"
          ],
          [
           "NIAGARA FALLS LANDFILL",
           "Niagara falls",
           "NY"
          ],
          [
           "NIAGARA FALLS LANDFILL",
           "Niagara falls",
           "NY"
          ],
          [
           "NIAGARA FALLS LANDFILL",
           "Niagara falls",
           "NY"
          ],
          [
           "NIAGARA FALLS LANDFILL",
           "Niagara falls",
           "NY"
          ],
          [
           "NIAGARA FALLS LANDFILL",
           "Niagara falls",
           "NY"
          ],
          [
           "NIAGARA FALLS LANDFILL",
           "Niagara falls",
           "NY"
          ],
          [
           "NIAGARA FALLS LANDFILL",
           "Niagara falls",
           "NY"
          ],
          [
           "ONONDAGA CO RESOURCE RECOVERY FACILITY",
           "Jamesville",
           "NY"
          ],
          [
           "ONONDAGA CO RESOURCE RECOVERY FACILITY",
           "Jamesville",
           "NY"
          ],
          [
           "ONONDAGA CO RESOURCE RECOVERY FACILITY",
           "Jamesville",
           "NY"
          ],
          [
           "ONONDAGA CO RESOURCE RECOVERY FACILITY",
           "Jamesville",
           "NY"
          ],
          [
           "ONONDAGA CO RESOURCE RECOVERY FACILITY",
           "Jamesville",
           "NY"
          ],
          [
           "ONONDAGA CO RESOURCE RECOVERY FACILITY",
           "Jamesville",
           "NY"
          ],
          [
           "ONONDAGA CO RESOURCE RECOVERY FACILITY",
           "Jamesville",
           "NY"
          ],
          [
           "ONONDAGA CO RESOURCE RECOVERY FACILITY",
           "Jamesville",
           "NY"
          ],
          [
           "ONONDAGA CO RESOURCE RECOVERY FACILITY",
           "Jamesville",
           "NY"
          ],
          [
           "ONONDAGA CO RESOURCE RECOVERY FACILITY",
           "Jamesville",
           "NY"
          ],
          [
           "ONONDAGA CO RESOURCE RECOVERY FACILITY",
           "Jamesville",
           "NY"
          ],
          [
           "ONONDAGA CO RESOURCE RECOVERY FACILITY",
           "Jamesville",
           "NY"
          ],
          [
           "ONTARIO CO LANDFILL",
           "Stanley",
           "NY"
          ],
          [
           "ONTARIO CO LANDFILL",
           "Stanley",
           "NY"
          ],
          [
           "ONTARIO CO LANDFILL",
           "Stanley",
           "NY"
          ],
          [
           "ONTARIO CO LANDFILL",
           "Stanley",
           "NY"
          ],
          [
           "ONTARIO CO LANDFILL",
           "Stanley",
           "NY"
          ],
          [
           "ONTARIO CO LANDFILL",
           "Stanley",
           "NY"
          ],
          [
           "ONTARIO CO LANDFILL",
           "Stanley",
           "NY"
          ],
          [
           "ONTARIO CO LANDFILL",
           "Stanley",
           "NY"
          ],
          [
           "ONTARIO CO LANDFILL",
           "Stanley",
           "NY"
          ],
          [
           "ONTARIO CO LANDFILL",
           "Stanley",
           "NY"
          ],
          [
           "ONTARIO CO LANDFILL",
           "Stanley",
           "NY"
          ],
          [
           "ONTARIO CO LANDFILL",
           "Stanley",
           "NY"
          ],
          [
           "ONTARIO CO LANDFILL",
           "Stanley",
           "NY"
          ],
          [
           "ONTARIO CO LANDFILL",
           "Stanley",
           "NY"
          ],
          [
           "ONTARIO CO LANDFILL",
           "Stanley",
           "NY"
          ],
          [
           "ONTARIO CO LANDFILL",
           "Stanley",
           "NY"
          ],
          [
           "ONTARIO CO LANDFILL",
           "Stanley",
           "NY"
          ],
          [
           "ONTARIO CO LANDFILL",
           "Stanley",
           "NY"
          ],
          [
           "ONTARIO CO LANDFILL",
           "Stanley",
           "NY"
          ],
          [
           "ONTARIO CO LANDFILL",
           "Stanley",
           "NY"
          ],
          [
           "ONTARIO CO LANDFILL",
           "Stanley",
           "NY"
          ],
          [
           "ONTARIO CO LANDFILL",
           "Stanley",
           "NY"
          ],
          [
           "ONTARIO CO LANDFILL",
           "Stanley",
           "NY"
          ],
          [
           "ONTARIO CO LANDFILL",
           "Stanley",
           "NY"
          ],
          [
           "ONTARIO CO LANDFILL",
           "Stanley",
           "NY"
          ],
          [
           "ONTARIO CO LANDFILL",
           "Stanley",
           "NY"
          ],
          [
           "ONTARIO CO LANDFILL",
           "Stanley",
           "NY"
          ],
          [
           "ONTARIO CO LANDFILL",
           "Stanley",
           "NY"
          ],
          [
           "ONTARIO CO LANDFILL",
           "Stanley",
           "NY"
          ],
          [
           "ONTARIO CO LANDFILL",
           "Stanley",
           "NY"
          ],
          [
           "ONTARIO CO LANDFILL",
           "Stanley",
           "NY"
          ],
          [
           "ONTARIO CO LANDFILL",
           "Stanley",
           "NY"
          ],
          [
           "ONTARIO CO LANDFILL",
           "Stanley",
           "NY"
          ],
          [
           "ONTARIO CO LANDFILL",
           "Stanley",
           "NY"
          ],
          [
           "ONTARIO CO LANDFILL",
           "Stanley",
           "NY"
          ],
          [
           "ONTARIO CO LANDFILL",
           "Stanley",
           "NY"
          ],
          [
           "OSWEGO CO ENERGY RECOVERY FAC",
           "Fulton",
           "NY"
          ],
          [
           "OSWEGO CO ENERGY RECOVERY FAC",
           "Fulton",
           "NY"
          ],
          [
           "OSWEGO CO ENERGY RECOVERY FAC",
           "Fulton",
           "NY"
          ],
          [
           "OSWEGO CO ENERGY RECOVERY FAC",
           "Fulton",
           "NY"
          ],
          [
           "OSWEGO CO ENERGY RECOVERY FAC",
           "Fulton",
           "NY"
          ],
          [
           "OSWEGO CO ENERGY RECOVERY FAC",
           "Fulton",
           "NY"
          ],
          [
           "OSWEGO CO ENERGY RECOVERY FAC",
           "Fulton",
           "NY"
          ],
          [
           "OSWEGO CO ENERGY RECOVERY FAC",
           "Fulton",
           "NY"
          ],
          [
           "OSWEGO CO ENERGY RECOVERY FAC",
           "Fulton",
           "NY"
          ],
          [
           "OSWEGO CO ENERGY RECOVERY FAC",
           "Fulton",
           "NY"
          ],
          [
           "OSWEGO CO ENERGY RECOVERY FAC",
           "Fulton",
           "NY"
          ],
          [
           "OSWEGO CO ENERGY RECOVERY FAC",
           "Fulton",
           "NY"
          ],
          [
           "OSWEGO CO ENERGY RECOVERY FAC",
           "Fulton",
           "NY"
          ],
          [
           "OSWEGO CO ENERGY RECOVERY FAC",
           "Fulton",
           "NY"
          ],
          [
           "OSWEGO CO ENERGY RECOVERY FAC",
           "Fulton",
           "NY"
          ],
          [
           "OSWEGO CO ENERGY RECOVERY FAC",
           "Fulton",
           "NY"
          ],
          [
           "OSWEGO CO ENERGY RECOVERY FAC",
           "Fulton",
           "NY"
          ],
          [
           "OSWEGO CO ENERGY RECOVERY FAC",
           "Fulton",
           "NY"
          ],
          [
           "OSWEGO CO ENERGY RECOVERY FAC",
           "Fulton",
           "NY"
          ],
          [
           "OSWEGO CO ENERGY RECOVERY FAC",
           "Fulton",
           "NY"
          ],
          [
           "OSWEGO CO ENERGY RECOVERY FAC",
           "Fulton",
           "NY"
          ],
          [
           "OSWEGO CO ENERGY RECOVERY FAC",
           "Fulton",
           "NY"
          ],
          [
           "OSWEGO CO ENERGY RECOVERY FAC",
           "Fulton",
           "NY"
          ],
          [
           "OSWEGO CO ENERGY RECOVERY FAC",
           "Fulton",
           "NY"
          ],
          [
           "RIGA/MILL SEAT LANDFILL",
           "Bergen",
           "NY"
          ],
          [
           "RIGA/MILL SEAT LANDFILL",
           "Bergen",
           "NY"
          ],
          [
           "RIGA/MILL SEAT LANDFILL",
           "Bergen",
           "NY"
          ],
          [
           "RIGA/MILL SEAT LANDFILL",
           "Bergen",
           "NY"
          ],
          [
           "RIGA/MILL SEAT LANDFILL",
           "Bergen",
           "NY"
          ],
          [
           "RIGA/MILL SEAT LANDFILL",
           "Bergen",
           "NY"
          ],
          [
           "RIGA/MILL SEAT LANDFILL",
           "Bergen",
           "NY"
          ],
          [
           "RIGA/MILL SEAT LANDFILL",
           "Bergen",
           "NY"
          ],
          [
           "RIGA/MILL SEAT LANDFILL",
           "Bergen",
           "NY"
          ],
          [
           "RIGA/MILL SEAT LANDFILL",
           "Bergen",
           "NY"
          ],
          [
           "RIGA/MILL SEAT LANDFILL",
           "Bergen",
           "NY"
          ],
          [
           "RIGA/MILL SEAT LANDFILL",
           "Bergen",
           "NY"
          ],
          [
           "RIGA/MILL SEAT LANDFILL",
           "Bergen",
           "NY"
          ],
          [
           "RIGA/MILL SEAT LANDFILL",
           "Bergen",
           "NY"
          ],
          [
           "RIGA/MILL SEAT LANDFILL",
           "Bergen",
           "NY"
          ],
          [
           "RIGA/MILL SEAT LANDFILL",
           "Bergen",
           "NY"
          ],
          [
           "RIGA/MILL SEAT LANDFILL",
           "Bergen",
           "NY"
          ],
          [
           "RIGA/MILL SEAT LANDFILL",
           "Bergen",
           "NY"
          ],
          [
           "RIGA/MILL SEAT LANDFILL",
           "Bergen",
           "NY"
          ],
          [
           "RIGA/MILL SEAT LANDFILL",
           "Bergen",
           "NY"
          ],
          [
           "RIGA/MILL SEAT LANDFILL",
           "Bergen",
           "NY"
          ],
          [
           "RIGA/MILL SEAT LANDFILL",
           "Bergen",
           "NY"
          ],
          [
           "RIGA/MILL SEAT LANDFILL",
           "Bergen",
           "NY"
          ],
          [
           "RIGA/MILL SEAT LANDFILL",
           "Bergen",
           "NY"
          ],
          [
           "RIGA/MILL SEAT LANDFILL",
           "Bergen",
           "NY"
          ],
          [
           "RIGA/MILL SEAT LANDFILL",
           "Bergen",
           "NY"
          ],
          [
           "RIGA/MILL SEAT LANDFILL",
           "Bergen",
           "NY"
          ],
          [
           "RIGA/MILL SEAT LANDFILL",
           "Bergen",
           "NY"
          ],
          [
           "RIGA/MILL SEAT LANDFILL",
           "Bergen",
           "NY"
          ],
          [
           "RIGA/MILL SEAT LANDFILL",
           "Bergen",
           "NY"
          ],
          [
           "RIGA/MILL SEAT LANDFILL",
           "Bergen",
           "NY"
          ],
          [
           "RIGA/MILL SEAT LANDFILL",
           "Bergen",
           "NY"
          ],
          [
           "RIGA/MILL SEAT LANDFILL",
           "Bergen",
           "NY"
          ],
          [
           "RIGA/MILL SEAT LANDFILL",
           "Bergen",
           "NY"
          ],
          [
           "RIGA/MILL SEAT LANDFILL",
           "Bergen",
           "NY"
          ],
          [
           "RIGA/MILL SEAT LANDFILL",
           "Bergen",
           "NY"
          ],
          [
           "RIGA/MILL SEAT LANDFILL",
           "Bergen",
           "NY"
          ],
          [
           "RIGA/MILL SEAT LANDFILL",
           "Bergen",
           "NY"
          ],
          [
           "RIGA/MILL SEAT LANDFILL",
           "Bergen",
           "NY"
          ],
          [
           "RIGA/MILL SEAT LANDFILL",
           "Bergen",
           "NY"
          ],
          [
           "RIGA/MILL SEAT LANDFILL",
           "Bergen",
           "NY"
          ],
          [
           "RIGA/MILL SEAT LANDFILL",
           "Bergen",
           "NY"
          ],
          [
           "RIGA/MILL SEAT LANDFILL",
           "Bergen",
           "NY"
          ],
          [
           "RIGA/MILL SEAT LANDFILL",
           "Bergen",
           "NY"
          ],
          [
           "RIGA/MILL SEAT LANDFILL",
           "Bergen",
           "NY"
          ],
          [
           "RIGA/MILL SEAT LANDFILL",
           "Bergen",
           "NY"
          ],
          [
           "RIGA/MILL SEAT LANDFILL",
           "Bergen",
           "NY"
          ],
          [
           "RIGA/MILL SEAT LANDFILL",
           "Bergen",
           "NY"
          ],
          [
           "RIGA/MILL SEAT LANDFILL",
           "Bergen",
           "NY"
          ],
          [
           "RIGA/MILL SEAT LANDFILL",
           "Bergen",
           "NY"
          ],
          [
           "RIGA/MILL SEAT LANDFILL",
           "Bergen",
           "NY"
          ],
          [
           "RIGA/MILL SEAT LANDFILL",
           "Bergen",
           "NY"
          ],
          [
           "RIGA/MILL SEAT LANDFILL",
           "Bergen",
           "NY"
          ],
          [
           "RIGA/MILL SEAT LANDFILL",
           "Bergen",
           "NY"
          ],
          [
           "RIGA/MILL SEAT LANDFILL",
           "Bergen",
           "NY"
          ],
          [
           "RIGA/MILL SEAT LANDFILL",
           "Bergen",
           "NY"
          ],
          [
           "RIGA/MILL SEAT LANDFILL",
           "Bergen",
           "NY"
          ],
          [
           "RIGA/MILL SEAT LANDFILL",
           "Bergen",
           "NY"
          ],
          [
           "RIGA/MILL SEAT LANDFILL",
           "Bergen",
           "NY"
          ],
          [
           "RIGA/MILL SEAT LANDFILL",
           "Bergen",
           "NY"
          ],
          [
           "RIGA/MILL SEAT LANDFILL",
           "Bergen",
           "NY"
          ],
          [
           "RIGA/MILL SEAT LANDFILL",
           "Bergen",
           "NY"
          ],
          [
           "RIGA/MILL SEAT LANDFILL",
           "Bergen",
           "NY"
          ],
          [
           "RIGA/MILL SEAT LANDFILL",
           "Bergen",
           "NY"
          ],
          [
           "RIGA/MILL SEAT LANDFILL",
           "Bergen",
           "NY"
          ],
          [
           "RIGA/MILL SEAT LANDFILL",
           "Bergen",
           "NY"
          ],
          [
           "RIGA/MILL SEAT LANDFILL",
           "Bergen",
           "NY"
          ],
          [
           "RIGA/MILL SEAT LANDFILL",
           "Bergen",
           "NY"
          ],
          [
           "RIGA/MILL SEAT LANDFILL",
           "Bergen",
           "NY"
          ],
          [
           "RIGA/MILL SEAT LANDFILL",
           "Bergen",
           "NY"
          ],
          [
           "RIGA/MILL SEAT LANDFILL",
           "Bergen",
           "NY"
          ],
          [
           "RIGA/MILL SEAT LANDFILL",
           "Bergen",
           "NY"
          ],
          [
           "RIGA/MILL SEAT LANDFILL",
           "Bergen",
           "NY"
          ],
          [
           "RIGA/MILL SEAT LANDFILL",
           "Bergen",
           "NY"
          ],
          [
           "RIGA/MILL SEAT LANDFILL",
           "Bergen",
           "NY"
          ],
          [
           "RIGA/MILL SEAT LANDFILL",
           "Bergen",
           "NY"
          ],
          [
           "RIGA/MILL SEAT LANDFILL",
           "Bergen",
           "NY"
          ],
          [
           "RIGA/MILL SEAT LANDFILL",
           "Bergen",
           "NY"
          ],
          [
           "RIGA/MILL SEAT LANDFILL",
           "Bergen",
           "NY"
          ],
          [
           "RIGA/MILL SEAT LANDFILL",
           "Bergen",
           "NY"
          ],
          [
           "RIGA/MILL SEAT LANDFILL",
           "Bergen",
           "NY"
          ],
          [
           "RIGA/MILL SEAT LANDFILL",
           "Bergen",
           "NY"
          ],
          [
           "RIGA/MILL SEAT LANDFILL",
           "Bergen",
           "NY"
          ],
          [
           "RIGA/MILL SEAT LANDFILL",
           "Bergen",
           "NY"
          ],
          [
           "RIGA/MILL SEAT LANDFILL",
           "Bergen",
           "NY"
          ],
          [
           "RIGA/MILL SEAT LANDFILL",
           "Bergen",
           "NY"
          ],
          [
           "RIGA/MILL SEAT LANDFILL",
           "Bergen",
           "NY"
          ],
          [
           "RIGA/MILL SEAT LANDFILL",
           "Bergen",
           "NY"
          ],
          [
           "RIGA/MILL SEAT LANDFILL",
           "Bergen",
           "NY"
          ],
          [
           "RIGA/MILL SEAT LANDFILL",
           "Bergen",
           "NY"
          ],
          [
           "RIGA/MILL SEAT LANDFILL",
           "Bergen",
           "NY"
          ],
          [
           "RIGA/MILL SEAT LANDFILL",
           "Bergen",
           "NY"
          ],
          [
           "RIGA/MILL SEAT LANDFILL",
           "Bergen",
           "NY"
          ],
          [
           "RIGA/MILL SEAT LANDFILL",
           "Bergen",
           "NY"
          ],
          [
           "RIGA/MILL SEAT LANDFILL",
           "Bergen",
           "NY"
          ],
          [
           "RIGA/MILL SEAT LANDFILL",
           "Bergen",
           "NY"
          ],
          [
           "RIGA/MILL SEAT LANDFILL",
           "Bergen",
           "NY"
          ],
          [
           "RIGA/MILL SEAT LANDFILL",
           "Bergen",
           "NY"
          ],
          [
           "RIGA/MILL SEAT LANDFILL",
           "Bergen",
           "NY"
          ],
          [
           "RIGA/MILL SEAT LANDFILL",
           "Bergen",
           "NY"
          ],
          [
           "RIGA/MILL SEAT LANDFILL",
           "Bergen",
           "NY"
          ],
          [
           "RIGA/MILL SEAT LANDFILL",
           "Bergen",
           "NY"
          ],
          [
           "RIGA/MILL SEAT LANDFILL",
           "Bergen",
           "NY"
          ],
          [
           "RIGA/MILL SEAT LANDFILL",
           "Bergen",
           "NY"
          ],
          [
           "RIGA/MILL SEAT LANDFILL",
           "Bergen",
           "NY"
          ],
          [
           "RIGA/MILL SEAT LANDFILL",
           "Bergen",
           "NY"
          ],
          [
           "RIGA/MILL SEAT LANDFILL",
           "Bergen",
           "NY"
          ],
          [
           "RIGA/MILL SEAT LANDFILL",
           "Bergen",
           "NY"
          ],
          [
           "RIGA/MILL SEAT LANDFILL",
           "Bergen",
           "NY"
          ],
          [
           "RIGA/MILL SEAT LANDFILL",
           "Bergen",
           "NY"
          ],
          [
           "RIGA/MILL SEAT LANDFILL",
           "Bergen",
           "NY"
          ],
          [
           "RIGA/MILL SEAT LANDFILL",
           "Bergen",
           "NY"
          ],
          [
           "RIGA/MILL SEAT LANDFILL",
           "Bergen",
           "NY"
          ],
          [
           "RIGA/MILL SEAT LANDFILL",
           "Bergen",
           "NY"
          ],
          [
           "RIGA/MILL SEAT LANDFILL",
           "Bergen",
           "NY"
          ],
          [
           "RIGA/MILL SEAT LANDFILL",
           "Bergen",
           "NY"
          ],
          [
           "RIGA/MILL SEAT LANDFILL",
           "Bergen",
           "NY"
          ],
          [
           "RIGA/MILL SEAT LANDFILL",
           "Bergen",
           "NY"
          ],
          [
           "RIGA/MILL SEAT LANDFILL",
           "Bergen",
           "NY"
          ],
          [
           "RIGA/MILL SEAT LANDFILL",
           "Bergen",
           "NY"
          ],
          [
           "RIGA/MILL SEAT LANDFILL",
           "Bergen",
           "NY"
          ],
          [
           "RIGA/MILL SEAT LANDFILL",
           "Bergen",
           "NY"
          ],
          [
           "RIGA/MILL SEAT LANDFILL",
           "Bergen",
           "NY"
          ],
          [
           "RIGA/MILL SEAT LANDFILL",
           "Bergen",
           "NY"
          ],
          [
           "RIGA/MILL SEAT LANDFILL",
           "Bergen",
           "NY"
          ],
          [
           "RIGA/MILL SEAT LANDFILL",
           "Bergen",
           "NY"
          ],
          [
           "RIGA/MILL SEAT LANDFILL",
           "Bergen",
           "NY"
          ],
          [
           "RIGA/MILL SEAT LANDFILL",
           "Bergen",
           "NY"
          ],
          [
           "RIGA/MILL SEAT LANDFILL",
           "Bergen",
           "NY"
          ],
          [
           "RIGA/MILL SEAT LANDFILL",
           "Bergen",
           "NY"
          ],
          [
           "RIGA/MILL SEAT LANDFILL",
           "Bergen",
           "NY"
          ],
          [
           "RIGA/MILL SEAT LANDFILL",
           "Bergen",
           "NY"
          ],
          [
           "RIGA/MILL SEAT LANDFILL",
           "Bergen",
           "NY"
          ],
          [
           "RIGA/MILL SEAT LANDFILL",
           "Bergen",
           "NY"
          ],
          [
           "RIGA/MILL SEAT LANDFILL",
           "Bergen",
           "NY"
          ],
          [
           "RIGA/MILL SEAT LANDFILL",
           "Bergen",
           "NY"
          ],
          [
           "RIGA/MILL SEAT LANDFILL",
           "Bergen",
           "NY"
          ],
          [
           "SENECA MEADOWS SWMF",
           "Waterloo",
           "NY"
          ],
          [
           "SENECA MEADOWS SWMF",
           "Waterloo",
           "NY"
          ],
          [
           "SENECA MEADOWS SWMF",
           "Waterloo",
           "NY"
          ],
          [
           "SENECA MEADOWS SWMF",
           "Waterloo",
           "NY"
          ],
          [
           "SENECA MEADOWS SWMF",
           "Waterloo",
           "NY"
          ],
          [
           "SENECA MEADOWS SWMF",
           "Waterloo",
           "NY"
          ],
          [
           "SENECA MEADOWS SWMF",
           "Waterloo",
           "NY"
          ],
          [
           "SENECA MEADOWS SWMF",
           "Waterloo",
           "NY"
          ],
          [
           "SENECA MEADOWS SWMF",
           "Waterloo",
           "NY"
          ],
          [
           "SENECA MEADOWS SWMF",
           "Waterloo",
           "NY"
          ],
          [
           "SENECA MEADOWS SWMF",
           "Waterloo",
           "NY"
          ],
          [
           "SENECA MEADOWS SWMF",
           "Waterloo",
           "NY"
          ],
          [
           "SENECA MEADOWS SWMF",
           "Waterloo",
           "NY"
          ],
          [
           "SENECA MEADOWS SWMF",
           "Waterloo",
           "NY"
          ],
          [
           "SENECA MEADOWS SWMF",
           "Waterloo",
           "NY"
          ],
          [
           "SENECA MEADOWS SWMF",
           "Waterloo",
           "NY"
          ],
          [
           "SENECA MEADOWS SWMF",
           "Waterloo",
           "NY"
          ],
          [
           "SENECA MEADOWS SWMF",
           "Waterloo",
           "NY"
          ],
          [
           "SENECA MEADOWS SWMF",
           "Waterloo",
           "NY"
          ],
          [
           "SENECA MEADOWS SWMF",
           "Waterloo",
           "NY"
          ],
          [
           "SULLIVAN COUNTY LANDFILL",
           "Monticello",
           "NY"
          ],
          [
           "SULLIVAN COUNTY LANDFILL",
           "Monticello",
           "NY"
          ],
          [
           "SULLIVAN COUNTY LANDFILL",
           "Monticello",
           "NY"
          ],
          [
           "SULLIVAN COUNTY LANDFILL",
           "Monticello",
           "NY"
          ],
          [
           "SULLIVAN COUNTY LANDFILL",
           "Monticello",
           "NY"
          ],
          [
           "SULLIVAN COUNTY LANDFILL",
           "Monticello",
           "NY"
          ],
          [
           "SULLIVAN COUNTY LANDFILL",
           "Monticello",
           "NY"
          ],
          [
           "SULLIVAN COUNTY LANDFILL",
           "Monticello",
           "NY"
          ],
          [
           "SULLIVAN COUNTY LANDFILL",
           "Monticello",
           "NY"
          ],
          [
           "SULLIVAN COUNTY LANDFILL",
           "Monticello",
           "NY"
          ],
          [
           "SULLIVAN COUNTY LANDFILL",
           "Monticello",
           "NY"
          ],
          [
           "SULLIVAN COUNTY LANDFILL",
           "Monticello",
           "NY"
          ],
          [
           "Town of North Hempstead Port Washington Landfill",
           "Port washington",
           "NY"
          ],
          [
           "Town of North Hempstead Port Washington Landfill",
           "Port washington",
           "NY"
          ],
          [
           "Town of North Hempstead Port Washington Landfill",
           "Port washington",
           "NY"
          ],
          [
           "Town of North Hempstead Port Washington Landfill",
           "Port washington",
           "NY"
          ],
          [
           "Town of Smithtown Municipal Services Facility",
           "Kings park",
           "NY"
          ],
          [
           "Town of Smithtown Municipal Services Facility",
           "Kings park",
           "NY"
          ],
          [
           "Town of Smithtown Municipal Services Facility",
           "Kings park",
           "NY"
          ],
          [
           "Town of Smithtown Municipal Services Facility",
           "Kings park",
           "NY"
          ],
          [
           "WASTE MANAGEMENT OF NEW YORK, LLC",
           "Chaffee",
           "NY"
          ],
          [
           "WASTE MANAGEMENT OF NEW YORK, LLC",
           "Chaffee",
           "NY"
          ],
          [
           "WASTE MANAGEMENT OF NEW YORK, LLC",
           "Chaffee",
           "NY"
          ],
          [
           "WASTE MANAGEMENT OF NEW YORK, LLC",
           "Chaffee",
           "NY"
          ],
          [
           "WASTE MANAGEMENT OF NEW YORK, LLC",
           "Chaffee",
           "NY"
          ],
          [
           "WASTE MANAGEMENT OF NEW YORK, LLC",
           "Chaffee",
           "NY"
          ],
          [
           "WASTE MANAGEMENT OF NEW YORK, LLC",
           "Chaffee",
           "NY"
          ],
          [
           "WASTE MANAGEMENT OF NEW YORK, LLC",
           "Chaffee",
           "NY"
          ],
          [
           "WASTE MANAGEMENT OF NEW YORK, LLC",
           "Chaffee",
           "NY"
          ],
          [
           "WASTE MANAGEMENT OF NEW YORK, LLC",
           "Chaffee",
           "NY"
          ],
          [
           "WASTE MANAGEMENT OF NEW YORK, LLC",
           "Chaffee",
           "NY"
          ],
          [
           "WASTE MANAGEMENT OF NEW YORK, LLC",
           "Chaffee",
           "NY"
          ],
          [
           "WASTE MANAGEMENT OF NEW YORK, LLC",
           "Chaffee",
           "NY"
          ],
          [
           "WASTE MANAGEMENT OF NEW YORK, LLC",
           "Chaffee",
           "NY"
          ],
          [
           "WASTE MANAGEMENT OF NEW YORK, LLC",
           "Chaffee",
           "NY"
          ],
          [
           "WASTE MANAGEMENT OF NEW YORK, LLC",
           "Chaffee",
           "NY"
          ],
          [
           "WASTE MANAGEMENT OF NEW YORK, LLC",
           "Chaffee",
           "NY"
          ],
          [
           "WASTE MANAGEMENT OF NEW YORK, LLC",
           "Chaffee",
           "NY"
          ],
          [
           "WASTE MANAGEMENT OF NEW YORK, LLC",
           "Chaffee",
           "NY"
          ],
          [
           "WASTE MANAGEMENT OF NEW YORK, LLC",
           "Chaffee",
           "NY"
          ],
          [
           "WASTE MANAGEMENT OF NEW YORK, LLC",
           "Chaffee",
           "NY"
          ],
          [
           "WASTE MANAGEMENT OF NEW YORK, LLC",
           "Chaffee",
           "NY"
          ],
          [
           "WASTE MANAGEMENT OF NEW YORK, LLC",
           "Chaffee",
           "NY"
          ],
          [
           "WASTE MANAGEMENT OF NEW YORK, LLC",
           "Chaffee",
           "NY"
          ],
          [
           "WASTE MANAGEMENT OF NEW YORK, LLC",
           "Chaffee",
           "NY"
          ],
          [
           "WASTE MANAGEMENT OF NEW YORK, LLC",
           "Chaffee",
           "NY"
          ],
          [
           "WASTE MANAGEMENT OF NEW YORK, LLC",
           "Chaffee",
           "NY"
          ],
          [
           "WASTE MANAGEMENT OF NEW YORK, LLC",
           "Chaffee",
           "NY"
          ],
          [
           "WASTE MANAGEMENT OF NEW YORK, LLC",
           "Chaffee",
           "NY"
          ],
          [
           "WASTE MANAGEMENT OF NEW YORK, LLC",
           "Chaffee",
           "NY"
          ],
          [
           "WASTE MANAGEMENT OF NEW YORK, LLC",
           "Chaffee",
           "NY"
          ],
          [
           "WASTE MANAGEMENT OF NEW YORK, LLC",
           "Chaffee",
           "NY"
          ],
          [
           "WASTE MANAGEMENT OF NEW YORK, LLC",
           "Chaffee",
           "NY"
          ],
          [
           "WASTE MANAGEMENT OF NEW YORK, LLC",
           "Chaffee",
           "NY"
          ],
          [
           "WASTE MANAGEMENT OF NEW YORK, LLC",
           "Chaffee",
           "NY"
          ],
          [
           "WASTE MANAGEMENT OF NEW YORK, LLC",
           "Chaffee",
           "NY"
          ],
          [
           "WASTE MANAGEMENT OF NEW YORK, LLC",
           "Chaffee",
           "NY"
          ],
          [
           "WASTE MANAGEMENT OF NEW YORK, LLC",
           "Chaffee",
           "NY"
          ],
          [
           "WASTE MANAGEMENT OF NEW YORK, LLC",
           "Chaffee",
           "NY"
          ],
          [
           "WASTE MANAGEMENT OF NEW YORK, LLC",
           "Chaffee",
           "NY"
          ],
          [
           "WASTE MANAGEMENT OF NEW YORK, LLC",
           "Chaffee",
           "NY"
          ],
          [
           "WASTE MANAGEMENT OF NEW YORK, LLC",
           "Chaffee",
           "NY"
          ],
          [
           "WASTE MANAGEMENT OF NEW YORK, LLC",
           "Chaffee",
           "NY"
          ],
          [
           "WASTE MANAGEMENT OF NEW YORK, LLC",
           "Chaffee",
           "NY"
          ],
          [
           "WASTE MANAGEMENT OF NEW YORK, LLC",
           "Chaffee",
           "NY"
          ],
          [
           "WASTE MANAGEMENT OF NEW YORK, LLC",
           "Chaffee",
           "NY"
          ],
          [
           "WASTE MANAGEMENT OF NEW YORK, LLC",
           "Chaffee",
           "NY"
          ],
          [
           "WASTE MANAGEMENT OF NEW YORK, LLC",
           "Chaffee",
           "NY"
          ],
          [
           "WASTE MANAGEMENT OF NEW YORK, LLC",
           "Chaffee",
           "NY"
          ],
          [
           "WASTE MANAGEMENT OF NEW YORK, LLC",
           "Chaffee",
           "NY"
          ],
          [
           "WASTE MANAGEMENT OF NEW YORK, LLC",
           "Chaffee",
           "NY"
          ],
          [
           "WASTE MANAGEMENT OF NEW YORK, LLC",
           "Chaffee",
           "NY"
          ],
          [
           "WASTE MANAGEMENT OF NEW YORK, LLC",
           "Chaffee",
           "NY"
          ],
          [
           "WASTE MANAGEMENT OF NEW YORK, LLC",
           "Chaffee",
           "NY"
          ],
          [
           "WASTE MANAGEMENT OF NEW YORK, LLC",
           "Chaffee",
           "NY"
          ],
          [
           "WASTE MANAGEMENT OF NEW YORK, LLC",
           "Chaffee",
           "NY"
          ],
          [
           "WASTE MANAGEMENT OF NEW YORK, LLC",
           "Chaffee",
           "NY"
          ],
          [
           "WASTE MANAGEMENT OF NEW YORK, LLC",
           "Chaffee",
           "NY"
          ],
          [
           "WASTE MANAGEMENT OF NEW YORK, LLC",
           "Chaffee",
           "NY"
          ],
          [
           "WASTE MANAGEMENT OF NEW YORK, LLC",
           "Chaffee",
           "NY"
          ],
          [
           "WASTE MANAGEMENT OF NEW YORK, LLC",
           "Chaffee",
           "NY"
          ],
          [
           "WASTE MANAGEMENT OF NEW YORK, LLC",
           "Chaffee",
           "NY"
          ],
          [
           "WASTE MANAGEMENT OF NEW YORK, LLC",
           "Chaffee",
           "NY"
          ],
          [
           "WASTE MANAGEMENT OF NEW YORK, LLC",
           "Chaffee",
           "NY"
          ],
          [
           "WASTE MANAGEMENT OF NEW YORK, LLC",
           "Chaffee",
           "NY"
          ],
          [
           "WASTE MANAGEMENT OF NEW YORK, LLC",
           "Chaffee",
           "NY"
          ],
          [
           "WASTE MANAGEMENT OF NEW YORK, LLC",
           "Chaffee",
           "NY"
          ],
          [
           "WASTE MANAGEMENT OF NEW YORK, LLC",
           "Chaffee",
           "NY"
          ],
          [
           "WASTE MANAGEMENT OF NEW YORK, LLC",
           "Chaffee",
           "NY"
          ],
          [
           "WASTE MANAGEMENT OF NEW YORK, LLC",
           "Chaffee",
           "NY"
          ],
          [
           "WASTE MANAGEMENT OF NEW YORK, LLC",
           "Chaffee",
           "NY"
          ],
          [
           "WASTE MANAGEMENT OF NEW YORK, LLC",
           "Chaffee",
           "NY"
          ],
          [
           "WASTE MANAGEMENT OF NEW YORK, LLC",
           "Chaffee",
           "NY"
          ],
          [
           "WASTE MANAGEMENT OF NEW YORK, LLC",
           "Chaffee",
           "NY"
          ],
          [
           "WASTE MANAGEMENT OF NEW YORK, LLC",
           "Chaffee",
           "NY"
          ],
          [
           "WASTE MANAGEMENT OF NEW YORK, LLC",
           "Chaffee",
           "NY"
          ],
          [
           "WASTE MANAGEMENT OF NEW YORK, LLC",
           "Chaffee",
           "NY"
          ],
          [
           "WASTE MANAGEMENT OF NEW YORK, LLC",
           "Chaffee",
           "NY"
          ],
          [
           "WASTE MANAGEMENT OF NEW YORK, LLC",
           "Chaffee",
           "NY"
          ],
          [
           "WASTE MANAGEMENT OF NEW YORK, LLC",
           "Chaffee",
           "NY"
          ],
          [
           "WASTE MANAGEMENT OF NEW YORK, LLC",
           "Chaffee",
           "NY"
          ],
          [
           "WASTE MANAGEMENT OF NEW YORK, LLC",
           "Chaffee",
           "NY"
          ],
          [
           "WASTE MANAGEMENT OF NEW YORK, LLC",
           "Chaffee",
           "NY"
          ],
          [
           "WASTE MANAGEMENT OF NEW YORK, LLC",
           "Chaffee",
           "NY"
          ],
          [
           "WASTE MANAGEMENT OF NEW YORK, LLC",
           "Chaffee",
           "NY"
          ],
          [
           "WASTE MANAGEMENT OF NEW YORK, LLC",
           "Chaffee",
           "NY"
          ],
          [
           "WASTE MANAGEMENT OF NEW YORK, LLC",
           "Chaffee",
           "NY"
          ],
          [
           "WASTE MANAGEMENT OF NEW YORK, LLC",
           "Chaffee",
           "NY"
          ],
          [
           "WASTE MANAGEMENT OF NEW YORK, LLC",
           "Chaffee",
           "NY"
          ],
          [
           "WASTE MANAGEMENT OF NEW YORK, LLC",
           "Chaffee",
           "NY"
          ],
          [
           "WASTE MANAGEMENT OF NEW YORK, LLC",
           "Chaffee",
           "NY"
          ],
          [
           "WASTE MANAGEMENT OF NEW YORK, LLC",
           "Chaffee",
           "NY"
          ],
          [
           "WASTE MANAGEMENT OF NEW YORK, LLC",
           "Chaffee",
           "NY"
          ],
          [
           "WASTE MANAGEMENT OF NEW YORK, LLC",
           "Chaffee",
           "NY"
          ],
          [
           "WASTE MANAGEMENT OF NEW YORK, LLC",
           "Chaffee",
           "NY"
          ],
          [
           "WASTE MANAGEMENT OF NEW YORK, LLC",
           "Chaffee",
           "NY"
          ],
          [
           "WASTE MANAGEMENT OF NEW YORK, LLC",
           "Chaffee",
           "NY"
          ],
          [
           "WASTE MANAGEMENT OF NEW YORK, LLC",
           "Chaffee",
           "NY"
          ],
          [
           "WASTE MANAGEMENT OF NEW YORK, LLC",
           "Chaffee",
           "NY"
          ],
          [
           "WASTE MANAGEMENT OF NEW YORK, LLC",
           "Chaffee",
           "NY"
          ],
          [
           "WASTE MANAGEMENT OF NEW YORK, LLC",
           "Chaffee",
           "NY"
          ],
          [
           "WASTE MANAGEMENT OF NEW YORK, LLC",
           "Chaffee",
           "NY"
          ],
          [
           "WASTE MANAGEMENT OF NEW YORK, LLC",
           "Chaffee",
           "NY"
          ],
          [
           "WASTE MANAGEMENT OF NEW YORK, LLC",
           "Chaffee",
           "NY"
          ],
          [
           "WASTE MANAGEMENT OF NEW YORK, LLC",
           "Chaffee",
           "NY"
          ],
          [
           "WASTE MANAGEMENT OF NEW YORK, LLC",
           "Chaffee",
           "NY"
          ],
          [
           "WASTE MANAGEMENT OF NEW YORK, LLC",
           "Chaffee",
           "NY"
          ],
          [
           "WASTE MANAGEMENT OF NEW YORK, LLC",
           "Chaffee",
           "NY"
          ],
          [
           "WASTE MANAGEMENT OF NEW YORK, LLC",
           "Chaffee",
           "NY"
          ],
          [
           "WASTE MANAGEMENT OF NEW YORK, LLC",
           "Chaffee",
           "NY"
          ],
          [
           "WASTE MANAGEMENT OF NEW YORK, LLC",
           "Chaffee",
           "NY"
          ],
          [
           "WASTE MANAGEMENT OF NEW YORK, LLC",
           "Chaffee",
           "NY"
          ],
          [
           "WASTE MANAGEMENT OF NEW YORK, LLC",
           "Chaffee",
           "NY"
          ],
          [
           "WASTE MANAGEMENT OF NEW YORK, LLC",
           "Chaffee",
           "NY"
          ],
          [
           "WASTE MANAGEMENT OF NEW YORK, LLC",
           "Chaffee",
           "NY"
          ],
          [
           "WASTE MANAGEMENT OF NEW YORK, LLC",
           "Chaffee",
           "NY"
          ],
          [
           "WASTE MANAGEMENT OF NEW YORK, LLC",
           "Chaffee",
           "NY"
          ],
          [
           "WASTE MANAGEMENT OF NEW YORK, LLC",
           "Chaffee",
           "NY"
          ],
          [
           "WASTE MANAGEMENT OF NEW YORK, LLC",
           "Chaffee",
           "NY"
          ],
          [
           "WASTE MANAGEMENT OF NEW YORK, LLC",
           "Chaffee",
           "NY"
          ],
          [
           "WASTE MANAGEMENT OF NEW YORK, LLC",
           "Chaffee",
           "NY"
          ],
          [
           "WASTE MANAGEMENT OF NEW YORK, LLC",
           "Chaffee",
           "NY"
          ],
          [
           "WASTE MANAGEMENT OF NEW YORK, LLC",
           "Chaffee",
           "NY"
          ],
          [
           "WASTE MANAGEMENT OF NEW YORK, LLC",
           "Chaffee",
           "NY"
          ],
          [
           "WASTE MANAGEMENT OF NEW YORK, LLC",
           "Chaffee",
           "NY"
          ],
          [
           "WASTE MANAGEMENT OF NEW YORK, LLC",
           "Chaffee",
           "NY"
          ],
          [
           "WASTE MANAGEMENT OF NEW YORK, LLC",
           "Chaffee",
           "NY"
          ],
          [
           "WASTE MANAGEMENT OF NEW YORK, LLC",
           "Chaffee",
           "NY"
          ],
          [
           "WASTE MANAGEMENT OF NEW YORK, LLC",
           "Chaffee",
           "NY"
          ],
          [
           "WASTE MANAGEMENT OF NEW YORK, LLC",
           "Chaffee",
           "NY"
          ],
          [
           "WASTE MANAGEMENT OF NEW YORK, LLC",
           "Chaffee",
           "NY"
          ],
          [
           "WASTE MANAGEMENT OF NEW YORK, LLC",
           "Chaffee",
           "NY"
          ],
          [
           "WASTE MANAGEMENT OF NEW YORK, LLC",
           "Chaffee",
           "NY"
          ],
          [
           "WASTE MANAGEMENT OF NEW YORK, LLC",
           "Chaffee",
           "NY"
          ],
          [
           "WASTE MANAGEMENT OF NEW YORK, LLC",
           "Chaffee",
           "NY"
          ],
          [
           "WASTE MANAGEMENT OF NEW YORK, LLC",
           "Chaffee",
           "NY"
          ],
          [
           "WASTE MANAGEMENT OF NEW YORK, LLC",
           "Chaffee",
           "NY"
          ],
          [
           "WASTE MANAGEMENT OF NEW YORK, LLC",
           "Chaffee",
           "NY"
          ],
          [
           "WASTE MANAGEMENT OF NEW YORK, LLC",
           "Chaffee",
           "NY"
          ],
          [
           "WASTE MANAGEMENT OF NEW YORK, LLC",
           "Chaffee",
           "NY"
          ],
          [
           "WASTE MANAGEMENT OF NEW YORK, LLC",
           "Chaffee",
           "NY"
          ],
          [
           "WASTE MANAGEMENT OF NEW YORK, LLC",
           "Chaffee",
           "NY"
          ],
          [
           "WASTE MANAGEMENT OF NEW YORK, LLC",
           "Chaffee",
           "NY"
          ],
          [
           "WASTE MANAGEMENT OF NEW YORK, LLC",
           "Chaffee",
           "NY"
          ],
          [
           "WASTE MANAGEMENT OF NEW YORK, LLC",
           "Chaffee",
           "NY"
          ],
          [
           "WASTE MANAGEMENT OF NEW YORK, LLC",
           "Chaffee",
           "NY"
          ],
          [
           "WASTE MANAGEMENT OF NEW YORK, LLC",
           "Chaffee",
           "NY"
          ],
          [
           "WASTE MANAGEMENT OF NEW YORK, LLC",
           "Chaffee",
           "NY"
          ],
          [
           "WASTE MANAGEMENT OF NEW YORK, LLC",
           "Chaffee",
           "NY"
          ],
          [
           "WASTE MANAGEMENT OF NEW YORK, LLC",
           "Chaffee",
           "NY"
          ],
          [
           "WASTE MANAGEMENT OF NEW YORK, LLC",
           "Chaffee",
           "NY"
          ],
          [
           "WASTE MANAGEMENT OF NEW YORK, LLC",
           "Chaffee",
           "NY"
          ],
          [
           "WASTE MANAGEMENT OF NEW YORK, LLC",
           "Chaffee",
           "NY"
          ],
          [
           "WASTE MANAGEMENT OF NEW YORK, LLC",
           "Chaffee",
           "NY"
          ],
          [
           "WASTE MANAGEMENT OF NEW YORK, LLC",
           "Chaffee",
           "NY"
          ],
          [
           "WASTE MANAGEMENT OF NEW YORK, LLC",
           "Chaffee",
           "NY"
          ],
          [
           "WASTE MANAGEMENT OF NEW YORK, LLC",
           "Chaffee",
           "NY"
          ],
          [
           "WASTE MANAGEMENT OF NEW YORK, LLC",
           "Chaffee",
           "NY"
          ],
          [
           "WASTE MANAGEMENT OF NEW YORK, LLC",
           "Chaffee",
           "NY"
          ],
          [
           "WASTE MANAGEMENT OF NEW YORK, LLC",
           "Chaffee",
           "NY"
          ],
          [
           "WASTE MANAGEMENT OF NEW YORK, LLC",
           "Chaffee",
           "NY"
          ],
          [
           "WASTE MANAGEMENT OF NEW YORK, LLC",
           "Chaffee",
           "NY"
          ],
          [
           "WASTE MANAGEMENT OF NEW YORK, LLC",
           "Chaffee",
           "NY"
          ],
          [
           "WASTE MANAGEMENT OF NEW YORK, LLC",
           "Chaffee",
           "NY"
          ],
          [
           "WASTE MANAGEMENT OF NEW YORK, LLC",
           "Chaffee",
           "NY"
          ],
          [
           "WASTE MANAGEMENT OF NEW YORK, LLC",
           "Chaffee",
           "NY"
          ],
          [
           "WASTE MANAGEMENT OF NEW YORK, LLC",
           "Chaffee",
           "NY"
          ],
          [
           "WASTE MANAGEMENT OF NEW YORK, LLC",
           "Chaffee",
           "NY"
          ],
          [
           "WASTE MANAGEMENT OF NEW YORK, LLC",
           "Chaffee",
           "NY"
          ],
          [
           "WASTE MANAGEMENT OF NEW YORK, LLC",
           "Chaffee",
           "NY"
          ],
          [
           "WASTE MANAGEMENT OF NEW YORK, LLC",
           "Chaffee",
           "NY"
          ],
          [
           "WASTE MANAGEMENT OF NEW YORK, LLC",
           "Chaffee",
           "NY"
          ],
          [
           "WASTE MANAGEMENT OF NEW YORK, LLC",
           "Chaffee",
           "NY"
          ],
          [
           "WASTE MANAGEMENT OF NEW YORK, LLC",
           "Chaffee",
           "NY"
          ],
          [
           "WASTE MANAGEMENT OF NEW YORK, LLC",
           "Chaffee",
           "NY"
          ],
          [
           "WASTE MANAGEMENT OF NEW YORK, LLC",
           "Chaffee",
           "NY"
          ],
          [
           "WASTE MANAGEMENT OF NEW YORK, LLC",
           "Chaffee",
           "NY"
          ],
          [
           "WASTE MANAGEMENT OF NEW YORK, LLC",
           "Chaffee",
           "NY"
          ],
          [
           "WASTE MANAGEMENT OF NEW YORK, LLC",
           "Chaffee",
           "NY"
          ],
          [
           "WASTE MANAGEMENT OF NEW YORK, LLC",
           "Chaffee",
           "NY"
          ],
          [
           "WASTE MANAGEMENT OF NEW YORK, LLC",
           "Chaffee",
           "NY"
          ],
          [
           "WASTE MANAGEMENT OF NEW YORK, LLC",
           "Chaffee",
           "NY"
          ],
          [
           "WASTE MANAGEMENT OF NEW YORK, LLC",
           "Chaffee",
           "NY"
          ],
          [
           "WHEELABRATOR HUDSON FALLS LLC",
           "Hudson falls",
           "NY"
          ],
          [
           "WHEELABRATOR HUDSON FALLS LLC",
           "Hudson falls",
           "NY"
          ],
          [
           "WHEELABRATOR HUDSON FALLS LLC",
           "Hudson falls",
           "NY"
          ],
          [
           "WHEELABRATOR HUDSON FALLS LLC",
           "Hudson falls",
           "NY"
          ],
          [
           "WHEELABRATOR HUDSON FALLS LLC",
           "Hudson falls",
           "NY"
          ],
          [
           "WHEELABRATOR HUDSON FALLS LLC",
           "Hudson falls",
           "NY"
          ],
          [
           "WHEELABRATOR HUDSON FALLS LLC",
           "Hudson falls",
           "NY"
          ],
          [
           "WHEELABRATOR HUDSON FALLS LLC",
           "Hudson falls",
           "NY"
          ],
          [
           "WHEELABRATOR HUDSON FALLS LLC",
           "Hudson falls",
           "NY"
          ],
          [
           "WHEELABRATOR HUDSON FALLS LLC",
           "Hudson falls",
           "NY"
          ],
          [
           "WHEELABRATOR HUDSON FALLS LLC",
           "Hudson falls",
           "NY"
          ],
          [
           "WHEELABRATOR HUDSON FALLS LLC",
           "Hudson falls",
           "NY"
          ],
          [
           "WHEELABRATOR HUDSON FALLS LLC",
           "Hudson falls",
           "NY"
          ],
          [
           "WHEELABRATOR HUDSON FALLS LLC",
           "Hudson falls",
           "NY"
          ],
          [
           "WHEELABRATOR HUDSON FALLS LLC",
           "Hudson falls",
           "NY"
          ],
          [
           "WHEELABRATOR HUDSON FALLS LLC",
           "Hudson falls",
           "NY"
          ],
          [
           "WHEELABRATOR HUDSON FALLS LLC",
           "Hudson falls",
           "NY"
          ],
          [
           "WHEELABRATOR HUDSON FALLS LLC",
           "Hudson falls",
           "NY"
          ],
          [
           "WHEELABRATOR HUDSON FALLS LLC",
           "Hudson falls",
           "NY"
          ],
          [
           "WHEELABRATOR HUDSON FALLS LLC",
           "Hudson falls",
           "NY"
          ],
          [
           "WHEELABRATOR HUDSON FALLS LLC",
           "Hudson falls",
           "NY"
          ],
          [
           "WHEELABRATOR HUDSON FALLS LLC",
           "Hudson falls",
           "NY"
          ],
          [
           "WHEELABRATOR HUDSON FALLS LLC",
           "Hudson falls",
           "NY"
          ],
          [
           "WHEELABRATOR HUDSON FALLS LLC",
           "Hudson falls",
           "NY"
          ],
          [
           "WHEELABRATOR HUDSON FALLS LLC",
           "Hudson falls",
           "NY"
          ],
          [
           "WHEELABRATOR HUDSON FALLS LLC",
           "Hudson falls",
           "NY"
          ],
          [
           "WHEELABRATOR HUDSON FALLS LLC",
           "Hudson falls",
           "NY"
          ],
          [
           "WHEELABRATOR HUDSON FALLS LLC",
           "Hudson falls",
           "NY"
          ],
          [
           "WHEELABRATOR HUDSON FALLS LLC",
           "Hudson falls",
           "NY"
          ],
          [
           "WHEELABRATOR HUDSON FALLS LLC",
           "Hudson falls",
           "NY"
          ],
          [
           "WHEELABRATOR HUDSON FALLS LLC",
           "Hudson falls",
           "NY"
          ],
          [
           "WHEELABRATOR HUDSON FALLS LLC",
           "Hudson falls",
           "NY"
          ],
          [
           "WHEELABRATOR HUDSON FALLS LLC",
           "Hudson falls",
           "NY"
          ],
          [
           "WHEELABRATOR HUDSON FALLS LLC",
           "Hudson falls",
           "NY"
          ],
          [
           "WHEELABRATOR HUDSON FALLS LLC",
           "Hudson falls",
           "NY"
          ],
          [
           "WHEELABRATOR HUDSON FALLS LLC",
           "Hudson falls",
           "NY"
          ]
         ],
         "hovertemplate": "Sector=Waste<br>CO2 Emissions=%{x}<br>Nitrous Oxide Emissions=%{y}<br>Facility.Name=%{customdata[0]}<br>City=%{customdata[1]}<br>State=%{customdata[2]}<extra></extra>",
         "legendgroup": "Waste",
         "marker": {
          "color": "#EF553B",
          "symbol": "circle"
         },
         "mode": "markers",
         "name": "Waste",
         "showlegend": true,
         "type": "scattergl",
         "x": [
          19.5,
          23.2,
          20,
          43.9,
          73.4,
          103,
          0,
          324.6,
          0,
          421.8,
          0,
          452.8,
          0.2,
          949.8,
          0.9,
          361.3,
          0.2,
          420.4,
          0.2,
          958.4,
          0,
          2.2,
          305.2,
          0,
          2.4,
          359,
          0,
          2.7,
          363.7,
          2.4,
          60.4,
          3.6,
          88.9,
          110.5,
          89.6,
          71.8,
          86.4,
          92.4,
          78.3,
          99.4,
          93.3,
          116.1,
          123.3,
          73.8,
          12.8,
          107.8,
          13,
          24.5,
          32.7,
          20.6,
          29.3,
          33,
          53.1,
          23.5,
          59.2,
          26.7,
          57.5,
          27.6,
          60.1,
          18.6,
          65.9,
          17,
          66.6,
          32.6,
          36.5,
          49.8,
          13.6,
          48.3,
          24.9,
          74,
          29.7,
          46.8,
          12.3,
          63.1,
          8.2,
          92.6,
          156.3,
          99.4,
          171.9,
          19.5,
          28.5,
          1.8,
          20.1,
          2.6,
          28.4,
          37.7,
          24.3,
          2.8,
          21.2,
          26.3,
          14.7,
          1.9,
          28.3,
          41.3,
          18.2,
          4,
          32.6,
          24.1,
          22.4,
          4.8,
          23.4,
          21.2,
          19.6,
          3,
          1.5,
          34.4,
          45.3,
          22.5,
          2.8,
          1.7,
          29.3,
          38.2,
          18.9,
          3,
          1,
          34.7,
          53.3,
          20.8,
          4,
          4.4,
          30.9,
          29.4,
          19,
          2.9,
          41.2,
          13,
          48.8,
          15.3,
          906.2,
          6441.2,
          0,
          0,
          0,
          0,
          0,
          0,
          0,
          0,
          0,
          0,
          0,
          0,
          0,
          22.7,
          2,
          22.6,
          0.8,
          15.4,
          3.1,
          25.6,
          4.7,
          22,
          2.9,
          20.4,
          2.9,
          22.5,
          2.4,
          25.8,
          3.4,
          22.6,
          2.1,
          23.1,
          1.8,
          26.5,
          2.7,
          47.2,
          1.5,
          0,
          0,
          22.2,
          1,
          2.4,
          2.3,
          0,
          0.4,
          15.7,
          1,
          3.2,
          6.2,
          0,
          14.2,
          0,
          3.1,
          10.5,
          0,
          22.7,
          0,
          1.6,
          31.7,
          0,
          20.2,
          0.1,
          2.8,
          19.4,
          0,
          22.3,
          0.3,
          3.1,
          0,
          46.1,
          5.4,
          1.1,
          7.7,
          46.4,
          13.6,
          0.6,
          7.3,
          44.1,
          2.4,
          1.8,
          4.7,
          31.9,
          48.7,
          3.2,
          0.8,
          5,
          22.3,
          17.6,
          5.4,
          1.1,
          5.4,
          31.2,
          2.3,
          2.3,
          17.3,
          8.1,
          73.5,
          5.9,
          9.2,
          37.6,
          47.4,
          66.6,
          67.4,
          63.1,
          54.3,
          49.7,
          40.8,
          9.2,
          50,
          37.6,
          34.5,
          58.6,
          82.8,
          50.1,
          245.7,
          39.5,
          150.9,
          38.1,
          2.3,
          22.6,
          2,
          10.8,
          3.4,
          14.8,
          2,
          20.4,
          4.4,
          19.4,
          7.9,
          15.9,
          3.9,
          18.9,
          4.7,
          30.9,
          4.3,
          23.5,
          6.4,
          39.8,
          4.3,
          0.3,
          15.8,
          4.4,
          0.3,
          27,
          93036.38,
          94413.92,
          93795.16,
          93538.06,
          77125.5,
          79947.1,
          91026.2,
          85519.6,
          82711.1,
          79874.1,
          80093.1,
          78299.3,
          126383.64,
          125575.94,
          126081.78,
          126120.98,
          118709.8,
          105995,
          112652.5,
          121543.6,
          124926.2,
          110821.6,
          109701,
          112794,
          110.4,
          89.2,
          77.5,
          103.7,
          104.6,
          78.1,
          90.1,
          109.5,
          86.7,
          55.4,
          0,
          41.8,
          32.4,
          8.5,
          2.5,
          44.6,
          26.3,
          34862.76,
          38914.04,
          39234.1,
          39929.42,
          33932.7,
          38449.6,
          45349.7,
          48308.1,
          45314.5,
          44437.4,
          42112.4,
          43031.8,
          122.8,
          108.4,
          103.1,
          168.2,
          144.5,
          127.4,
          118.1,
          58.8,
          78,
          75.8,
          19.2,
          3.8,
          6,
          23,
          3.8,
          6.5,
          1166.8,
          1521.6,
          279.1,
          651.2,
          1521.6,
          0,
          314.1,
          732.8,
          0,
          1521.6,
          0,
          381.2,
          889.6,
          0,
          1521.6,
          0,
          434.9,
          1014.9,
          0,
          1521.6,
          0,
          371,
          865.6,
          0,
          1521.6,
          0,
          261.5,
          610.2,
          0,
          1521.6,
          0,
          278.4,
          649.6,
          0,
          1521.6,
          0,
          349.5,
          815.6,
          0,
          1521.6,
          0,
          276.6,
          628.7,
          0,
          1521.6,
          0,
          268.4,
          716.5,
          0,
          1523.4,
          0,
          353.1,
          893.1,
          0,
          1523.4,
          12.3,
          62.6,
          0,
          75.2,
          12.7,
          73.6,
          62,
          68.8,
          56.3,
          66.9,
          39,
          77,
          33.1,
          65.2,
          51.7,
          44.9,
          69.9,
          48.9,
          13.2,
          51.7,
          15.7,
          55.2,
          9.4,
          58.1,
          0,
          0,
          49.5,
          226.9,
          226.9,
          215.4,
          43.1,
          43.1,
          43.1,
          43.1,
          43.1,
          53.8,
          32.3,
          80.8,
          80.8,
          165,
          15.6,
          15.6,
          15.6,
          15.6,
          15.6,
          0,
          0,
          0,
          49.5,
          226.9,
          226.9,
          215.4,
          43.1,
          43.1,
          43.1,
          43.1,
          43.1,
          53.8,
          32.3,
          80.8,
          80.8,
          165,
          15.6,
          15.6,
          15.6,
          15.6,
          15.6,
          15.6,
          0,
          0,
          49.6,
          227.5,
          227.5,
          215.9,
          43.2,
          43.2,
          43.2,
          43.2,
          43.2,
          54,
          32.4,
          81,
          81,
          165.5,
          15.6,
          15.6,
          15.6,
          15.6,
          15.6,
          15.6,
          0,
          0,
          49.5,
          226.9,
          226.9,
          215.4,
          43.1,
          43.1,
          43.1,
          43.1,
          43.1,
          53.8,
          32.3,
          80.8,
          80.8,
          165,
          252.7,
          252.7,
          252.7,
          252.7,
          252.7,
          0,
          0,
          0,
          226.9,
          226.9,
          215.4,
          43.1,
          43.1,
          43.1,
          43.1,
          43.1,
          53.8,
          32.3,
          80.8,
          80.8,
          0,
          0,
          0,
          0,
          226.9,
          226.9,
          215.4,
          43.1,
          43.1,
          43.1,
          43.1,
          43.1,
          53.8,
          32.3,
          80.8,
          80.8,
          0,
          0,
          0,
          0,
          226.9,
          226.9,
          215.4,
          43.1,
          43.1,
          43.1,
          43.1,
          43.1,
          53.8,
          32.3,
          80.8,
          80.8,
          165,
          0,
          0,
          49.5,
          264.2,
          215.4,
          43.1,
          43.1,
          43.1,
          43.1,
          43.1,
          53.8,
          32.3,
          165,
          0,
          0,
          264.2,
          43.1,
          43.1,
          43.1,
          43.1,
          43.1,
          53.8,
          215.4,
          0,
          0,
          264.2,
          44.1,
          44.1,
          44.1,
          44.1,
          44.1,
          55.1,
          220.3,
          193.811405,
          0,
          0,
          264.89452,
          43.189171,
          43.189171,
          43.189171,
          43.189171,
          43.189171,
          53.986464,
          193.3,
          0,
          0,
          258.4,
          43.1,
          43.1,
          43.1,
          43.1,
          43.1,
          53.8,
          0,
          0.4,
          27.4,
          0,
          0.6,
          15.4,
          0,
          0.6,
          22.1,
          0,
          2.6,
          1.1,
          0,
          1.9,
          21.7,
          0,
          3.8,
          17.5,
          0,
          0,
          19.1,
          0,
          0.4,
          24.1,
          0,
          2.5,
          27.3,
          0,
          2.6,
          25.2,
          0,
          2.7,
          26.7,
          0,
          6,
          22.8,
          47695.82,
          46818.12,
          49711.58,
          48253.34,
          44726.3,
          44556.1,
          53158.8,
          48570.7,
          47945.7,
          48673.7,
          49842.4,
          48329.8,
          0,
          42.5,
          12.8,
          0,
          34.1,
          18.4,
          22.4,
          38.8,
          49.6,
          30.6,
          43.2,
          24.5,
          1,
          28.8,
          30.6,
          1.2,
          27.9,
          35.7,
          1.5,
          28.1,
          33.2,
          1.1,
          38.4,
          29.6,
          0.5,
          22.7,
          27.4,
          1.8,
          25.3,
          25.5,
          2.6,
          28.8,
          24.7,
          0,
          0,
          109.3,
          0,
          0,
          74.4,
          0,
          0,
          74.3,
          0,
          0,
          47.9,
          0,
          0,
          46.8,
          0.1,
          0,
          107.2,
          1.9,
          0,
          103.4,
          1.3,
          0.3,
          112.9,
          48,
          0.8,
          129.8,
          27.7,
          0.1,
          109.9,
          159.2,
          0.5,
          14.3,
          60.7,
          63.8,
          1.3,
          96.8,
          0,
          0,
          0,
          0,
          70.8,
          53.4,
          69.4,
          63.5,
          80,
          60.6,
          60.4,
          58.2,
          56.3,
          47,
          54.6,
          72.7,
          52.1,
          64,
          17.4,
          33.2,
          47.9,
          19.8,
          34.6,
          47,
          17.8,
          33.9,
          53.9,
          18.7,
          41.3,
          59.3,
          19.6,
          39.4,
          27.5,
          12.8,
          50,
          33.6,
          12.4,
          52.7,
          42.9,
          15.4,
          59.2,
          38,
          16.9,
          52.8,
          37.3,
          14.3,
          44.2,
          37.1,
          10.3,
          59.5,
          37.4,
          0.1,
          144335.06,
          143123.04,
          139207.76,
          140099.18,
          164641.3,
          149394.8,
          144190.7,
          137596.6,
          131565.9,
          129256.3,
          137935.7,
          136475.9,
          48.8,
          60,
          0,
          48.8,
          60,
          0,
          40.9,
          49.1,
          0,
          14.7,
          54.5,
          29.7,
          32.5,
          26.3,
          41.1,
          35.2,
          20.8,
          38.2,
          67.9,
          24,
          38.5,
          0.7,
          0.1,
          31.8,
          82.5,
          14.2,
          58.5,
          274.2,
          12.9,
          51.5,
          241.5,
          14.4,
          36.3,
          176.9,
          26.8,
          29.1,
          125.7,
          21164.16,
          146,
          20877.04,
          158.9,
          23581.56,
          103.4,
          23466.92,
          131.2,
          27675.1,
          101.4,
          26203.1,
          81.6,
          28002.2,
          1096.6,
          26339.9,
          104.5,
          15693.2,
          114.1,
          29490.5,
          123.7,
          29101.4,
          110,
          29429.9,
          0,
          990.1,
          4.2,
          61.8,
          75.3,
          75.3,
          62.5,
          103.7,
          162.7,
          132,
          13.9,
          92.5,
          0,
          990.1,
          4.2,
          61.8,
          75.3,
          75.3,
          62.5,
          103.7,
          162.7,
          132,
          13.9,
          92.5,
          0,
          992.8,
          4.2,
          62,
          75.5,
          75.5,
          62.7,
          104,
          163.1,
          132.4,
          14,
          92.7,
          0,
          990.1,
          4.2,
          61.8,
          75.3,
          75.3,
          62.5,
          103.7,
          162.7,
          132,
          13.9,
          92.5,
          0,
          6.9,
          4.2,
          61.8,
          75.3,
          75.3,
          62.5,
          14.6,
          162.7,
          3.5,
          13.9,
          92.5,
          0,
          6.2,
          4.2,
          61.8,
          10.5,
          75.3,
          62.5,
          14.5,
          0.7,
          13.9,
          92.5,
          0,
          6.9,
          4.2,
          61.8,
          75.3,
          75.3,
          62.5,
          8.9,
          0,
          13.9,
          92.5,
          0,
          4.3,
          4.2,
          61.8,
          75.3,
          75.3,
          62.5,
          11.5,
          0,
          13.9,
          92.5,
          0,
          4.2,
          4.2,
          61.8,
          75.3,
          75.3,
          62.5,
          29,
          0,
          13.9,
          92.5,
          0,
          990.1,
          4.2,
          61.8,
          75.3,
          75.3,
          62.5,
          103.7,
          132,
          13.9,
          92.5,
          0,
          992.817502,
          4.191549,
          61.941781,
          75.447884,
          75.447884,
          62.621743,
          104.00256,
          132.375667,
          13.97183,
          92.679808,
          0,
          983,
          4.2,
          61.8,
          75.3,
          75.3,
          62.5,
          101.5,
          131.1,
          13.9,
          92.5,
          18,
          0,
          18,
          0,
          18.1,
          0,
          20.7,
          26.9,
          0,
          2.6,
          0,
          16,
          0,
          21.8,
          0,
          29,
          11,
          26,
          8.6,
          9.5,
          150.8,
          0,
          104.8,
          0,
          149.8,
          0,
          139.3,
          0,
          188.7,
          0,
          111.7,
          56.9,
          801.4,
          8.9,
          389.4,
          6.7,
          10.5,
          0,
          9.6,
          0,
          139,
          139,
          0,
          66,
          51.1,
          51.1,
          51.1,
          34.9,
          58.1,
          21.4,
          379.3,
          80.8,
          18.6,
          18.6,
          348.6,
          17.7,
          139,
          139,
          0,
          66,
          51.1,
          51.1,
          51.1,
          34.9,
          58.1,
          21.4,
          379.3,
          80.8,
          18.6,
          18.6,
          348.6,
          17.7,
          139.4,
          139.4,
          0,
          66.2,
          51.3,
          51.3,
          51.3,
          35,
          58.3,
          21.4,
          380.3,
          81,
          18.6,
          18.6,
          349.6,
          17.7,
          139,
          139,
          0,
          66,
          51.1,
          51.1,
          51.1,
          34.9,
          58.1,
          21.4,
          379.3,
          80.8,
          18.6,
          18.6,
          348.6,
          17.7,
          139,
          139,
          0,
          0.1,
          51.1,
          51.1,
          51.1,
          34.9,
          58.1,
          21.4,
          379.3,
          80.8,
          18.6,
          18.6,
          348.6,
          17.7,
          139,
          139,
          0,
          51.1,
          51.1,
          51.1,
          34.9,
          58.1,
          21.4,
          80.8,
          18.6,
          18.6,
          348.6,
          17.7,
          139,
          139,
          0,
          51.1,
          51.1,
          51.1,
          34.9,
          58.1,
          21.4,
          80.8,
          18.6,
          18.6,
          348.6,
          17.7,
          139,
          139,
          0,
          51.1,
          51.1,
          51.1,
          34.9,
          58.1,
          21.4,
          80.8,
          18.6,
          18.6,
          348.6,
          17.7,
          139,
          139,
          0,
          51.1,
          51.1,
          34.9,
          58.1,
          21.4,
          80.8,
          18.6,
          18.6,
          17.7,
          17.7,
          0,
          51.1,
          51.1,
          34.9,
          58.1,
          21.4,
          74.4,
          74.4,
          74.4,
          74.4,
          1510.6,
          82.6,
          18.6,
          18.6,
          348.6,
          17.7,
          0,
          51.230044,
          51.230044,
          34.929576,
          58.21596,
          21.423473,
          74.516428,
          74.516428,
          74.516428,
          74.516428,
          1513.61496,
          80.979695,
          18.629107,
          18.629107,
          349.29576,
          17.697651,
          0,
          51.09,
          51.09,
          34.834,
          58.057,
          21.365,
          74.313,
          74.313,
          74.313,
          74.313,
          1509.479,
          82.808,
          18.578,
          18.578,
          348.341,
          17.649,
          6880.3,
          25110.92,
          25072.2,
          7857.1,
          24728.6,
          24985.72,
          3231.2,
          27348.56,
          27082.08,
          2886.9,
          27281.4,
          27320.96,
          2658.9,
          31693.3,
          32009.3,
          2244.2,
          26070.9,
          28492.6,
          1611.1,
          30742,
          31976.4,
          3833.9,
          29374.7,
          28214.8,
          3785.5,
          30615.9,
          30563.4,
          3277.4,
          28726,
          30404,
          2341.7,
          29284,
          29440,
          3223.5,
          29057,
          27839
         ],
         "xaxis": "x",
         "y": [
          0,
          0,
          0,
          0,
          0.298,
          0.298,
          0,
          0.298,
          0,
          0.298,
          0,
          0.298,
          0,
          0.596,
          0,
          0.298,
          0,
          0.298,
          0,
          0.596,
          6.258,
          0,
          0.298,
          14.9,
          0,
          0.298,
          17.88,
          0,
          0.298,
          0,
          0,
          0,
          0,
          0.298,
          0.298,
          0,
          0.298,
          0.298,
          0.298,
          0,
          0,
          0,
          0,
          0.298,
          0,
          0.298,
          0,
          0,
          0,
          0,
          0,
          0,
          0,
          0,
          0,
          0,
          0,
          0,
          0,
          0,
          0.298,
          0,
          0.298,
          0,
          0,
          0,
          0,
          0,
          0,
          0.298,
          0,
          0,
          0,
          0.298,
          0,
          0.298,
          0.298,
          0.298,
          0.298,
          0,
          0,
          0,
          0,
          0,
          0,
          0,
          0,
          0,
          0,
          0,
          0,
          0,
          0,
          0,
          0,
          0,
          0,
          0,
          0,
          0,
          0,
          0,
          0,
          0,
          0,
          0,
          0,
          0,
          0,
          0,
          0,
          0,
          0,
          0,
          0,
          0,
          0.298,
          0,
          0,
          0,
          0,
          0,
          0,
          0,
          0,
          0,
          0,
          0,
          0.596,
          23.244,
          37.846,
          0,
          70.924,
          85.526,
          85.824,
          91.486,
          96.85,
          103.704,
          97.148,
          101.618,
          101.618,
          168.668,
          184.164,
          0,
          0,
          0,
          0,
          0,
          0,
          0,
          0,
          0,
          0,
          0,
          0,
          0,
          0,
          0,
          0,
          0,
          0,
          0,
          0,
          0,
          0,
          0,
          0,
          92.976,
          0,
          0,
          0,
          0,
          0,
          80.758,
          0,
          0,
          0,
          0,
          0,
          73.904,
          0,
          0,
          0,
          0,
          50.362,
          0,
          0,
          0,
          0,
          58.408,
          0,
          0,
          0,
          0,
          67.05,
          0,
          0,
          0,
          0,
          0,
          0,
          0,
          0,
          0,
          0,
          0,
          0,
          0,
          0,
          0,
          0,
          0,
          0,
          0,
          0,
          0,
          0,
          0,
          0,
          0,
          0,
          0,
          0,
          0,
          0,
          0,
          0,
          0,
          0,
          0,
          0,
          0.298,
          0,
          0.298,
          0,
          0,
          0,
          0,
          0,
          0,
          0,
          0.298,
          0,
          0,
          0,
          0,
          0,
          0,
          0,
          0,
          0,
          0,
          0,
          0,
          0,
          0,
          0,
          0,
          0,
          0,
          0,
          0,
          0,
          0,
          0,
          0,
          0,
          0,
          0,
          0,
          0,
          0,
          0,
          0,
          3188.302,
          3239.856,
          3219.592,
          3213.036,
          3044.666,
          3090.856,
          3124.828,
          3044.368,
          3068.208,
          3134.96,
          3123.934,
          3063.142,
          4346.032,
          4311.762,
          4335.006,
          4333.218,
          4207.76,
          4280.174,
          4293.584,
          4186.304,
          4237.56,
          4196.734,
          4173.49,
          4174.384,
          0.298,
          0.298,
          0.298,
          0.298,
          0.298,
          0.298,
          0,
          0,
          0,
          0,
          0,
          0,
          0,
          0,
          0,
          0,
          0,
          955.388,
          1261.732,
          1317.16,
          1349.046,
          1100.812,
          1273.652,
          1347.556,
          1364.84,
          1382.422,
          1404.474,
          1499.238,
          1472.716,
          0.298,
          0.298,
          0.298,
          0.298,
          0.298,
          0.298,
          0,
          0,
          0,
          0,
          0,
          0,
          0,
          0,
          0,
          0,
          2.682,
          0.894,
          0.596,
          1.49,
          0.894,
          34.866,
          0.894,
          1.788,
          11.622,
          0.894,
          39.038,
          0.894,
          2.086,
          12.516,
          0.894,
          33.078,
          1.192,
          2.384,
          11.92,
          0.894,
          37.548,
          0.894,
          2.086,
          11.622,
          0.894,
          47.68,
          0.596,
          1.49,
          11.622,
          0.894,
          59.004,
          0.596,
          1.49,
          11.324,
          0.894,
          58.706,
          0.894,
          2.086,
          11.622,
          0.894,
          65.858,
          0.596,
          1.49,
          19.668,
          0.894,
          31.588,
          0.596,
          1.788,
          19.37,
          0.894,
          31.886,
          0.894,
          2.086,
          20.86,
          0.894,
          0,
          0.298,
          0,
          0.298,
          0,
          0.298,
          0.298,
          0.298,
          0,
          0.298,
          0,
          0.298,
          0,
          0.298,
          0,
          0,
          0.298,
          0,
          0,
          0,
          0,
          0,
          0,
          0,
          53.342,
          95.36,
          0,
          0.596,
          0.596,
          0,
          0,
          0,
          0,
          0,
          0,
          0,
          0,
          0,
          0,
          0.298,
          0,
          0,
          0,
          0,
          0,
          0,
          50.958,
          95.062,
          0,
          0.596,
          0.596,
          0,
          0,
          0,
          0,
          0,
          0,
          0,
          0,
          0,
          0,
          0.298,
          0,
          0,
          0,
          0,
          0,
          0,
          47.978,
          102.214,
          0,
          0.596,
          0.596,
          0,
          0,
          0,
          0,
          0,
          0,
          0,
          0,
          0,
          0,
          0.298,
          0,
          0,
          0,
          0,
          0,
          0,
          37.846,
          95.956,
          0,
          0.596,
          0.596,
          0,
          0,
          0,
          0,
          0,
          0,
          0,
          0,
          0,
          0,
          0.298,
          0.596,
          0.596,
          0.596,
          0.596,
          0.596,
          16.092,
          84.334,
          0,
          0.596,
          0.596,
          0,
          0,
          0,
          0,
          0,
          0,
          0,
          0,
          0,
          0,
          0,
          54.534,
          87.91,
          0,
          0.596,
          0.596,
          0,
          0,
          0,
          0,
          0,
          0,
          0,
          0,
          0,
          0,
          0,
          55.428,
          103.704,
          0,
          0.596,
          0.596,
          0,
          0,
          0,
          0,
          0,
          0,
          0,
          0,
          0,
          0,
          0.298,
          50.66,
          94.466,
          0,
          0.596,
          0,
          0,
          0,
          0,
          0,
          0,
          0,
          0,
          0.298,
          58.408,
          107.876,
          0.596,
          0,
          0,
          0,
          0,
          0,
          0,
          0,
          60.792,
          107.876,
          0.596,
          0,
          0,
          0,
          0,
          0,
          0.298,
          0.596,
          0.563816,
          64.967576,
          110.26,
          0.639806,
          0.125458,
          0.125458,
          0.125458,
          0.125458,
          0.125458,
          0.157046,
          0.596,
          64.368,
          110.558,
          0.596,
          0,
          0,
          0,
          0,
          0,
          0.298,
          78.374,
          0,
          0,
          86.718,
          0,
          0,
          86.42,
          0,
          0,
          73.606,
          0,
          0,
          65.262,
          0,
          0,
          82.844,
          0,
          0,
          84.93,
          0,
          0,
          70.03,
          0,
          0,
          70.924,
          0,
          0,
          67.944,
          0,
          0,
          59.898,
          0,
          0,
          63.772,
          0,
          0,
          1602.048,
          1565.394,
          1654.496,
          1605.326,
          1631.848,
          1678.336,
          1731.976,
          1692.342,
          1697.706,
          1694.726,
          1719.758,
          1710.52,
          0,
          0,
          0,
          0,
          0,
          0,
          0,
          0,
          0,
          0,
          0,
          0,
          0,
          0,
          0,
          0,
          0,
          0,
          0,
          0,
          0,
          0,
          0,
          0,
          0,
          0,
          0,
          0,
          0,
          0,
          0,
          0,
          0,
          0,
          0,
          0,
          0,
          0,
          0,
          0,
          0,
          0,
          0,
          0,
          0,
          0,
          0,
          0,
          0,
          0,
          0,
          0,
          0,
          0,
          0,
          0,
          0,
          0,
          0,
          0,
          0,
          0,
          0,
          0.298,
          0,
          0,
          0.298,
          0.298,
          0,
          0.298,
          21.754,
          23.542,
          25.335066,
          26.497266,
          0.298,
          0.298,
          0.298,
          0.298,
          0.298,
          0.298,
          0.298,
          0,
          0,
          0,
          0.298,
          0.298,
          0,
          0.298,
          0,
          0,
          0,
          0,
          0,
          0,
          0,
          0,
          0.298,
          0,
          0,
          0.298,
          0,
          0,
          0,
          0,
          0,
          0,
          0,
          0.298,
          0,
          0,
          0.298,
          0,
          0,
          0.298,
          0,
          0,
          0,
          0,
          0,
          0.298,
          0,
          0,
          4936.072,
          4899.12,
          4768,
          4798.992,
          4815.68,
          4763.828,
          4358.25,
          4195.244,
          4122.83,
          4096.904,
          4228.322,
          4355.568,
          0,
          0,
          0,
          0,
          0,
          0,
          0,
          0,
          0,
          0,
          0,
          0,
          0,
          0,
          0,
          0,
          0,
          0,
          0,
          0,
          0,
          0,
          0,
          0,
          0,
          0,
          0.298,
          0.298,
          0,
          0,
          0,
          0,
          0,
          0,
          0,
          0,
          0,
          730.1,
          0,
          720.266,
          0,
          813.54,
          0,
          809.666,
          0,
          789.998,
          0,
          850.79,
          0,
          831.122,
          0.596,
          794.468,
          0,
          672.884,
          0,
          875.226,
          0,
          863.604,
          0,
          878.206,
          113.836,
          2.384,
          0,
          0,
          0,
          0,
          0,
          0.298,
          0,
          0.298,
          0,
          0,
          119.796,
          2.384,
          0,
          0,
          0,
          0,
          0,
          0.298,
          0,
          0.298,
          0,
          0,
          122.776,
          2.384,
          0,
          0,
          0,
          0,
          0,
          0.298,
          0,
          0.298,
          0,
          0,
          120.094,
          2.384,
          0,
          0,
          0,
          0,
          0,
          0.298,
          0,
          0.298,
          0,
          0,
          121.584,
          0,
          0,
          0,
          0,
          0,
          0,
          0,
          0,
          0,
          0,
          0,
          120.094,
          0,
          0,
          0,
          0,
          0,
          0,
          0,
          0,
          0,
          0,
          118.902,
          0,
          0,
          0,
          0,
          0,
          0,
          0,
          0,
          0,
          0,
          113.836,
          0,
          0,
          0,
          0,
          0,
          0,
          0,
          0,
          0,
          0,
          117.114,
          0,
          0,
          0,
          0,
          0,
          0,
          0,
          0,
          0,
          0,
          118.604,
          2.384,
          0,
          0,
          0,
          0,
          0,
          0.298,
          0.298,
          0,
          0,
          116.260528,
          2.400092,
          0.002086,
          0.034568,
          0.042316,
          0.042316,
          0.035164,
          0.251214,
          0.319754,
          0.007748,
          0.051852,
          121.1221,
          2.384,
          0,
          0,
          0,
          0,
          0,
          0.298,
          0.298,
          0,
          0,
          0,
          0,
          0,
          0,
          0,
          0,
          0,
          0,
          0,
          0,
          0,
          0,
          0,
          0,
          0,
          0,
          0,
          0,
          0,
          0,
          0.298,
          0,
          0.298,
          0,
          0.298,
          0,
          0,
          0.894,
          0,
          0.298,
          0.298,
          0.298,
          0.596,
          0,
          0.298,
          0,
          0,
          0.298,
          0,
          0.298,
          0,
          0,
          101.022,
          0.298,
          0,
          0,
          0,
          0,
          0,
          0,
          0.298,
          0,
          0,
          0,
          0.298,
          0,
          0,
          0,
          84.036,
          0.298,
          0,
          0,
          0,
          0,
          0,
          0,
          0.298,
          0,
          0,
          0,
          0.298,
          0,
          0,
          0,
          84.93,
          0.298,
          0,
          0,
          0,
          0,
          0,
          0,
          0.298,
          0,
          0,
          0,
          0.298,
          0,
          0,
          0,
          93.274,
          0.298,
          0,
          0,
          0,
          0,
          0,
          0,
          0.298,
          0,
          0,
          0,
          0.298,
          0,
          0,
          0,
          115.326,
          0,
          0,
          0,
          0,
          0,
          0,
          0,
          0.298,
          0,
          0,
          0,
          0.298,
          0,
          0,
          0,
          113.836,
          0,
          0,
          0,
          0,
          0,
          0,
          0,
          0,
          0,
          0.298,
          0,
          0,
          0,
          123.074,
          0,
          0,
          0,
          0,
          0,
          0,
          0,
          0,
          0,
          0.298,
          0,
          0,
          0,
          119.796,
          0,
          0,
          0,
          0,
          0,
          0,
          0,
          0,
          0,
          0.298,
          0,
          0,
          0,
          106.088,
          0,
          0,
          0,
          0,
          0,
          0,
          0,
          0,
          0,
          0,
          111.75,
          0,
          0,
          0,
          0,
          0,
          0,
          0,
          0,
          0,
          0.894,
          0.298,
          0,
          0,
          0.298,
          0,
          119.82282,
          0.028608,
          0.028608,
          0.01937,
          0.032482,
          0.01192,
          0.04172,
          0.04172,
          0.04172,
          0.04172,
          0.850492,
          0.23542,
          0.01043,
          0.01043,
          0.196084,
          0.009834,
          121.055348,
          0,
          0,
          0,
          0,
          0,
          0,
          0,
          0,
          0,
          0.894,
          0,
          0,
          0,
          0.298,
          0,
          3.874,
          866.286,
          865.094,
          4.47,
          853.174,
          862.114,
          1.788,
          943.468,
          934.23,
          1.49,
          941.084,
          942.574,
          1.49,
          920.82,
          929.76,
          1.192,
          836.784,
          914.264,
          0.894,
          917.244,
          954.196,
          2.086,
          931.846,
          894.894,
          2.086,
          928.568,
          927.078,
          1.788,
          896.98,
          947.64,
          1.192,
          980.42,
          983.4,
          1.788,
          894,
          894
         ],
         "yaxis": "y"
        },
        {
         "customdata": [
          [
           "American Sugar Refining, Inc. - Yonkers Refinery",
           "Yonkers",
           "NY"
          ],
          [
           "American Sugar Refining, Inc. - Yonkers Refinery",
           "Yonkers",
           "NY"
          ],
          [
           "American Sugar Refining, Inc. - Yonkers Refinery",
           "Yonkers",
           "NY"
          ],
          [
           "American Sugar Refining, Inc. - Yonkers Refinery",
           "Yonkers",
           "NY"
          ],
          [
           "American Sugar Refining, Inc. - Yonkers Refinery",
           "Yonkers",
           "NY"
          ],
          [
           "American Sugar Refining, Inc. - Yonkers Refinery",
           "Yonkers",
           "NY"
          ],
          [
           "American Sugar Refining, Inc. - Yonkers Refinery",
           "Yonkers",
           "NY"
          ],
          [
           "American Sugar Refining, Inc. - Yonkers Refinery",
           "Yonkers",
           "NY"
          ],
          [
           "American Sugar Refining, Inc. - Yonkers Refinery",
           "Yonkers",
           "NY"
          ],
          [
           "American Sugar Refining, Inc. - Yonkers Refinery",
           "Yonkers",
           "NY"
          ],
          [
           "American Sugar Refining, Inc. - Yonkers Refinery",
           "Yonkers",
           "NY"
          ],
          [
           "American Sugar Refining, Inc. - Yonkers Refinery",
           "Yonkers",
           "NY"
          ],
          [
           "CARGILL INCORPORATED, WATKINS GLEN PLANT",
           "Watkins glen",
           "NY"
          ],
          [
           "CARGILL INCORPORATED, WATKINS GLEN PLANT",
           "Watkins glen",
           "NY"
          ],
          [
           "CARGILL INCORPORATED, WATKINS GLEN PLANT",
           "Watkins glen",
           "NY"
          ],
          [
           "CARGILL INCORPORATED, WATKINS GLEN PLANT",
           "Watkins glen",
           "NY"
          ],
          [
           "CARGILL INCORPORATED, WATKINS GLEN PLANT",
           "Watkins glen",
           "NY"
          ],
          [
           "CARGILL INCORPORATED, WATKINS GLEN PLANT",
           "Watkins glen",
           "NY"
          ],
          [
           "CARGILL INCORPORATED, WATKINS GLEN PLANT",
           "Watkins glen",
           "NY"
          ],
          [
           "CARGILL INCORPORATED, WATKINS GLEN PLANT",
           "Watkins glen",
           "NY"
          ],
          [
           "CARGILL INCORPORATED, WATKINS GLEN PLANT",
           "Watkins glen",
           "NY"
          ],
          [
           "CARGILL INCORPORATED, WATKINS GLEN PLANT",
           "Watkins glen",
           "NY"
          ],
          [
           "CARGILL INCORPORATED, WATKINS GLEN PLANT",
           "Watkins glen",
           "NY"
          ],
          [
           "CARGILL INCORPORATED, WATKINS GLEN PLANT",
           "Watkins glen",
           "NY"
          ],
          [
           "COLUMBIA UNIVERSITY-410 W 118TH ST",
           "New york",
           "NY"
          ],
          [
           "COLUMBIA UNIVERSITY-410 W 118TH ST",
           "New york",
           "NY"
          ],
          [
           "COLUMBIA UNIVERSITY-410 W 118TH ST",
           "New york",
           "NY"
          ],
          [
           "COLUMBIA UNIVERSITY-410 W 118TH ST",
           "New york",
           "NY"
          ],
          [
           "COLUMBIA UNIVERSITY-410 W 118TH ST",
           "New york",
           "NY"
          ],
          [
           "COLUMBIA UNIVERSITY-410 W 118TH ST",
           "New york",
           "NY"
          ],
          [
           "COLUMBIA UNIVERSITY-410 W 118TH ST",
           "New york",
           "NY"
          ],
          [
           "COLUMBIA UNIVERSITY-410 W 118TH ST",
           "New york",
           "NY"
          ],
          [
           "COLUMBIA UNIVERSITY-410 W 118TH ST",
           "New york",
           "NY"
          ],
          [
           "COLUMBIA UNIVERSITY-410 W 118TH ST",
           "New york",
           "NY"
          ],
          [
           "COLUMBIA UNIVERSITY-410 W 118TH ST",
           "New york",
           "NY"
          ],
          [
           "COLUMBIA UNIVERSITY-410 W 118TH ST",
           "New york",
           "NY"
          ],
          [
           "COMMONWEALTH PLYWOOD INC",
           "Whitehall",
           "NY"
          ],
          [
           "COMMONWEALTH PLYWOOD INC",
           "Whitehall",
           "NY"
          ],
          [
           "Cornell University Ithaca Campus",
           "Ithaca",
           "NY"
          ],
          [
           "Cornell University Ithaca Campus",
           "Ithaca",
           "NY"
          ],
          [
           "Cornell University Ithaca Campus",
           "Ithaca",
           "NY"
          ],
          [
           "Cornell University Ithaca Campus",
           "Ithaca",
           "NY"
          ],
          [
           "Cornell University Ithaca Campus",
           "Ithaca",
           "NY"
          ],
          [
           "Cornell University Ithaca Campus",
           "Ithaca",
           "NY"
          ],
          [
           "Cornell University Ithaca Campus",
           "Ithaca",
           "NY"
          ],
          [
           "Cornell University Ithaca Campus",
           "Ithaca",
           "NY"
          ],
          [
           "Cornell University Ithaca Campus",
           "Ithaca",
           "NY"
          ],
          [
           "Cornell University Ithaca Campus",
           "Ithaca",
           "NY"
          ],
          [
           "Cornell University Ithaca Campus",
           "Ithaca",
           "NY"
          ],
          [
           "Cornell University Ithaca Campus",
           "Ithaca",
           "NY"
          ],
          [
           "Cornell University Ithaca Campus",
           "Ithaca",
           "NY"
          ],
          [
           "Cornell University Ithaca Campus",
           "Ithaca",
           "NY"
          ],
          [
           "Cornell University Ithaca Campus",
           "Ithaca",
           "NY"
          ],
          [
           "Cornell University Ithaca Campus",
           "Ithaca",
           "NY"
          ],
          [
           "Cornell University Ithaca Campus",
           "Ithaca",
           "NY"
          ],
          [
           "Cornell University Ithaca Campus",
           "Ithaca",
           "NY"
          ],
          [
           "Cornell University Ithaca Campus",
           "Ithaca",
           "NY"
          ],
          [
           "Cornell University Ithaca Campus",
           "Ithaca",
           "NY"
          ],
          [
           "Cornell University Ithaca Campus",
           "Ithaca",
           "NY"
          ],
          [
           "Cornell University Ithaca Campus",
           "Ithaca",
           "NY"
          ],
          [
           "Cornell University Ithaca Campus",
           "Ithaca",
           "NY"
          ],
          [
           "Cornell University Ithaca Campus",
           "Ithaca",
           "NY"
          ],
          [
           "Cornell University Ithaca Campus",
           "Ithaca",
           "NY"
          ],
          [
           "Cornell University Ithaca Campus",
           "Ithaca",
           "NY"
          ],
          [
           "Cornell University Ithaca Campus",
           "Ithaca",
           "NY"
          ],
          [
           "Cornell University Ithaca Campus",
           "Ithaca",
           "NY"
          ],
          [
           "Cornell University Ithaca Campus",
           "Ithaca",
           "NY"
          ],
          [
           "Cornell University Ithaca Campus",
           "Ithaca",
           "NY"
          ],
          [
           "Cornell University Ithaca Campus",
           "Ithaca",
           "NY"
          ],
          [
           "Cornell University Ithaca Campus",
           "Ithaca",
           "NY"
          ],
          [
           "Cornell University Ithaca Campus",
           "Ithaca",
           "NY"
          ],
          [
           "Cornell University Ithaca Campus",
           "Ithaca",
           "NY"
          ],
          [
           "Cornell University Ithaca Campus",
           "Ithaca",
           "NY"
          ],
          [
           "Cornell University Ithaca Campus",
           "Ithaca",
           "NY"
          ],
          [
           "Cornell University Ithaca Campus",
           "Ithaca",
           "NY"
          ],
          [
           "Cornell University Ithaca Campus",
           "Ithaca",
           "NY"
          ],
          [
           "Cornell University Ithaca Campus",
           "Ithaca",
           "NY"
          ],
          [
           "Cornell University Ithaca Campus",
           "Ithaca",
           "NY"
          ],
          [
           "Cornell University Ithaca Campus",
           "Ithaca",
           "NY"
          ],
          [
           "Cornell University Ithaca Campus",
           "Ithaca",
           "NY"
          ],
          [
           "Cornell University Ithaca Campus",
           "Ithaca",
           "NY"
          ],
          [
           "Cornell University Ithaca Campus",
           "Ithaca",
           "NY"
          ],
          [
           "Cornell University Ithaca Campus",
           "Ithaca",
           "NY"
          ],
          [
           "Cornell University Ithaca Campus",
           "Ithaca",
           "NY"
          ],
          [
           "Cornell University Ithaca Campus",
           "Ithaca",
           "NY"
          ],
          [
           "Cornell University Ithaca Campus",
           "Ithaca",
           "NY"
          ],
          [
           "Cornell University Ithaca Campus",
           "Ithaca",
           "NY"
          ],
          [
           "Cornell University Ithaca Campus",
           "Ithaca",
           "NY"
          ],
          [
           "Cornell University Ithaca Campus",
           "Ithaca",
           "NY"
          ],
          [
           "Cornell University Ithaca Campus",
           "Ithaca",
           "NY"
          ],
          [
           "Cornell University Ithaca Campus",
           "Ithaca",
           "NY"
          ],
          [
           "Cornell University Ithaca Campus",
           "Ithaca",
           "NY"
          ],
          [
           "Cornell University Ithaca Campus",
           "Ithaca",
           "NY"
          ],
          [
           "Cornell University Ithaca Campus",
           "Ithaca",
           "NY"
          ],
          [
           "Cornell University Ithaca Campus",
           "Ithaca",
           "NY"
          ],
          [
           "Cornell University Ithaca Campus",
           "Ithaca",
           "NY"
          ],
          [
           "Cornell University Ithaca Campus",
           "Ithaca",
           "NY"
          ],
          [
           "Cornell University Ithaca Campus",
           "Ithaca",
           "NY"
          ],
          [
           "Cornell University Ithaca Campus",
           "Ithaca",
           "NY"
          ],
          [
           "Cornell University Ithaca Campus",
           "Ithaca",
           "NY"
          ],
          [
           "Cornell University Ithaca Campus",
           "Ithaca",
           "NY"
          ],
          [
           "Cornell University Ithaca Campus",
           "Ithaca",
           "NY"
          ],
          [
           "Cornell University Ithaca Campus",
           "Ithaca",
           "NY"
          ],
          [
           "Cornell University Ithaca Campus",
           "Ithaca",
           "NY"
          ],
          [
           "Cornell University Ithaca Campus",
           "Ithaca",
           "NY"
          ],
          [
           "Cornell University Ithaca Campus",
           "Ithaca",
           "NY"
          ],
          [
           "Cornell University Ithaca Campus",
           "Ithaca",
           "NY"
          ],
          [
           "Cornell University Ithaca Campus",
           "Ithaca",
           "NY"
          ],
          [
           "Cornell University Ithaca Campus",
           "Ithaca",
           "NY"
          ],
          [
           "Cornell University Ithaca Campus",
           "Ithaca",
           "NY"
          ],
          [
           "Cornell University Ithaca Campus",
           "Ithaca",
           "NY"
          ],
          [
           "Cornell University Ithaca Campus",
           "Ithaca",
           "NY"
          ],
          [
           "Cornell University Ithaca Campus",
           "Ithaca",
           "NY"
          ],
          [
           "Cornell University Ithaca Campus",
           "Ithaca",
           "NY"
          ],
          [
           "Cornell University Ithaca Campus",
           "Ithaca",
           "NY"
          ],
          [
           "Cornell University Ithaca Campus",
           "Ithaca",
           "NY"
          ],
          [
           "Cornell University Ithaca Campus",
           "Ithaca",
           "NY"
          ],
          [
           "Cornell University Ithaca Campus",
           "Ithaca",
           "NY"
          ],
          [
           "Cornell University Ithaca Campus",
           "Ithaca",
           "NY"
          ],
          [
           "Cornell University Ithaca Campus",
           "Ithaca",
           "NY"
          ],
          [
           "Cornell University Ithaca Campus",
           "Ithaca",
           "NY"
          ],
          [
           "Cornell University Ithaca Campus",
           "Ithaca",
           "NY"
          ],
          [
           "Cornell University Ithaca Campus",
           "Ithaca",
           "NY"
          ],
          [
           "Cornell University Ithaca Campus",
           "Ithaca",
           "NY"
          ],
          [
           "Cornell University Ithaca Campus",
           "Ithaca",
           "NY"
          ],
          [
           "Cornell University Ithaca Campus",
           "Ithaca",
           "NY"
          ],
          [
           "Cornell University Ithaca Campus",
           "Ithaca",
           "NY"
          ],
          [
           "Cornell University Ithaca Campus",
           "Ithaca",
           "NY"
          ],
          [
           "Cornell University Ithaca Campus",
           "Ithaca",
           "NY"
          ],
          [
           "Cornell University Ithaca Campus",
           "Ithaca",
           "NY"
          ],
          [
           "Cornell University Ithaca Campus",
           "Ithaca",
           "NY"
          ],
          [
           "Cornell University Ithaca Campus",
           "Ithaca",
           "NY"
          ],
          [
           "Cornell University Ithaca Campus",
           "Ithaca",
           "NY"
          ],
          [
           "Cornell University Ithaca Campus",
           "Ithaca",
           "NY"
          ],
          [
           "Cornell University Ithaca Campus",
           "Ithaca",
           "NY"
          ],
          [
           "Cornell University Ithaca Campus",
           "Ithaca",
           "NY"
          ],
          [
           "Cornell University Ithaca Campus",
           "Ithaca",
           "NY"
          ],
          [
           "CORNING DIESEL MANUFACTURING FACILITY",
           "Painted post",
           "NY"
          ],
          [
           "Eastman Kodak - Kodak Park",
           "Rochester",
           "NY"
          ],
          [
           "Eastman Kodak - Kodak Park",
           "Rochester",
           "NY"
          ],
          [
           "Eastman Kodak - Kodak Park",
           "Rochester",
           "NY"
          ],
          [
           "Eastman Kodak - Kodak Park",
           "Rochester",
           "NY"
          ],
          [
           "Eastman Kodak - Kodak Park",
           "Rochester",
           "NY"
          ],
          [
           "Eastman Kodak - Kodak Park",
           "Rochester",
           "NY"
          ],
          [
           "Eastman Kodak - Kodak Park",
           "Rochester",
           "NY"
          ],
          [
           "Eastman Kodak - Kodak Park",
           "Rochester",
           "NY"
          ],
          [
           "Eastman Kodak - Kodak Park",
           "Rochester",
           "NY"
          ],
          [
           "Eastman Kodak - Kodak Park",
           "Rochester",
           "NY"
          ],
          [
           "Eastman Kodak - Kodak Park",
           "Rochester",
           "NY"
          ],
          [
           "Eastman Kodak - Kodak Park",
           "Rochester",
           "NY"
          ],
          [
           "Eastman Kodak - Kodak Park",
           "Rochester",
           "NY"
          ],
          [
           "Eastman Kodak - Kodak Park",
           "Rochester",
           "NY"
          ],
          [
           "Eastman Kodak - Kodak Park",
           "Rochester",
           "NY"
          ],
          [
           "Eastman Kodak - Kodak Park",
           "Rochester",
           "NY"
          ],
          [
           "Eastman Kodak - Kodak Park",
           "Rochester",
           "NY"
          ],
          [
           "Eastman Kodak - Kodak Park",
           "Rochester",
           "NY"
          ],
          [
           "Eastman Kodak - Kodak Park",
           "Rochester",
           "NY"
          ],
          [
           "Eastman Kodak - Kodak Park",
           "Rochester",
           "NY"
          ],
          [
           "Eastman Kodak - Kodak Park",
           "Rochester",
           "NY"
          ],
          [
           "Eastman Kodak - Kodak Park",
           "Rochester",
           "NY"
          ],
          [
           "Eastman Kodak - Kodak Park",
           "Rochester",
           "NY"
          ],
          [
           "Eastman Kodak - Kodak Park",
           "Rochester",
           "NY"
          ],
          [
           "Eastman Kodak - Kodak Park",
           "Rochester",
           "NY"
          ],
          [
           "Eastman Kodak - Kodak Park",
           "Rochester",
           "NY"
          ],
          [
           "Eastman Kodak - Kodak Park",
           "Rochester",
           "NY"
          ],
          [
           "Eastman Kodak - Kodak Park",
           "Rochester",
           "NY"
          ],
          [
           "Eastman Kodak - Kodak Park",
           "Rochester",
           "NY"
          ],
          [
           "ERWIN MANUFACTURING COMPLEX",
           "Painted post",
           "NY"
          ],
          [
           "GE GLOBAL RESEARCH CENTER",
           "Niskayuna",
           "NY"
          ],
          [
           "GE GLOBAL RESEARCH CENTER",
           "Niskayuna",
           "NY"
          ],
          [
           "GE GLOBAL RESEARCH CENTER",
           "Niskayuna",
           "NY"
          ],
          [
           "GE GLOBAL RESEARCH CENTER",
           "Niskayuna",
           "NY"
          ],
          [
           "GE GLOBAL RESEARCH CENTER",
           "Niskayuna",
           "NY"
          ],
          [
           "GE GLOBAL RESEARCH CENTER",
           "Niskayuna",
           "NY"
          ],
          [
           "GE GLOBAL RESEARCH CENTER",
           "Niskayuna",
           "NY"
          ],
          [
           "GE GLOBAL RESEARCH CENTER",
           "Niskayuna",
           "NY"
          ],
          [
           "GE GLOBAL RESEARCH CENTER",
           "Niskayuna",
           "NY"
          ],
          [
           "GE GLOBAL RESEARCH CENTER",
           "Niskayuna",
           "NY"
          ],
          [
           "GE GLOBAL RESEARCH CENTER",
           "Niskayuna",
           "NY"
          ],
          [
           "GE GLOBAL RESEARCH CENTER",
           "Niskayuna",
           "NY"
          ],
          [
           "GE GLOBAL RESEARCH CENTER",
           "Niskayuna",
           "NY"
          ],
          [
           "GE GLOBAL RESEARCH CENTER",
           "Niskayuna",
           "NY"
          ],
          [
           "GE GLOBAL RESEARCH CENTER",
           "Niskayuna",
           "NY"
          ],
          [
           "GE GLOBAL RESEARCH CENTER",
           "Niskayuna",
           "NY"
          ],
          [
           "GE GLOBAL RESEARCH CENTER",
           "Niskayuna",
           "NY"
          ],
          [
           "GE GLOBAL RESEARCH CENTER",
           "Niskayuna",
           "NY"
          ],
          [
           "GE GLOBAL RESEARCH CENTER",
           "Niskayuna",
           "NY"
          ],
          [
           "GE GLOBAL RESEARCH CENTER",
           "Niskayuna",
           "NY"
          ],
          [
           "GE GLOBAL RESEARCH CENTER",
           "Niskayuna",
           "NY"
          ],
          [
           "GE GLOBAL RESEARCH CENTER",
           "Niskayuna",
           "NY"
          ],
          [
           "GE GLOBAL RESEARCH CENTER",
           "Niskayuna",
           "NY"
          ],
          [
           "GE GLOBAL RESEARCH CENTER",
           "Niskayuna",
           "NY"
          ],
          [
           "GE GLOBAL RESEARCH CENTER",
           "Niskayuna",
           "NY"
          ],
          [
           "GE GLOBAL RESEARCH CENTER",
           "Niskayuna",
           "NY"
          ],
          [
           "GE GLOBAL RESEARCH CENTER",
           "Niskayuna",
           "NY"
          ],
          [
           "GE GLOBAL RESEARCH CENTER",
           "Niskayuna",
           "NY"
          ],
          [
           "GE GLOBAL RESEARCH CENTER",
           "Niskayuna",
           "NY"
          ],
          [
           "GE GLOBAL RESEARCH CENTER",
           "Niskayuna",
           "NY"
          ],
          [
           "GE GLOBAL RESEARCH CENTER",
           "Niskayuna",
           "NY"
          ],
          [
           "GE GLOBAL RESEARCH CENTER",
           "Niskayuna",
           "NY"
          ],
          [
           "GE GLOBAL RESEARCH CENTER",
           "Niskayuna",
           "NY"
          ],
          [
           "GE GLOBAL RESEARCH CENTER",
           "Niskayuna",
           "NY"
          ],
          [
           "GE GLOBAL RESEARCH CENTER",
           "Niskayuna",
           "NY"
          ],
          [
           "GE GLOBAL RESEARCH CENTER",
           "Niskayuna",
           "NY"
          ],
          [
           "GE GLOBAL RESEARCH CENTER",
           "Niskayuna",
           "NY"
          ],
          [
           "GE GLOBAL RESEARCH CENTER",
           "Niskayuna",
           "NY"
          ],
          [
           "GE GLOBAL RESEARCH CENTER",
           "Niskayuna",
           "NY"
          ],
          [
           "GE GLOBAL RESEARCH CENTER",
           "Niskayuna",
           "NY"
          ],
          [
           "GE GLOBAL RESEARCH CENTER",
           "Niskayuna",
           "NY"
          ],
          [
           "GE GLOBAL RESEARCH CENTER",
           "Niskayuna",
           "NY"
          ],
          [
           "GE GLOBAL RESEARCH CENTER",
           "Niskayuna",
           "NY"
          ],
          [
           "GE GLOBAL RESEARCH CENTER",
           "Niskayuna",
           "NY"
          ],
          [
           "GE GLOBAL RESEARCH CENTER",
           "Niskayuna",
           "NY"
          ],
          [
           "GE GLOBAL RESEARCH CENTER",
           "Niskayuna",
           "NY"
          ],
          [
           "GE GLOBAL RESEARCH CENTER",
           "Niskayuna",
           "NY"
          ],
          [
           "GE GLOBAL RESEARCH CENTER",
           "Niskayuna",
           "NY"
          ],
          [
           "GE GLOBAL RESEARCH CENTER",
           "Niskayuna",
           "NY"
          ],
          [
           "GE GLOBAL RESEARCH CENTER",
           "Niskayuna",
           "NY"
          ],
          [
           "GE GLOBAL RESEARCH CENTER",
           "Niskayuna",
           "NY"
          ],
          [
           "GE GLOBAL RESEARCH CENTER",
           "Niskayuna",
           "NY"
          ],
          [
           "GE GLOBAL RESEARCH CENTER",
           "Niskayuna",
           "NY"
          ],
          [
           "GE GLOBAL RESEARCH CENTER",
           "Niskayuna",
           "NY"
          ],
          [
           "GE GLOBAL RESEARCH CENTER",
           "Niskayuna",
           "NY"
          ],
          [
           "GE GLOBAL RESEARCH CENTER",
           "Niskayuna",
           "NY"
          ],
          [
           "GE GLOBAL RESEARCH CENTER",
           "Niskayuna",
           "NY"
          ],
          [
           "GE GLOBAL RESEARCH CENTER",
           "Niskayuna",
           "NY"
          ],
          [
           "GE GLOBAL RESEARCH CENTER",
           "Niskayuna",
           "NY"
          ],
          [
           "GE GLOBAL RESEARCH CENTER",
           "Niskayuna",
           "NY"
          ],
          [
           "GE GLOBAL RESEARCH CENTER",
           "Niskayuna",
           "NY"
          ],
          [
           "GE GLOBAL RESEARCH CENTER",
           "Niskayuna",
           "NY"
          ],
          [
           "GE GLOBAL RESEARCH CENTER",
           "Niskayuna",
           "NY"
          ],
          [
           "GE GLOBAL RESEARCH CENTER",
           "Niskayuna",
           "NY"
          ],
          [
           "GE GLOBAL RESEARCH CENTER",
           "Niskayuna",
           "NY"
          ],
          [
           "GE GLOBAL RESEARCH CENTER",
           "Niskayuna",
           "NY"
          ],
          [
           "GE GLOBAL RESEARCH CENTER",
           "Niskayuna",
           "NY"
          ],
          [
           "GE GLOBAL RESEARCH CENTER",
           "Niskayuna",
           "NY"
          ],
          [
           "GE GLOBAL RESEARCH CENTER",
           "Niskayuna",
           "NY"
          ],
          [
           "GE GLOBAL RESEARCH CENTER",
           "Niskayuna",
           "NY"
          ],
          [
           "GE GLOBAL RESEARCH CENTER",
           "Niskayuna",
           "NY"
          ],
          [
           "GE GLOBAL RESEARCH CENTER",
           "Niskayuna",
           "NY"
          ],
          [
           "GE GLOBAL RESEARCH CENTER",
           "Niskayuna",
           "NY"
          ],
          [
           "GE GLOBAL RESEARCH CENTER",
           "Niskayuna",
           "NY"
          ],
          [
           "GE GLOBAL RESEARCH CENTER",
           "Niskayuna",
           "NY"
          ],
          [
           "GE GLOBAL RESEARCH CENTER",
           "Niskayuna",
           "NY"
          ],
          [
           "GE GLOBAL RESEARCH CENTER",
           "Niskayuna",
           "NY"
          ],
          [
           "GE GLOBAL RESEARCH CENTER",
           "Niskayuna",
           "NY"
          ],
          [
           "GE GLOBAL RESEARCH CENTER",
           "Niskayuna",
           "NY"
          ],
          [
           "GE GLOBAL RESEARCH CENTER",
           "Niskayuna",
           "NY"
          ],
          [
           "GE GLOBAL RESEARCH CENTER",
           "Niskayuna",
           "NY"
          ],
          [
           "GE GLOBAL RESEARCH CENTER",
           "Niskayuna",
           "NY"
          ],
          [
           "GE GLOBAL RESEARCH CENTER",
           "Niskayuna",
           "NY"
          ],
          [
           "GE GLOBAL RESEARCH CENTER",
           "Niskayuna",
           "NY"
          ],
          [
           "GE GLOBAL RESEARCH CENTER",
           "Niskayuna",
           "NY"
          ],
          [
           "GE GLOBAL RESEARCH CENTER",
           "Niskayuna",
           "NY"
          ],
          [
           "GE GLOBAL RESEARCH CENTER",
           "Niskayuna",
           "NY"
          ],
          [
           "GE GLOBAL RESEARCH CENTER",
           "Niskayuna",
           "NY"
          ],
          [
           "GE GLOBAL RESEARCH CENTER",
           "Niskayuna",
           "NY"
          ],
          [
           "GE GLOBAL RESEARCH CENTER",
           "Niskayuna",
           "NY"
          ],
          [
           "GE GLOBAL RESEARCH CENTER",
           "Niskayuna",
           "NY"
          ],
          [
           "GE GLOBAL RESEARCH CENTER",
           "Niskayuna",
           "NY"
          ],
          [
           "GE GLOBAL RESEARCH CENTER",
           "Niskayuna",
           "NY"
          ],
          [
           "GE GLOBAL RESEARCH CENTER",
           "Niskayuna",
           "NY"
          ],
          [
           "GE GLOBAL RESEARCH CENTER",
           "Niskayuna",
           "NY"
          ],
          [
           "GE GLOBAL RESEARCH CENTER",
           "Niskayuna",
           "NY"
          ],
          [
           "GE GLOBAL RESEARCH CENTER",
           "Niskayuna",
           "NY"
          ],
          [
           "GE GLOBAL RESEARCH CENTER",
           "Niskayuna",
           "NY"
          ],
          [
           "GE GLOBAL RESEARCH CENTER",
           "Niskayuna",
           "NY"
          ],
          [
           "GE GLOBAL RESEARCH CENTER",
           "Niskayuna",
           "NY"
          ],
          [
           "GE GLOBAL RESEARCH CENTER",
           "Niskayuna",
           "NY"
          ],
          [
           "GE GLOBAL RESEARCH CENTER",
           "Niskayuna",
           "NY"
          ],
          [
           "GE GLOBAL RESEARCH CENTER",
           "Niskayuna",
           "NY"
          ],
          [
           "GE GLOBAL RESEARCH CENTER",
           "Niskayuna",
           "NY"
          ],
          [
           "GE GLOBAL RESEARCH CENTER",
           "Niskayuna",
           "NY"
          ],
          [
           "GE GLOBAL RESEARCH CENTER",
           "Niskayuna",
           "NY"
          ],
          [
           "GE GLOBAL RESEARCH CENTER",
           "Niskayuna",
           "NY"
          ],
          [
           "GLOBALFOUNDRIES US2 LLC East Fishkill Facility",
           "Hopewell junction",
           "NY"
          ],
          [
           "GLOBALFOUNDRIES US2 LLC East Fishkill Facility",
           "Hopewell junction",
           "NY"
          ],
          [
           "GLOBALFOUNDRIES US2 LLC East Fishkill Facility",
           "Hopewell junction",
           "NY"
          ],
          [
           "GLOBALFOUNDRIES US2 LLC East Fishkill Facility",
           "Hopewell junction",
           "NY"
          ],
          [
           "GLOBALFOUNDRIES US2 LLC East Fishkill Facility",
           "Hopewell junction",
           "NY"
          ],
          [
           "GLOBALFOUNDRIES US2 LLC East Fishkill Facility",
           "Hopewell junction",
           "NY"
          ],
          [
           "GLOBALFOUNDRIES US2 LLC East Fishkill Facility",
           "Hopewell junction",
           "NY"
          ],
          [
           "GLOBALFOUNDRIES US2 LLC East Fishkill Facility",
           "Hopewell junction",
           "NY"
          ],
          [
           "GLOBALFOUNDRIES US2 LLC East Fishkill Facility",
           "Hopewell junction",
           "NY"
          ],
          [
           "GLOBALFOUNDRIES US2 LLC East Fishkill Facility",
           "Hopewell junction",
           "NY"
          ],
          [
           "GLOBALFOUNDRIES US2 LLC East Fishkill Facility",
           "Hopewell junction",
           "NY"
          ],
          [
           "HURON REAL ESTATE ASSOCIATES",
           "Endicott",
           "NY"
          ],
          [
           "HURON REAL ESTATE ASSOCIATES",
           "Endicott",
           "NY"
          ],
          [
           "HURON REAL ESTATE ASSOCIATES",
           "Endicott",
           "NY"
          ],
          [
           "HURON REAL ESTATE ASSOCIATES",
           "Endicott",
           "NY"
          ],
          [
           "HURON REAL ESTATE ASSOCIATES",
           "Endicott",
           "NY"
          ],
          [
           "HURON REAL ESTATE ASSOCIATES",
           "Endicott",
           "NY"
          ],
          [
           "HURON REAL ESTATE ASSOCIATES",
           "Endicott",
           "NY"
          ],
          [
           "HURON REAL ESTATE ASSOCIATES",
           "Endicott",
           "NY"
          ],
          [
           "HURON REAL ESTATE ASSOCIATES",
           "Endicott",
           "NY"
          ],
          [
           "HURON REAL ESTATE ASSOCIATES",
           "Endicott",
           "NY"
          ],
          [
           "HURON REAL ESTATE ASSOCIATES",
           "Endicott",
           "NY"
          ],
          [
           "HURON REAL ESTATE ASSOCIATES",
           "Endicott",
           "NY"
          ],
          [
           "HURON REAL ESTATE ASSOCIATES",
           "Endicott",
           "NY"
          ],
          [
           "HURON REAL ESTATE ASSOCIATES",
           "Endicott",
           "NY"
          ],
          [
           "HURON REAL ESTATE ASSOCIATES",
           "Endicott",
           "NY"
          ],
          [
           "HURON REAL ESTATE ASSOCIATES",
           "Endicott",
           "NY"
          ],
          [
           "HURON REAL ESTATE ASSOCIATES",
           "Endicott",
           "NY"
          ],
          [
           "HURON REAL ESTATE ASSOCIATES",
           "Endicott",
           "NY"
          ],
          [
           "HURON REAL ESTATE ASSOCIATES",
           "Endicott",
           "NY"
          ],
          [
           "HURON REAL ESTATE ASSOCIATES",
           "Endicott",
           "NY"
          ],
          [
           "HURON REAL ESTATE ASSOCIATES",
           "Endicott",
           "NY"
          ],
          [
           "HURON REAL ESTATE ASSOCIATES",
           "Endicott",
           "NY"
          ],
          [
           "HURON REAL ESTATE ASSOCIATES",
           "Endicott",
           "NY"
          ],
          [
           "HURON REAL ESTATE ASSOCIATES",
           "Endicott",
           "NY"
          ],
          [
           "HURON REAL ESTATE ASSOCIATES",
           "Endicott",
           "NY"
          ],
          [
           "HURON REAL ESTATE ASSOCIATES",
           "Endicott",
           "NY"
          ],
          [
           "HURON REAL ESTATE ASSOCIATES",
           "Endicott",
           "NY"
          ],
          [
           "HURON REAL ESTATE ASSOCIATES",
           "Endicott",
           "NY"
          ],
          [
           "HURON REAL ESTATE ASSOCIATES",
           "Endicott",
           "NY"
          ],
          [
           "HURON REAL ESTATE ASSOCIATES",
           "Endicott",
           "NY"
          ],
          [
           "HURON REAL ESTATE ASSOCIATES",
           "Endicott",
           "NY"
          ],
          [
           "HURON REAL ESTATE ASSOCIATES",
           "Endicott",
           "NY"
          ],
          [
           "HURON REAL ESTATE ASSOCIATES",
           "Endicott",
           "NY"
          ],
          [
           "HURON REAL ESTATE ASSOCIATES",
           "Endicott",
           "NY"
          ],
          [
           "HURON REAL ESTATE ASSOCIATES",
           "Endicott",
           "NY"
          ],
          [
           "HURON REAL ESTATE ASSOCIATES",
           "Endicott",
           "NY"
          ],
          [
           "HURON REAL ESTATE ASSOCIATES",
           "Endicott",
           "NY"
          ],
          [
           "HURON REAL ESTATE ASSOCIATES",
           "Endicott",
           "NY"
          ],
          [
           "HURON REAL ESTATE ASSOCIATES",
           "Endicott",
           "NY"
          ],
          [
           "HURON REAL ESTATE ASSOCIATES",
           "Endicott",
           "NY"
          ],
          [
           "HURON REAL ESTATE ASSOCIATES",
           "Endicott",
           "NY"
          ],
          [
           "HURON REAL ESTATE ASSOCIATES",
           "Endicott",
           "NY"
          ],
          [
           "HURON REAL ESTATE ASSOCIATES",
           "Endicott",
           "NY"
          ],
          [
           "HURON REAL ESTATE ASSOCIATES",
           "Endicott",
           "NY"
          ],
          [
           "HURON REAL ESTATE ASSOCIATES",
           "Endicott",
           "NY"
          ],
          [
           "HURON REAL ESTATE ASSOCIATES",
           "Endicott",
           "NY"
          ],
          [
           "HURON REAL ESTATE ASSOCIATES",
           "Endicott",
           "NY"
          ],
          [
           "HURON REAL ESTATE ASSOCIATES",
           "Endicott",
           "NY"
          ],
          [
           "MORTON SALT, INC.",
           "Silver springs",
           "NY"
          ],
          [
           "MORTON SALT, INC.",
           "Silver springs",
           "NY"
          ],
          [
           "MORTON SALT, INC.",
           "Silver springs",
           "NY"
          ],
          [
           "MORTON SALT, INC.",
           "Silver springs",
           "NY"
          ],
          [
           "MORTON SALT, INC.",
           "Silver springs",
           "NY"
          ],
          [
           "MORTON SALT, INC.",
           "Silver springs",
           "NY"
          ],
          [
           "MORTON SALT, INC.",
           "Silver springs",
           "NY"
          ],
          [
           "MORTON SALT, INC.",
           "Silver springs",
           "NY"
          ],
          [
           "MORTON SALT, INC.",
           "Silver springs",
           "NY"
          ],
          [
           "MORTON SALT, INC.",
           "Silver springs",
           "NY"
          ],
          [
           "MORTON SALT, INC.",
           "Silver springs",
           "NY"
          ],
          [
           "MORTON SALT, INC.",
           "Silver springs",
           "NY"
          ],
          [
           "MORTON SALT, INC.",
           "Silver springs",
           "NY"
          ],
          [
           "MORTON SALT, INC.",
           "Silver springs",
           "NY"
          ],
          [
           "MORTON SALT, INC.",
           "Silver springs",
           "NY"
          ],
          [
           "MORTON SALT, INC.",
           "Silver springs",
           "NY"
          ],
          [
           "MORTON SALT, INC.",
           "Silver springs",
           "NY"
          ],
          [
           "MORTON SALT, INC.",
           "Silver springs",
           "NY"
          ],
          [
           "MOUNT SINAI HOSPITAL",
           "New york city",
           "NY"
          ],
          [
           "MOUNT SINAI HOSPITAL",
           "New york city",
           "NY"
          ],
          [
           "MOUNT SINAI HOSPITAL",
           "New york city",
           "NY"
          ],
          [
           "MOUNT SINAI HOSPITAL",
           "New york city",
           "NY"
          ],
          [
           "MOUNT SINAI HOSPITAL",
           "New york city",
           "NY"
          ],
          [
           "MOUNT SINAI HOSPITAL",
           "New york city",
           "NY"
          ],
          [
           "MOUNT SINAI HOSPITAL",
           "New york city",
           "NY"
          ],
          [
           "MOUNT SINAI HOSPITAL",
           "New york city",
           "NY"
          ],
          [
           "MOUNT SINAI HOSPITAL",
           "New york city",
           "NY"
          ],
          [
           "MOUNT SINAI HOSPITAL",
           "New york city",
           "NY"
          ],
          [
           "MOUNT SINAI HOSPITAL",
           "New york city",
           "NY"
          ],
          [
           "MOUNT SINAI HOSPITAL",
           "New york city",
           "NY"
          ],
          [
           "MOUNT SINAI HOSPITAL",
           "New york city",
           "NY"
          ],
          [
           "MOUNT SINAI HOSPITAL",
           "New york city",
           "NY"
          ],
          [
           "MOUNT SINAI HOSPITAL",
           "New york city",
           "NY"
          ],
          [
           "MOUNT SINAI HOSPITAL",
           "New york city",
           "NY"
          ],
          [
           "MOUNT SINAI HOSPITAL",
           "New york city",
           "NY"
          ],
          [
           "MOUNT SINAI HOSPITAL",
           "New york city",
           "NY"
          ],
          [
           "MOUNT SINAI HOSPITAL",
           "New york city",
           "NY"
          ],
          [
           "MOUNT SINAI HOSPITAL",
           "New york city",
           "NY"
          ],
          [
           "New Process Gear, Inc.",
           "East syracuse",
           "NY"
          ],
          [
           "New Process Gear, Inc.",
           "East syracuse",
           "NY"
          ],
          [
           "NEW YORK UNIVERSITY CENTRAL PLANT",
           "New york",
           "NY"
          ],
          [
           "NEW YORK UNIVERSITY CENTRAL PLANT",
           "New york",
           "NY"
          ],
          [
           "NEW YORK UNIVERSITY CENTRAL PLANT",
           "New york",
           "NY"
          ],
          [
           "NEW YORK UNIVERSITY CENTRAL PLANT",
           "New york",
           "NY"
          ],
          [
           "NEW YORK UNIVERSITY CENTRAL PLANT",
           "New york",
           "NY"
          ],
          [
           "NEW YORK UNIVERSITY CENTRAL PLANT",
           "New york",
           "NY"
          ],
          [
           "NEW YORK UNIVERSITY CENTRAL PLANT",
           "New york",
           "NY"
          ],
          [
           "NEW YORK UNIVERSITY CENTRAL PLANT",
           "New york",
           "NY"
          ],
          [
           "NEW YORK UNIVERSITY CENTRAL PLANT",
           "New york",
           "NY"
          ],
          [
           "NEW YORK UNIVERSITY CENTRAL PLANT",
           "New york",
           "NY"
          ],
          [
           "NEW YORK UNIVERSITY CENTRAL PLANT",
           "New york",
           "NY"
          ],
          [
           "NEW YORK UNIVERSITY CENTRAL PLANT",
           "New york",
           "NY"
          ],
          [
           "NEW YORK UNIVERSITY CENTRAL PLANT",
           "New york",
           "NY"
          ],
          [
           "NEW YORK UNIVERSITY CENTRAL PLANT",
           "New york",
           "NY"
          ],
          [
           "NEW YORK UNIVERSITY CENTRAL PLANT",
           "New york",
           "NY"
          ],
          [
           "NEW YORK UNIVERSITY CENTRAL PLANT",
           "New york",
           "NY"
          ],
          [
           "NEW YORK UNIVERSITY CENTRAL PLANT",
           "New york",
           "NY"
          ],
          [
           "NEW YORK UNIVERSITY CENTRAL PLANT",
           "New york",
           "NY"
          ],
          [
           "NEW YORK UNIVERSITY CENTRAL PLANT",
           "New york",
           "NY"
          ],
          [
           "NYS OGS SHERIDAN STEAM PLANT",
           "Albany",
           "NY"
          ],
          [
           "NYS OGS SHERIDAN STEAM PLANT",
           "Albany",
           "NY"
          ],
          [
           "NYS OGS SHERIDAN STEAM PLANT",
           "Albany",
           "NY"
          ],
          [
           "NYS OGS SHERIDAN STEAM PLANT",
           "Albany",
           "NY"
          ],
          [
           "NYS OGS SHERIDAN STEAM PLANT",
           "Albany",
           "NY"
          ],
          [
           "NYS OGS SHERIDAN STEAM PLANT",
           "Albany",
           "NY"
          ],
          [
           "NYS OGS SHERIDAN STEAM PLANT",
           "Albany",
           "NY"
          ],
          [
           "NYS OGS SHERIDAN STEAM PLANT",
           "Albany",
           "NY"
          ],
          [
           "NYS OGS SHERIDAN STEAM PLANT",
           "Albany",
           "NY"
          ],
          [
           "NYS OGS SHERIDAN STEAM PLANT",
           "Albany",
           "NY"
          ],
          [
           "NYS OGS SHERIDAN STEAM PLANT",
           "Albany",
           "NY"
          ],
          [
           "NYS OGS SHERIDAN STEAM PLANT",
           "Albany",
           "NY"
          ],
          [
           "Onsemi East Fishkill Facility",
           "Hopewell junction",
           "NY"
          ],
          [
           "PARKCHESTER SOUTH CONDOMINIUM",
           "Bronx",
           "NY"
          ],
          [
           "PARKCHESTER SOUTH CONDOMINIUM",
           "Bronx",
           "NY"
          ],
          [
           "PARKCHESTER SOUTH CONDOMINIUM",
           "Bronx",
           "NY"
          ],
          [
           "PARKCHESTER SOUTH CONDOMINIUM",
           "Bronx",
           "NY"
          ],
          [
           "PARKCHESTER SOUTH CONDOMINIUM",
           "Bronx",
           "NY"
          ],
          [
           "PARKCHESTER SOUTH CONDOMINIUM",
           "Bronx",
           "NY"
          ],
          [
           "PARKCHESTER SOUTH CONDOMINIUM",
           "Bronx",
           "NY"
          ],
          [
           "PARKCHESTER SOUTH CONDOMINIUM",
           "Bronx",
           "NY"
          ],
          [
           "PARKCHESTER SOUTH CONDOMINIUM",
           "Bronx",
           "NY"
          ],
          [
           "PARKCHESTER SOUTH CONDOMINIUM",
           "Bronx",
           "NY"
          ],
          [
           "PARKCHESTER SOUTH CONDOMINIUM",
           "Bronx",
           "NY"
          ],
          [
           "PARKCHESTER SOUTH CONDOMINIUM",
           "Bronx",
           "NY"
          ],
          [
           "Pearl River Campus",
           "Pearl river",
           "NY"
          ],
          [
           "Pearl River Campus",
           "Pearl river",
           "NY"
          ],
          [
           "Pearl River Campus",
           "Pearl river",
           "NY"
          ],
          [
           "Pearl River Campus",
           "Pearl river",
           "NY"
          ],
          [
           "Pearl River Campus",
           "Pearl river",
           "NY"
          ],
          [
           "Pearl River Campus",
           "Pearl river",
           "NY"
          ],
          [
           "Pearl River Campus",
           "Pearl river",
           "NY"
          ],
          [
           "Pearl River Campus",
           "Pearl river",
           "NY"
          ],
          [
           "Pearl River Campus",
           "Pearl river",
           "NY"
          ],
          [
           "Pearl River Campus",
           "Pearl river",
           "NY"
          ],
          [
           "Pearl River Campus",
           "Pearl river",
           "NY"
          ],
          [
           "Pearl River Campus",
           "Pearl river",
           "NY"
          ],
          [
           "Pearl River Campus",
           "Pearl river",
           "NY"
          ],
          [
           "Pearl River Campus",
           "Pearl river",
           "NY"
          ],
          [
           "Pearl River Campus",
           "Pearl river",
           "NY"
          ],
          [
           "Pearl River Campus",
           "Pearl river",
           "NY"
          ],
          [
           "Pearl River Campus",
           "Pearl river",
           "NY"
          ],
          [
           "Pearl River Campus",
           "Pearl river",
           "NY"
          ],
          [
           "Pearl River Campus",
           "Pearl river",
           "NY"
          ],
          [
           "Pearl River Campus",
           "Pearl river",
           "NY"
          ],
          [
           "Pearl River Campus",
           "Pearl river",
           "NY"
          ],
          [
           "Riverbay Corp. - Co-Op City",
           "Bronx",
           "NY"
          ],
          [
           "Riverbay Corp. - Co-Op City",
           "Bronx",
           "NY"
          ],
          [
           "Riverbay Corp. - Co-Op City",
           "Bronx",
           "NY"
          ],
          [
           "Riverbay Corp. - Co-Op City",
           "Bronx",
           "NY"
          ],
          [
           "Riverbay Corp. - Co-Op City",
           "Bronx",
           "NY"
          ],
          [
           "Riverbay Corp. - Co-Op City",
           "Bronx",
           "NY"
          ],
          [
           "Riverbay Corp. - Co-Op City",
           "Bronx",
           "NY"
          ],
          [
           "Riverbay Corp. - Co-Op City",
           "Bronx",
           "NY"
          ],
          [
           "Riverbay Corp. - Co-Op City",
           "Bronx",
           "NY"
          ],
          [
           "Riverbay Corp. - Co-Op City",
           "Bronx",
           "NY"
          ],
          [
           "Riverbay Corp. - Co-Op City",
           "Bronx",
           "NY"
          ],
          [
           "Riverbay Corp. - Co-Op City",
           "Bronx",
           "NY"
          ],
          [
           "Riverbay Corp. - Co-Op City",
           "Bronx",
           "NY"
          ],
          [
           "Riverbay Corp. - Co-Op City",
           "Bronx",
           "NY"
          ],
          [
           "Riverbay Corp. - Co-Op City",
           "Bronx",
           "NY"
          ],
          [
           "Riverbay Corp. - Co-Op City",
           "Bronx",
           "NY"
          ],
          [
           "Riverbay Corp. - Co-Op City",
           "Bronx",
           "NY"
          ],
          [
           "Riverbay Corp. - Co-Op City",
           "Bronx",
           "NY"
          ],
          [
           "Riverbay Corp. - Co-Op City",
           "Bronx",
           "NY"
          ],
          [
           "Riverbay Corp. - Co-Op City",
           "Bronx",
           "NY"
          ],
          [
           "Riverbay Corp. - Co-Op City",
           "Bronx",
           "NY"
          ],
          [
           "Riverbay Corp. - Co-Op City",
           "Bronx",
           "NY"
          ],
          [
           "Riverbay Corp. - Co-Op City",
           "Bronx",
           "NY"
          ],
          [
           "Riverbay Corp. - Co-Op City",
           "Bronx",
           "NY"
          ],
          [
           "Riverbay Corp. - Co-Op City",
           "Bronx",
           "NY"
          ],
          [
           "Riverbay Corp. - Co-Op City",
           "Bronx",
           "NY"
          ],
          [
           "Riverbay Corp. - Co-Op City",
           "Bronx",
           "NY"
          ],
          [
           "Riverbay Corp. - Co-Op City",
           "Bronx",
           "NY"
          ],
          [
           "Riverbay Corp. - Co-Op City",
           "Bronx",
           "NY"
          ],
          [
           "Riverbay Corp. - Co-Op City",
           "Bronx",
           "NY"
          ],
          [
           "Riverbay Corp. - Co-Op City",
           "Bronx",
           "NY"
          ],
          [
           "Riverbay Corp. - Co-Op City",
           "Bronx",
           "NY"
          ],
          [
           "Riverbay Corp. - Co-Op City",
           "Bronx",
           "NY"
          ],
          [
           "Riverbay Corp. - Co-Op City",
           "Bronx",
           "NY"
          ],
          [
           "Riverbay Corp. - Co-Op City",
           "Bronx",
           "NY"
          ],
          [
           "Riverbay Corp. - Co-Op City",
           "Bronx",
           "NY"
          ],
          [
           "Riverbay Corp. - Co-Op City",
           "Bronx",
           "NY"
          ],
          [
           "Riverbay Corp. - Co-Op City",
           "Bronx",
           "NY"
          ],
          [
           "Riverbay Corp. - Co-Op City",
           "Bronx",
           "NY"
          ],
          [
           "Riverbay Corp. - Co-Op City",
           "Bronx",
           "NY"
          ],
          [
           "Riverbay Corp. - Co-Op City",
           "Bronx",
           "NY"
          ],
          [
           "Riverbay Corp. - Co-Op City",
           "Bronx",
           "NY"
          ],
          [
           "Riverbay Corp. - Co-Op City",
           "Bronx",
           "NY"
          ],
          [
           "Riverbay Corp. - Co-Op City",
           "Bronx",
           "NY"
          ],
          [
           "Riverbay Corp. - Co-Op City",
           "Bronx",
           "NY"
          ],
          [
           "Riverbay Corp. - Co-Op City",
           "Bronx",
           "NY"
          ],
          [
           "Riverbay Corp. - Co-Op City",
           "Bronx",
           "NY"
          ],
          [
           "Riverbay Corp. - Co-Op City",
           "Bronx",
           "NY"
          ],
          [
           "Riverbay Corp. - Co-Op City",
           "Bronx",
           "NY"
          ],
          [
           "Riverbay Corp. - Co-Op City",
           "Bronx",
           "NY"
          ],
          [
           "Riverbay Corp. - Co-Op City",
           "Bronx",
           "NY"
          ],
          [
           "Riverbay Corp. - Co-Op City",
           "Bronx",
           "NY"
          ],
          [
           "Riverbay Corp. - Co-Op City",
           "Bronx",
           "NY"
          ],
          [
           "Riverbay Corp. - Co-Op City",
           "Bronx",
           "NY"
          ],
          [
           "Riverbay Corp. - Co-Op City",
           "Bronx",
           "NY"
          ],
          [
           "Riverbay Corp. - Co-Op City",
           "Bronx",
           "NY"
          ],
          [
           "Riverbay Corp. - Co-Op City",
           "Bronx",
           "NY"
          ],
          [
           "Riverbay Corp. - Co-Op City",
           "Bronx",
           "NY"
          ],
          [
           "Riverbay Corp. - Co-Op City",
           "Bronx",
           "NY"
          ],
          [
           "Riverbay Corp. - Co-Op City",
           "Bronx",
           "NY"
          ],
          [
           "Riverbay Corp. - Co-Op City",
           "Bronx",
           "NY"
          ],
          [
           "Riverbay Corp. - Co-Op City",
           "Bronx",
           "NY"
          ],
          [
           "Riverbay Corp. - Co-Op City",
           "Bronx",
           "NY"
          ],
          [
           "ROCHDALE VILLAGE",
           "Jamaica",
           "NY"
          ],
          [
           "ROCHDALE VILLAGE",
           "Jamaica",
           "NY"
          ],
          [
           "ROCHDALE VILLAGE",
           "Jamaica",
           "NY"
          ],
          [
           "ROCHDALE VILLAGE",
           "Jamaica",
           "NY"
          ],
          [
           "ROCHDALE VILLAGE",
           "Jamaica",
           "NY"
          ],
          [
           "ROCHDALE VILLAGE",
           "Jamaica",
           "NY"
          ],
          [
           "ROCHDALE VILLAGE",
           "Jamaica",
           "NY"
          ],
          [
           "ROCHDALE VILLAGE",
           "Jamaica",
           "NY"
          ],
          [
           "ROCHDALE VILLAGE",
           "Jamaica",
           "NY"
          ],
          [
           "ROCHDALE VILLAGE",
           "Jamaica",
           "NY"
          ],
          [
           "ROCHDALE VILLAGE",
           "Jamaica",
           "NY"
          ],
          [
           "ROCHDALE VILLAGE",
           "Jamaica",
           "NY"
          ],
          [
           "ROCHDALE VILLAGE",
           "Jamaica",
           "NY"
          ],
          [
           "ROCHDALE VILLAGE",
           "Jamaica",
           "NY"
          ],
          [
           "ROCHDALE VILLAGE",
           "Jamaica",
           "NY"
          ],
          [
           "SABIC Innovative Plastics US LLC",
           "Selkirk",
           "NY"
          ],
          [
           "SABIC Innovative Plastics US LLC",
           "Selkirk",
           "NY"
          ],
          [
           "SABIC Innovative Plastics US LLC",
           "Selkirk",
           "NY"
          ],
          [
           "SABIC Innovative Plastics US LLC",
           "Selkirk",
           "NY"
          ],
          [
           "SABIC Innovative Plastics US LLC",
           "Selkirk",
           "NY"
          ],
          [
           "SABIC Innovative Plastics US LLC",
           "Selkirk",
           "NY"
          ],
          [
           "SABIC Innovative Plastics US LLC",
           "Selkirk",
           "NY"
          ],
          [
           "SABIC Innovative Plastics US LLC",
           "Selkirk",
           "NY"
          ],
          [
           "SABIC Innovative Plastics US LLC",
           "Selkirk",
           "NY"
          ],
          [
           "SABIC Innovative Plastics US LLC",
           "Selkirk",
           "NY"
          ],
          [
           "SABIC Innovative Plastics US LLC",
           "Selkirk",
           "NY"
          ],
          [
           "SABIC Innovative Plastics US LLC",
           "Selkirk",
           "NY"
          ],
          [
           "SABIC Innovative Plastics US LLC",
           "Selkirk",
           "NY"
          ],
          [
           "SABIC Innovative Plastics US LLC",
           "Selkirk",
           "NY"
          ],
          [
           "SABIC Innovative Plastics US LLC",
           "Selkirk",
           "NY"
          ],
          [
           "SABIC Innovative Plastics US LLC",
           "Selkirk",
           "NY"
          ],
          [
           "SABIC Innovative Plastics US LLC",
           "Selkirk",
           "NY"
          ],
          [
           "SABIC Innovative Plastics US LLC",
           "Selkirk",
           "NY"
          ],
          [
           "SABIC Innovative Plastics US LLC",
           "Selkirk",
           "NY"
          ],
          [
           "SABIC Innovative Plastics US LLC",
           "Selkirk",
           "NY"
          ],
          [
           "SABIC Innovative Plastics US LLC",
           "Selkirk",
           "NY"
          ],
          [
           "SABIC Innovative Plastics US LLC",
           "Selkirk",
           "NY"
          ],
          [
           "SABIC Innovative Plastics US LLC",
           "Selkirk",
           "NY"
          ],
          [
           "SABIC Innovative Plastics US LLC",
           "Selkirk",
           "NY"
          ],
          [
           "SABIC Innovative Plastics US LLC",
           "Selkirk",
           "NY"
          ],
          [
           "SABIC Innovative Plastics US LLC",
           "Selkirk",
           "NY"
          ],
          [
           "SABIC Innovative Plastics US LLC",
           "Selkirk",
           "NY"
          ],
          [
           "SABIC Innovative Plastics US LLC",
           "Selkirk",
           "NY"
          ],
          [
           "SABIC Innovative Plastics US LLC",
           "Selkirk",
           "NY"
          ],
          [
           "SABIC Innovative Plastics US LLC",
           "Selkirk",
           "NY"
          ],
          [
           "SABIC Innovative Plastics US LLC",
           "Selkirk",
           "NY"
          ],
          [
           "SABIC Innovative Plastics US LLC",
           "Selkirk",
           "NY"
          ],
          [
           "SABIC Innovative Plastics US LLC",
           "Selkirk",
           "NY"
          ],
          [
           "SABIC Innovative Plastics US LLC",
           "Selkirk",
           "NY"
          ],
          [
           "SABIC Innovative Plastics US LLC",
           "Selkirk",
           "NY"
          ],
          [
           "SABIC Innovative Plastics US LLC",
           "Selkirk",
           "NY"
          ],
          [
           "SABIC Innovative Plastics US LLC",
           "Selkirk",
           "NY"
          ],
          [
           "SABIC Innovative Plastics US LLC",
           "Selkirk",
           "NY"
          ],
          [
           "SABIC Innovative Plastics US LLC",
           "Selkirk",
           "NY"
          ],
          [
           "SABIC Innovative Plastics US LLC",
           "Selkirk",
           "NY"
          ],
          [
           "SABIC Innovative Plastics US LLC",
           "Selkirk",
           "NY"
          ],
          [
           "SABIC Innovative Plastics US LLC",
           "Selkirk",
           "NY"
          ],
          [
           "SABIC Innovative Plastics US LLC",
           "Selkirk",
           "NY"
          ],
          [
           "SABIC Innovative Plastics US LLC",
           "Selkirk",
           "NY"
          ],
          [
           "SABIC Innovative Plastics US LLC",
           "Selkirk",
           "NY"
          ],
          [
           "SABIC Innovative Plastics US LLC",
           "Selkirk",
           "NY"
          ],
          [
           "SABIC Innovative Plastics US LLC",
           "Selkirk",
           "NY"
          ],
          [
           "SABIC Innovative Plastics US LLC",
           "Selkirk",
           "NY"
          ],
          [
           "SHPP US LLC",
           "Selkirk",
           "NY"
          ],
          [
           "SHPP US LLC",
           "Selkirk",
           "NY"
          ],
          [
           "SHPP US LLC",
           "Selkirk",
           "NY"
          ],
          [
           "SHPP US LLC",
           "Selkirk",
           "NY"
          ],
          [
           "SHPP US LLC",
           "Selkirk",
           "NY"
          ],
          [
           "SHPP US LLC",
           "Selkirk",
           "NY"
          ],
          [
           "SHPP US LLC",
           "Selkirk",
           "NY"
          ],
          [
           "SI GROUP INC /ROTT JCT FAC",
           "Rotterdam junction",
           "NY"
          ],
          [
           "SI GROUP INC /ROTT JCT FAC",
           "Rotterdam junction",
           "NY"
          ],
          [
           "SI GROUP INC /ROTT JCT FAC",
           "Rotterdam junction",
           "NY"
          ],
          [
           "SI GROUP INC /ROTT JCT FAC",
           "Rotterdam junction",
           "NY"
          ],
          [
           "SI GROUP INC /ROTT JCT FAC",
           "Rotterdam junction",
           "NY"
          ],
          [
           "SI GROUP INC /ROTT JCT FAC",
           "Rotterdam junction",
           "NY"
          ],
          [
           "SI GROUP INC /ROTT JCT FAC",
           "Rotterdam junction",
           "NY"
          ],
          [
           "SI GROUP INC /ROTT JCT FAC",
           "Rotterdam junction",
           "NY"
          ],
          [
           "SI GROUP INC /ROTT JCT FAC",
           "Rotterdam junction",
           "NY"
          ],
          [
           "SI GROUP INC /ROTT JCT FAC",
           "Rotterdam junction",
           "NY"
          ],
          [
           "SI GROUP INC /ROTT JCT FAC",
           "Rotterdam junction",
           "NY"
          ],
          [
           "SI GROUP INC /ROTT JCT FAC",
           "Rotterdam junction",
           "NY"
          ],
          [
           "STARRETT CITY POWER PLANT",
           "Brooklyn",
           "NY"
          ],
          [
           "STARRETT CITY POWER PLANT",
           "Brooklyn",
           "NY"
          ],
          [
           "STARRETT CITY POWER PLANT",
           "Brooklyn",
           "NY"
          ],
          [
           "STARRETT CITY POWER PLANT",
           "Brooklyn",
           "NY"
          ],
          [
           "STARRETT CITY POWER PLANT",
           "Brooklyn",
           "NY"
          ],
          [
           "STARRETT CITY POWER PLANT",
           "Brooklyn",
           "NY"
          ],
          [
           "STARRETT CITY POWER PLANT",
           "Brooklyn",
           "NY"
          ],
          [
           "STARRETT CITY POWER PLANT",
           "Brooklyn",
           "NY"
          ],
          [
           "STARRETT CITY POWER PLANT",
           "Brooklyn",
           "NY"
          ],
          [
           "STARRETT CITY POWER PLANT",
           "Brooklyn",
           "NY"
          ],
          [
           "STARRETT CITY POWER PLANT",
           "Brooklyn",
           "NY"
          ],
          [
           "STARRETT CITY POWER PLANT",
           "Brooklyn",
           "NY"
          ],
          [
           "STARRETT CITY POWER PLANT",
           "Brooklyn",
           "NY"
          ],
          [
           "STARRETT CITY POWER PLANT",
           "Brooklyn",
           "NY"
          ],
          [
           "STARRETT CITY POWER PLANT",
           "Brooklyn",
           "NY"
          ],
          [
           "STARRETT CITY POWER PLANT",
           "Brooklyn",
           "NY"
          ],
          [
           "STARRETT CITY POWER PLANT",
           "Brooklyn",
           "NY"
          ],
          [
           "STARRETT CITY POWER PLANT",
           "Brooklyn",
           "NY"
          ],
          [
           "STARRETT CITY POWER PLANT",
           "Brooklyn",
           "NY"
          ],
          [
           "STARRETT CITY POWER PLANT",
           "Brooklyn",
           "NY"
          ],
          [
           "STARRETT CITY POWER PLANT",
           "Brooklyn",
           "NY"
          ],
          [
           "STARRETT CITY POWER PLANT",
           "Brooklyn",
           "NY"
          ],
          [
           "SUMITOMO RUBBER USA, LLC",
           "Tonawanda",
           "NY"
          ],
          [
           "SUMITOMO RUBBER USA, LLC",
           "Tonawanda",
           "NY"
          ],
          [
           "SUMITOMO RUBBER USA, LLC",
           "Tonawanda",
           "NY"
          ],
          [
           "SUMITOMO RUBBER USA, LLC",
           "Tonawanda",
           "NY"
          ],
          [
           "SUMITOMO RUBBER USA, LLC",
           "Tonawanda",
           "NY"
          ],
          [
           "SUMITOMO RUBBER USA, LLC",
           "Tonawanda",
           "NY"
          ],
          [
           "SUMITOMO RUBBER USA, LLC",
           "Tonawanda",
           "NY"
          ],
          [
           "SUMITOMO RUBBER USA, LLC",
           "Tonawanda",
           "NY"
          ],
          [
           "SUMITOMO RUBBER USA, LLC",
           "Tonawanda",
           "NY"
          ],
          [
           "SUMITOMO RUBBER USA, LLC",
           "Tonawanda",
           "NY"
          ],
          [
           "SUMITOMO RUBBER USA, LLC",
           "Tonawanda",
           "NY"
          ],
          [
           "SUMITOMO RUBBER USA, LLC",
           "Tonawanda",
           "NY"
          ],
          [
           "SUNY AT BINGHAMTON",
           "Binghamton",
           "NY"
          ],
          [
           "SUNY AT BINGHAMTON",
           "Binghamton",
           "NY"
          ],
          [
           "SUNY AT BINGHAMTON",
           "Binghamton",
           "NY"
          ],
          [
           "SUNY AT BINGHAMTON",
           "Binghamton",
           "NY"
          ],
          [
           "SUNY AT BINGHAMTON",
           "Binghamton",
           "NY"
          ],
          [
           "SUNY AT BINGHAMTON",
           "Binghamton",
           "NY"
          ],
          [
           "SUNY AT BINGHAMTON",
           "Binghamton",
           "NY"
          ],
          [
           "SUNY AT BINGHAMTON",
           "Binghamton",
           "NY"
          ],
          [
           "SUNY AT BINGHAMTON",
           "Binghamton",
           "NY"
          ],
          [
           "SUNY AT BINGHAMTON",
           "Binghamton",
           "NY"
          ],
          [
           "SUNY AT BINGHAMTON",
           "Binghamton",
           "NY"
          ],
          [
           "SUNY AT BINGHAMTON",
           "Binghamton",
           "NY"
          ],
          [
           "SUNY AT BINGHAMTON",
           "Binghamton",
           "NY"
          ],
          [
           "SUNY AT BINGHAMTON",
           "Binghamton",
           "NY"
          ],
          [
           "SUNY AT BINGHAMTON",
           "Binghamton",
           "NY"
          ],
          [
           "SUNY AT BINGHAMTON",
           "Binghamton",
           "NY"
          ],
          [
           "SUNY AT BINGHAMTON",
           "Binghamton",
           "NY"
          ],
          [
           "SUNY AT BINGHAMTON",
           "Binghamton",
           "NY"
          ],
          [
           "SUNY AT BINGHAMTON",
           "Binghamton",
           "NY"
          ],
          [
           "SUNY AT BINGHAMTON",
           "Binghamton",
           "NY"
          ],
          [
           "SUNY AT BINGHAMTON",
           "Binghamton",
           "NY"
          ],
          [
           "SUNY AT BINGHAMTON",
           "Binghamton",
           "NY"
          ],
          [
           "SUNY AT BINGHAMTON",
           "Binghamton",
           "NY"
          ],
          [
           "SUNY AT BINGHAMTON",
           "Binghamton",
           "NY"
          ],
          [
           "SYRACUSE UNIVERSITY - STEAM STATION",
           "Syracuse",
           "NY"
          ],
          [
           "SYRACUSE UNIVERSITY - STEAM STATION",
           "Syracuse",
           "NY"
          ],
          [
           "SYRACUSE UNIVERSITY - STEAM STATION",
           "Syracuse",
           "NY"
          ],
          [
           "SYRACUSE UNIVERSITY - STEAM STATION",
           "Syracuse",
           "NY"
          ],
          [
           "SYRACUSE UNIVERSITY - STEAM STATION",
           "Syracuse",
           "NY"
          ],
          [
           "SYRACUSE UNIVERSITY - STEAM STATION",
           "Syracuse",
           "NY"
          ],
          [
           "SYRACUSE UNIVERSITY - STEAM STATION",
           "Syracuse",
           "NY"
          ],
          [
           "SYRACUSE UNIVERSITY - STEAM STATION",
           "Syracuse",
           "NY"
          ],
          [
           "SYRACUSE UNIVERSITY - STEAM STATION",
           "Syracuse",
           "NY"
          ],
          [
           "SYRACUSE UNIVERSITY - STEAM STATION",
           "Syracuse",
           "NY"
          ],
          [
           "SYRACUSE UNIVERSITY - STEAM STATION",
           "Syracuse",
           "NY"
          ],
          [
           "SYRACUSE UNIVERSITY - STEAM STATION",
           "Syracuse",
           "NY"
          ],
          [
           "SYRACUSE UNIVERSITY - STEAM STATION",
           "Syracuse",
           "NY"
          ],
          [
           "SYRACUSE UNIVERSITY - STEAM STATION",
           "Syracuse",
           "NY"
          ],
          [
           "SYRACUSE UNIVERSITY - STEAM STATION",
           "Syracuse",
           "NY"
          ],
          [
           "SYRACUSE UNIVERSITY - STEAM STATION",
           "Syracuse",
           "NY"
          ],
          [
           "SYRACUSE UNIVERSITY - STEAM STATION",
           "Syracuse",
           "NY"
          ],
          [
           "SYRACUSE UNIVERSITY - STEAM STATION",
           "Syracuse",
           "NY"
          ],
          [
           "SYRACUSE UNIVERSITY - STEAM STATION",
           "Syracuse",
           "NY"
          ],
          [
           "SYRACUSE UNIVERSITY - STEAM STATION",
           "Syracuse",
           "NY"
          ],
          [
           "SYRACUSE UNIVERSITY - STEAM STATION",
           "Syracuse",
           "NY"
          ],
          [
           "SYRACUSE UNIVERSITY - STEAM STATION",
           "Syracuse",
           "NY"
          ],
          [
           "SYRACUSE UNIVERSITY - STEAM STATION",
           "Syracuse",
           "NY"
          ],
          [
           "SYRACUSE UNIVERSITY - STEAM STATION",
           "Syracuse",
           "NY"
          ],
          [
           "SYRACUSE UNIVERSITY - STEAM STATION",
           "Syracuse",
           "NY"
          ],
          [
           "SYRACUSE UNIVERSITY - STEAM STATION",
           "Syracuse",
           "NY"
          ],
          [
           "SYRACUSE UNIVERSITY - STEAM STATION",
           "Syracuse",
           "NY"
          ],
          [
           "SYRACUSE UNIVERSITY - STEAM STATION",
           "Syracuse",
           "NY"
          ],
          [
           "SYRACUSE UNIVERSITY - STEAM STATION",
           "Syracuse",
           "NY"
          ],
          [
           "SYRACUSE UNIVERSITY - STEAM STATION",
           "Syracuse",
           "NY"
          ],
          [
           "SYRACUSE UNIVERSITY - STEAM STATION",
           "Syracuse",
           "NY"
          ],
          [
           "SYRACUSE UNIVERSITY - STEAM STATION",
           "Syracuse",
           "NY"
          ],
          [
           "SYRACUSE UNIVERSITY - STEAM STATION",
           "Syracuse",
           "NY"
          ],
          [
           "SYRACUSE UNIVERSITY - STEAM STATION",
           "Syracuse",
           "NY"
          ],
          [
           "SYRACUSE UNIVERSITY - STEAM STATION",
           "Syracuse",
           "NY"
          ],
          [
           "SYRACUSE UNIVERSITY - STEAM STATION",
           "Syracuse",
           "NY"
          ],
          [
           "SYRACUSE UNIVERSITY - STEAM STATION",
           "Syracuse",
           "NY"
          ],
          [
           "SYRACUSE UNIVERSITY - STEAM STATION",
           "Syracuse",
           "NY"
          ],
          [
           "SYRACUSE UNIVERSITY - STEAM STATION",
           "Syracuse",
           "NY"
          ],
          [
           "SYRACUSE UNIVERSITY - STEAM STATION",
           "Syracuse",
           "NY"
          ],
          [
           "SYRACUSE UNIVERSITY - STEAM STATION",
           "Syracuse",
           "NY"
          ],
          [
           "SYRACUSE UNIVERSITY - STEAM STATION",
           "Syracuse",
           "NY"
          ],
          [
           "SYRACUSE UNIVERSITY - STEAM STATION",
           "Syracuse",
           "NY"
          ],
          [
           "SYRACUSE UNIVERSITY - STEAM STATION",
           "Syracuse",
           "NY"
          ],
          [
           "SYRACUSE UNIVERSITY - STEAM STATION",
           "Syracuse",
           "NY"
          ],
          [
           "SYRACUSE UNIVERSITY - STEAM STATION",
           "Syracuse",
           "NY"
          ],
          [
           "SYRACUSE UNIVERSITY - STEAM STATION",
           "Syracuse",
           "NY"
          ],
          [
           "SYRACUSE UNIVERSITY - STEAM STATION",
           "Syracuse",
           "NY"
          ],
          [
           "SYRACUSE UNIVERSITY - STEAM STATION",
           "Syracuse",
           "NY"
          ],
          [
           "SYRACUSE UNIVERSITY - STEAM STATION",
           "Syracuse",
           "NY"
          ],
          [
           "SYRACUSE UNIVERSITY - STEAM STATION",
           "Syracuse",
           "NY"
          ],
          [
           "U S SALT - WATKINS GLEN REFINERY",
           "Watkins glen",
           "NY"
          ],
          [
           "U S SALT - WATKINS GLEN REFINERY",
           "Watkins glen",
           "NY"
          ],
          [
           "U S SALT - WATKINS GLEN REFINERY",
           "Watkins glen",
           "NY"
          ],
          [
           "U S SALT - WATKINS GLEN REFINERY",
           "Watkins glen",
           "NY"
          ],
          [
           "U S SALT - WATKINS GLEN REFINERY",
           "Watkins glen",
           "NY"
          ],
          [
           "U S SALT - WATKINS GLEN REFINERY",
           "Watkins glen",
           "NY"
          ],
          [
           "U S SALT - WATKINS GLEN REFINERY",
           "Watkins glen",
           "NY"
          ],
          [
           "U S SALT - WATKINS GLEN REFINERY",
           "Watkins glen",
           "NY"
          ],
          [
           "U S SALT - WATKINS GLEN REFINERY",
           "Watkins glen",
           "NY"
          ],
          [
           "U S SALT - WATKINS GLEN REFINERY",
           "Watkins glen",
           "NY"
          ],
          [
           "U S SALT - WATKINS GLEN REFINERY",
           "Watkins glen",
           "NY"
          ],
          [
           "U S SALT - WATKINS GLEN REFINERY",
           "Watkins glen",
           "NY"
          ],
          [
           "University of Rochester",
           "Rochester",
           "NY"
          ],
          [
           "University of Rochester",
           "Rochester",
           "NY"
          ],
          [
           "University of Rochester",
           "Rochester",
           "NY"
          ],
          [
           "University of Rochester",
           "Rochester",
           "NY"
          ],
          [
           "University of Rochester",
           "Rochester",
           "NY"
          ],
          [
           "University of Rochester",
           "Rochester",
           "NY"
          ],
          [
           "University of Rochester",
           "Rochester",
           "NY"
          ],
          [
           "University of Rochester",
           "Rochester",
           "NY"
          ],
          [
           "University of Rochester",
           "Rochester",
           "NY"
          ],
          [
           "University of Rochester",
           "Rochester",
           "NY"
          ],
          [
           "University of Rochester",
           "Rochester",
           "NY"
          ],
          [
           "University of Rochester",
           "Rochester",
           "NY"
          ],
          [
           "US Army Fort Drum",
           "Fort drum",
           "NY"
          ],
          [
           "US Army Fort Drum",
           "Fort drum",
           "NY"
          ],
          [
           "US Army Fort Drum",
           "Fort drum",
           "NY"
          ],
          [
           "US Army Fort Drum",
           "Fort drum",
           "NY"
          ],
          [
           "US Army Fort Drum",
           "Fort drum",
           "NY"
          ],
          [
           "US Army Fort Drum",
           "Fort drum",
           "NY"
          ],
          [
           "US Army Fort Drum",
           "Fort drum",
           "NY"
          ],
          [
           "US Army Fort Drum",
           "Fort drum",
           "NY"
          ],
          [
           "US Army Fort Drum",
           "Fort drum",
           "NY"
          ],
          [
           "US Army Fort Drum",
           "Fort drum",
           "NY"
          ],
          [
           "US Army Fort Drum",
           "Fort drum",
           "NY"
          ],
          [
           "US Army Fort Drum",
           "Fort drum",
           "NY"
          ],
          [
           "US Army Fort Drum",
           "Fort drum",
           "NY"
          ],
          [
           "US Army Fort Drum",
           "Fort drum",
           "NY"
          ],
          [
           "US Army Fort Drum",
           "Fort drum",
           "NY"
          ],
          [
           "US Army Fort Drum",
           "Fort drum",
           "NY"
          ],
          [
           "US Army Fort Drum",
           "Fort drum",
           "NY"
          ],
          [
           "US Army Fort Drum",
           "Fort drum",
           "NY"
          ],
          [
           "US Army Fort Drum",
           "Fort drum",
           "NY"
          ],
          [
           "US Army Fort Drum",
           "Fort drum",
           "NY"
          ],
          [
           "US Army Fort Drum",
           "Fort drum",
           "NY"
          ],
          [
           "US Army Fort Drum",
           "Fort drum",
           "NY"
          ],
          [
           "US Army Fort Drum",
           "Fort drum",
           "NY"
          ],
          [
           "US Army Fort Drum",
           "Fort drum",
           "NY"
          ],
          [
           "US Army Fort Drum",
           "Fort drum",
           "NY"
          ],
          [
           "US Army Fort Drum",
           "Fort drum",
           "NY"
          ],
          [
           "US Army Fort Drum",
           "Fort drum",
           "NY"
          ],
          [
           "US DOE BROOKHAVEN NATIONAL LABORATORY",
           "Upton",
           "NY"
          ],
          [
           "US DOE BROOKHAVEN NATIONAL LABORATORY",
           "Upton",
           "NY"
          ],
          [
           "US DOE BROOKHAVEN NATIONAL LABORATORY",
           "Upton",
           "NY"
          ],
          [
           "US DOE BROOKHAVEN NATIONAL LABORATORY",
           "Upton",
           "NY"
          ],
          [
           "US DOE BROOKHAVEN NATIONAL LABORATORY",
           "Upton",
           "NY"
          ],
          [
           "US DOE BROOKHAVEN NATIONAL LABORATORY",
           "Upton",
           "NY"
          ],
          [
           "US DOE BROOKHAVEN NATIONAL LABORATORY",
           "Upton",
           "NY"
          ],
          [
           "US DOE BROOKHAVEN NATIONAL LABORATORY",
           "Upton",
           "NY"
          ],
          [
           "US DOE BROOKHAVEN NATIONAL LABORATORY",
           "Upton",
           "NY"
          ],
          [
           "US DOE BROOKHAVEN NATIONAL LABORATORY",
           "Upton",
           "NY"
          ],
          [
           "US DOE BROOKHAVEN NATIONAL LABORATORY",
           "Upton",
           "NY"
          ],
          [
           "US DOE BROOKHAVEN NATIONAL LABORATORY",
           "Upton",
           "NY"
          ],
          [
           "US DOE BROOKHAVEN NATIONAL LABORATORY",
           "Upton",
           "NY"
          ],
          [
           "US DOE BROOKHAVEN NATIONAL LABORATORY",
           "Upton",
           "NY"
          ],
          [
           "US DOE BROOKHAVEN NATIONAL LABORATORY",
           "Upton",
           "NY"
          ],
          [
           "US DOE BROOKHAVEN NATIONAL LABORATORY",
           "Upton",
           "NY"
          ],
          [
           "US DOE BROOKHAVEN NATIONAL LABORATORY",
           "Upton",
           "NY"
          ],
          [
           "US DOE BROOKHAVEN NATIONAL LABORATORY",
           "Upton",
           "NY"
          ],
          [
           "US DOE BROOKHAVEN NATIONAL LABORATORY",
           "Upton",
           "NY"
          ],
          [
           "US DOE BROOKHAVEN NATIONAL LABORATORY",
           "Upton",
           "NY"
          ],
          [
           "US DOE BROOKHAVEN NATIONAL LABORATORY",
           "Upton",
           "NY"
          ],
          [
           "US DOE BROOKHAVEN NATIONAL LABORATORY",
           "Upton",
           "NY"
          ],
          [
           "US DOE BROOKHAVEN NATIONAL LABORATORY",
           "Upton",
           "NY"
          ],
          [
           "US DOE BROOKHAVEN NATIONAL LABORATORY",
           "Upton",
           "NY"
          ],
          [
           "US DOE BROOKHAVEN NATIONAL LABORATORY",
           "Upton",
           "NY"
          ],
          [
           "US DOE BROOKHAVEN NATIONAL LABORATORY",
           "Upton",
           "NY"
          ],
          [
           "US DOE BROOKHAVEN NATIONAL LABORATORY",
           "Upton",
           "NY"
          ],
          [
           "US DOE BROOKHAVEN NATIONAL LABORATORY",
           "Upton",
           "NY"
          ],
          [
           "US DOE BROOKHAVEN NATIONAL LABORATORY",
           "Upton",
           "NY"
          ],
          [
           "US DOE BROOKHAVEN NATIONAL LABORATORY",
           "Upton",
           "NY"
          ],
          [
           "US DOE BROOKHAVEN NATIONAL LABORATORY",
           "Upton",
           "NY"
          ],
          [
           "US DOE BROOKHAVEN NATIONAL LABORATORY",
           "Upton",
           "NY"
          ],
          [
           "US DOE BROOKHAVEN NATIONAL LABORATORY",
           "Upton",
           "NY"
          ],
          [
           "US DOE BROOKHAVEN NATIONAL LABORATORY",
           "Upton",
           "NY"
          ],
          [
           "US DOE BROOKHAVEN NATIONAL LABORATORY",
           "Upton",
           "NY"
          ],
          [
           "US DOE BROOKHAVEN NATIONAL LABORATORY",
           "Upton",
           "NY"
          ],
          [
           "US MILITARY ACADEMY AT WEST POINT",
           "West point",
           "NY"
          ],
          [
           "US MILITARY ACADEMY AT WEST POINT",
           "West point",
           "NY"
          ],
          [
           "US MILITARY ACADEMY AT WEST POINT",
           "West point",
           "NY"
          ],
          [
           "US MILITARY ACADEMY AT WEST POINT",
           "West point",
           "NY"
          ],
          [
           "US MILITARY ACADEMY AT WEST POINT",
           "West point",
           "NY"
          ],
          [
           "US MILITARY ACADEMY AT WEST POINT",
           "West point",
           "NY"
          ],
          [
           "US MILITARY ACADEMY AT WEST POINT",
           "West point",
           "NY"
          ],
          [
           "US MILITARY ACADEMY AT WEST POINT",
           "West point",
           "NY"
          ],
          [
           "US MILITARY ACADEMY AT WEST POINT",
           "West point",
           "NY"
          ],
          [
           "US MILITARY ACADEMY AT WEST POINT",
           "West point",
           "NY"
          ],
          [
           "US MILITARY ACADEMY AT WEST POINT",
           "West point",
           "NY"
          ],
          [
           "US MILITARY ACADEMY AT WEST POINT",
           "West point",
           "NY"
          ],
          [
           "US MILITARY ACADEMY AT WEST POINT",
           "West point",
           "NY"
          ],
          [
           "US MILITARY ACADEMY AT WEST POINT",
           "West point",
           "NY"
          ],
          [
           "US MILITARY ACADEMY AT WEST POINT",
           "West point",
           "NY"
          ],
          [
           "US MILITARY ACADEMY AT WEST POINT",
           "West point",
           "NY"
          ],
          [
           "US MILITARY ACADEMY AT WEST POINT",
           "West point",
           "NY"
          ],
          [
           "US MILITARY ACADEMY AT WEST POINT",
           "West point",
           "NY"
          ],
          [
           "US MILITARY ACADEMY AT WEST POINT",
           "West point",
           "NY"
          ],
          [
           "US MILITARY ACADEMY AT WEST POINT",
           "West point",
           "NY"
          ],
          [
           "Xerox Corporation",
           "Webster",
           "NY"
          ],
          [
           "Xerox Corporation",
           "Webster",
           "NY"
          ],
          [
           "Xerox Corporation",
           "Webster",
           "NY"
          ],
          [
           "Xerox Corporation",
           "Webster",
           "NY"
          ],
          [
           "Xerox Corporation",
           "Webster",
           "NY"
          ],
          [
           "Xerox Corporation",
           "Webster",
           "NY"
          ],
          [
           "Xerox Corporation",
           "Webster",
           "NY"
          ],
          [
           "Xerox Corporation",
           "Webster",
           "NY"
          ],
          [
           "Xerox Corporation",
           "Webster",
           "NY"
          ],
          [
           "Xerox Corporation",
           "Webster",
           "NY"
          ],
          [
           "Xerox Corporation",
           "Webster",
           "NY"
          ],
          [
           "Xerox Corporation",
           "Webster",
           "NY"
          ],
          [
           "Xerox Corporation",
           "Webster",
           "NY"
          ],
          [
           "Xerox Corporation",
           "Webster",
           "NY"
          ],
          [
           "Xerox Corporation",
           "Webster",
           "NY"
          ],
          [
           "Xerox Corporation",
           "Webster",
           "NY"
          ],
          [
           "Xerox Corporation",
           "Webster",
           "NY"
          ],
          [
           "Xerox Corporation",
           "Webster",
           "NY"
          ],
          [
           "Xerox Corporation",
           "Webster",
           "NY"
          ],
          [
           "Xerox Corporation",
           "Webster",
           "NY"
          ],
          [
           "Xerox Corporation",
           "Webster",
           "NY"
          ],
          [
           "Xerox Corporation",
           "Webster",
           "NY"
          ],
          [
           "Xerox Corporation",
           "Webster",
           "NY"
          ],
          [
           "Xerox Corporation",
           "Webster",
           "NY"
          ],
          [
           "Xerox Corporation",
           "Webster",
           "NY"
          ],
          [
           "Xerox Corporation",
           "Webster",
           "NY"
          ],
          [
           "Xerox Corporation",
           "Webster",
           "NY"
          ],
          [
           "Xerox Corporation",
           "Webster",
           "NY"
          ],
          [
           "Xerox Corporation",
           "Webster",
           "NY"
          ],
          [
           "Xerox Corporation",
           "Webster",
           "NY"
          ],
          [
           "Xerox Corporation",
           "Webster",
           "NY"
          ],
          [
           "Xerox Corporation",
           "Webster",
           "NY"
          ],
          [
           "Xerox Corporation",
           "Webster",
           "NY"
          ],
          [
           "Xerox Corporation",
           "Webster",
           "NY"
          ],
          [
           "Xerox Corporation",
           "Webster",
           "NY"
          ],
          [
           "Xerox Corporation",
           "Webster",
           "NY"
          ],
          [
           "Xerox Corporation",
           "Webster",
           "NY"
          ],
          [
           "Xerox Corporation",
           "Webster",
           "NY"
          ],
          [
           "Xerox Corporation",
           "Webster",
           "NY"
          ],
          [
           "Xerox Corporation",
           "Webster",
           "NY"
          ],
          [
           "Xerox Corporation",
           "Webster",
           "NY"
          ],
          [
           "Xerox Corporation",
           "Webster",
           "NY"
          ],
          [
           "Xerox Corporation",
           "Webster",
           "NY"
          ],
          [
           "Xerox Corporation",
           "Webster",
           "NY"
          ],
          [
           "Xerox Corporation",
           "Webster",
           "NY"
          ],
          [
           "Xerox Corporation",
           "Webster",
           "NY"
          ],
          [
           "Xerox Corporation",
           "Webster",
           "NY"
          ],
          [
           "Xerox Corporation",
           "Webster",
           "NY"
          ],
          [
           "Xerox Corporation",
           "Webster",
           "NY"
          ],
          [
           "Xerox Corporation",
           "Webster",
           "NY"
          ],
          [
           "Xerox Corporation",
           "Webster",
           "NY"
          ],
          [
           "Xerox Corporation",
           "Webster",
           "NY"
          ],
          [
           "Xerox Corporation",
           "Webster",
           "NY"
          ],
          [
           "Xerox Corporation",
           "Webster",
           "NY"
          ],
          [
           "Xerox Corporation",
           "Webster",
           "NY"
          ]
         ],
         "hovertemplate": "Sector=Other<br>CO2 Emissions=%{x}<br>Nitrous Oxide Emissions=%{y}<br>Facility.Name=%{customdata[0]}<br>City=%{customdata[1]}<br>State=%{customdata[2]}<extra></extra>",
         "legendgroup": "Other",
         "marker": {
          "color": "#00cc96",
          "symbol": "circle"
         },
         "mode": "markers",
         "name": "Other",
         "showlegend": true,
         "type": "scattergl",
         "x": [
          77136.8,
          77816.2,
          79578.4,
          84426.5,
          84558.8,
          81016.5,
          86276.6,
          82766.3,
          84296.6,
          81699.5,
          79719.4,
          79710.6,
          49402.3,
          49516.5,
          47727.7,
          47383.2,
          51055.6,
          48390.9,
          49077.8,
          50850.2,
          50915.1,
          83331.7,
          89536.4,
          87417,
          61204.4,
          48449.7,
          66069,
          73041.6,
          69171,
          63056,
          60402.3,
          46774.7,
          74642.8,
          63970.6,
          58793.4,
          76253.6,
          265,
          0,
          116984.7,
          39.8,
          0,
          0,
          11121,
          17,
          18139.9,
          204,
          123622.7,
          31.1,
          0,
          0,
          11418.8,
          21.9,
          10887.8,
          139,
          132933.2,
          30.9,
          0,
          0,
          11546.6,
          17.6,
          7492.3,
          187.9,
          141347.4,
          30.7,
          0,
          1,
          12773.5,
          21.7,
          10124.9,
          129.4,
          151095.4,
          32,
          0,
          3.7,
          13650.3,
          20.7,
          8020.8,
          132.5,
          145530.5,
          29.4,
          0,
          2.2,
          11768.7,
          13.7,
          7060.3,
          220.6,
          150319.6,
          32.4,
          0,
          2.5,
          11967.8,
          16.7,
          6492.4,
          259.6,
          150213.4,
          31.9,
          0,
          4.6,
          13151.5,
          37,
          1043.4,
          366.2,
          122987.6,
          28,
          0,
          4.5,
          15317.2,
          18.2,
          11584,
          2313.3,
          127205.4,
          34.7,
          0,
          1.5,
          12814.7,
          15.3,
          0,
          9152.5,
          190.6,
          122718.4,
          29.4,
          0,
          2.1,
          12802.8,
          15.6,
          0,
          6041.9,
          311.4,
          124917.8,
          37.6,
          0,
          3.8,
          10870.1,
          60.5,
          17332,
          4973.8,
          169.5,
          96600.2,
          49.4,
          815.4,
          0.4,
          1.9,
          52.3,
          799.6,
          0.3,
          0.2,
          42.7,
          958.8,
          0.3,
          0.1,
          40.6,
          405.7,
          1136.3,
          1.5,
          0.2,
          3253.7,
          91.4,
          26.9,
          18.1,
          1197.1,
          1393.4,
          133.7,
          0.7,
          3253.7,
          207.8,
          1169.9,
          705.5,
          21754.5,
          1471.1,
          2132.1,
          1563.5,
          550.7,
          12026,
          850,
          17.6,
          27.9,
          54.6,
          1562,
          1657.2,
          1643.2,
          0,
          11611.4,
          816.2,
          16.8,
          4,
          52.2,
          2022.2,
          2066.6,
          1769.9,
          28.5,
          10591.1,
          950.6,
          3.4,
          17.6,
          54.2,
          3022.6,
          2387.7,
          2850.3,
          867.7,
          10140.8,
          1215.3,
          41.1,
          29.3,
          62.2,
          2413.4,
          2382.6,
          3817,
          3387.9,
          9981.9,
          1866,
          65.8,
          38.3,
          63.4,
          2055,
          2691.7,
          1744.2,
          4802.1,
          10489.9,
          1311.8,
          44.8,
          38.8,
          107.1,
          2540.9,
          1651.9,
          1895.9,
          6077.9,
          11828.8,
          1638.8,
          43.1,
          33.4,
          155.6,
          3018.3,
          2960,
          2576.5,
          6495.4,
          11902.2,
          1858.1,
          48.1,
          26.3,
          228.8,
          3081,
          2169.9,
          3080.8,
          6103.9,
          12615.6,
          1189.6,
          48.5,
          37.7,
          250.7,
          2608.3,
          3469.3,
          2989.6,
          5497.2,
          12775.4,
          858.2,
          42.9,
          29.2,
          4.3,
          2309,
          1673.4,
          2876.1,
          5284.3,
          13179,
          1029,
          35.9,
          1.9,
          1.9,
          2958.6,
          2744.7,
          3336.4,
          5408.1,
          11693.1,
          966.7,
          51.9,
          73.8,
          50309.1,
          50913.8,
          49812.8,
          50137.7,
          49427,
          54270.8,
          58678.5,
          60812.7,
          57150.5,
          59499.6,
          60376.6,
          0,
          26992.8,
          0,
          27.2,
          0,
          28761.1,
          0,
          77,
          0,
          31535.3,
          0,
          15.8,
          288.2,
          30784.4,
          0,
          33,
          439,
          33484.9,
          0,
          44.3,
          396.6,
          38767.5,
          0,
          75.3,
          433.6,
          37072.5,
          0,
          27.4,
          460.6,
          38036.2,
          0,
          49.8,
          528.4,
          39325.4,
          0,
          52.1,
          543.2,
          38743.8,
          27.2,
          85,
          544.3,
          40844.8,
          25,
          112.9,
          423.8,
          39658.2,
          579.5,
          106.7,
          52098,
          40714.5,
          53162.2,
          54752.6,
          53294,
          55207.8,
          7765.1,
          51005.6,
          96957,
          7794,
          95086.2,
          4784.3,
          103041,
          3609,
          101412,
          3229,
          92189,
          3574.7,
          42231.8,
          145.4,
          43563.2,
          101,
          48126.6,
          82.3,
          51849.7,
          2.1,
          60226.9,
          73.6,
          62958.8,
          85.7,
          70139.5,
          113.6,
          61557.6,
          50.1,
          48287.1,
          58474,
          57868,
          61224,
          12261,
          24299,
          61604.8,
          69204.3,
          64703.1,
          78514.2,
          78650.5,
          0,
          74261.3,
          0,
          82220.4,
          0,
          86344.6,
          0,
          88120.9,
          8,
          84128,
          6,
          82603.4,
          68,
          99195,
          69059,
          76415.7,
          77186.3,
          77183.5,
          80731.7,
          74108.7,
          83409.2,
          79101.3,
          70769.3,
          71656.8,
          70425.9,
          74628.6,
          49976.5,
          51888.2,
          48281.7,
          47212.5,
          51880.1,
          55379.2,
          47000.2,
          45196.9,
          47755,
          49948.2,
          46938.9,
          44018.3,
          44126.7,
          81206.7,
          16171.8,
          223.9,
          75292,
          22614.6,
          170.8,
          72186.9,
          17551.1,
          189,
          56804.6,
          20378,
          265.8,
          74048.3,
          18747.7,
          277.9,
          73833.7,
          20711.4,
          330.5,
          82469.2,
          34519.1,
          250.5,
          28237.5,
          33724.3,
          2344.2,
          37364.8,
          48842.7,
          63.4,
          22017.9,
          21234.8,
          5354,
          36580,
          53173,
          39.7,
          50827.8,
          2650.1,
          29676,
          42653.3,
          42954.6,
          51,
          48785,
          20733.7,
          2953.5,
          2466.4,
          41.9,
          62587.9,
          29650.6,
          3749.6,
          1368.8,
          62.3,
          57935.8,
          29672,
          2626.9,
          1798.6,
          58.9,
          59443.4,
          41394.4,
          1887.6,
          1464.7,
          3.6,
          54441,
          45715.8,
          3350.5,
          2725.3,
          136,
          36636.4,
          9250,
          49329.5,
          3652.5,
          2598.2,
          11497,
          41319,
          39493,
          1451,
          1760,
          20309,
          26703,
          50132,
          3513,
          1958,
          21790,
          23134,
          47949,
          33374,
          38741,
          131.1,
          68675.6,
          758.4,
          58434.6,
          758.4,
          68731.7,
          71894.5,
          55753.2,
          69488.3,
          58397.1,
          69408.8,
          75572.8,
          74310.5,
          72990.5,
          74146,
          145.5,
          37063.9,
          202,
          33736.7,
          194.7,
          33397.2,
          205.6,
          34401.8,
          33755.7,
          642.9,
          773.9,
          668.7,
          621.5,
          331.7,
          1127,
          415.9,
          30502.6,
          647.5,
          566.2,
          494.8,
          456,
          407.8,
          2212.8,
          430.1,
          28297,
          727,
          560,
          178,
          484,
          348,
          1737,
          379,
          31162.1,
          695.8,
          621.1,
          609.7,
          435.8,
          264.2,
          1162.5,
          389.8,
          39123.7,
          563.1,
          545.7,
          698.3,
          386.9,
          207.7,
          1551.3,
          379.1,
          279.7,
          32858.9,
          70477.7,
          168.4,
          34740.4,
          186.1,
          32477,
          29852.5,
          31963,
          29345.2,
          30418.6,
          3678.9,
          30932,
          29549.1,
          31386.5,
          29016.3,
          18328.9,
          21140.3,
          30637.4,
          87228.3,
          95629.5,
          91487.2,
          6475.8,
          82294.2,
          840.8,
          75742.5,
          1200.9,
          75187.4,
          1129.3,
          84179.7,
          1729.1,
          71760.8,
          9826.3,
          80932.1,
          2395.9,
          97473,
          897,
          98217,
          1654,
          101072,
          1100,
          32268.3,
          31217.7,
          28454.5,
          30431.4,
          28093.1,
          28657.9,
          29631.3,
          31615.7,
          32209,
          29555.3,
          27720,
          30448,
          11299.5,
          6344.6,
          10948.1,
          5989.4,
          10485.6,
          5707.7,
          16316,
          0,
          18286.3,
          0,
          979.9,
          3275.4,
          10156.2,
          12654.2,
          6595.4,
          19453.1,
          734.1,
          14949.8,
          636,
          16563.6,
          7203.1,
          14913.3,
          6255.9,
          16005.5,
          15267.8,
          11614.9,
          12737.2,
          12023,
          1602.6,
          18925,
          15475.3,
          6782.6,
          11108.2,
          1391.7,
          16029,
          16152.7,
          12847,
          8835.1,
          1172.7,
          16672.9,
          20142.9,
          8703.8,
          12948.8,
          15436.7,
          16075.6,
          14065.5,
          10915.2,
          18237.4,
          16174.2,
          7877.2,
          12709.9,
          15337.2,
          15488.6,
          13875.1,
          8559.2,
          15840.4,
          17820.9,
          13161.1,
          14859.7,
          18843.9,
          16822.6,
          13064.8,
          9110.5,
          17717,
          13276.3,
          17483.5,
          7903.5,
          14417.6,
          13638.8,
          15907.9,
          8264.6,
          17889.4,
          15987.3,
          15444.6,
          5904.9,
          75594.3,
          72593,
          74769.3,
          81222.4,
          74326.8,
          78480.4,
          79216.1,
          72026.5,
          70928.6,
          71717.7,
          60965.3,
          65302.6,
          128306.2,
          113168.5,
          124067.2,
          127987.8,
          130652,
          134572.6,
          136405,
          136411.5,
          126837.3,
          138845.8,
          126383.6,
          108836.1,
          41809.3,
          761.6,
          35797.9,
          726.8,
          36874.1,
          739.1,
          38307.6,
          873.5,
          36930.8,
          829.5,
          44894,
          683,
          49175.9,
          709.5,
          53609.5,
          819.7,
          37277.1,
          1090.8,
          36844.4,
          0,
          1036.3,
          33937.7,
          0,
          1019.7,
          36352.4,
          28.5,
          1091.9,
          35296.2,
          386.9,
          48,
          32531.6,
          414.2,
          54.2,
          30825.9,
          422,
          45.9,
          32522.1,
          386.7,
          77.4,
          35548.1,
          388.2,
          97.7,
          31537.3,
          410.6,
          83.5,
          33120.2,
          413.8,
          47.9,
          33966.1,
          484.1,
          84.9,
          37025.9,
          570.8,
          97.2,
          35653.9,
          532.8,
          100.7,
          33924.9,
          392.7,
          88.6,
          44522.7,
          447.9,
          116.8,
          1408.9,
          28474.6,
          30456.9,
          1615.6,
          30958.5,
          1627.6,
          32167.1,
          2375.4,
          33036,
          1912,
          33036,
          1460.5,
          40532.1,
          2832.8,
          39113.6,
          1876.5,
          39059.1,
          1792.1,
          39059.1,
          2442.5,
          28712.3,
          28594.9,
          29179.3,
          33401.2,
          34752.6,
          35209,
          35211,
          36439.5,
          38264.5,
          37313.8,
          0,
          6.5,
          280.5,
          2320.7,
          91.1,
          59.4,
          899.9,
          21401.7,
          388.2,
          0.2,
          2549,
          65.8,
          5.3,
          3537.8,
          281.4,
          157.1,
          7.2,
          858.2,
          43.7,
          3.5,
          3136.8,
          36.5,
          17.3,
          6.9,
          234.2,
          2306.6,
          106.9,
          61.4,
          1088.6,
          22671.6,
          495.6,
          0.1,
          2428,
          34.9,
          6.5,
          4468.6,
          270.2,
          174.9,
          6,
          852.6,
          44.7,
          3.3,
          3415.7,
          43.6,
          11.2
         ],
         "xaxis": "x",
         "y": [
          53.044,
          44.7,
          48.276,
          60.792,
          52.746,
          50.064,
          57.514,
          62.282,
          57.514,
          50.66,
          46.488,
          44.7,
          27.714,
          27.714,
          26.82,
          26.522,
          28.608,
          27.118,
          27.416,
          28.608,
          28.608,
          341.21,
          422.564,
          430.908,
          39.038,
          28.31,
          38.144,
          45.296,
          46.488,
          39.336,
          41.124,
          40.23,
          88.208,
          74.202,
          64.666,
          80.162,
          0.894,
          4231.6,
          65.56,
          0,
          0,
          0,
          6.258,
          0,
          10.132,
          0.596,
          69.434,
          0,
          0,
          0,
          6.556,
          0,
          6.258,
          0.298,
          75.692,
          0,
          0,
          0,
          6.556,
          0,
          4.172,
          0.596,
          79.268,
          0,
          0,
          0,
          7.152,
          0,
          5.662,
          0.298,
          84.93,
          0,
          0,
          0,
          7.748,
          0,
          4.47,
          0.298,
          81.652,
          0,
          0,
          0,
          6.556,
          0,
          3.874,
          0.596,
          84.334,
          0,
          0,
          0,
          6.854,
          0,
          3.576,
          0.596,
          84.632,
          0,
          0,
          0,
          7.45,
          0,
          0.596,
          0.894,
          69.136,
          0,
          0,
          0,
          8.642,
          0,
          6.556,
          5.662,
          71.52,
          0,
          0,
          0,
          7.152,
          0,
          0,
          5.066,
          0.596,
          69.136,
          0,
          0,
          0,
          7.152,
          0,
          0,
          3.278,
          0.894,
          70.328,
          0,
          0,
          0,
          6.258,
          0.298,
          88.506,
          2.682,
          0.298,
          54.236,
          0,
          0.596,
          0,
          0,
          0,
          0.596,
          0,
          0,
          0,
          0.596,
          0,
          0,
          0,
          0.298,
          0.596,
          0,
          0,
          1.788,
          0.298,
          0,
          0,
          0.596,
          0,
          0.298,
          0,
          1.788,
          0.596,
          2.682,
          0.298,
          12.218,
          0.894,
          1.192,
          0.894,
          1.192,
          7.45,
          0.894,
          0,
          0,
          0,
          0.894,
          1.192,
          0.894,
          0,
          6.854,
          0.894,
          0,
          0,
          0,
          1.192,
          1.192,
          0.894,
          0,
          5.96,
          0.596,
          0,
          0,
          0,
          2.086,
          1.49,
          1.49,
          2.086,
          6.258,
          1.788,
          0,
          0,
          0,
          1.49,
          1.49,
          2.384,
          8.046,
          5.96,
          2.086,
          0,
          0,
          0,
          1.192,
          1.788,
          1.192,
          11.324,
          6.258,
          0.596,
          0,
          0,
          0,
          1.788,
          0.894,
          1.192,
          14.602,
          7.152,
          0.894,
          0,
          0,
          0,
          2.682,
          2.086,
          1.788,
          15.496,
          6.854,
          1.192,
          0,
          0,
          0,
          2.086,
          1.192,
          1.788,
          14.602,
          7.152,
          0.596,
          0,
          0,
          0,
          1.788,
          2.086,
          1.788,
          13.112,
          7.152,
          0.596,
          0,
          0,
          0,
          1.192,
          0.894,
          1.49,
          12.516,
          7.45,
          0.596,
          0,
          0,
          0,
          1.788,
          1.49,
          1.788,
          12.814,
          6.556,
          0.596,
          0,
          0,
          31.588,
          31.886,
          30.992,
          31.588,
          30.992,
          33.376,
          36.356,
          38.144,
          33.972,
          39.634,
          38.74,
          0,
          15.198,
          0,
          0,
          0,
          16.092,
          0,
          0.298,
          0,
          17.582,
          0,
          0,
          0.298,
          17.284,
          0,
          0,
          0.298,
          18.774,
          0,
          0,
          0.298,
          21.754,
          0,
          0.298,
          0.298,
          20.86,
          0,
          0,
          0.298,
          21.456,
          0,
          0,
          0.298,
          22.052,
          0,
          0,
          0.298,
          21.754,
          0,
          0.298,
          0.298,
          22.946,
          0,
          0.298,
          0.298,
          22.35,
          1.49,
          0.298,
          29.204,
          22.946,
          29.8,
          30.694,
          29.8,
          30.992,
          39.634,
          28.608,
          494.68,
          2.98,
          486.038,
          2.682,
          527.46,
          2.98,
          518.52,
          2.98,
          470.542,
          2.086,
          30.694,
          0.298,
          25.33,
          0.298,
          27.118,
          0.298,
          29.502,
          0,
          33.674,
          0.298,
          39.634,
          0.298,
          44.7,
          0.298,
          35.76,
          0,
          38.442,
          45.296,
          37.846,
          41.422,
          6.854,
          13.708,
          35.76,
          39.336,
          43.21,
          51.256,
          52.15,
          0,
          46.19,
          0,
          54.236,
          0,
          65.858,
          0,
          74.5,
          0,
          62.878,
          0,
          60.494,
          0.298,
          8.344,
          38.74,
          42.912,
          43.21,
          43.21,
          45.594,
          42.018,
          48.872,
          55.13,
          39.634,
          40.23,
          38.74,
          42.018,
          30.992,
          42.316,
          30.098,
          28.906,
          39.932,
          40.826,
          32.78,
          29.502,
          45.892,
          43.806,
          28.906,
          27.118,
          27.416,
          45.594,
          10.132,
          0,
          42.316,
          12.814,
          0,
          40.826,
          10.132,
          0,
          31.886,
          14.304,
          0.298,
          41.72,
          12.516,
          0.298,
          41.422,
          14.006,
          0.298,
          46.19,
          20.86,
          0,
          19.072,
          28.608,
          5.662,
          22.648,
          31.886,
          0.298,
          13.708,
          21.456,
          2.98,
          21.158,
          30.396,
          0,
          29.502,
          1.49,
          19.668,
          24.436,
          24.436,
          0,
          33.674,
          14.602,
          3.874,
          2.682,
          0,
          43.806,
          20.264,
          5.662,
          1.192,
          0.298,
          38.442,
          19.072,
          3.874,
          1.788,
          0,
          37.548,
          23.542,
          2.086,
          1.49,
          0,
          49.17,
          35.164,
          5.96,
          4.47,
          0.298,
          27.118,
          5.066,
          27.714,
          6.556,
          3.874,
          17.284,
          57.216,
          20.86,
          5.662,
          5.364,
          22.35,
          30.694,
          26.82,
          18.178,
          11.324,
          14.304,
          14.9,
          73.606,
          25.926,
          59.898,
          0.298,
          38.74,
          1.788,
          32.78,
          1.788,
          41.124,
          44.7,
          31.29,
          39.038,
          32.78,
          39.038,
          42.316,
          41.72,
          41.124,
          41.72,
          0,
          20.86,
          0,
          19.072,
          0,
          18.774,
          0,
          19.37,
          19.072,
          0.298,
          0.298,
          0.298,
          0.298,
          0.298,
          0.596,
          0.298,
          16.986,
          0.298,
          0.298,
          0.298,
          0.298,
          0.298,
          1.192,
          0.298,
          15.794,
          0.298,
          0.298,
          0,
          0.298,
          0.298,
          0.894,
          0,
          17.582,
          0.298,
          0.298,
          0.298,
          0.298,
          0,
          0.596,
          0.298,
          22.052,
          0.298,
          0.298,
          0.298,
          0.298,
          0,
          0.894,
          0.298,
          0.298,
          18.476,
          39.634,
          0,
          19.37,
          0,
          18.178,
          18.476,
          18.774,
          16.39,
          17.88,
          2.98,
          17.88,
          17.284,
          20.264,
          16.39,
          103.406,
          119.796,
          222.01,
          48.872,
          54.236,
          51.256,
          15.794,
          46.19,
          2.086,
          55.13,
          2.98,
          50.362,
          2.682,
          53.64,
          4.172,
          49.766,
          23.84,
          57.812,
          5.662,
          55.428,
          2.384,
          55.13,
          4.47,
          64.666,
          2.98,
          18.178,
          17.582,
          16.092,
          16.986,
          15.794,
          16.092,
          16.688,
          17.88,
          18.178,
          17.88,
          15.496,
          16.986,
          6.258,
          236.314,
          6.258,
          204.428,
          5.96,
          209.494,
          9.238,
          380.844,
          10.132,
          204.428,
          0.596,
          209.196,
          5.662,
          177.906,
          3.576,
          161.218,
          0.298,
          168.37,
          0.298,
          174.628,
          4.172,
          103.406,
          3.576,
          164.496,
          8.642,
          6.556,
          7.152,
          6.854,
          0.894,
          10.728,
          8.642,
          3.874,
          6.258,
          0.894,
          8.94,
          8.94,
          7.152,
          5.066,
          0.596,
          9.238,
          11.324,
          4.768,
          7.152,
          8.642,
          8.94,
          8.046,
          6.258,
          10.132,
          8.94,
          4.47,
          7.152,
          8.642,
          8.642,
          7.748,
          4.768,
          9.238,
          10.132,
          7.45,
          8.344,
          10.728,
          9.536,
          7.45,
          5.066,
          9.834,
          7.45,
          9.834,
          4.47,
          8.046,
          7.748,
          9.238,
          4.768,
          10.132,
          8.94,
          8.642,
          3.278,
          42.316,
          40.826,
          42.018,
          45.594,
          42.316,
          44.402,
          44.998,
          45.892,
          39.932,
          40.826,
          257.472,
          165.39,
          72.116,
          64.368,
          69.732,
          72.116,
          73.606,
          75.99,
          78.076,
          77.182,
          70.626,
          78.076,
          70.924,
          61.388,
          23.542,
          2.086,
          19.966,
          2.086,
          20.562,
          2.086,
          21.456,
          2.384,
          20.86,
          2.384,
          25.33,
          2.086,
          27.714,
          2.086,
          30.098,
          2.384,
          20.86,
          3.278,
          20.562,
          0,
          2.98,
          19.072,
          0,
          2.98,
          20.562,
          0,
          2.98,
          27.416,
          0.894,
          0,
          19.072,
          0.894,
          0.298,
          18.178,
          0.894,
          0,
          18.476,
          0.894,
          0.298,
          20.562,
          0.894,
          0.298,
          19.072,
          0.894,
          0.298,
          34.866,
          0.894,
          0,
          19.37,
          1.192,
          0,
          21.456,
          1.49,
          0,
          22.648,
          1.192,
          0,
          19.966,
          0.894,
          0,
          25.628,
          1.192,
          0,
          3.576,
          18.476,
          16.986,
          4.172,
          17.284,
          4.172,
          18.178,
          5.96,
          18.476,
          5.066,
          18.476,
          3.576,
          22.648,
          7.152,
          22.052,
          5.066,
          22.052,
          4.47,
          22.052,
          5.96,
          16.092,
          16.092,
          16.39,
          18.774,
          19.37,
          19.668,
          19.668,
          20.562,
          21.456,
          20.86,
          0,
          0,
          0.298,
          1.192,
          0,
          0,
          0.596,
          11.92,
          0.298,
          0,
          1.49,
          0,
          0,
          2.086,
          0.298,
          0,
          0,
          0.596,
          0,
          0,
          1.788,
          0,
          0,
          0,
          0,
          1.192,
          0,
          0,
          0.596,
          12.814,
          0.298,
          0,
          1.49,
          0,
          0,
          2.384,
          0.298,
          0,
          0,
          0.596,
          0,
          0,
          1.788,
          0,
          0
         ],
         "yaxis": "y"
        },
        {
         "customdata": [
          [
           "Anchor Glass Container - Plant 41",
           "Elmira heights",
           "NY"
          ],
          [
           "Anchor Glass Container - Plant 41",
           "Elmira heights",
           "NY"
          ],
          [
           "Anchor Glass Container - Plant 41",
           "Elmira heights",
           "NY"
          ],
          [
           "Anchor Glass Container - Plant 41",
           "Elmira heights",
           "NY"
          ],
          [
           "Anchor Glass Container - Plant 41",
           "Elmira heights",
           "NY"
          ],
          [
           "Anchor Glass Container - Plant 41",
           "Elmira heights",
           "NY"
          ],
          [
           "Anchor Glass Container - Plant 41",
           "Elmira heights",
           "NY"
          ],
          [
           "Anchor Glass Container - Plant 41",
           "Elmira heights",
           "NY"
          ],
          [
           "Anchor Glass Container - Plant 41",
           "Elmira heights",
           "NY"
          ],
          [
           "Anchor Glass Container - Plant 41",
           "Elmira heights",
           "NY"
          ],
          [
           "Anchor Glass Container - Plant 41",
           "Elmira heights",
           "NY"
          ],
          [
           "Anchor Glass Container - Plant 41",
           "Elmira heights",
           "NY"
          ],
          [
           "CertainTeed Gypsum Buchanan, LLC.",
           "Buchanan",
           "NY"
          ],
          [
           "CertainTeed Gypsum Buchanan, LLC.",
           "Buchanan",
           "NY"
          ],
          [
           "Continental Buchanan, LLC.",
           "Buchanan",
           "NY"
          ],
          [
           "Continental Buchanan, LLC.",
           "Buchanan",
           "NY"
          ],
          [
           "Continental Buchanan, LLC.",
           "Buchanan",
           "NY"
          ],
          [
           "Continental Buchanan, LLC.",
           "Buchanan",
           "NY"
          ],
          [
           "Continental Buchanan, LLC.",
           "Buchanan",
           "NY"
          ],
          [
           "Continental Buchanan, LLC.",
           "Buchanan",
           "NY"
          ],
          [
           "Continental Buchanan, LLC.",
           "Buchanan",
           "NY"
          ],
          [
           "Continental Buchanan, LLC.",
           "Buchanan",
           "NY"
          ],
          [
           "Continental Buchanan, LLC.",
           "Buchanan",
           "NY"
          ],
          [
           "Continental Buchanan, LLC.",
           "Buchanan",
           "NY"
          ],
          [
           "Continental Buchanan, LLC.",
           "Buchanan",
           "NY"
          ],
          [
           "Continental Buchanan, LLC.",
           "Buchanan",
           "NY"
          ],
          [
           "Continental Buchanan, LLC.",
           "Buchanan",
           "NY"
          ],
          [
           "Continental Buchanan, LLC.",
           "Buchanan",
           "NY"
          ],
          [
           "Continental Buchanan, LLC.",
           "Buchanan",
           "NY"
          ],
          [
           "Continental Buchanan, LLC.",
           "Buchanan",
           "NY"
          ],
          [
           "Continental Buchanan, LLC.",
           "Buchanan",
           "NY"
          ],
          [
           "Continental Buchanan, LLC.",
           "Buchanan",
           "NY"
          ],
          [
           "Continental Buchanan, LLC.",
           "Buchanan",
           "NY"
          ],
          [
           "Continental Buchanan, LLC.",
           "Buchanan",
           "NY"
          ],
          [
           "Continental Buchanan, LLC.",
           "Buchanan",
           "NY"
          ],
          [
           "CORNING DIESEL MANUFACTURING FACILITY",
           "Painted post",
           "NY"
          ],
          [
           "CORNING DIESEL MANUFACTURING FACILITY",
           "Painted post",
           "NY"
          ],
          [
           "CORNING DIESEL MANUFACTURING FACILITY",
           "Painted post",
           "NY"
          ],
          [
           "CORNING DIESEL MANUFACTURING FACILITY",
           "Painted post",
           "NY"
          ],
          [
           "CORNING DIESEL MANUFACTURING FACILITY",
           "Painted post",
           "NY"
          ],
          [
           "CORNING DIESEL MANUFACTURING FACILITY",
           "Painted post",
           "NY"
          ],
          [
           "CORNING DIESEL MANUFACTURING FACILITY",
           "Painted post",
           "NY"
          ],
          [
           "CORNING DIESEL MANUFACTURING FACILITY",
           "Painted post",
           "NY"
          ],
          [
           "CORNING DIESEL MANUFACTURING FACILITY",
           "Painted post",
           "NY"
          ],
          [
           "CORNING DIESEL MANUFACTURING FACILITY",
           "Painted post",
           "NY"
          ],
          [
           "CORNING DIESEL MANUFACTURING FACILITY",
           "Painted post",
           "NY"
          ],
          [
           "ERWIN MANUFACTURING COMPLEX",
           "Painted post",
           "NY"
          ],
          [
           "ERWIN MANUFACTURING COMPLEX",
           "Painted post",
           "NY"
          ],
          [
           "ERWIN MANUFACTURING COMPLEX",
           "Painted post",
           "NY"
          ],
          [
           "ERWIN MANUFACTURING COMPLEX",
           "Painted post",
           "NY"
          ],
          [
           "GUARDIAN INDUSTRIES CORP",
           "Geneva",
           "NY"
          ],
          [
           "GUARDIAN INDUSTRIES CORP",
           "Geneva",
           "NY"
          ],
          [
           "GUARDIAN INDUSTRIES CORP",
           "Geneva",
           "NY"
          ],
          [
           "GUARDIAN INDUSTRIES CORP",
           "Geneva",
           "NY"
          ],
          [
           "GUARDIAN INDUSTRIES CORP",
           "Geneva",
           "NY"
          ],
          [
           "GUARDIAN INDUSTRIES CORP",
           "Geneva",
           "NY"
          ],
          [
           "GUARDIAN INDUSTRIES CORP",
           "Geneva",
           "NY"
          ],
          [
           "GUARDIAN INDUSTRIES CORP",
           "Geneva",
           "NY"
          ],
          [
           "GUARDIAN INDUSTRIES CORP",
           "Geneva",
           "NY"
          ],
          [
           "GUARDIAN INDUSTRIES CORP",
           "Geneva",
           "NY"
          ],
          [
           "GUARDIAN INDUSTRIES CORP",
           "Geneva",
           "NY"
          ],
          [
           "GUARDIAN INDUSTRIES CORP",
           "Geneva",
           "NY"
          ],
          [
           "GUARDIAN INDUSTRIES CORP",
           "Geneva",
           "NY"
          ],
          [
           "GUARDIAN INDUSTRIES CORP",
           "Geneva",
           "NY"
          ],
          [
           "GUARDIAN INDUSTRIES CORP",
           "Geneva",
           "NY"
          ],
          [
           "GUARDIAN INDUSTRIES CORP",
           "Geneva",
           "NY"
          ],
          [
           "GUARDIAN INDUSTRIES CORP",
           "Geneva",
           "NY"
          ],
          [
           "GUARDIAN INDUSTRIES CORP",
           "Geneva",
           "NY"
          ],
          [
           "GUARDIAN INDUSTRIES CORP",
           "Geneva",
           "NY"
          ],
          [
           "GUARDIAN INDUSTRIES CORP",
           "Geneva",
           "NY"
          ],
          [
           "GUARDIAN INDUSTRIES CORP",
           "Geneva",
           "NY"
          ],
          [
           "GUARDIAN INDUSTRIES CORP",
           "Geneva",
           "NY"
          ],
          [
           "GUARDIAN INDUSTRIES CORP",
           "Geneva",
           "NY"
          ],
          [
           "GUARDIAN INDUSTRIES CORP",
           "Geneva",
           "NY"
          ],
          [
           "GUARDIAN INDUSTRIES LLC",
           "Geneva",
           "NY"
          ],
          [
           "GUARDIAN INDUSTRIES LLC",
           "Geneva",
           "NY"
          ],
          [
           "GUARDIAN INDUSTRIES LLC",
           "Geneva",
           "NY"
          ],
          [
           "GUARDIAN INDUSTRIES LLC",
           "Geneva",
           "NY"
          ],
          [
           "GUARDIAN INDUSTRIES LLC",
           "Geneva",
           "NY"
          ],
          [
           "GUARDIAN INDUSTRIES LLC",
           "Geneva",
           "NY"
          ],
          [
           "GUARDIAN INDUSTRIES LLC",
           "Geneva",
           "NY"
          ],
          [
           "GUARDIAN INDUSTRIES LLC",
           "Geneva",
           "NY"
          ],
          [
           "GUARDIAN INDUSTRIES LLC",
           "Geneva",
           "NY"
          ],
          [
           "GUARDIAN INDUSTRIES LLC",
           "Geneva",
           "NY"
          ],
          [
           "GUARDIAN INDUSTRIES LLC",
           "Geneva",
           "NY"
          ],
          [
           "GUARDIAN INDUSTRIES LLC",
           "Geneva",
           "NY"
          ],
          [
           "GUARDIAN INDUSTRIES LLC",
           "Geneva",
           "NY"
          ],
          [
           "GUARDIAN INDUSTRIES LLC",
           "Geneva",
           "NY"
          ],
          [
           "GUARDIAN INDUSTRIES LLC",
           "Geneva",
           "NY"
          ],
          [
           "GUARDIAN INDUSTRIES LLC",
           "Geneva",
           "NY"
          ],
          [
           "GUARDIAN INDUSTRIES LLC",
           "Geneva",
           "NY"
          ],
          [
           "GUARDIAN INDUSTRIES LLC",
           "Geneva",
           "NY"
          ],
          [
           "GUARDIAN INDUSTRIES LLC",
           "Geneva",
           "NY"
          ],
          [
           "GUARDIAN INDUSTRIES LLC",
           "Geneva",
           "NY"
          ],
          [
           "GUARDIAN INDUSTRIES LLC",
           "Geneva",
           "NY"
          ],
          [
           "GUARDIAN INDUSTRIES LLC",
           "Geneva",
           "NY"
          ],
          [
           "GUARDIAN INDUSTRIES LLC",
           "Geneva",
           "NY"
          ],
          [
           "GUARDIAN INDUSTRIES LLC",
           "Geneva",
           "NY"
          ],
          [
           "LAFARGE BUILDING MATERIALS INC",
           "Ravena",
           "NY"
          ],
          [
           "LAFARGE BUILDING MATERIALS INC",
           "Ravena",
           "NY"
          ],
          [
           "LAFARGE BUILDING MATERIALS INC",
           "Ravena",
           "NY"
          ],
          [
           "LAFARGE BUILDING MATERIALS INC",
           "Ravena",
           "NY"
          ],
          [
           "LAFARGE BUILDING MATERIALS INC",
           "Ravena",
           "NY"
          ],
          [
           "LAFARGE BUILDING MATERIALS INC",
           "Ravena",
           "NY"
          ],
          [
           "LAFARGE BUILDING MATERIALS INC",
           "Ravena",
           "NY"
          ],
          [
           "LAFARGE BUILDING MATERIALS INC",
           "Ravena",
           "NY"
          ],
          [
           "LAFARGE BUILDING MATERIALS INC",
           "Ravena",
           "NY"
          ],
          [
           "LAFARGE BUILDING MATERIALS INC",
           "Ravena",
           "NY"
          ],
          [
           "LAFARGE BUILDING MATERIALS INC",
           "Ravena",
           "NY"
          ],
          [
           "LAFARGE BUILDING MATERIALS INC",
           "Ravena",
           "NY"
          ],
          [
           "LAFARGE BUILDING MATERIALS INC",
           "Ravena",
           "NY"
          ],
          [
           "LAFARGE BUILDING MATERIALS INC",
           "Ravena",
           "NY"
          ],
          [
           "LAFARGE BUILDING MATERIALS INC",
           "Ravena",
           "NY"
          ],
          [
           "LAFARGE BUILDING MATERIALS INC",
           "Ravena",
           "NY"
          ],
          [
           "LAFARGE BUILDING MATERIALS INC",
           "Ravena",
           "NY"
          ],
          [
           "LAFARGE BUILDING MATERIALS INC",
           "Ravena",
           "NY"
          ],
          [
           "Lafarge Ravena Cement Plant",
           "Ravena",
           "NY"
          ],
          [
           "Lafarge Ravena Cement Plant",
           "Ravena",
           "NY"
          ],
          [
           "Lafarge Ravena Cement Plant",
           "Ravena",
           "NY"
          ],
          [
           "Lafarge Ravena Cement Plant",
           "Ravena",
           "NY"
          ],
          [
           "Lafarge Ravena Cement Plant",
           "Ravena",
           "NY"
          ],
          [
           "Lafarge Ravena Cement Plant",
           "Ravena",
           "NY"
          ],
          [
           "Lehigh Cement Company LLC",
           "Glens falls",
           "NY"
          ],
          [
           "Lehigh Cement Company LLC",
           "Glens falls",
           "NY"
          ],
          [
           "Lehigh Cement Company LLC",
           "Glens falls",
           "NY"
          ],
          [
           "Lehigh Cement Company LLC",
           "Glens falls",
           "NY"
          ],
          [
           "Lehigh Northeast Cement Company",
           "Glens falls",
           "NY"
          ],
          [
           "Lehigh Northeast Cement Company",
           "Glens falls",
           "NY"
          ],
          [
           "Lehigh Northeast Cement Company",
           "Glens falls",
           "NY"
          ],
          [
           "Lehigh Northeast Cement Company",
           "Glens falls",
           "NY"
          ],
          [
           "Lehigh Northeast Cement Company",
           "Glens falls",
           "NY"
          ],
          [
           "Lehigh Northeast Cement Company",
           "Glens falls",
           "NY"
          ],
          [
           "Lehigh Northeast Cement Company",
           "Glens falls",
           "NY"
          ],
          [
           "Lehigh Northeast Cement Company",
           "Glens falls",
           "NY"
          ],
          [
           "Lehigh Northeast Cement Company",
           "Glens falls",
           "NY"
          ],
          [
           "Lehigh Northeast Cement Company",
           "Glens falls",
           "NY"
          ],
          [
           "Lehigh Northeast Cement Company",
           "Glens falls",
           "NY"
          ],
          [
           "Lehigh Northeast Cement Company",
           "Glens falls",
           "NY"
          ],
          [
           "Lehigh Northeast Cement Company",
           "Glens falls",
           "NY"
          ],
          [
           "NORTHEAST SOLITE CORPORATION",
           "Saugerties",
           "NY"
          ],
          [
           "NORTHEAST SOLITE CORPORATION",
           "Saugerties",
           "NY"
          ],
          [
           "NORTHEAST SOLITE CORPORATION",
           "Saugerties",
           "NY"
          ],
          [
           "NORTHEAST SOLITE CORPORATION",
           "Saugerties",
           "NY"
          ],
          [
           "NORTHEAST SOLITE CORPORATION",
           "Saugerties",
           "NY"
          ],
          [
           "NORTHEAST SOLITE CORPORATION",
           "Saugerties",
           "NY"
          ],
          [
           "NORTHEAST SOLITE CORPORATION",
           "Saugerties",
           "NY"
          ],
          [
           "NORTHEAST SOLITE CORPORATION",
           "Saugerties",
           "NY"
          ],
          [
           "NORTHEAST SOLITE CORPORATION",
           "Saugerties",
           "NY"
          ],
          [
           "NORTHEAST SOLITE CORPORATION",
           "Saugerties",
           "NY"
          ],
          [
           "NORTHEAST SOLITE CORPORATION",
           "Saugerties",
           "NY"
          ],
          [
           "NORTHEAST SOLITE CORPORATION",
           "Saugerties",
           "NY"
          ],
          [
           "OWENS CORNING INSULATING SYSTEMS, LLC - DELMAR",
           "Feura bush",
           "NY"
          ],
          [
           "OWENS CORNING INSULATING SYSTEMS, LLC - DELMAR",
           "Feura bush",
           "NY"
          ],
          [
           "OWENS CORNING INSULATING SYSTEMS, LLC - DELMAR",
           "Feura bush",
           "NY"
          ],
          [
           "OWENS CORNING INSULATING SYSTEMS, LLC - DELMAR",
           "Feura bush",
           "NY"
          ],
          [
           "OWENS CORNING INSULATING SYSTEMS, LLC - DELMAR",
           "Feura bush",
           "NY"
          ],
          [
           "OWENS CORNING INSULATING SYSTEMS, LLC - DELMAR",
           "Feura bush",
           "NY"
          ],
          [
           "OWENS CORNING INSULATING SYSTEMS, LLC - DELMAR",
           "Feura bush",
           "NY"
          ],
          [
           "OWENS CORNING INSULATING SYSTEMS, LLC - DELMAR",
           "Feura bush",
           "NY"
          ],
          [
           "OWENS CORNING INSULATING SYSTEMS, LLC - DELMAR",
           "Feura bush",
           "NY"
          ],
          [
           "OWENS CORNING INSULATING SYSTEMS, LLC - DELMAR",
           "Feura bush",
           "NY"
          ],
          [
           "OWENS CORNING INSULATING SYSTEMS, LLC - DELMAR",
           "Feura bush",
           "NY"
          ],
          [
           "OWENS CORNING INSULATING SYSTEMS, LLC - DELMAR",
           "Feura bush",
           "NY"
          ],
          [
           "OWENS CORNING INSULATING SYSTEMS, LLC - DELMAR",
           "Feura bush",
           "NY"
          ],
          [
           "OWENS CORNING INSULATING SYSTEMS, LLC - DELMAR",
           "Feura bush",
           "NY"
          ],
          [
           "OWENS CORNING INSULATING SYSTEMS, LLC - DELMAR",
           "Feura bush",
           "NY"
          ],
          [
           "OWENS CORNING INSULATING SYSTEMS, LLC - DELMAR",
           "Feura bush",
           "NY"
          ],
          [
           "OWENS CORNING INSULATING SYSTEMS, LLC - DELMAR",
           "Feura bush",
           "NY"
          ],
          [
           "OWENS CORNING INSULATING SYSTEMS, LLC - DELMAR",
           "Feura bush",
           "NY"
          ],
          [
           "OWENS CORNING INSULATING SYSTEMS, LLC - DELMAR",
           "Feura bush",
           "NY"
          ],
          [
           "OWENS CORNING INSULATING SYSTEMS, LLC - DELMAR",
           "Feura bush",
           "NY"
          ],
          [
           "OWENS CORNING INSULATING SYSTEMS, LLC - DELMAR",
           "Feura bush",
           "NY"
          ],
          [
           "OWENS CORNING INSULATING SYSTEMS, LLC - DELMAR",
           "Feura bush",
           "NY"
          ],
          [
           "OWENS CORNING INSULATING SYSTEMS, LLC - DELMAR",
           "Feura bush",
           "NY"
          ],
          [
           "OWENS CORNING INSULATING SYSTEMS, LLC - DELMAR",
           "Feura bush",
           "NY"
          ],
          [
           "OWENS-BROCKWAY GLASS CONTAINER INC PLANT #35",
           "Auburn",
           "NY"
          ],
          [
           "OWENS-BROCKWAY GLASS CONTAINER INC PLANT #35",
           "Auburn",
           "NY"
          ],
          [
           "OWENS-BROCKWAY GLASS CONTAINER INC PLANT #35",
           "Auburn",
           "NY"
          ],
          [
           "OWENS-BROCKWAY GLASS CONTAINER INC PLANT #35",
           "Auburn",
           "NY"
          ],
          [
           "OWENS-BROCKWAY GLASS CONTAINER INC PLANT #35",
           "Auburn",
           "NY"
          ],
          [
           "OWENS-BROCKWAY GLASS CONTAINER INC PLANT #35",
           "Auburn",
           "NY"
          ],
          [
           "OWENS-BROCKWAY GLASS CONTAINER INC PLANT #35",
           "Auburn",
           "NY"
          ],
          [
           "OWENS-BROCKWAY GLASS CONTAINER INC PLANT #35",
           "Auburn",
           "NY"
          ],
          [
           "OWENS-BROCKWAY GLASS CONTAINER INC PLANT #35",
           "Auburn",
           "NY"
          ],
          [
           "OWENS-BROCKWAY GLASS CONTAINER INC PLANT #35",
           "Auburn",
           "NY"
          ],
          [
           "OWENS-BROCKWAY GLASS CONTAINER INC PLANT #35",
           "Auburn",
           "NY"
          ],
          [
           "OWENS-BROCKWAY GLASS CONTAINER INC PLANT #35",
           "Auburn",
           "NY"
          ],
          [
           "OWENS-BROCKWAY GLASS CONTAINER INC PLANT #35",
           "Auburn",
           "NY"
          ],
          [
           "OWENS-BROCKWAY GLASS CONTAINER INC PLANT #35",
           "Auburn",
           "NY"
          ],
          [
           "OWENS-BROCKWAY GLASS CONTAINER INC PLANT #35",
           "Auburn",
           "NY"
          ],
          [
           "OWENS-BROCKWAY GLASS CONTAINER INC PLANT #35",
           "Auburn",
           "NY"
          ],
          [
           "OWENS-BROCKWAY GLASS CONTAINER INC PLANT #35",
           "Auburn",
           "NY"
          ],
          [
           "OWENS-BROCKWAY GLASS CONTAINER INC PLANT #35",
           "Auburn",
           "NY"
          ],
          [
           "OWENS-BROCKWAY GLASS CONTAINER INC PLANT #35",
           "Auburn",
           "NY"
          ],
          [
           "OWENS-BROCKWAY GLASS CONTAINER INC PLANT #35",
           "Auburn",
           "NY"
          ],
          [
           "OWENS-BROCKWAY GLASS CONTAINER INC PLANT #35",
           "Auburn",
           "NY"
          ],
          [
           "OWENS-BROCKWAY GLASS CONTAINER INC PLANT #35",
           "Auburn",
           "NY"
          ],
          [
           "OWENS-BROCKWAY GLASS CONTAINER INC PLANT #35",
           "Auburn",
           "NY"
          ],
          [
           "OWENS-BROCKWAY GLASS CONTAINER INC PLANT #35",
           "Auburn",
           "NY"
          ],
          [
           "OWENS-BROCKWAY GLASS CONTAINER INC PLANT #35",
           "Auburn",
           "NY"
          ],
          [
           "OWENS-BROCKWAY GLASS CONTAINER INC PLANT #35",
           "Auburn",
           "NY"
          ],
          [
           "OWENS-BROCKWAY GLASS CONTAINER INC PLANT #35",
           "Auburn",
           "NY"
          ],
          [
           "OWENS-BROCKWAY GLASS CONTAINER INC PLANT #35",
           "Auburn",
           "NY"
          ],
          [
           "OWENS-BROCKWAY GLASS CONTAINER INC PLANT #35",
           "Auburn",
           "NY"
          ],
          [
           "OWENS-BROCKWAY GLASS CONTAINER INC PLANT #35",
           "Auburn",
           "NY"
          ],
          [
           "OWENS-BROCKWAY GLASS CONTAINER INC PLANT #35",
           "Auburn",
           "NY"
          ],
          [
           "OWENS-BROCKWAY GLASS CONTAINER INC PLANT #35",
           "Auburn",
           "NY"
          ],
          [
           "OWENS-BROCKWAY GLASS CONTAINER INC PLANT #35",
           "Auburn",
           "NY"
          ],
          [
           "OWENS-BROCKWAY GLASS CONTAINER INC PLANT #35",
           "Auburn",
           "NY"
          ],
          [
           "OWENS-BROCKWAY GLASS CONTAINER INC PLANT #35",
           "Auburn",
           "NY"
          ],
          [
           "OWENS-BROCKWAY GLASS CONTAINER INC PLANT #35",
           "Auburn",
           "NY"
          ],
          [
           "Potters Industries, Inc. - Potsdam, NY",
           "Potsdam",
           "NY"
          ],
          [
           "Potters Industries, Inc. - Potsdam, NY",
           "Potsdam",
           "NY"
          ],
          [
           "Potters Industries, Inc. - Potsdam, NY",
           "Potsdam",
           "NY"
          ],
          [
           "Potters Industries, Inc. - Potsdam, NY",
           "Potsdam",
           "NY"
          ],
          [
           "Potters Industries, Inc. - Potsdam, NY",
           "Potsdam",
           "NY"
          ]
         ],
         "hovertemplate": "Sector=Minerals<br>CO2 Emissions=%{x}<br>Nitrous Oxide Emissions=%{y}<br>Facility.Name=%{customdata[0]}<br>City=%{customdata[1]}<br>State=%{customdata[2]}<extra></extra>",
         "legendgroup": "Minerals",
         "marker": {
          "color": "#ab63fa",
          "symbol": "circle"
         },
         "mode": "markers",
         "name": "Minerals",
         "showlegend": true,
         "type": "scattergl",
         "x": [
          69513.2,
          67990.3,
          67542.4,
          62745.4,
          67460.1,
          69601.3,
          68782.6,
          72821.5,
          72135.1,
          72055.3,
          71753.4,
          70177.2,
          62407.4,
          40.4,
          61204.1,
          51.3,
          52965,
          19.5,
          47760.7,
          8.6,
          62335.7,
          20.8,
          59774.6,
          27,
          69820.4,
          25.8,
          67972.6,
          34.9,
          57966.9,
          39.1,
          56608.7,
          21.4,
          54186,
          24.3,
          57589.4,
          105954.5,
          108842.1,
          98917.2,
          110817.8,
          110483.2,
          89710,
          85005.6,
          105414.9,
          85006.4,
          63642.7,
          73185,
          10085.2,
          9719.7,
          12927,
          19464,
          90631.1,
          13941.5,
          0.4,
          0,
          90164.4,
          12147.2,
          0.4,
          0,
          90152.5,
          9451.3,
          52.8,
          0,
          89998.3,
          8332.7,
          75.8,
          0.3,
          94430.3,
          9972.9,
          1.4,
          0,
          93908.3,
          8917,
          1.1,
          0,
          76495.3,
          2587.2,
          44.3,
          0,
          76380.4,
          2357,
          37.5,
          0,
          70414.6,
          2781.2,
          81.8,
          0,
          71837.9,
          3584.6,
          34.9,
          0,
          61330.6,
          7219.5,
          23,
          0,
          93093.1,
          9554.8,
          76.6,
          0,
          6.4,
          179.6,
          340,
          100.6,
          501.4,
          55.3,
          323.9,
          26,
          367.5,
          118.1,
          359.3,
          149.1,
          363.5,
          51,
          447.5,
          32.5,
          5.7,
          29.7,
          32.7,
          588.6,
          32.7,
          566.8,
          5.8,
          378.9,
          4541.8,
          4582.3,
          5186.7,
          5184.6,
          4524.2,
          3798.2,
          883.9,
          822.8,
          55.5,
          137.4,
          70.8,
          307,
          52.6,
          1724,
          38.9,
          3248,
          66.9,
          43161.3,
          49139.1,
          72441.3,
          85312.6,
          80453.7,
          71853.1,
          69108.3,
          53563.3,
          56310.3,
          56972.1,
          42666,
          39100.6,
          17759.2,
          26011.6,
          17921,
          27229.4,
          16077.2,
          22663.7,
          16331.9,
          25099,
          16056,
          24489.5,
          23696.6,
          20504,
          18821.8,
          22908.9,
          18571,
          22368.1,
          18571,
          24259.4,
          18481,
          17994,
          19538,
          20945,
          11850.2,
          15430.4,
          25360.4,
          22047.8,
          7938.1,
          23822.7,
          25238.6,
          7805.9,
          23822.7,
          25238.6,
          7706.2,
          24258.7,
          18185.5,
          13906.4,
          24107.8,
          23689.3,
          7865.2,
          24614.3,
          23431,
          8438.1,
          25302.7,
          23115.2,
          7110.7,
          25019.5,
          23174.8,
          6885.1,
          23911.8,
          23522.1,
          6156.4,
          24016.6,
          22730.3,
          5656.4,
          24001,
          21193,
          3789,
          23151.9,
          22455.1,
          5399.3,
          23242.3,
          20667.7,
          21536.4,
          22165.3,
          23704.7
         ],
         "xaxis": "x",
         "y": [
          39.038,
          38.144,
          37.846,
          35.164,
          37.846,
          39.038,
          38.74,
          40.826,
          40.528,
          40.528,
          40.23,
          39.336,
          35.164,
          0,
          34.27,
          0,
          29.8,
          0,
          26.82,
          0,
          34.866,
          0,
          33.674,
          0,
          39.336,
          0,
          38.144,
          0,
          32.482,
          0,
          31.886,
          0,
          30.396,
          0,
          32.482,
          59.6,
          61.09,
          55.428,
          62.282,
          61.984,
          50.362,
          47.68,
          59.302,
          47.68,
          35.76,
          41.124,
          5.662,
          5.364,
          5.96,
          11.92,
          50.958,
          7.748,
          0,
          0,
          50.66,
          6.854,
          0.298,
          0,
          50.66,
          5.364,
          0.298,
          0,
          50.66,
          4.768,
          0.298,
          0,
          53.044,
          5.662,
          0.298,
          0,
          52.746,
          5.066,
          0.298,
          0,
          42.912,
          1.49,
          0,
          0,
          42.912,
          1.192,
          0,
          0,
          39.634,
          1.49,
          0.298,
          0,
          40.23,
          2.086,
          0,
          0,
          34.568,
          4.172,
          0,
          0,
          52.15,
          5.364,
          0.298,
          0,
          0,
          0.596,
          0.298,
          0,
          0.298,
          0,
          0.298,
          0,
          0.298,
          0.298,
          0.298,
          0.298,
          0.298,
          0,
          0.298,
          0,
          0,
          0,
          0,
          1.49,
          0,
          1.49,
          0,
          0.894,
          2.682,
          2.682,
          2.98,
          2.98,
          2.384,
          2.384,
          0.894,
          0.596,
          0,
          0,
          0.298,
          0.298,
          0,
          0.894,
          0,
          1.788,
          0.298,
          204.13,
          247.936,
          328.992,
          435.676,
          410.644,
          366.838,
          338.23,
          273.266,
          287.57,
          282.504,
          217.54,
          199.362,
          9.834,
          14.602,
          10.132,
          15.198,
          8.94,
          12.814,
          9.238,
          14.006,
          8.94,
          13.708,
          13.41,
          11.622,
          10.43,
          12.814,
          10.43,
          12.516,
          10.43,
          13.708,
          8.94,
          8.94,
          11.92,
          11.92,
          5.96,
          8.642,
          14.304,
          12.516,
          4.47,
          13.41,
          14.304,
          4.47,
          13.41,
          14.304,
          4.47,
          13.708,
          10.132,
          7.748,
          13.41,
          13.41,
          4.47,
          13.708,
          13.112,
          4.768,
          14.304,
          13.112,
          3.874,
          14.006,
          13.112,
          3.874,
          13.41,
          13.112,
          3.576,
          13.41,
          12.814,
          3.278,
          13.41,
          11.92,
          2.086,
          13.112,
          12.516,
          2.98,
          13.112,
          11.622,
          12.218,
          12.516,
          13.41
         ],
         "yaxis": "y"
        },
        {
         "customdata": [
          [
           "ANHEUSER BUSCH BALDWINSVILLE BREWERY",
           "Baldwinsville",
           "NY"
          ],
          [
           "ANHEUSER BUSCH BALDWINSVILLE BREWERY",
           "Baldwinsville",
           "NY"
          ],
          [
           "ANHEUSER BUSCH BALDWINSVILLE BREWERY",
           "Baldwinsville",
           "NY"
          ],
          [
           "ANHEUSER BUSCH BALDWINSVILLE BREWERY",
           "Baldwinsville",
           "NY"
          ],
          [
           "ANHEUSER BUSCH BALDWINSVILLE BREWERY",
           "Baldwinsville",
           "NY"
          ],
          [
           "ANHEUSER BUSCH BALDWINSVILLE BREWERY",
           "Baldwinsville",
           "NY"
          ],
          [
           "ANHEUSER BUSCH BALDWINSVILLE BREWERY",
           "Baldwinsville",
           "NY"
          ],
          [
           "ANHEUSER BUSCH BALDWINSVILLE BREWERY",
           "Baldwinsville",
           "NY"
          ],
          [
           "ANHEUSER BUSCH BALDWINSVILLE BREWERY",
           "Baldwinsville",
           "NY"
          ],
          [
           "ANHEUSER BUSCH BALDWINSVILLE BREWERY",
           "Baldwinsville",
           "NY"
          ],
          [
           "ANHEUSER BUSCH BALDWINSVILLE BREWERY",
           "Baldwinsville",
           "NY"
          ],
          [
           "ANHEUSER BUSCH BALDWINSVILLE BREWERY",
           "Baldwinsville",
           "NY"
          ],
          [
           "Attis Ethanol Fulton, LLC",
           "Fulton",
           "NY"
          ],
          [
           "Attis Ethanol Fulton, LLC",
           "Fulton",
           "NY"
          ],
          [
           "Attis Ethanol Fulton, LLC",
           "Fulton",
           "NY"
          ],
          [
           "Attis Ethanol Fulton, LLC",
           "Fulton",
           "NY"
          ],
          [
           "Attis Ethanol Fulton, LLC",
           "Fulton",
           "NY"
          ],
          [
           "Attis Ethanol Fulton, LLC",
           "Fulton",
           "NY"
          ],
          [
           "Attis Ethanol Fulton, LLC",
           "Fulton",
           "NY"
          ],
          [
           "Attis Ethanol Fulton, LLC",
           "Fulton",
           "NY"
          ],
          [
           "Attis Ethanol Fulton, LLC",
           "Fulton",
           "NY"
          ],
          [
           "Attis Ethanol Fulton, LLC",
           "Fulton",
           "NY"
          ],
          [
           "Attis Ethanol Fulton, LLC",
           "Fulton",
           "NY"
          ],
          [
           "Attis Ethanol Fulton, LLC",
           "Fulton",
           "NY"
          ],
          [
           "SUNOCO FULTON ETHANOL PLANT",
           "Fulton",
           "NY"
          ],
          [
           "SUNOCO FULTON ETHANOL PLANT",
           "Fulton",
           "NY"
          ],
          [
           "SUNOCO FULTON ETHANOL PLANT",
           "Fulton",
           "NY"
          ],
          [
           "SUNOCO FULTON ETHANOL PLANT",
           "Fulton",
           "NY"
          ],
          [
           "SUNOCO FULTON ETHANOL PLANT",
           "Fulton",
           "NY"
          ],
          [
           "SUNOCO FULTON ETHANOL PLANT",
           "Fulton",
           "NY"
          ],
          [
           "SUNOCO FULTON ETHANOL PLANT",
           "Fulton",
           "NY"
          ],
          [
           "SUNOCO FULTON ETHANOL PLANT",
           "Fulton",
           "NY"
          ],
          [
           "SUNOCO FULTON ETHANOL PLANT",
           "Fulton",
           "NY"
          ],
          [
           "SUNOCO FULTON ETHANOL PLANT",
           "Fulton",
           "NY"
          ],
          [
           "SUNOCO FULTON ETHANOL PLANT",
           "Fulton",
           "NY"
          ],
          [
           "SUNOCO FULTON ETHANOL PLANT",
           "Fulton",
           "NY"
          ],
          [
           "SUNOCO FULTON ETHANOL PLANT",
           "Fulton",
           "NY"
          ],
          [
           "SUNOCO FULTON ETHANOL PLANT",
           "Fulton",
           "NY"
          ],
          [
           "SUNOCO FULTON ETHANOL PLANT",
           "Fulton",
           "NY"
          ],
          [
           "SUNOCO FULTON ETHANOL PLANT",
           "Fulton",
           "NY"
          ],
          [
           "SUNOCO FULTON ETHANOL PLANT",
           "Fulton",
           "NY"
          ],
          [
           "SUNOCO FULTON ETHANOL PLANT",
           "Fulton",
           "NY"
          ],
          [
           "SUNOCO FULTON ETHANOL PLANT",
           "Fulton",
           "NY"
          ],
          [
           "SUNOCO FULTON ETHANOL PLANT",
           "Fulton",
           "NY"
          ],
          [
           "SUNOCO FULTON ETHANOL PLANT",
           "Fulton",
           "NY"
          ],
          [
           "SUNOCO FULTON ETHANOL PLANT",
           "Fulton",
           "NY"
          ],
          [
           "SUNOCO FULTON ETHANOL PLANT",
           "Fulton",
           "NY"
          ],
          [
           "SUNOCO FULTON ETHANOL PLANT",
           "Fulton",
           "NY"
          ],
          [
           "SUNOCO FULTON ETHANOL PLANT",
           "Fulton",
           "NY"
          ],
          [
           "SUNOCO FULTON ETHANOL PLANT",
           "Fulton",
           "NY"
          ],
          [
           "SUNOCO FULTON ETHANOL PLANT",
           "Fulton",
           "NY"
          ],
          [
           "SUNOCO FULTON ETHANOL PLANT",
           "Fulton",
           "NY"
          ],
          [
           "SUNOCO FULTON ETHANOL PLANT",
           "Fulton",
           "NY"
          ],
          [
           "SUNOCO FULTON ETHANOL PLANT",
           "Fulton",
           "NY"
          ],
          [
           "SUNOCO FULTON ETHANOL PLANT",
           "Fulton",
           "NY"
          ],
          [
           "SUNOCO FULTON ETHANOL PLANT",
           "Fulton",
           "NY"
          ],
          [
           "SUNOCO FULTON ETHANOL PLANT",
           "Fulton",
           "NY"
          ],
          [
           "SUNOCO FULTON ETHANOL PLANT",
           "Fulton",
           "NY"
          ],
          [
           "SUNOCO FULTON ETHANOL PLANT",
           "Fulton",
           "NY"
          ],
          [
           "SUNOCO FULTON ETHANOL PLANT",
           "Fulton",
           "NY"
          ],
          [
           "The Matt Brewery Company",
           "Utica",
           "NY"
          ],
          [
           "The Matt Brewery Company",
           "Utica",
           "NY"
          ],
          [
           "The Matt Brewery Company",
           "Utica",
           "NY"
          ],
          [
           "The Matt Brewery Company",
           "Utica",
           "NY"
          ],
          [
           "The Matt Brewery Company",
           "Utica",
           "NY"
          ],
          [
           "The Matt Brewery Company",
           "Utica",
           "NY"
          ],
          [
           "The Matt Brewery Company",
           "Utica",
           "NY"
          ],
          [
           "The Matt Brewery Company",
           "Utica",
           "NY"
          ],
          [
           "WESTERN NEW YORK ENERGY LLC",
           "Medina",
           "NY"
          ],
          [
           "WESTERN NEW YORK ENERGY LLC",
           "Medina",
           "NY"
          ]
         ],
         "hovertemplate": "Sector=Other, Suppliers of CO2<br>CO2 Emissions=%{x}<br>Nitrous Oxide Emissions=%{y}<br>Facility.Name=%{customdata[0]}<br>City=%{customdata[1]}<br>State=%{customdata[2]}<extra></extra>",
         "legendgroup": "Other, Suppliers of CO2",
         "marker": {
          "color": "#FFA15A",
          "symbol": "circle"
         },
         "mode": "markers",
         "name": "Other, Suppliers of CO2",
         "showlegend": true,
         "type": "scattergl",
         "x": [
          25603,
          27425,
          25330.4,
          29819.2,
          29046,
          30263.5,
          32409.3,
          32215.6,
          30909.4,
          30599.5,
          28751.8,
          26108.4,
          8119.8,
          8109.5,
          5633.7,
          2997.7,
          83.9,
          85,
          37743.3,
          71039.5,
          23875.3,
          22347.9,
          622.5,
          573.4,
          35459,
          35531.8,
          21483.1,
          22178,
          421.5,
          771,
          34877.2,
          35043.3,
          22731.6,
          21758.2,
          968.1,
          823.5,
          37142.4,
          35114.7,
          22966.3,
          22577.2,
          515.8,
          778.8,
          34761.3,
          34722.8,
          20932.4,
          22150.5,
          529.1,
          762.1,
          29938.4,
          30567.6,
          20577.1,
          17859.1,
          334.5,
          547.9,
          28353.4,
          28830.5,
          17631.7,
          21016.1,
          466.3,
          726,
          0,
          4011.6,
          0,
          4188.6,
          0,
          4749,
          3632.7,
          4123.3,
          81912.8,
          76203.7
         ],
         "xaxis": "x",
         "y": [
          30.098,
          34.866,
          29.8,
          36.356,
          34.866,
          35.76,
          39.634,
          42.614,
          41.72,
          50.66,
          50.66,
          32.78,
          4.47,
          4.47,
          3.278,
          1.788,
          0,
          0,
          21.158,
          39.932,
          13.41,
          12.516,
          0.298,
          0.298,
          19.966,
          19.966,
          11.92,
          12.516,
          0.298,
          0.298,
          19.668,
          19.668,
          12.814,
          12.218,
          0.596,
          0.596,
          20.86,
          19.668,
          12.814,
          12.814,
          0.298,
          0.298,
          19.668,
          19.37,
          11.622,
          12.516,
          0.298,
          0.298,
          16.688,
          17.284,
          11.622,
          10.132,
          0.298,
          0.298,
          14.9,
          14.9,
          8.94,
          11.92,
          0.298,
          0.298,
          5.066,
          2.384,
          1.49,
          2.384,
          0,
          2.682,
          2.086,
          2.384,
          45.892,
          42.912
         ],
         "yaxis": "y"
        },
        {
         "customdata": [
          [
           "ARCONIC INC MASSENA OPERATIONS",
           "Massena",
           "NY"
          ],
          [
           "ARCONIC INC MASSENA OPERATIONS",
           "Massena",
           "NY"
          ],
          [
           "ARCONIC INC MASSENA OPERATIONS",
           "Massena",
           "NY"
          ],
          [
           "ARCONIC INC MASSENA OPERATIONS",
           "Massena",
           "NY"
          ],
          [
           "ARCONIC INC MASSENA OPERATIONS",
           "Massena",
           "NY"
          ],
          [
           "ARCONIC INC MASSENA OPERATIONS",
           "Massena",
           "NY"
          ],
          [
           "ARCONIC INC MASSENA OPERATIONS",
           "Massena",
           "NY"
          ],
          [
           "ARCONIC INC MASSENA OPERATIONS",
           "Massena",
           "NY"
          ],
          [
           "ARCONIC INC MASSENA OPERATIONS",
           "Massena",
           "NY"
          ],
          [
           "ARCONIC INC MASSENA OPERATIONS",
           "Massena",
           "NY"
          ],
          [
           "ARCONIC INC MASSENA OPERATIONS",
           "Massena",
           "NY"
          ],
          [
           "ARCONIC INC MASSENA OPERATIONS",
           "Massena",
           "NY"
          ],
          [
           "ARCONIC INC MASSENA OPERATIONS",
           "Massena",
           "NY"
          ],
          [
           "ARCONIC INC MASSENA OPERATIONS",
           "Massena",
           "NY"
          ],
          [
           "ARCONIC INC MASSENA OPERATIONS",
           "Massena",
           "NY"
          ],
          [
           "ARCONIC INC MASSENA OPERATIONS",
           "Massena",
           "NY"
          ],
          [
           "ARCONIC INC MASSENA OPERATIONS",
           "Massena",
           "NY"
          ],
          [
           "ARCONIC INC MASSENA OPERATIONS",
           "Massena",
           "NY"
          ],
          [
           "ARCONIC INC MASSENA OPERATIONS",
           "Massena",
           "NY"
          ],
          [
           "ARCONIC INC MASSENA OPERATIONS",
           "Massena",
           "NY"
          ],
          [
           "ARCONIC INC MASSENA OPERATIONS",
           "Massena",
           "NY"
          ],
          [
           "ARCONIC INC MASSENA OPERATIONS",
           "Massena",
           "NY"
          ],
          [
           "Arconic Massena LLC",
           "Massena",
           "NY"
          ],
          [
           "Arconic Massena LLC",
           "Massena",
           "NY"
          ],
          [
           "Arconic Massena LLC",
           "Massena",
           "NY"
          ],
          [
           "Arconic Massena LLC",
           "Massena",
           "NY"
          ],
          [
           "Arconic Massena LLC",
           "Massena",
           "NY"
          ],
          [
           "Arconic Massena LLC",
           "Massena",
           "NY"
          ],
          [
           "REYNOLDS METALS ST LAWRENCE REDUCTION PL",
           "Massena",
           "NY"
          ],
          [
           "REYNOLDS METALS ST LAWRENCE REDUCTION PL",
           "Massena",
           "NY"
          ],
          [
           "REYNOLDS METALS ST LAWRENCE REDUCTION PL",
           "Massena",
           "NY"
          ],
          [
           "REYNOLDS METALS ST LAWRENCE REDUCTION PL",
           "Massena",
           "NY"
          ],
          [
           "REYNOLDS METALS ST LAWRENCE REDUCTION PL",
           "Massena",
           "NY"
          ],
          [
           "REYNOLDS METALS ST LAWRENCE REDUCTION PL",
           "Massena",
           "NY"
          ],
          [
           "REYNOLDS METALS ST LAWRENCE REDUCTION PL",
           "Massena",
           "NY"
          ],
          [
           "REYNOLDS METALS ST LAWRENCE REDUCTION PL",
           "Massena",
           "NY"
          ]
         ],
         "hovertemplate": "Sector=Metals, Waste<br>CO2 Emissions=%{x}<br>Nitrous Oxide Emissions=%{y}<br>Facility.Name=%{customdata[0]}<br>City=%{customdata[1]}<br>State=%{customdata[2]}<extra></extra>",
         "legendgroup": "Metals, Waste",
         "marker": {
          "color": "#19d3f3",
          "symbol": "circle"
         },
         "mode": "markers",
         "name": "Metals, Waste",
         "showlegend": true,
         "type": "scattergl",
         "x": [
          9543.5,
          74.2,
          11369,
          95.8,
          48509.6,
          1157.6,
          48.7,
          64252.1,
          3666.9,
          102.4,
          70151.2,
          3909.3,
          134.7,
          66409.9,
          6.2,
          127.6,
          67159.2,
          0,
          82.3,
          85232.3,
          600.3,
          102.3,
          739.7,
          0.3,
          6562.1,
          1.6,
          10408,
          1.9,
          2228.6,
          36.2,
          3990.1,
          189.8,
          3511.9,
          157.6,
          5203.1,
          773.9
         ],
         "xaxis": "x",
         "y": [
          5.364,
          0.298,
          6.258,
          0.298,
          27.118,
          2.682,
          0,
          36.058,
          8.642,
          0,
          39.336,
          9.238,
          0,
          37.25,
          0,
          0,
          35.76,
          0,
          0.298,
          47.68,
          1.49,
          0.298,
          0.298,
          0,
          3.576,
          0,
          5.96,
          0,
          1.192,
          0,
          2.384,
          0,
          1.788,
          0.596,
          0.298,
          2.384
         ],
         "yaxis": "y"
        },
        {
         "customdata": [
          [
           "Ecobat Resources New York, LLC",
           "Middletown",
           "NY"
          ],
          [
           "GLOBE METALLURGICAL INC",
           "Niagara falls",
           "NY"
          ],
          [
           "GLOBE METALLURGICAL INC",
           "Niagara falls",
           "NY"
          ],
          [
           "GLOBE METALLURGICAL INC",
           "Niagara falls",
           "NY"
          ],
          [
           "GLOBE METALLURGICAL INC",
           "Niagara falls",
           "NY"
          ],
          [
           "GLOBE METALLURGICAL INC",
           "Niagara falls",
           "NY"
          ],
          [
           "GLOBE METALLURGICAL INC",
           "Niagara falls",
           "NY"
          ],
          [
           "GLOBE METALLURGICAL INC",
           "Niagara falls",
           "NY"
          ],
          [
           "GLOBE METALLURGICAL INC",
           "Niagara falls",
           "NY"
          ],
          [
           "GLOBE METALLURGICAL INC",
           "Niagara falls",
           "NY"
          ],
          [
           "GLOBE METALLURGICAL INC",
           "Niagara falls",
           "NY"
          ],
          [
           "GLOBE METALLURGICAL INC",
           "Niagara falls",
           "NY"
          ],
          [
           "KEYMARK CORP PLANT",
           "Fonda",
           "NY"
          ],
          [
           "KEYMARK CORP PLANT",
           "Fonda",
           "NY"
          ],
          [
           "KEYMARK CORP PLANT",
           "Fonda",
           "NY"
          ],
          [
           "KEYMARK CORP PLANT",
           "Fonda",
           "NY"
          ],
          [
           "KEYMARK CORP PLANT",
           "Fonda",
           "NY"
          ],
          [
           "KEYMARK CORP PLANT",
           "Fonda",
           "NY"
          ],
          [
           "KEYMARK CORP PLANT",
           "Fonda",
           "NY"
          ],
          [
           "KEYMARK CORP PLANT",
           "Fonda",
           "NY"
          ],
          [
           "KEYMARK CORP PLANT",
           "Fonda",
           "NY"
          ],
          [
           "KEYMARK CORP PLANT",
           "Fonda",
           "NY"
          ],
          [
           "NOVELIS CORPORATION",
           "Oswego",
           "NY"
          ],
          [
           "NOVELIS CORPORATION",
           "Oswego",
           "NY"
          ],
          [
           "NOVELIS CORPORATION",
           "Oswego",
           "NY"
          ],
          [
           "NOVELIS CORPORATION",
           "Oswego",
           "NY"
          ],
          [
           "NOVELIS CORPORATION",
           "Oswego",
           "NY"
          ],
          [
           "NOVELIS CORPORATION",
           "Oswego",
           "NY"
          ],
          [
           "NOVELIS CORPORATION",
           "Oswego",
           "NY"
          ],
          [
           "NOVELIS CORPORATION",
           "Oswego",
           "NY"
          ],
          [
           "NOVELIS CORPORATION",
           "Oswego",
           "NY"
          ],
          [
           "NOVELIS CORPORATION",
           "Oswego",
           "NY"
          ],
          [
           "NOVELIS CORPORATION",
           "Oswego",
           "NY"
          ],
          [
           "NOVELIS CORPORATION",
           "Oswego",
           "NY"
          ],
          [
           "NUCOR STEEL AUBURN INC",
           "Auburn",
           "NY"
          ],
          [
           "NUCOR STEEL AUBURN INC",
           "Auburn",
           "NY"
          ],
          [
           "NUCOR STEEL AUBURN INC",
           "Auburn",
           "NY"
          ],
          [
           "NUCOR STEEL AUBURN INC",
           "Auburn",
           "NY"
          ],
          [
           "NUCOR STEEL AUBURN INC",
           "Auburn",
           "NY"
          ],
          [
           "NUCOR STEEL AUBURN INC",
           "Auburn",
           "NY"
          ],
          [
           "NUCOR STEEL AUBURN INC",
           "Auburn",
           "NY"
          ],
          [
           "NUCOR STEEL AUBURN INC",
           "Auburn",
           "NY"
          ],
          [
           "NUCOR STEEL AUBURN INC",
           "Auburn",
           "NY"
          ],
          [
           "NUCOR STEEL AUBURN INC",
           "Auburn",
           "NY"
          ],
          [
           "NUCOR STEEL AUBURN INC",
           "Auburn",
           "NY"
          ],
          [
           "NUCOR STEEL AUBURN INC",
           "Auburn",
           "NY"
          ],
          [
           "REPUBLIC STEEL, LACKAWANNA",
           "Blasdell",
           "NY"
          ],
          [
           "REPUBLIC STEEL, LACKAWANNA",
           "Blasdell",
           "NY"
          ],
          [
           "REPUBLIC STEEL, LACKAWANNA",
           "Blasdell",
           "NY"
          ],
          [
           "REPUBLIC STEEL, LACKAWANNA",
           "Blasdell",
           "NY"
          ],
          [
           "REPUBLIC STEEL, LACKAWANNA",
           "Blasdell",
           "NY"
          ],
          [
           "REPUBLIC STEEL, LACKAWANNA",
           "Blasdell",
           "NY"
          ],
          [
           "REPUBLIC STEEL, LACKAWANNA",
           "Blasdell",
           "NY"
          ],
          [
           "REPUBLIC STEEL, LACKAWANNA",
           "Blasdell",
           "NY"
          ],
          [
           "REPUBLIC STEEL, LACKAWANNA",
           "Blasdell",
           "NY"
          ],
          [
           "REPUBLIC STEEL, LACKAWANNA",
           "Blasdell",
           "NY"
          ],
          [
           "REPUBLIC STEEL, LACKAWANNA",
           "Blasdell",
           "NY"
          ],
          [
           "REPUBLIC STEEL, LACKAWANNA",
           "Blasdell",
           "NY"
          ],
          [
           "REVERE SMELTING & REFINING CORP",
           "Middletown",
           "NY"
          ],
          [
           "REVERE SMELTING & REFINING CORP",
           "Middletown",
           "NY"
          ],
          [
           "REVERE SMELTING & REFINING CORP",
           "Middletown",
           "NY"
          ],
          [
           "REVERE SMELTING & REFINING CORP",
           "Middletown",
           "NY"
          ],
          [
           "REVERE SMELTING & REFINING CORP",
           "Middletown",
           "NY"
          ],
          [
           "REVERE SMELTING & REFINING CORP",
           "Middletown",
           "NY"
          ],
          [
           "REVERE SMELTING & REFINING CORP",
           "Middletown",
           "NY"
          ],
          [
           "REVERE SMELTING & REFINING CORP",
           "Middletown",
           "NY"
          ],
          [
           "REVERE SMELTING & REFINING CORP",
           "Middletown",
           "NY"
          ],
          [
           "REVERE SMELTING & REFINING CORP",
           "Middletown",
           "NY"
          ],
          [
           "REVERE SMELTING & REFINING CORP",
           "Middletown",
           "NY"
          ],
          [
           "TONAWANDA COKE CORP",
           "Tonawanda",
           "NY"
          ],
          [
           "TONAWANDA COKE CORP",
           "Tonawanda",
           "NY"
          ],
          [
           "TONAWANDA COKE CORP",
           "Tonawanda",
           "NY"
          ],
          [
           "TONAWANDA COKE CORP",
           "Tonawanda",
           "NY"
          ],
          [
           "TONAWANDA COKE CORP",
           "Tonawanda",
           "NY"
          ],
          [
           "TONAWANDA COKE CORP",
           "Tonawanda",
           "NY"
          ],
          [
           "TONAWANDA COKE CORP",
           "Tonawanda",
           "NY"
          ],
          [
           "TONAWANDA COKE CORP",
           "Tonawanda",
           "NY"
          ],
          [
           "TONAWANDA COKE CORP",
           "Tonawanda",
           "NY"
          ],
          [
           "TONAWANDA COKE CORP",
           "Tonawanda",
           "NY"
          ],
          [
           "TONAWANDA COKE CORP",
           "Tonawanda",
           "NY"
          ],
          [
           "TONAWANDA COKE CORP",
           "Tonawanda",
           "NY"
          ],
          [
           "TONAWANDA COKE CORP",
           "Tonawanda",
           "NY"
          ],
          [
           "TONAWANDA COKE CORP",
           "Tonawanda",
           "NY"
          ]
         ],
         "hovertemplate": "Sector=Metals<br>CO2 Emissions=%{x}<br>Nitrous Oxide Emissions=%{y}<br>Facility.Name=%{customdata[0]}<br>City=%{customdata[1]}<br>State=%{customdata[2]}<extra></extra>",
         "legendgroup": "Metals",
         "marker": {
          "color": "#FF6692",
          "symbol": "circle"
         },
         "mode": "markers",
         "name": "Metals",
         "showlegend": true,
         "type": "scattergl",
         "x": [
          23956.8,
          74,
          114.9,
          0.2,
          717.7,
          4617.8,
          662.5,
          1326.5,
          1932.8,
          1716.1,
          2210.1,
          1732.8,
          22886.4,
          21751.3,
          23219.2,
          25533.7,
          24184.5,
          22590.2,
          22410,
          23232.8,
          23739.5,
          26171,
          193268,
          187654.3,
          174219,
          191154.5,
          194946.9,
          190936.8,
          147057.8,
          161453.3,
          169442,
          149485,
          145688.8,
          145000.3,
          31982.7,
          35945.6,
          34263.2,
          35789.6,
          38603.9,
          35409.9,
          35394.3,
          36347.2,
          36601.2,
          34453.3,
          26903.1,
          32694,
          59868.6,
          75563.9,
          58818.7,
          71062,
          78720.3,
          76156.1,
          61383.9,
          73117.4,
          77275.8,
          71628.4,
          80535.9,
          72281.2,
          25934.1,
          25341.3,
          21771.3,
          19427.4,
          20456.5,
          20136.4,
          18801.7,
          19615.6,
          17771,
          17665.5,
          15384.5,
          25570.8,
          31689.4,
          15616.8,
          26800.3,
          26954.7,
          22552.6,
          24892,
          22394.5,
          29916,
          24792,
          35703,
          25851,
          41145,
          25356
         ],
         "xaxis": "x",
         "y": [
          13.41,
          0,
          0,
          0,
          0.298,
          2.682,
          0.298,
          0.596,
          1.192,
          0.894,
          1.192,
          0.894,
          12.814,
          12.218,
          13.112,
          14.304,
          13.708,
          12.814,
          12.516,
          13.112,
          13.41,
          143.04,
          114.73,
          111.452,
          100.426,
          107.876,
          109.366,
          107.28,
          82.546,
          92.082,
          101.916,
          89.4,
          81.354,
          88.506,
          17.88,
          20.264,
          19.37,
          19.966,
          21.754,
          19.966,
          19.966,
          20.562,
          20.562,
          19.37,
          15.198,
          18.476,
          33.674,
          42.316,
          33.078,
          39.932,
          44.104,
          42.912,
          34.568,
          41.124,
          43.508,
          40.23,
          45.296,
          40.528,
          14.602,
          14.304,
          12.218,
          11.026,
          11.622,
          11.324,
          10.43,
          11.026,
          8.94,
          8.94,
          8.94,
          16.39,
          18.476,
          9.834,
          16.39,
          17.284,
          14.304,
          15.794,
          13.708,
          18.178,
          16.092,
          22.648,
          16.092,
          29.8,
          16.688
         ],
         "yaxis": "y"
        },
        {
         "customdata": [
          [
           "FINCH PAPER LLC",
           "Glens falls",
           "NY"
          ],
          [
           "FINCH PAPER LLC",
           "Glens falls",
           "NY"
          ],
          [
           "FINCH PAPER LLC",
           "Glens falls",
           "NY"
          ],
          [
           "FINCH PAPER LLC",
           "Glens falls",
           "NY"
          ],
          [
           "FINCH PAPER LLC",
           "Glens falls",
           "NY"
          ],
          [
           "FINCH PAPER LLC",
           "Glens falls",
           "NY"
          ],
          [
           "FINCH PAPER LLC",
           "Glens falls",
           "NY"
          ],
          [
           "FINCH PAPER LLC",
           "Glens falls",
           "NY"
          ],
          [
           "FINCH PAPER LLC",
           "Glens falls",
           "NY"
          ],
          [
           "FINCH PAPER LLC",
           "Glens falls",
           "NY"
          ],
          [
           "FINCH PAPER LLC",
           "Glens falls",
           "NY"
          ],
          [
           "PRATT PAPER (NY), INC.",
           "Staten island",
           "NY"
          ],
          [
           "PRATT PAPER (NY), INC.",
           "Staten island",
           "NY"
          ],
          [
           "PRATT PAPER (NY), INC.",
           "Staten island",
           "NY"
          ],
          [
           "PRATT PAPER (NY), INC.",
           "Staten island",
           "NY"
          ],
          [
           "PRATT PAPER (NY), INC.",
           "Staten island",
           "NY"
          ],
          [
           "PRATT PAPER (NY), INC.",
           "Staten island",
           "NY"
          ],
          [
           "PRATT PAPER (NY), INC.",
           "Staten island",
           "NY"
          ],
          [
           "PRATT PAPER (NY), INC.",
           "Staten island",
           "NY"
          ],
          [
           "PRATT PAPER (NY), INC.",
           "Staten island",
           "NY"
          ],
          [
           "PRATT PAPER (NY), INC.",
           "Staten island",
           "NY"
          ],
          [
           "PRATT PAPER (NY), INC.",
           "Staten island",
           "NY"
          ],
          [
           "PRATT PAPER (NY), INC.",
           "Staten island",
           "NY"
          ],
          [
           "SCA Tissue",
           "South glens falls",
           "NY"
          ],
          [
           "SCA Tissue",
           "South glens falls",
           "NY"
          ],
          [
           "SCA Tissue",
           "South glens falls",
           "NY"
          ],
          [
           "SCA Tissue",
           "South glens falls",
           "NY"
          ],
          [
           "SCA Tissue",
           "South glens falls",
           "NY"
          ],
          [
           "SCA Tissue",
           "South glens falls",
           "NY"
          ],
          [
           "SCA Tissue",
           "South glens falls",
           "NY"
          ],
          [
           "SCA Tissue",
           "South glens falls",
           "NY"
          ],
          [
           "SCA Tissue",
           "South glens falls",
           "NY"
          ],
          [
           "SCA Tissue",
           "South glens falls",
           "NY"
          ],
          [
           "SCA Tissue",
           "South glens falls",
           "NY"
          ],
          [
           "SCA Tissue",
           "South glens falls",
           "NY"
          ],
          [
           "U S GYPSUM - OAKFIELD PLANT",
           "Oakfield",
           "NY"
          ],
          [
           "U S GYPSUM - OAKFIELD PLANT",
           "Oakfield",
           "NY"
          ],
          [
           "U S GYPSUM - OAKFIELD PLANT",
           "Oakfield",
           "NY"
          ],
          [
           "U S GYPSUM - OAKFIELD PLANT",
           "Oakfield",
           "NY"
          ],
          [
           "U S GYPSUM - OAKFIELD PLANT",
           "Oakfield",
           "NY"
          ],
          [
           "U S GYPSUM - OAKFIELD PLANT",
           "Oakfield",
           "NY"
          ],
          [
           "U S GYPSUM - OAKFIELD PLANT",
           "Oakfield",
           "NY"
          ],
          [
           "U S GYPSUM - OAKFIELD PLANT",
           "Oakfield",
           "NY"
          ],
          [
           "U S GYPSUM - OAKFIELD PLANT",
           "Oakfield",
           "NY"
          ],
          [
           "U S GYPSUM - OAKFIELD PLANT",
           "Oakfield",
           "NY"
          ],
          [
           "U S GYPSUM - OAKFIELD PLANT",
           "Oakfield",
           "NY"
          ],
          [
           "U S GYPSUM - OAKFIELD PLANT",
           "Oakfield",
           "NY"
          ]
         ],
         "hovertemplate": "Sector=Pulp and Paper<br>CO2 Emissions=%{x}<br>Nitrous Oxide Emissions=%{y}<br>Facility.Name=%{customdata[0]}<br>City=%{customdata[1]}<br>State=%{customdata[2]}<extra></extra>",
         "legendgroup": "Pulp and Paper",
         "marker": {
          "color": "#B6E880",
          "symbol": "circle"
         },
         "mode": "markers",
         "name": "Pulp and Paper",
         "showlegend": true,
         "type": "scattergl",
         "x": [
          121149.5,
          120696.1,
          111774,
          102502.6,
          110167.6,
          145980.8,
          79037.3,
          98388.5,
          84039.3,
          86308.1,
          103239.9,
          91138.3,
          93548.7,
          91757.8,
          94689.4,
          97372.5,
          102811.9,
          112214,
          102358.2,
          101965.7,
          97892.6,
          99476.1,
          105884,
          28452,
          23428.8,
          26533.2,
          31153.1,
          30728.5,
          29744.2,
          29583,
          29309.5,
          148,
          34291.5,
          37953.2,
          39414,
          35078.5,
          31572.5,
          32443,
          32035.5,
          31709.7,
          31333.9,
          28374.6,
          25712.2,
          27428,
          28728.6,
          30506.2,
          29711.6
         ],
         "xaxis": "x",
         "y": [
          741.722,
          770.628,
          1424.44,
          1445.002,
          1452.452,
          1154.154,
          2483.234,
          2357.776,
          2384.298,
          2396.218,
          4226.534,
          51.256,
          52.448,
          51.554,
          53.044,
          54.832,
          57.812,
          62.878,
          57.514,
          57.216,
          53.64,
          56.024,
          59.6,
          16.092,
          13.112,
          14.9,
          17.582,
          17.284,
          16.688,
          16.688,
          16.39,
          0,
          19.37,
          21.456,
          22.052,
          20.86,
          17.88,
          18.178,
          17.88,
          17.88,
          17.582,
          15.794,
          14.304,
          15.496,
          14.9,
          17.88,
          17.88
         ],
         "yaxis": "y"
        },
        {
         "customdata": [
          [
           "International Paper Ticonderoga Mill",
           "Ticonderoga",
           "NY"
          ],
          [
           "International Paper Ticonderoga Mill",
           "Ticonderoga",
           "NY"
          ],
          [
           "International Paper Ticonderoga Mill",
           "Ticonderoga",
           "NY"
          ],
          [
           "International Paper Ticonderoga Mill",
           "Ticonderoga",
           "NY"
          ],
          [
           "International Paper Ticonderoga Mill",
           "Ticonderoga",
           "NY"
          ],
          [
           "International Paper Ticonderoga Mill",
           "Ticonderoga",
           "NY"
          ],
          [
           "International Paper Ticonderoga Mill",
           "Ticonderoga",
           "NY"
          ],
          [
           "International Paper Ticonderoga Mill",
           "Ticonderoga",
           "NY"
          ],
          [
           "International Paper Ticonderoga Mill",
           "Ticonderoga",
           "NY"
          ],
          [
           "International Paper Ticonderoga Mill",
           "Ticonderoga",
           "NY"
          ],
          [
           "International Paper Ticonderoga Mill",
           "Ticonderoga",
           "NY"
          ],
          [
           "International Paper Ticonderoga Mill",
           "Ticonderoga",
           "NY"
          ],
          [
           "International Paper Ticonderoga Mill",
           "Ticonderoga",
           "NY"
          ],
          [
           "International Paper Ticonderoga Mill",
           "Ticonderoga",
           "NY"
          ],
          [
           "International Paper Ticonderoga Mill",
           "Ticonderoga",
           "NY"
          ],
          [
           "International Paper Ticonderoga Mill",
           "Ticonderoga",
           "NY"
          ],
          [
           "International Paper Ticonderoga Mill",
           "Ticonderoga",
           "NY"
          ],
          [
           "International Paper Ticonderoga Mill",
           "Ticonderoga",
           "NY"
          ],
          [
           "International Paper Ticonderoga Mill",
           "Ticonderoga",
           "NY"
          ],
          [
           "International Paper Ticonderoga Mill",
           "Ticonderoga",
           "NY"
          ],
          [
           "Sylvamo Ticonderoga Mill",
           "Ticonderoga",
           "NY"
          ],
          [
           "Sylvamo Ticonderoga Mill",
           "Ticonderoga",
           "NY"
          ],
          [
           "Sylvamo Ticonderoga Mill",
           "Ticonderoga",
           "NY"
          ],
          [
           "Sylvamo Ticonderoga Mill",
           "Ticonderoga",
           "NY"
          ]
         ],
         "hovertemplate": "Sector=Pulp and Paper, Waste<br>CO2 Emissions=%{x}<br>Nitrous Oxide Emissions=%{y}<br>Facility.Name=%{customdata[0]}<br>City=%{customdata[1]}<br>State=%{customdata[2]}<extra></extra>",
         "legendgroup": "Pulp and Paper, Waste",
         "marker": {
          "color": "#FF97FF",
          "symbol": "circle"
         },
         "mode": "markers",
         "name": "Pulp and Paper, Waste",
         "showlegend": true,
         "type": "scattergl",
         "x": [
          121.2,
          118590.8,
          125,
          144419.5,
          188.9,
          175764.2,
          113.8,
          183776.5,
          124.3,
          176282.6,
          141.9,
          190924.1,
          117.7,
          216224.8,
          83.6,
          189930.8,
          62.1,
          181526.7,
          118.3,
          205132.8,
          100.8,
          152414.3,
          97.6,
          136809
         ],
         "xaxis": "x",
         "y": [
          0.298,
          1108.56,
          0.298,
          1242.66,
          0.596,
          1137.466,
          0.298,
          1014.988,
          0.298,
          994.724,
          0.596,
          896.682,
          0.298,
          1032.272,
          0,
          1245.64,
          0,
          1236.7,
          0.298,
          1326.1,
          0.298,
          938.402,
          0.298,
          1054.622
         ],
         "yaxis": "y"
        },
        {
         "customdata": [
          [
           "IROQUOIS GAS TRANSMISSION SYSTEM, L.P. - WRIGHT COMPRESSOR STATION",
           "Delanson",
           "NY"
          ],
          [
           "IROQUOIS GAS TRANSMISSION SYSTEM, L.P. - WRIGHT COMPRESSOR STATION",
           "Delanson",
           "NY"
          ],
          [
           "IROQUOIS GAS TRANSMISSION SYSTEM, L.P. - WRIGHT COMPRESSOR STATION",
           "Delanson",
           "NY"
          ],
          [
           "IROQUOIS GAS TRANSMISSION SYSTEM, L.P. - WRIGHT COMPRESSOR STATION",
           "Delanson",
           "NY"
          ],
          [
           "IROQUOIS GAS TRANSMISSION SYSTEM, L.P. - WRIGHT COMPRESSOR STATION",
           "Delanson",
           "NY"
          ],
          [
           "IROQUOIS GAS TRANSMISSION SYSTEM, L.P. - WRIGHT COMPRESSOR STATION",
           "Delanson",
           "NY"
          ],
          [
           "Southeast",
           "Brewster",
           "NY"
          ],
          [
           "Southeast",
           "Brewster",
           "NY"
          ],
          [
           "Southeast",
           "Brewster",
           "NY"
          ],
          [
           "Southeast",
           "Brewster",
           "NY"
          ],
          [
           "Southeast",
           "Brewster",
           "NY"
          ],
          [
           "Southeast",
           "Brewster",
           "NY"
          ],
          [
           "Southeast",
           "Brewster",
           "NY"
          ],
          [
           "Southeast",
           "Brewster",
           "NY"
          ],
          [
           "Southeast",
           "Brewster",
           "NY"
          ],
          [
           "Southeast",
           "Brewster",
           "NY"
          ],
          [
           "Southeast",
           "Brewster",
           "NY"
          ],
          [
           "Southeast",
           "Brewster",
           "NY"
          ],
          [
           "Southeast",
           "Brewster",
           "NY"
          ],
          [
           "Southeast",
           "Brewster",
           "NY"
          ],
          [
           "Southeast",
           "Brewster",
           "NY"
          ],
          [
           "Southeast",
           "Brewster",
           "NY"
          ],
          [
           "Southeast",
           "Brewster",
           "NY"
          ],
          [
           "Southeast",
           "Brewster",
           "NY"
          ],
          [
           "Southeast",
           "Brewster",
           "NY"
          ],
          [
           "Southeast",
           "Brewster",
           "NY"
          ],
          [
           "Southeast",
           "Brewster",
           "NY"
          ],
          [
           "Southeast",
           "Brewster",
           "NY"
          ],
          [
           "Southeast",
           "Brewster",
           "NY"
          ],
          [
           "Southeast",
           "Brewster",
           "NY"
          ],
          [
           "Southeast",
           "Brewster",
           "NY"
          ],
          [
           "Southeast",
           "Brewster",
           "NY"
          ],
          [
           "Southeast",
           "Brewster",
           "NY"
          ],
          [
           "Southeast",
           "Brewster",
           "NY"
          ],
          [
           "Southeast",
           "Brewster",
           "NY"
          ],
          [
           "Southeast",
           "Brewster",
           "NY"
          ],
          [
           "Southeast",
           "Brewster",
           "NY"
          ],
          [
           "Southeast",
           "Brewster",
           "NY"
          ],
          [
           "Southeast",
           "Brewster",
           "NY"
          ],
          [
           "Southeast",
           "Brewster",
           "NY"
          ],
          [
           "Southeast",
           "Brewster",
           "NY"
          ],
          [
           "Southeast",
           "Brewster",
           "NY"
          ],
          [
           "Southeast",
           "Brewster",
           "NY"
          ],
          [
           "Southeast",
           "Brewster",
           "NY"
          ],
          [
           "Southeast",
           "Brewster",
           "NY"
          ],
          [
           "Southeast",
           "Brewster",
           "NY"
          ],
          [
           "Southeast",
           "Brewster",
           "NY"
          ],
          [
           "Southeast",
           "Brewster",
           "NY"
          ],
          [
           "Southeast",
           "Brewster",
           "NY"
          ],
          [
           "Southeast",
           "Brewster",
           "NY"
          ],
          [
           "Southeast",
           "Brewster",
           "NY"
          ],
          [
           "Southeast",
           "Brewster",
           "NY"
          ],
          [
           "Southeast",
           "Brewster",
           "NY"
          ],
          [
           "Southeast",
           "Brewster",
           "NY"
          ],
          [
           "Southeast",
           "Brewster",
           "NY"
          ],
          [
           "Southeast",
           "Brewster",
           "NY"
          ],
          [
           "Southeast",
           "Brewster",
           "NY"
          ],
          [
           "Southeast",
           "Brewster",
           "NY"
          ],
          [
           "Southeast",
           "Brewster",
           "NY"
          ],
          [
           "Southeast",
           "Brewster",
           "NY"
          ],
          [
           "Southeast",
           "Brewster",
           "NY"
          ],
          [
           "Southeast",
           "Brewster",
           "NY"
          ],
          [
           "Southeast",
           "Brewster",
           "NY"
          ],
          [
           "Southeast",
           "Brewster",
           "NY"
          ],
          [
           "Southeast",
           "Brewster",
           "NY"
          ],
          [
           "Southeast",
           "Brewster",
           "NY"
          ],
          [
           "Southeast",
           "Brewster",
           "NY"
          ],
          [
           "Southeast",
           "Brewster",
           "NY"
          ],
          [
           "Southeast",
           "Brewster",
           "NY"
          ],
          [
           "Southeast",
           "Brewster",
           "NY"
          ],
          [
           "Southeast",
           "Brewster",
           "NY"
          ],
          [
           "Southeast",
           "Brewster",
           "NY"
          ],
          [
           "Southeast",
           "Brewster",
           "NY"
          ],
          [
           "Southeast",
           "Brewster",
           "NY"
          ],
          [
           "Southeast",
           "Brewster",
           "NY"
          ],
          [
           "Southeast",
           "Brewster",
           "NY"
          ],
          [
           "Southeast",
           "Brewster",
           "NY"
          ],
          [
           "Southeast",
           "Brewster",
           "NY"
          ],
          [
           "Southeast",
           "Brewster",
           "NY"
          ],
          [
           "Southeast",
           "Brewster",
           "NY"
          ],
          [
           "Southeast",
           "Brewster",
           "NY"
          ],
          [
           "Southeast",
           "Brewster",
           "NY"
          ],
          [
           "Southeast",
           "Brewster",
           "NY"
          ],
          [
           "Southeast",
           "Brewster",
           "NY"
          ],
          [
           "Southeast",
           "Brewster",
           "NY"
          ],
          [
           "Southeast",
           "Brewster",
           "NY"
          ],
          [
           "Southeast",
           "Brewster",
           "NY"
          ],
          [
           "Southeast",
           "Brewster",
           "NY"
          ],
          [
           "Southeast",
           "Brewster",
           "NY"
          ],
          [
           "Southeast",
           "Brewster",
           "NY"
          ],
          [
           "Southeast",
           "Brewster",
           "NY"
          ],
          [
           "Southeast",
           "Brewster",
           "NY"
          ],
          [
           "Southeast",
           "Brewster",
           "NY"
          ],
          [
           "Southeast",
           "Brewster",
           "NY"
          ],
          [
           "Southeast",
           "Brewster",
           "NY"
          ],
          [
           "Southeast",
           "Brewster",
           "NY"
          ],
          [
           "Southeast",
           "Brewster",
           "NY"
          ],
          [
           "Southeast",
           "Brewster",
           "NY"
          ],
          [
           "Southeast",
           "Brewster",
           "NY"
          ],
          [
           "Southeast",
           "Brewster",
           "NY"
          ],
          [
           "Southeast",
           "Brewster",
           "NY"
          ],
          [
           "Southeast",
           "Brewster",
           "NY"
          ],
          [
           "Southeast",
           "Brewster",
           "NY"
          ],
          [
           "Southeast",
           "Brewster",
           "NY"
          ],
          [
           "Southeast",
           "Brewster",
           "NY"
          ],
          [
           "Southeast",
           "Brewster",
           "NY"
          ],
          [
           "Stony Point",
           "Stony point",
           "NY"
          ],
          [
           "Stony Point",
           "Stony point",
           "NY"
          ],
          [
           "Stony Point",
           "Stony point",
           "NY"
          ],
          [
           "Stony Point",
           "Stony point",
           "NY"
          ],
          [
           "Stony Point",
           "Stony point",
           "NY"
          ],
          [
           "Stony Point",
           "Stony point",
           "NY"
          ],
          [
           "Stony Point",
           "Stony point",
           "NY"
          ],
          [
           "Stony Point",
           "Stony point",
           "NY"
          ],
          [
           "Stony Point",
           "Stony point",
           "NY"
          ],
          [
           "Stony Point",
           "Stony point",
           "NY"
          ],
          [
           "Stony Point",
           "Stony point",
           "NY"
          ],
          [
           "Stony Point",
           "Stony point",
           "NY"
          ],
          [
           "Stony Point",
           "Stony point",
           "NY"
          ],
          [
           "Stony Point",
           "Stony point",
           "NY"
          ],
          [
           "Stony Point",
           "Stony point",
           "NY"
          ],
          [
           "Stony Point",
           "Stony point",
           "NY"
          ],
          [
           "Stony Point",
           "Stony point",
           "NY"
          ],
          [
           "Stony Point",
           "Stony point",
           "NY"
          ],
          [
           "Stony Point",
           "Stony point",
           "NY"
          ],
          [
           "Stony Point",
           "Stony point",
           "NY"
          ],
          [
           "Stony Point",
           "Stony point",
           "NY"
          ],
          [
           "Stony Point",
           "Stony point",
           "NY"
          ],
          [
           "Stony Point",
           "Stony point",
           "NY"
          ],
          [
           "Stony Point",
           "Stony point",
           "NY"
          ],
          [
           "Stony Point",
           "Stony point",
           "NY"
          ],
          [
           "Stony Point",
           "Stony point",
           "NY"
          ],
          [
           "Stony Point",
           "Stony point",
           "NY"
          ],
          [
           "Stony Point",
           "Stony point",
           "NY"
          ],
          [
           "Stony Point",
           "Stony point",
           "NY"
          ],
          [
           "Stony Point",
           "Stony point",
           "NY"
          ],
          [
           "Stony Point",
           "Stony point",
           "NY"
          ],
          [
           "Stony Point",
           "Stony point",
           "NY"
          ],
          [
           "Stony Point",
           "Stony point",
           "NY"
          ],
          [
           "Stony Point",
           "Stony point",
           "NY"
          ],
          [
           "Stony Point",
           "Stony point",
           "NY"
          ],
          [
           "Stony Point",
           "Stony point",
           "NY"
          ],
          [
           "Stony Point",
           "Stony point",
           "NY"
          ],
          [
           "Stony Point",
           "Stony point",
           "NY"
          ],
          [
           "Stony Point",
           "Stony point",
           "NY"
          ],
          [
           "Stony Point",
           "Stony point",
           "NY"
          ],
          [
           "Stony Point",
           "Stony point",
           "NY"
          ],
          [
           "Stony Point",
           "Stony point",
           "NY"
          ],
          [
           "Stony Point",
           "Stony point",
           "NY"
          ],
          [
           "Stony Point",
           "Stony point",
           "NY"
          ],
          [
           "Stony Point",
           "Stony point",
           "NY"
          ],
          [
           "Stony Point",
           "Stony point",
           "NY"
          ],
          [
           "Stony Point",
           "Stony point",
           "NY"
          ],
          [
           "Stony Point",
           "Stony point",
           "NY"
          ],
          [
           "Stony Point",
           "Stony point",
           "NY"
          ],
          [
           "Stony Point",
           "Stony point",
           "NY"
          ],
          [
           "Stony Point",
           "Stony point",
           "NY"
          ],
          [
           "Stony Point",
           "Stony point",
           "NY"
          ],
          [
           "Stony Point",
           "Stony point",
           "NY"
          ],
          [
           "Stony Point",
           "Stony point",
           "NY"
          ],
          [
           "Stony Point",
           "Stony point",
           "NY"
          ],
          [
           "Stony Point",
           "Stony point",
           "NY"
          ],
          [
           "Stony Point",
           "Stony point",
           "NY"
          ],
          [
           "Stony Point",
           "Stony point",
           "NY"
          ],
          [
           "Stony Point",
           "Stony point",
           "NY"
          ],
          [
           "Stony Point",
           "Stony point",
           "NY"
          ],
          [
           "Stony Point",
           "Stony point",
           "NY"
          ],
          [
           "Stony Point",
           "Stony point",
           "NY"
          ],
          [
           "Stony Point",
           "Stony point",
           "NY"
          ],
          [
           "Stony Point",
           "Stony point",
           "NY"
          ],
          [
           "Stony Point",
           "Stony point",
           "NY"
          ],
          [
           "Stony Point",
           "Stony point",
           "NY"
          ],
          [
           "Stony Point",
           "Stony point",
           "NY"
          ],
          [
           "Stony Point",
           "Stony point",
           "NY"
          ],
          [
           "Stony Point",
           "Stony point",
           "NY"
          ],
          [
           "Stony Point",
           "Stony point",
           "NY"
          ],
          [
           "Stony Point",
           "Stony point",
           "NY"
          ],
          [
           "Stony Point",
           "Stony point",
           "NY"
          ],
          [
           "Stony Point",
           "Stony point",
           "NY"
          ],
          [
           "Stony Point",
           "Stony point",
           "NY"
          ],
          [
           "Stony Point",
           "Stony point",
           "NY"
          ],
          [
           "Stony Point",
           "Stony point",
           "NY"
          ],
          [
           "Stony Point",
           "Stony point",
           "NY"
          ],
          [
           "Stony Point",
           "Stony point",
           "NY"
          ],
          [
           "Stony Point",
           "Stony point",
           "NY"
          ],
          [
           "Stony Point",
           "Stony point",
           "NY"
          ],
          [
           "Stony Point",
           "Stony point",
           "NY"
          ],
          [
           "Stony Point",
           "Stony point",
           "NY"
          ],
          [
           "Stony Point",
           "Stony point",
           "NY"
          ],
          [
           "Stony Point",
           "Stony point",
           "NY"
          ],
          [
           "Stony Point",
           "Stony point",
           "NY"
          ],
          [
           "Stony Point",
           "Stony point",
           "NY"
          ],
          [
           "Stony Point",
           "Stony point",
           "NY"
          ],
          [
           "Stony Point",
           "Stony point",
           "NY"
          ],
          [
           "Stony Point",
           "Stony point",
           "NY"
          ],
          [
           "Stony Point",
           "Stony point",
           "NY"
          ],
          [
           "Stony Point",
           "Stony point",
           "NY"
          ],
          [
           "Stony Point",
           "Stony point",
           "NY"
          ],
          [
           "Stony Point",
           "Stony point",
           "NY"
          ],
          [
           "Stony Point",
           "Stony point",
           "NY"
          ],
          [
           "Stony Point",
           "Stony point",
           "NY"
          ],
          [
           "Stony Point",
           "Stony point",
           "NY"
          ],
          [
           "Stony Point",
           "Stony point",
           "NY"
          ],
          [
           "Stony Point",
           "Stony point",
           "NY"
          ],
          [
           "Stony Point",
           "Stony point",
           "NY"
          ],
          [
           "Stony Point",
           "Stony point",
           "NY"
          ],
          [
           "Stony Point",
           "Stony point",
           "NY"
          ],
          [
           "Stony Point",
           "Stony point",
           "NY"
          ],
          [
           "Stony Point",
           "Stony point",
           "NY"
          ],
          [
           "Stony Point",
           "Stony point",
           "NY"
          ],
          [
           "Stony Point",
           "Stony point",
           "NY"
          ],
          [
           "Stony Point",
           "Stony point",
           "NY"
          ],
          [
           "Stony Point",
           "Stony point",
           "NY"
          ],
          [
           "Stony Point",
           "Stony point",
           "NY"
          ],
          [
           "Stony Point",
           "Stony point",
           "NY"
          ],
          [
           "Stony Point",
           "Stony point",
           "NY"
          ],
          [
           "Stony Point",
           "Stony point",
           "NY"
          ],
          [
           "Stony Point",
           "Stony point",
           "NY"
          ],
          [
           "Stony Point",
           "Stony point",
           "NY"
          ],
          [
           "Stony Point",
           "Stony point",
           "NY"
          ],
          [
           "Stony Point",
           "Stony point",
           "NY"
          ],
          [
           "Stony Point",
           "Stony point",
           "NY"
          ],
          [
           "Stony Point",
           "Stony point",
           "NY"
          ],
          [
           "Stony Point",
           "Stony point",
           "NY"
          ],
          [
           "Stony Point",
           "Stony point",
           "NY"
          ],
          [
           "Stony Point",
           "Stony point",
           "NY"
          ],
          [
           "Stony Point",
           "Stony point",
           "NY"
          ],
          [
           "Stony Point",
           "Stony point",
           "NY"
          ],
          [
           "Stony Point",
           "Stony point",
           "NY"
          ],
          [
           "Stony Point",
           "Stony point",
           "NY"
          ],
          [
           "Stony Point",
           "Stony point",
           "NY"
          ],
          [
           "Stony Point",
           "Stony point",
           "NY"
          ],
          [
           "Stony Point",
           "Stony point",
           "NY"
          ],
          [
           "Stony Point",
           "Stony point",
           "NY"
          ],
          [
           "Stony Point",
           "Stony point",
           "NY"
          ],
          [
           "Stony Point",
           "Stony point",
           "NY"
          ],
          [
           "Stony Point",
           "Stony point",
           "NY"
          ],
          [
           "Stony Point",
           "Stony point",
           "NY"
          ],
          [
           "Stony Point",
           "Stony point",
           "NY"
          ],
          [
           "Stony Point",
           "Stony point",
           "NY"
          ],
          [
           "Stony Point",
           "Stony point",
           "NY"
          ],
          [
           "Stony Point",
           "Stony point",
           "NY"
          ],
          [
           "Stony Point",
           "Stony point",
           "NY"
          ],
          [
           "Stony Point",
           "Stony point",
           "NY"
          ],
          [
           "Stony Point",
           "Stony point",
           "NY"
          ],
          [
           "Stony Point",
           "Stony point",
           "NY"
          ],
          [
           "Stony Point",
           "Stony point",
           "NY"
          ],
          [
           "Stony Point",
           "Stony point",
           "NY"
          ],
          [
           "Stony Point",
           "Stony point",
           "NY"
          ],
          [
           "Stony Point",
           "Stony point",
           "NY"
          ],
          [
           "Stony Point",
           "Stony point",
           "NY"
          ],
          [
           "Stony Point",
           "Stony point",
           "NY"
          ],
          [
           "Stony Point",
           "Stony point",
           "NY"
          ],
          [
           "Stony Point",
           "Stony point",
           "NY"
          ],
          [
           "TGP Station 229 Hamburg",
           "Eden",
           "NY"
          ],
          [
           "TGP Station 229 Hamburg",
           "Eden",
           "NY"
          ],
          [
           "TGP Station 229 Hamburg",
           "Eden",
           "NY"
          ],
          [
           "TGP Station 229 Hamburg",
           "Eden",
           "NY"
          ],
          [
           "TGP Station 229 Hamburg",
           "Eden",
           "NY"
          ],
          [
           "TGP Station 229 Hamburg",
           "Eden",
           "NY"
          ],
          [
           "TGP Station 229 Hamburg",
           "Eden",
           "NY"
          ],
          [
           "TGP Station 229 Hamburg",
           "Eden",
           "NY"
          ],
          [
           "TGP Station 229 Hamburg",
           "Eden",
           "NY"
          ],
          [
           "TGP Station 229 Hamburg",
           "Eden",
           "NY"
          ],
          [
           "TGP Station 229 Hamburg",
           "Eden",
           "NY"
          ],
          [
           "TGP Station 229 Hamburg",
           "Eden",
           "NY"
          ],
          [
           "TGP Station 241 Lafayette",
           "Lafayette",
           "NY"
          ],
          [
           "TGP Station 241 Lafayette",
           "Lafayette",
           "NY"
          ],
          [
           "TGP Station 241 Lafayette",
           "Lafayette",
           "NY"
          ],
          [
           "TGP Station 241 Lafayette",
           "Lafayette",
           "NY"
          ],
          [
           "TGP Station 241 Lafayette",
           "Lafayette",
           "NY"
          ],
          [
           "TGP Station 241 Lafayette",
           "Lafayette",
           "NY"
          ],
          [
           "TGP Station 241 Lafayette",
           "Lafayette",
           "NY"
          ],
          [
           "TGP Station 241 Lafayette",
           "Lafayette",
           "NY"
          ],
          [
           "TGP Station 241 Lafayette",
           "Lafayette",
           "NY"
          ],
          [
           "TGP Station 241 Lafayette",
           "Lafayette",
           "NY"
          ],
          [
           "TGP Station 241 Lafayette",
           "Lafayette",
           "NY"
          ],
          [
           "TGP Station 241 Lafayette",
           "Lafayette",
           "NY"
          ],
          [
           "TGP Station 245 West Winfield",
           "West winfield",
           "NY"
          ],
          [
           "TGP Station 245 West Winfield",
           "West winfield",
           "NY"
          ],
          [
           "TGP Station 245 West Winfield",
           "West winfield",
           "NY"
          ],
          [
           "TGP Station 245 West Winfield",
           "West winfield",
           "NY"
          ],
          [
           "TGP Station 245 West Winfield",
           "West winfield",
           "NY"
          ],
          [
           "TGP Station 245 West Winfield",
           "West winfield",
           "NY"
          ],
          [
           "TGP Station 245 West Winfield",
           "West winfield",
           "NY"
          ],
          [
           "TGP Station 245 West Winfield",
           "West winfield",
           "NY"
          ],
          [
           "TGP Station 245 West Winfield",
           "West winfield",
           "NY"
          ],
          [
           "TGP Station 245 West Winfield",
           "West winfield",
           "NY"
          ],
          [
           "TGP Station 245 West Winfield",
           "West winfield",
           "NY"
          ],
          [
           "TGP Station 245 West Winfield",
           "West winfield",
           "NY"
          ],
          [
           "TGP Station 249 Carlisle",
           "Carlisle",
           "NY"
          ],
          [
           "TGP Station 249 Carlisle",
           "Carlisle",
           "NY"
          ],
          [
           "TGP Station 249 Carlisle",
           "Carlisle",
           "NY"
          ],
          [
           "TGP Station 249 Carlisle",
           "Carlisle",
           "NY"
          ],
          [
           "TGP Station 249 Carlisle",
           "Carlisle",
           "NY"
          ],
          [
           "TGP Station 249 Carlisle",
           "Carlisle",
           "NY"
          ],
          [
           "TGP Station 249 Carlisle",
           "Carlisle",
           "NY"
          ],
          [
           "TGP Station 249 Carlisle",
           "Carlisle",
           "NY"
          ],
          [
           "TGP Station 249 Carlisle",
           "Carlisle",
           "NY"
          ],
          [
           "TGP Station 249 Carlisle",
           "Carlisle",
           "NY"
          ],
          [
           "TGP Station 249 Carlisle",
           "Carlisle",
           "NY"
          ],
          [
           "TGP Station 249 Carlisle",
           "Carlisle",
           "NY"
          ]
         ],
         "hovertemplate": "Sector=Petroleum and Natural Gas Systems<br>CO2 Emissions=%{x}<br>Nitrous Oxide Emissions=%{y}<br>Facility.Name=%{customdata[0]}<br>City=%{customdata[1]}<br>State=%{customdata[2]}<extra></extra>",
         "legendgroup": "Petroleum and Natural Gas Systems",
         "marker": {
          "color": "#FECB52",
          "symbol": "circle"
         },
         "mode": "markers",
         "name": "Petroleum and Natural Gas Systems",
         "showlegend": true,
         "type": "scattergl",
         "x": [
          18741.9,
          17642.7,
          13306,
          20050,
          12751,
          14774,
          0.5,
          0,
          5.4,
          0.2,
          7399.4,
          9305,
          43240.5,
          19492.8,
          20546.4,
          20488.9,
          0,
          0,
          11.8,
          0.1,
          9264.7,
          4909.5,
          45876.9,
          19497.3,
          23172.5,
          16217.9,
          0,
          192.7,
          2.7,
          32.5,
          7082.5,
          5901.7,
          43174.9,
          22870.5,
          20990.6,
          14674,
          0,
          0,
          0,
          0.6,
          7743.3,
          6610.9,
          44311.9,
          18834.8,
          23074.6,
          15485.3,
          162.4,
          0,
          0,
          0.1,
          5655,
          4808.7,
          43067.4,
          21584.3,
          16432,
          22606.6,
          162.5,
          0,
          0,
          0.7,
          6665.7,
          7454,
          40680.1,
          20589.4,
          13866.9,
          21197.1,
          0,
          0,
          0,
          3.7,
          6662.2,
          7735.1,
          28714.1,
          24773.8,
          21012.2,
          4872.9,
          0,
          12354.1,
          14810.5,
          43662.1,
          22158.1,
          25773.2,
          0,
          11434.5,
          12995.9,
          42188,
          19063.3,
          23829.6,
          0,
          11418.1,
          9275.7,
          42997.7,
          16557.3,
          21090.7,
          0,
          8460.9,
          6157.4,
          40155.4,
          20824.5,
          16661.3,
          2.1,
          5760.4,
          3087.4,
          42617.3,
          19140.4,
          12454.3,
          0.1,
          1.9,
          0,
          5.3,
          7.4,
          2.8,
          5167.3,
          4225.8,
          21372,
          19599,
          21189.9,
          0,
          0,
          40.2,
          0,
          0,
          0,
          6008.3,
          6155.3,
          16389.9,
          14635.7,
          26003.2,
          0,
          0,
          70.4,
          0,
          0,
          0,
          2668.1,
          9590.7,
          14738.9,
          15481.7,
          19496.4,
          6.9,
          3.5,
          166.1,
          0,
          0,
          0,
          7574.9,
          2158.9,
          14126.1,
          18036.5,
          23985.7,
          18.2,
          33.4,
          199.6,
          6.1,
          8.7,
          3.1,
          5201.4,
          5537.4,
          22021,
          26580.3,
          19371.6,
          0,
          20.5,
          27.5,
          264.7,
          0,
          0,
          0,
          4605.1,
          4607.4,
          11158,
          22763.3,
          35045.1,
          0,
          131.9,
          27.3,
          30.5,
          0,
          0,
          0,
          809.5,
          422.5,
          865.5,
          331.8,
          9093.3,
          6476.8,
          35490.8,
          5699.5,
          3255.9,
          287.4,
          0.3,
          0,
          0,
          0,
          0,
          238.7,
          1066.8,
          2165.6,
          1083.2,
          18572,
          15137.1,
          28044.7,
          0,
          0,
          0,
          233.7,
          0,
          0,
          274.1,
          445.3,
          490,
          845.5,
          18118.8,
          15037.6,
          39410.2,
          0,
          0,
          0,
          0,
          0,
          0,
          601.2,
          614.7,
          1012.5,
          447.1,
          14786.1,
          14723.6,
          30478.6,
          0,
          0.8,
          0,
          0,
          0,
          0,
          425.7,
          712.5,
          1161.1,
          296.1,
          10258.6,
          14634.8,
          18019.5,
          0,
          29.7,
          0,
          1.1,
          0,
          0,
          280.5,
          784.9,
          421.5,
          494.6,
          10028.3,
          16121.7,
          36133.6,
          8393.4,
          5634.5,
          7865.7,
          16774.7,
          22057.2,
          24103.1,
          25727.4,
          18546.8,
          14766.7,
          23559.4,
          24828.6,
          31423.2,
          39938.9,
          37987.7,
          31858.1,
          37072,
          36615.5,
          36892.5,
          40883.1,
          36530.5,
          36060.5,
          37226.1,
          38315.6,
          35913.4,
          17760.4,
          14386.1,
          12281.8,
          44009.8,
          45781.7,
          47464.2,
          59393.9,
          39973,
          45667.6,
          52126.5,
          49279.9,
          47839.2,
          40880.2,
          34865.2,
          17064.5,
          31058,
          35941.5,
          36608.6,
          38921.5,
          37626.1,
          38725.8,
          39034.1,
          39485.1,
          36882.3
         ],
         "xaxis": "x",
         "y": [
          10.43,
          9.834,
          7.45,
          11.324,
          5.96,
          8.94,
          0,
          0,
          0,
          0,
          4.172,
          5.364,
          24.138,
          11.026,
          11.622,
          11.622,
          0,
          0,
          0,
          0,
          5.066,
          2.682,
          25.628,
          11.026,
          13.112,
          9.238,
          0,
          0,
          0,
          0,
          3.874,
          3.278,
          24.138,
          12.814,
          11.92,
          8.344,
          0,
          0,
          0,
          0,
          4.47,
          3.576,
          25.032,
          10.43,
          12.814,
          8.642,
          0,
          0,
          0,
          0,
          3.278,
          2.682,
          24.138,
          12.218,
          9.238,
          12.814,
          0,
          0,
          0,
          0,
          3.874,
          4.172,
          22.946,
          11.622,
          7.748,
          11.92,
          0,
          0,
          0,
          0,
          3.874,
          4.47,
          16.092,
          14.006,
          11.92,
          2.682,
          0,
          6.854,
          8.344,
          24.436,
          12.516,
          14.602,
          0,
          6.556,
          7.152,
          23.84,
          10.728,
          13.41,
          0,
          6.556,
          5.066,
          24.138,
          9.238,
          11.92,
          0,
          4.768,
          3.576,
          22.648,
          11.622,
          9.238,
          0,
          3.278,
          1.788,
          23.84,
          10.728,
          6.854,
          0,
          0,
          0,
          0,
          0,
          0,
          2.98,
          2.384,
          11.92,
          11.026,
          11.92,
          0,
          0,
          0,
          0,
          0,
          0,
          3.278,
          3.576,
          9.238,
          8.344,
          14.602,
          0,
          0,
          0,
          0,
          0,
          0,
          1.49,
          5.364,
          8.344,
          8.642,
          11.026,
          0,
          0,
          0,
          0,
          0,
          0,
          4.172,
          1.192,
          8.046,
          10.132,
          13.41,
          0,
          0,
          0,
          0,
          0,
          0,
          2.98,
          2.98,
          12.516,
          14.9,
          11.026,
          0,
          0,
          0,
          0,
          0,
          0,
          0,
          2.682,
          2.682,
          6.258,
          12.814,
          19.668,
          0,
          0,
          0,
          0,
          0,
          0,
          0,
          0.596,
          0.298,
          0.596,
          0.298,
          5.066,
          3.576,
          19.966,
          3.278,
          1.788,
          0.298,
          0,
          0,
          0,
          0,
          0,
          0,
          0.596,
          1.192,
          0.596,
          10.43,
          8.642,
          15.794,
          0,
          0,
          0,
          0,
          0,
          0,
          0.298,
          0.298,
          0.298,
          0.596,
          10.132,
          8.344,
          22.052,
          0,
          0,
          0,
          0,
          0,
          0,
          0.298,
          0.298,
          0.596,
          0.298,
          8.344,
          8.344,
          16.986,
          0,
          0,
          0,
          0,
          0,
          0,
          0.298,
          0.298,
          0.596,
          0.298,
          5.662,
          8.344,
          10.132,
          0,
          0,
          0,
          0,
          0,
          0,
          0.298,
          0.298,
          0.298,
          0.298,
          5.662,
          8.94,
          20.264,
          4.768,
          3.278,
          4.47,
          9.536,
          12.516,
          13.41,
          14.304,
          10.43,
          8.344,
          11.92,
          14.006,
          17.582,
          22.35,
          21.456,
          17.88,
          20.86,
          20.562,
          20.86,
          22.946,
          20.562,
          20.264,
          20.86,
          21.456,
          20.264,
          9.834,
          8.046,
          6.854,
          24.734,
          25.628,
          26.522,
          33.376,
          22.35,
          25.628,
          29.8,
          27.714,
          26.82,
          22.946,
          19.668,
          9.536,
          17.582,
          20.264,
          20.562,
          21.754,
          21.158,
          21.754,
          20.86,
          22.35,
          20.86
         ],
         "yaxis": "y"
        },
        {
         "customdata": [
          [
           "Momentive Performance Materials",
           "Waterford",
           "NY"
          ],
          [
           "Momentive Performance Materials",
           "Waterford",
           "NY"
          ],
          [
           "Momentive Performance Materials",
           "Waterford",
           "NY"
          ],
          [
           "Momentive Performance Materials",
           "Waterford",
           "NY"
          ],
          [
           "Momentive Performance Materials",
           "Waterford",
           "NY"
          ],
          [
           "Momentive Performance Materials",
           "Waterford",
           "NY"
          ],
          [
           "Momentive Performance Materials",
           "Waterford",
           "NY"
          ],
          [
           "Momentive Performance Materials",
           "Waterford",
           "NY"
          ],
          [
           "Momentive Performance Materials",
           "Waterford",
           "NY"
          ],
          [
           "Momentive Performance Materials",
           "Waterford",
           "NY"
          ],
          [
           "Momentive Performance Materials",
           "Waterford",
           "NY"
          ],
          [
           "Momentive Performance Materials",
           "Waterford",
           "NY"
          ],
          [
           "Momentive Performance Materials",
           "Waterford",
           "NY"
          ],
          [
           "Momentive Performance Materials",
           "Waterford",
           "NY"
          ],
          [
           "Momentive Performance Materials",
           "Waterford",
           "NY"
          ],
          [
           "Momentive Performance Materials",
           "Waterford",
           "NY"
          ],
          [
           "Momentive Performance Materials",
           "Waterford",
           "NY"
          ],
          [
           "Momentive Performance Materials",
           "Waterford",
           "NY"
          ]
         ],
         "hovertemplate": "Sector=Other, Waste<br>CO2 Emissions=%{x}<br>Nitrous Oxide Emissions=%{y}<br>Facility.Name=%{customdata[0]}<br>City=%{customdata[1]}<br>State=%{customdata[2]}<extra></extra>",
         "legendgroup": "Other, Waste",
         "marker": {
          "color": "#636efa",
          "symbol": "circle"
         },
         "mode": "markers",
         "name": "Other, Waste",
         "showlegend": true,
         "type": "scattergl",
         "x": [
          67939.9,
          115132.3,
          129229.7,
          127421.1,
          133578.6,
          130223.8,
          124295.6,
          0,
          125555.4,
          0,
          126474.7,
          0,
          128502,
          1605.4,
          114322.1,
          4622.7,
          134189.3,
          6142.6
         ],
         "xaxis": "x",
         "y": [
          38.144,
          64.666,
          72.712,
          71.52,
          75.096,
          73.01,
          69.732,
          0,
          70.626,
          0,
          70.924,
          0,
          649.938,
          3.874,
          578.12,
          11.324,
          678.844,
          14.9
         ],
         "yaxis": "y"
        },
        {
         "customdata": [
          [
           "Pearl River Campus",
           "Pearl river",
           "NY"
          ],
          [
           "Pearl River Campus",
           "Pearl river",
           "NY"
          ],
          [
           "Pearl River Campus",
           "Pearl river",
           "NY"
          ],
          [
           "Pearl River Campus",
           "Pearl river",
           "NY"
          ],
          [
           "Pearl River Campus",
           "Pearl river",
           "NY"
          ],
          [
           "Pearl River Campus",
           "Pearl river",
           "NY"
          ],
          [
           "Pearl River Campus",
           "Pearl river",
           "NY"
          ],
          [
           "Pearl River Campus",
           "Pearl river",
           "NY"
          ],
          [
           "Pearl River Campus",
           "Pearl river",
           "NY"
          ],
          [
           "Pearl River Campus",
           "Pearl river",
           "NY"
          ],
          [
           "Pearl River Campus",
           "Pearl river",
           "NY"
          ],
          [
           "Pearl River Campus",
           "Pearl river",
           "NY"
          ],
          [
           "Pearl River Campus",
           "Pearl river",
           "NY"
          ],
          [
           "Pearl River Campus",
           "Pearl river",
           "NY"
          ],
          [
           "Pearl River Campus",
           "Pearl river",
           "NY"
          ],
          [
           "WYETH PHARMACEUTICALS",
           "Rouses point",
           "NY"
          ],
          [
           "WYETH PHARMACEUTICALS",
           "Rouses point",
           "NY"
          ],
          [
           "WYETH PHARMACEUTICALS",
           "Rouses point",
           "NY"
          ],
          [
           "WYETH PHARMACEUTICALS",
           "Rouses point",
           "NY"
          ],
          [
           "WYETH PHARMACEUTICALS",
           "Rouses point",
           "NY"
          ],
          [
           "WYETH PHARMACEUTICALS",
           "Rouses point",
           "NY"
          ],
          [
           "WYETH PHARMACEUTICALS",
           "Rouses point",
           "NY"
          ],
          [
           "WYETH PHARMACEUTICALS",
           "Rouses point",
           "NY"
          ]
         ],
         "hovertemplate": "Sector=Chemicals<br>CO2 Emissions=%{x}<br>Nitrous Oxide Emissions=%{y}<br>Facility.Name=%{customdata[0]}<br>City=%{customdata[1]}<br>State=%{customdata[2]}<extra></extra>",
         "legendgroup": "Chemicals",
         "marker": {
          "color": "#EF553B",
          "symbol": "circle"
         },
         "mode": "markers",
         "name": "Chemicals",
         "showlegend": true,
         "type": "scattergl",
         "x": [
          97926.4,
          29155.8,
          4.9,
          90417.3,
          29410.1,
          5.8,
          95740.9,
          29329.5,
          4.9,
          78889.3,
          27638,
          4.9,
          75561.8,
          30938.8,
          545.4,
          4853.9,
          17150.1,
          16755.7,
          17750.1,
          24419.1,
          27158.7,
          29451.2,
          32054
         ],
         "xaxis": "x",
         "y": [
          58.706,
          23.542,
          0,
          50.66,
          23.542,
          0,
          53.64,
          16.986,
          0,
          44.402,
          15.794,
          0,
          43.806,
          21.754,
          0.298,
          3.576,
          9.536,
          9.536,
          10.132,
          13.708,
          15.198,
          16.688,
          18.178
         ],
         "yaxis": "y"
        },
        {
         "customdata": [
          [
           "Rochester Gas & Electric Corp",
           "Rochester",
           "NY"
          ],
          [
           "Rochester Gas & Electric Corp",
           "Rochester",
           "NY"
          ]
         ],
         "hovertemplate": "Sector=Natural Gas and Natural Gas Liquids Suppliers, Petroleum and Natural Gas Systems<br>CO2 Emissions=%{x}<br>Nitrous Oxide Emissions=%{y}<br>Facility.Name=%{customdata[0]}<br>City=%{customdata[1]}<br>State=%{customdata[2]}<extra></extra>",
         "legendgroup": "Natural Gas and Natural Gas Liquids Suppliers, Petroleum and Natural Gas Systems",
         "marker": {
          "color": "#00cc96",
          "symbol": "circle"
         },
         "mode": "markers",
         "name": "Natural Gas and Natural Gas Liquids Suppliers, Petroleum and Natural Gas Systems",
         "showlegend": true,
         "type": "scattergl",
         "x": [
          2297,
          3656
         ],
         "xaxis": "x",
         "y": [
          1.192,
          2.086
         ],
         "yaxis": "y"
        },
        {
         "customdata": [
          [
           "SUNOCO FULTON ETHANOL PLANT",
           "Fulton",
           "NY"
          ],
          [
           "SUNOCO FULTON ETHANOL PLANT",
           "Fulton",
           "NY"
          ],
          [
           "SUNOCO FULTON ETHANOL PLANT",
           "Fulton",
           "NY"
          ],
          [
           "SUNOCO FULTON ETHANOL PLANT",
           "Fulton",
           "NY"
          ],
          [
           "SUNOCO FULTON ETHANOL PLANT",
           "Fulton",
           "NY"
          ],
          [
           "SUNOCO FULTON ETHANOL PLANT",
           "Fulton",
           "NY"
          ],
          [
           "SUNOCO FULTON ETHANOL PLANT",
           "Fulton",
           "NY"
          ],
          [
           "SUNOCO FULTON ETHANOL PLANT",
           "Fulton",
           "NY"
          ],
          [
           "SUNOCO FULTON ETHANOL PLANT",
           "Fulton",
           "NY"
          ],
          [
           "SUNOCO FULTON ETHANOL PLANT",
           "Fulton",
           "NY"
          ],
          [
           "SUNOCO FULTON ETHANOL PLANT",
           "Fulton",
           "NY"
          ],
          [
           "SUNOCO FULTON ETHANOL PLANT",
           "Fulton",
           "NY"
          ],
          [
           "SUNOCO FULTON ETHANOL PLANT",
           "Fulton",
           "NY"
          ],
          [
           "SUNOCO FULTON ETHANOL PLANT",
           "Fulton",
           "NY"
          ],
          [
           "WESTERN NEW YORK ENERGY LLC",
           "Medina",
           "NY"
          ],
          [
           "WESTERN NEW YORK ENERGY LLC",
           "Medina",
           "NY"
          ],
          [
           "WESTERN NEW YORK ENERGY LLC",
           "Medina",
           "NY"
          ],
          [
           "WESTERN NEW YORK ENERGY LLC",
           "Medina",
           "NY"
          ],
          [
           "WESTERN NEW YORK ENERGY LLC",
           "Medina",
           "NY"
          ],
          [
           "WESTERN NEW YORK ENERGY LLC",
           "Medina",
           "NY"
          ],
          [
           "WESTERN NEW YORK ENERGY LLC",
           "Medina",
           "NY"
          ],
          [
           "WESTERN NEW YORK ENERGY LLC",
           "Medina",
           "NY"
          ],
          [
           "WESTERN NEW YORK ENERGY LLC",
           "Medina",
           "NY"
          ],
          [
           "WESTERN NEW YORK ENERGY LLC",
           "Medina",
           "NY"
          ]
         ],
         "hovertemplate": "Sector=Other, Suppliers of CO2, Waste<br>CO2 Emissions=%{x}<br>Nitrous Oxide Emissions=%{y}<br>Facility.Name=%{customdata[0]}<br>City=%{customdata[1]}<br>State=%{customdata[2]}<extra></extra>",
         "legendgroup": "Other, Suppliers of CO2, Waste",
         "marker": {
          "color": "#ab63fa",
          "symbol": "circle"
         },
         "mode": "markers",
         "name": "Other, Suppliers of CO2, Waste",
         "showlegend": true,
         "type": "scattergl",
         "x": [
          56,
          27729.8,
          26584.1,
          16139.4,
          18519.2,
          462.5,
          746.5,
          63,
          22628.4,
          22289.8,
          11607.2,
          14731.4,
          6688.3,
          4031.7,
          74394.9,
          78605,
          77680.6,
          78568.4,
          78924.4,
          75704,
          76672.2,
          75323.8,
          74992.4,
          75433.8
         ],
         "xaxis": "x",
         "y": [
          0,
          14.9,
          14.9,
          8.94,
          8.94,
          0.298,
          0.298,
          0,
          125.16,
          11.92,
          5.96,
          8.94,
          2.98,
          23.84,
          42.018,
          44.7,
          44.104,
          44.998,
          45.296,
          43.508,
          43.806,
          42.912,
          42.018,
          43.508
         ],
         "yaxis": "y"
        }
       ],
       "layout": {
        "coloraxis": {
         "colorbar": {
          "title": {
           "text": "Sector"
          }
         }
        },
        "legend": {
         "title": {
          "text": "Sector"
         },
         "tracegroupgap": 0
        },
        "template": {
         "data": {
          "bar": [
           {
            "error_x": {
             "color": "#2a3f5f"
            },
            "error_y": {
             "color": "#2a3f5f"
            },
            "marker": {
             "line": {
              "color": "#E5ECF6",
              "width": 0.5
             },
             "pattern": {
              "fillmode": "overlay",
              "size": 10,
              "solidity": 0.2
             }
            },
            "type": "bar"
           }
          ],
          "barpolar": [
           {
            "marker": {
             "line": {
              "color": "#E5ECF6",
              "width": 0.5
             },
             "pattern": {
              "fillmode": "overlay",
              "size": 10,
              "solidity": 0.2
             }
            },
            "type": "barpolar"
           }
          ],
          "carpet": [
           {
            "aaxis": {
             "endlinecolor": "#2a3f5f",
             "gridcolor": "white",
             "linecolor": "white",
             "minorgridcolor": "white",
             "startlinecolor": "#2a3f5f"
            },
            "baxis": {
             "endlinecolor": "#2a3f5f",
             "gridcolor": "white",
             "linecolor": "white",
             "minorgridcolor": "white",
             "startlinecolor": "#2a3f5f"
            },
            "type": "carpet"
           }
          ],
          "choropleth": [
           {
            "colorbar": {
             "outlinewidth": 0,
             "ticks": ""
            },
            "type": "choropleth"
           }
          ],
          "contour": [
           {
            "colorbar": {
             "outlinewidth": 0,
             "ticks": ""
            },
            "colorscale": [
             [
              0,
              "#0d0887"
             ],
             [
              0.1111111111111111,
              "#46039f"
             ],
             [
              0.2222222222222222,
              "#7201a8"
             ],
             [
              0.3333333333333333,
              "#9c179e"
             ],
             [
              0.4444444444444444,
              "#bd3786"
             ],
             [
              0.5555555555555556,
              "#d8576b"
             ],
             [
              0.6666666666666666,
              "#ed7953"
             ],
             [
              0.7777777777777778,
              "#fb9f3a"
             ],
             [
              0.8888888888888888,
              "#fdca26"
             ],
             [
              1,
              "#f0f921"
             ]
            ],
            "type": "contour"
           }
          ],
          "contourcarpet": [
           {
            "colorbar": {
             "outlinewidth": 0,
             "ticks": ""
            },
            "type": "contourcarpet"
           }
          ],
          "heatmap": [
           {
            "colorbar": {
             "outlinewidth": 0,
             "ticks": ""
            },
            "colorscale": [
             [
              0,
              "#0d0887"
             ],
             [
              0.1111111111111111,
              "#46039f"
             ],
             [
              0.2222222222222222,
              "#7201a8"
             ],
             [
              0.3333333333333333,
              "#9c179e"
             ],
             [
              0.4444444444444444,
              "#bd3786"
             ],
             [
              0.5555555555555556,
              "#d8576b"
             ],
             [
              0.6666666666666666,
              "#ed7953"
             ],
             [
              0.7777777777777778,
              "#fb9f3a"
             ],
             [
              0.8888888888888888,
              "#fdca26"
             ],
             [
              1,
              "#f0f921"
             ]
            ],
            "type": "heatmap"
           }
          ],
          "heatmapgl": [
           {
            "colorbar": {
             "outlinewidth": 0,
             "ticks": ""
            },
            "colorscale": [
             [
              0,
              "#0d0887"
             ],
             [
              0.1111111111111111,
              "#46039f"
             ],
             [
              0.2222222222222222,
              "#7201a8"
             ],
             [
              0.3333333333333333,
              "#9c179e"
             ],
             [
              0.4444444444444444,
              "#bd3786"
             ],
             [
              0.5555555555555556,
              "#d8576b"
             ],
             [
              0.6666666666666666,
              "#ed7953"
             ],
             [
              0.7777777777777778,
              "#fb9f3a"
             ],
             [
              0.8888888888888888,
              "#fdca26"
             ],
             [
              1,
              "#f0f921"
             ]
            ],
            "type": "heatmapgl"
           }
          ],
          "histogram": [
           {
            "marker": {
             "pattern": {
              "fillmode": "overlay",
              "size": 10,
              "solidity": 0.2
             }
            },
            "type": "histogram"
           }
          ],
          "histogram2d": [
           {
            "colorbar": {
             "outlinewidth": 0,
             "ticks": ""
            },
            "colorscale": [
             [
              0,
              "#0d0887"
             ],
             [
              0.1111111111111111,
              "#46039f"
             ],
             [
              0.2222222222222222,
              "#7201a8"
             ],
             [
              0.3333333333333333,
              "#9c179e"
             ],
             [
              0.4444444444444444,
              "#bd3786"
             ],
             [
              0.5555555555555556,
              "#d8576b"
             ],
             [
              0.6666666666666666,
              "#ed7953"
             ],
             [
              0.7777777777777778,
              "#fb9f3a"
             ],
             [
              0.8888888888888888,
              "#fdca26"
             ],
             [
              1,
              "#f0f921"
             ]
            ],
            "type": "histogram2d"
           }
          ],
          "histogram2dcontour": [
           {
            "colorbar": {
             "outlinewidth": 0,
             "ticks": ""
            },
            "colorscale": [
             [
              0,
              "#0d0887"
             ],
             [
              0.1111111111111111,
              "#46039f"
             ],
             [
              0.2222222222222222,
              "#7201a8"
             ],
             [
              0.3333333333333333,
              "#9c179e"
             ],
             [
              0.4444444444444444,
              "#bd3786"
             ],
             [
              0.5555555555555556,
              "#d8576b"
             ],
             [
              0.6666666666666666,
              "#ed7953"
             ],
             [
              0.7777777777777778,
              "#fb9f3a"
             ],
             [
              0.8888888888888888,
              "#fdca26"
             ],
             [
              1,
              "#f0f921"
             ]
            ],
            "type": "histogram2dcontour"
           }
          ],
          "mesh3d": [
           {
            "colorbar": {
             "outlinewidth": 0,
             "ticks": ""
            },
            "type": "mesh3d"
           }
          ],
          "parcoords": [
           {
            "line": {
             "colorbar": {
              "outlinewidth": 0,
              "ticks": ""
             }
            },
            "type": "parcoords"
           }
          ],
          "pie": [
           {
            "automargin": true,
            "type": "pie"
           }
          ],
          "scatter": [
           {
            "fillpattern": {
             "fillmode": "overlay",
             "size": 10,
             "solidity": 0.2
            },
            "type": "scatter"
           }
          ],
          "scatter3d": [
           {
            "line": {
             "colorbar": {
              "outlinewidth": 0,
              "ticks": ""
             }
            },
            "marker": {
             "colorbar": {
              "outlinewidth": 0,
              "ticks": ""
             }
            },
            "type": "scatter3d"
           }
          ],
          "scattercarpet": [
           {
            "marker": {
             "colorbar": {
              "outlinewidth": 0,
              "ticks": ""
             }
            },
            "type": "scattercarpet"
           }
          ],
          "scattergeo": [
           {
            "marker": {
             "colorbar": {
              "outlinewidth": 0,
              "ticks": ""
             }
            },
            "type": "scattergeo"
           }
          ],
          "scattergl": [
           {
            "marker": {
             "colorbar": {
              "outlinewidth": 0,
              "ticks": ""
             }
            },
            "type": "scattergl"
           }
          ],
          "scattermapbox": [
           {
            "marker": {
             "colorbar": {
              "outlinewidth": 0,
              "ticks": ""
             }
            },
            "type": "scattermapbox"
           }
          ],
          "scatterpolar": [
           {
            "marker": {
             "colorbar": {
              "outlinewidth": 0,
              "ticks": ""
             }
            },
            "type": "scatterpolar"
           }
          ],
          "scatterpolargl": [
           {
            "marker": {
             "colorbar": {
              "outlinewidth": 0,
              "ticks": ""
             }
            },
            "type": "scatterpolargl"
           }
          ],
          "scatterternary": [
           {
            "marker": {
             "colorbar": {
              "outlinewidth": 0,
              "ticks": ""
             }
            },
            "type": "scatterternary"
           }
          ],
          "surface": [
           {
            "colorbar": {
             "outlinewidth": 0,
             "ticks": ""
            },
            "colorscale": [
             [
              0,
              "#0d0887"
             ],
             [
              0.1111111111111111,
              "#46039f"
             ],
             [
              0.2222222222222222,
              "#7201a8"
             ],
             [
              0.3333333333333333,
              "#9c179e"
             ],
             [
              0.4444444444444444,
              "#bd3786"
             ],
             [
              0.5555555555555556,
              "#d8576b"
             ],
             [
              0.6666666666666666,
              "#ed7953"
             ],
             [
              0.7777777777777778,
              "#fb9f3a"
             ],
             [
              0.8888888888888888,
              "#fdca26"
             ],
             [
              1,
              "#f0f921"
             ]
            ],
            "type": "surface"
           }
          ],
          "table": [
           {
            "cells": {
             "fill": {
              "color": "#EBF0F8"
             },
             "line": {
              "color": "white"
             }
            },
            "header": {
             "fill": {
              "color": "#C8D4E3"
             },
             "line": {
              "color": "white"
             }
            },
            "type": "table"
           }
          ]
         },
         "layout": {
          "annotationdefaults": {
           "arrowcolor": "#2a3f5f",
           "arrowhead": 0,
           "arrowwidth": 1
          },
          "autotypenumbers": "strict",
          "coloraxis": {
           "colorbar": {
            "outlinewidth": 0,
            "ticks": ""
           }
          },
          "colorscale": {
           "diverging": [
            [
             0,
             "#8e0152"
            ],
            [
             0.1,
             "#c51b7d"
            ],
            [
             0.2,
             "#de77ae"
            ],
            [
             0.3,
             "#f1b6da"
            ],
            [
             0.4,
             "#fde0ef"
            ],
            [
             0.5,
             "#f7f7f7"
            ],
            [
             0.6,
             "#e6f5d0"
            ],
            [
             0.7,
             "#b8e186"
            ],
            [
             0.8,
             "#7fbc41"
            ],
            [
             0.9,
             "#4d9221"
            ],
            [
             1,
             "#276419"
            ]
           ],
           "sequential": [
            [
             0,
             "#0d0887"
            ],
            [
             0.1111111111111111,
             "#46039f"
            ],
            [
             0.2222222222222222,
             "#7201a8"
            ],
            [
             0.3333333333333333,
             "#9c179e"
            ],
            [
             0.4444444444444444,
             "#bd3786"
            ],
            [
             0.5555555555555556,
             "#d8576b"
            ],
            [
             0.6666666666666666,
             "#ed7953"
            ],
            [
             0.7777777777777778,
             "#fb9f3a"
            ],
            [
             0.8888888888888888,
             "#fdca26"
            ],
            [
             1,
             "#f0f921"
            ]
           ],
           "sequentialminus": [
            [
             0,
             "#0d0887"
            ],
            [
             0.1111111111111111,
             "#46039f"
            ],
            [
             0.2222222222222222,
             "#7201a8"
            ],
            [
             0.3333333333333333,
             "#9c179e"
            ],
            [
             0.4444444444444444,
             "#bd3786"
            ],
            [
             0.5555555555555556,
             "#d8576b"
            ],
            [
             0.6666666666666666,
             "#ed7953"
            ],
            [
             0.7777777777777778,
             "#fb9f3a"
            ],
            [
             0.8888888888888888,
             "#fdca26"
            ],
            [
             1,
             "#f0f921"
            ]
           ]
          },
          "colorway": [
           "#636efa",
           "#EF553B",
           "#00cc96",
           "#ab63fa",
           "#FFA15A",
           "#19d3f3",
           "#FF6692",
           "#B6E880",
           "#FF97FF",
           "#FECB52"
          ],
          "font": {
           "color": "#2a3f5f"
          },
          "geo": {
           "bgcolor": "white",
           "lakecolor": "white",
           "landcolor": "#E5ECF6",
           "showlakes": true,
           "showland": true,
           "subunitcolor": "white"
          },
          "hoverlabel": {
           "align": "left"
          },
          "hovermode": "closest",
          "mapbox": {
           "style": "light"
          },
          "paper_bgcolor": "white",
          "plot_bgcolor": "#E5ECF6",
          "polar": {
           "angularaxis": {
            "gridcolor": "white",
            "linecolor": "white",
            "ticks": ""
           },
           "bgcolor": "#E5ECF6",
           "radialaxis": {
            "gridcolor": "white",
            "linecolor": "white",
            "ticks": ""
           }
          },
          "scene": {
           "xaxis": {
            "backgroundcolor": "#E5ECF6",
            "gridcolor": "white",
            "gridwidth": 2,
            "linecolor": "white",
            "showbackground": true,
            "ticks": "",
            "zerolinecolor": "white"
           },
           "yaxis": {
            "backgroundcolor": "#E5ECF6",
            "gridcolor": "white",
            "gridwidth": 2,
            "linecolor": "white",
            "showbackground": true,
            "ticks": "",
            "zerolinecolor": "white"
           },
           "zaxis": {
            "backgroundcolor": "#E5ECF6",
            "gridcolor": "white",
            "gridwidth": 2,
            "linecolor": "white",
            "showbackground": true,
            "ticks": "",
            "zerolinecolor": "white"
           }
          },
          "shapedefaults": {
           "line": {
            "color": "#2a3f5f"
           }
          },
          "ternary": {
           "aaxis": {
            "gridcolor": "white",
            "linecolor": "white",
            "ticks": ""
           },
           "baxis": {
            "gridcolor": "white",
            "linecolor": "white",
            "ticks": ""
           },
           "bgcolor": "#E5ECF6",
           "caxis": {
            "gridcolor": "white",
            "linecolor": "white",
            "ticks": ""
           }
          },
          "title": {
           "x": 0.05
          },
          "xaxis": {
           "automargin": true,
           "gridcolor": "white",
           "linecolor": "white",
           "ticks": "",
           "title": {
            "standoff": 15
           },
           "zerolinecolor": "white",
           "zerolinewidth": 2
          },
          "yaxis": {
           "automargin": true,
           "gridcolor": "white",
           "linecolor": "white",
           "ticks": "",
           "title": {
            "standoff": 15
           },
           "zerolinecolor": "white",
           "zerolinewidth": 2
          }
         }
        },
        "title": {
         "text": "CO2 vs. N2O Emissions by Sector"
        },
        "xaxis": {
         "anchor": "y",
         "domain": [
          0,
          1
         ],
         "title": {
          "text": "CO2 Emissions"
         }
        },
        "yaxis": {
         "anchor": "x",
         "domain": [
          0,
          1
         ],
         "title": {
          "text": "Nitrous Oxide Emissions"
         }
        }
       }
      }
     },
     "metadata": {},
     "output_type": "display_data"
    }
   ],
   "source": [
    "def plot_dynamic_scatter(df):\n",
    "    \"\"\"\n",
    "    Create a dynamic scatter plot comparing CO2 emissions and N2O emissions,\n",
    "    with points color-coded by Sector.\n",
    "    \n",
    "    Parameters:\n",
    "    - df: DataFrame containing the filtered data.\n",
    "    \"\"\"\n",
    "    fig = px.scatter(df, x='CO2_emissions', y='N2O_emissions',\n",
    "                     color='Sector', hover_data=['Facility.Name', 'City', 'State'],\n",
    "                     title='CO2 vs. N2O Emissions by Sector',\n",
    "                     labels={'CO2_emissions': 'CO2 Emissions', 'N2O_emissions': 'Nitrous Oxide Emissions'})\n",
    "    \n",
    "    # Enhance the layout\n",
    "    fig.update_layout(coloraxis_colorbar=dict(title=\"Sector\"),\n",
    "                      xaxis_title=\"CO2 Emissions\",\n",
    "                      yaxis_title=\"Nitrous Oxide Emissions\")\n",
    "    fig.show()\n",
    "\n",
    "# Use the function to plot a dynamic scatter plot for the filtered data\n",
    "plot_dynamic_scatter(filtered_data)\n"
   ]
  }
 ],
 "metadata": {
  "kernelspec": {
   "display_name": "base",
   "language": "python",
   "name": "python3"
  },
  "language_info": {
   "codemirror_mode": {
    "name": "ipython",
    "version": 3
   },
   "file_extension": ".py",
   "mimetype": "text/x-python",
   "name": "python",
   "nbconvert_exporter": "python",
   "pygments_lexer": "ipython3",
   "version": "3.11.5"
  }
 },
 "nbformat": 4,
 "nbformat_minor": 2
}
